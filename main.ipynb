{
 "cells": [
  {
   "cell_type": "markdown",
   "metadata": {},
   "source": [
    "# Sayısal Çözümleme"
   ]
  },
  {
   "cell_type": "markdown",
   "metadata": {},
   "source": [
    "## 1. Hafta 2. Ders"
   ]
  },
  {
   "cell_type": "markdown",
   "metadata": {},
   "source": [
    "### İkiye Yarılama Yöntemi"
   ]
  },
  {
   "cell_type": "markdown",
   "metadata": {},
   "source": [
    "..."
   ]
  },
  {
   "cell_type": "markdown",
   "metadata": {},
   "source": [
    "## 2. Hafta 1. Ders"
   ]
  },
  {
   "cell_type": "markdown",
   "metadata": {},
   "source": [
    "### Taylor Serisi"
   ]
  },
  {
   "cell_type": "markdown",
   "metadata": {},
   "source": [
    "#### Formül\n",
    "<math xmlns=\"http://www.w3.org/1998/Math/MathML\">\n",
    "  <mrow>\n",
    "    <mi>f</mi>\n",
    "    <mo>(</mo>\n",
    "    <mi>x</mi>\n",
    "    <mo>)</mo>\n",
    "    <mo>=</mo>\n",
    "    <mi>f</mi>\n",
    "    <mo>(</mo>\n",
    "    <mi>a</mi>\n",
    "    <mo>)</mo>\n",
    "    <mo>+</mo>\n",
    "    <mi>f'</mi>\n",
    "    <mo>(</mo>\n",
    "    <mi>a</mi>\n",
    "    <mo>)</mo>\n",
    "    <mo>(</mo>\n",
    "    <mi>x</mi>\n",
    "    <mo>-</mo>\n",
    "    <mi>a</mi>\n",
    "    <mo>)</mo>\n",
    "    <mo>+</mo>\n",
    "    <mfrac>\n",
    "      <mrow>\n",
    "        <mi>f''</mi>\n",
    "        <mo>(</mo>\n",
    "        <mi>a</mi>\n",
    "        <mo>)</mo>\n",
    "        <mo>(</mo>\n",
    "        <mi>x</mi>\n",
    "        <mo>-</mo>\n",
    "        <mi>a</mi>\n",
    "        <mo>)</mo>\n",
    "        <msup>\n",
    "          <mo>)</mo>\n",
    "          <mn>2</mn>\n",
    "        </msup>\n",
    "      </mrow>\n",
    "      <mrow>\n",
    "        <mn>2</mn>\n",
    "        <mo>!</mo>\n",
    "      </mrow>\n",
    "    </mfrac>\n",
    "    <mo>+</mo>\n",
    "    <mfrac>\n",
    "      <mrow>\n",
    "        <mi>f'''</mi>\n",
    "        <mo>(</mo>\n",
    "        <mi>a</mi>\n",
    "        <mo>)</mo>\n",
    "        <mo>(</mo>\n",
    "        <mi>x</mi>\n",
    "        <mo>-</mo>\n",
    "        <mi>a</mi>\n",
    "        <mo>)</mo>\n",
    "        <msup>\n",
    "          <mo>)</mo>\n",
    "          <mn>3</mn>\n",
    "        </msup>\n",
    "      </mrow>\n",
    "      <mrow>\n",
    "        <mn>3</mn>\n",
    "        <mo>!</mo>\n",
    "      </mrow>\n",
    "    </mfrac>\n",
    "    <mo>+</mo>\n",
    "    <mo>…</mo>\n",
    "  </mrow>\n",
    "</math>\n"
   ]
  },
  {
   "cell_type": "markdown",
   "metadata": {},
   "source": [
    "##### Sigma Gösterimi\n",
    "<math xmlns=\"http://www.w3.org/1998/Math/MathML\">\n",
    "  <mrow>\n",
    "    <mi>f</mi>\n",
    "    <mo>(</mo>\n",
    "    <mi>x</mi>\n",
    "    <mo>)</mo>\n",
    "    <mo>=</mo>\n",
    "    <munderover>\n",
    "      <mo>∑</mo>\n",
    "      <mrow>\n",
    "        <mi>n</mi>\n",
    "        <mo>=</mo>\n",
    "        <mn>0</mn>\n",
    "      </mrow>\n",
    "      <mo>∞</mo>\n",
    "    </munderover>\n",
    "    <mfrac>\n",
    "      <mrow>\n",
    "        <msup>\n",
    "          <mo>(</mo>\n",
    "          <mi>n</mi>\n",
    "        </msup>\n",
    "        <mi>f</mi>\n",
    "        <mo>(</mo>\n",
    "        <mi>a</mi>\n",
    "        <mo>)</mo>\n",
    "        <mo>(</mo>\n",
    "        <mi>x</mi>\n",
    "        <mo>-</mo>\n",
    "        <mi>a</mi>\n",
    "        <mo>)</mo>\n",
    "        <msup>\n",
    "          <mo>)</mo>\n",
    "          <mi>n</mi>\n",
    "        </msup>\n",
    "      </mrow>\n",
    "      <mrow>\n",
    "        <mi>n</mi>\n",
    "        <mo>!</mo>\n",
    "      </mrow>\n",
    "    </mfrac>\n",
    "  </mrow>\n",
    "</math>\n"
   ]
  },
  {
   "cell_type": "markdown",
   "metadata": {},
   "source": [
    "### Newton Raphson Yöntemi"
   ]
  },
  {
   "cell_type": "markdown",
   "metadata": {},
   "source": [
    "#### Formül\n",
    "<math xmlns=\"http://www.w3.org/1998/Math/MathML\">\n",
    "  <mrow>\n",
    "    <msub>\n",
    "      <mi>x</mi>\n",
    "      <mi>n+1</mi>\n",
    "    </msub>\n",
    "    <mo>=</mo>\n",
    "    <msub>\n",
    "      <mi>x</mi>\n",
    "      <mi>n</mi>\n",
    "    </msub>\n",
    "    <mo>-</mo>\n",
    "    <mfrac>\n",
    "      <mrow>\n",
    "        <mi>f</mi>\n",
    "        <mo>(</mo>\n",
    "        <msub>\n",
    "          <mi>x</mi>\n",
    "          <mi>n</mi>\n",
    "        </msub>\n",
    "        <mo>)</mo>\n",
    "      </mrow>\n",
    "      <mrow>\n",
    "        <mi>f'</mi>\n",
    "        <mo>(</mo>\n",
    "        <msub>\n",
    "          <mi>x</mi>\n",
    "          <mi>n</mi>\n",
    "        </msub>\n",
    "        <mo>)</mo>\n",
    "      </mrow>\n",
    "    </mfrac>\n",
    "  </mrow>\n",
    "</math>\n"
   ]
  },
  {
   "cell_type": "markdown",
   "metadata": {},
   "source": [
    "#### Python Kod Örneği"
   ]
  },
  {
   "cell_type": "code",
   "execution_count": 1,
   "metadata": {},
   "outputs": [
    {
     "name": "stdout",
     "output_type": "stream",
     "text": [
      "0, 1.00, 1.67, 2.00, 0.44, 0.67\n",
      "1, 1.67, 1.93, 0.44, 0.07, 0.27\n",
      "2, 1.93, 2.00, 0.07, 0.00, 0.06\n",
      "3, 2.00, 2.00, 0.00, 0.00, 0.00\n",
      "fonksiyonun kökü: 2.00, 0.00\n"
     ]
    }
   ],
   "source": [
    "import numpy as np\n",
    "import matplotlib.pyplot as plt\n",
    "\n",
    "def f(x):\n",
    "    return x**2-5*x+6\n",
    "def df(x):\n",
    "    return 2*x-5\n",
    "\n",
    "def newton(f, x0, tol=1e-4, nMax=100):\n",
    "    for i in range(nMax):\n",
    "        x1=x0-f(x0)/df(x0)\n",
    "        if abs(x1-x0) < tol:\n",
    "            break\n",
    "        print(f\"{i}, {x0:.2f}, {x1:.2f}, {f(x0):.2f}, {f(x1):.2f}, {abs(x1-x0):.2f}\")\n",
    "        x0 = x1\n",
    "    return x1\n",
    "\n",
    "x0 = 1\n",
    "xx = newton(f, x0)\n",
    "print(f\"fonksiyonun kökü: {xx:.2f}, {f(xx):.2f}\")"
   ]
  },
  {
   "cell_type": "code",
   "execution_count": 2,
   "metadata": {},
   "outputs": [
    {
     "name": "stdout",
     "output_type": "stream",
     "text": [
      "0, 1.00, 0.21, 2.37, 1.18, 0.79\n",
      "1, 0.21, -1.32, 1.18, -6.20, 1.53\n",
      "2, -1.32, -0.87, -6.20, -1.73, 0.45\n",
      "3, -0.87, -0.61, -1.73, -0.36, 0.26\n",
      "4, -0.61, -0.52, -0.36, -0.03, 0.09\n",
      "5, -0.52, -0.52, -0.03, -0.00, 0.01\n",
      "fonksiyonun kökü: -0.52, -0.00\n"
     ]
    }
   ],
   "source": [
    "import numpy as np\n",
    "import matplotlib.pyplot as plt\n",
    "\n",
    "def f(x):\n",
    "    return x*np.exp(-x)+x**3+1\n",
    "def df(x):\n",
    "    return np.exp(-x)-x*np.exp(-x)+3*x**2\n",
    "\n",
    "def newton(f, x0, tol=1e-4, nMax=100):\n",
    "    for i in range(nMax):\n",
    "        x1=x0-f(x0)/df(x0)\n",
    "        if abs(x1-x0) < tol:\n",
    "            break\n",
    "        print(f\"{i}, {x0:.2f}, {x1:.2f}, {f(x0):.2f}, {f(x1):.2f}, {abs(x1-x0):.2f}\")\n",
    "        x0 = x1\n",
    "    return x1\n",
    "\n",
    "x0 = 1\n",
    "xx = newton(f, x0)\n",
    "print(f\"fonksiyonun kökü: {xx:.2f}, {f(xx):.2f}\")"
   ]
  },
  {
   "cell_type": "markdown",
   "metadata": {},
   "source": [
    "#### Matplotlib ile Grafik Çizimi"
   ]
  },
  {
   "cell_type": "code",
   "execution_count": 3,
   "metadata": {},
   "outputs": [
    {
     "name": "stdout",
     "output_type": "stream",
     "text": [
      "fonksiyonun kökü: -0.52, -0.00\n"
     ]
    },
    {
     "data": {
      "image/png": "[encoded data removed]",
      "text/plain": [
       "<Figure size 640x480 with 1 Axes>"
      ]
     },
     "metadata": {},
     "output_type": "display_data"
    }
   ],
   "source": [
    "import numpy as np\n",
    "import matplotlib.pyplot as plt\n",
    "\n",
    "def f(x):\n",
    "    return x*np.exp(-x)+x**3+1\n",
    "def df(x):\n",
    "    return np.exp(-x)-x*np.exp(-x)+3*x**2\n",
    "\n",
    "def newton(f, x0, tol=1e-4, nMax=100):\n",
    "    xp=np.linspace(-2,2,100)\n",
    "    yp=f(xp)\n",
    "    for i in range(nMax):\n",
    "        x1=x0-f(x0)/df(x0)\n",
    "        if abs(x1-x0) < tol:\n",
    "            break\n",
    "        plt.clf()\n",
    "        plt.plot(xp, yp)\n",
    "        plt.plot(x0, f(x0), 'o', ms=15)\n",
    "        plt.plot(x1, f(x1), 'x', ms=15)\n",
    "        plt.grid()\n",
    "        x0 = x1\n",
    "    return x1\n",
    "\n",
    "x0 = 1\n",
    "xx = newton(f, x0)\n",
    "print(f\"fonksiyonun kökü: {xx:.2f}, {f(xx):.2f}\")"
   ]
  },
  {
   "cell_type": "markdown",
   "metadata": {},
   "source": [
    "#### Secant Yöntemi\n",
    "Türev kullanmadan Newton-Raphson yöntemini kullanmak için kullanılır."
   ]
  },
  {
   "cell_type": "markdown",
   "metadata": {},
   "source": [
    "##### Formül\n",
    "<math xmlns=\"http://www.w3.org/1998/Math/MathML\">\n",
    "  <mrow>\n",
    "    <msub>\n",
    "      <mi>x</mi>\n",
    "      <mrow>\n",
    "        <mi>n</mi>\n",
    "        <mo>+</mo>\n",
    "        <mn>1</mn>\n",
    "      </mrow>\n",
    "    </msub>\n",
    "    <mo>=</mo>\n",
    "    <msub>\n",
    "      <mi>x</mi>\n",
    "      <mi>n</mi>\n",
    "    </msub>\n",
    "    <mo>-</mo>\n",
    "    <mfrac>\n",
    "      <mrow>\n",
    "        <mi>f</mi>\n",
    "        <mo>(</mo>\n",
    "        <msub>\n",
    "          <mi>x</mi>\n",
    "          <mi>n</mi>\n",
    "        </msub>\n",
    "        <mo>)</mo>\n",
    "        <mo>(</mo>\n",
    "        <msub>\n",
    "          <mi>x</mi>\n",
    "          <mi>n</mi>\n",
    "        </msub>\n",
    "        <mo>-</mo>\n",
    "        <msub>\n",
    "          <mi>x</mi>\n",
    "          <mrow>\n",
    "            <mi>n</mi>\n",
    "            <mo>-</mo>\n",
    "            <mn>1</mn>\n",
    "          </mrow>\n",
    "        </msub>\n",
    "        <mo>)</mo>\n",
    "      </mrow>\n",
    "      <mrow>\n",
    "        <mi>f</mi>\n",
    "        <mo>(</mo>\n",
    "        <msub>\n",
    "          <mi>x</mi>\n",
    "          <mi>n</mi>\n",
    "        </msub>\n",
    "        <mo>)</mo>\n",
    "        <mo>-</mo>\n",
    "        <mi>f</mi>\n",
    "        <mo>(</mo>\n",
    "        <msub>\n",
    "          <mi>x</mi>\n",
    "          <mrow>\n",
    "            <mi>n</mi>\n",
    "            <mo>-</mo>\n",
    "            <mn>1</mn>\n",
    "          </mrow>\n",
    "        </msub>\n",
    "        <mo>)</mo>\n",
    "      </mrow>\n",
    "    </mfrac>\n",
    "  </mrow>\n",
    "</math>\n"
   ]
  },
  {
   "cell_type": "code",
   "execution_count": 4,
   "metadata": {},
   "outputs": [
    {
     "name": "stdout",
     "output_type": "stream",
     "text": [
      "0, -1.00, 1.00, 1.40, 12.00, 0.96, 2.00, 0.96, 2.00\n",
      "1, 1.00, 1.40, 1.77, 2.00, 0.28, 0.96, 0.28, 0.40\n",
      "2, 1.40, 1.77, 1.92, 0.96, 0.08, 0.28, 0.08, 0.37\n",
      "3, 1.77, 1.92, 1.99, 0.28, 0.01, 0.08, 0.01, 0.16\n",
      "4, 1.92, 1.99, 2.00, 0.08, 0.00, 0.01, 0.00, 0.06\n",
      "5, 1.99, 2.00, 2.00, 0.01, 0.00, 0.00, 0.00, 0.01\n",
      "fonksiyonun kökü: 2.00, 0.00\n"
     ]
    }
   ],
   "source": [
    "import numpy as np\n",
    "import matplotlib.pyplot as plt\n",
    "\n",
    "def f(x):\n",
    "    return x**2-5*x+6\n",
    "\n",
    "def secand(f, x0, x1, tol=1e-4, nMax=100):\n",
    "    xp=np.linspace(-2,2,100)\n",
    "    yp=f(xp)\n",
    "    for i in range(nMax):\n",
    "        x2 = (x0*f(x1) - x1*f(x0)) / (f(x1)-f(x0))\n",
    "        if abs(x2-x1) < tol:\n",
    "            break\n",
    "        print(f\"{i}, {x0:.2f}, {x1:.2f}, {x2:.2f}, {f(x0):.2f}, {f(x2):.2f}, {f(x1):.2f}, {f(x2):.2f}, {abs(x1-x0):.2f}\")\n",
    "        x0 = x1\n",
    "        x1 = x2\n",
    "    return x2\n",
    "\n",
    "x0 = -1\n",
    "x1 = 1\n",
    "xx = secand(f, x0, x1)\n",
    "print(f\"fonksiyonun kökü: {xx:.2f}, {f(xx):.2f}\")"
   ]
  },
  {
   "cell_type": "markdown",
   "metadata": {},
   "source": [
    "## 2. Hafta 2.Ders"
   ]
  },
  {
   "cell_type": "markdown",
   "metadata": {},
   "source": []
  }
 ],
 "metadata": {
  "kernelspec": {
   "display_name": "base",
   "language": "python",
   "name": "python3"
  },
  "language_info": {
   "codemirror_mode": {
    "name": "ipython",
    "version": 3
   },
   "file_extension": ".py",
   "mimetype": "text/x-python",
   "name": "python",
   "nbconvert_exporter": "python",
   "pygments_lexer": "ipython3",
   "version": "3.10.9"
  }
 },
 "nbformat": 4,
 "nbformat_minor": 2
}
