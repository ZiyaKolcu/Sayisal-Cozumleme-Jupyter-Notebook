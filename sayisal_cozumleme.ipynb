{
 "cells": [
  {
   "cell_type": "markdown",
   "metadata": {},
   "source": [
    "# Sayısal Çözümleme"
   ]
  },
  {
   "cell_type": "markdown",
   "metadata": {},
   "source": [
    "<h2 id=\"main\">Dersler</h2>"
   ]
  },
  {
   "cell_type": "markdown",
   "metadata": {},
   "source": [
    "+ <a href=\"#1.2\">1. Hafta 2. Ders</a>\n",
    "    * İkiye Bölme Yöntemi"
   ]
  },
  {
   "cell_type": "markdown",
   "metadata": {},
   "source": [
    "+ <a href=\"#2.1\">2. Hafta 1. Ders</a>\n",
    "    * Taylor Serisi\n",
    "    * Newton-Raphson Yöntemi\n",
    "    * Secant Yöntemi"
   ]
  },
  {
   "cell_type": "markdown",
   "metadata": {},
   "source": [
    "+ <a href=\"#2.2\">2. Hafta 2. Ders</a>\n",
    "    * Regula Falsi Yöntemi\n",
    "    * Fixed Point Yöntemi"
   ]
  },
  {
   "cell_type": "markdown",
   "metadata": {},
   "source": [
    "+ <a href=\"#3.1\">3. Hafta 1. Ders</a>\n",
    "    * Polinomlar\n",
    "    * Polinom Toplama\n",
    "    * Polinom Çarpma\n",
    "    * Polinom Katsayıları Bulma"
   ]
  },
  {
   "cell_type": "markdown",
   "metadata": {},
   "source": [
    "+ <a href=\"#3.2\">3. Hafta 2. Ders</a>\n",
    "    * Polinom Bölme\n",
    "    * Polinom Türev\n",
    "    * Polinomun Newton-Raphson Yöntemi ile Kök Bulma\n",
    "    * Polinom İntegral"
   ]
  },
  {
   "cell_type": "markdown",
   "metadata": {},
   "source": [
    "+ <a href=\"#4.1\">4. Hafta 1. Ders</a>\n",
    "    * Matrisler\n",
    "    * Matris Toplama"
   ]
  },
  {
   "cell_type": "markdown",
   "metadata": {},
   "source": [
    "+ <a href=\"#4.2\">4. Hafta 2. Ders</a>\n",
    "    * Matris Çarpımı\n",
    "    * Matrisin Transpozu\n",
    "    * Matrisin İzi\n",
    "    * Matrisin Laplace Yöntemi ile Determinantı"
   ]
  },
  {
   "cell_type": "markdown",
   "metadata": {},
   "source": [
    "+ <a href=\"#5.1\">5. Hafta 1. Ders</a>\n",
    "    * Gauss Eleme Yöntemi ile Determinant Hesaplama"
   ]
  },
  {
   "cell_type": "markdown",
   "metadata": {},
   "source": [
    "+ <a href=\"#5.2\">5. Hafta 2. Ders</a>\n",
    "    * LU Ayrışım Yöntemi ile Determinant Hesaplama"
   ]
  },
  {
   "cell_type": "markdown",
   "metadata": {},
   "source": [
    "+ <a href=\"#6.1\">6. Hafta 1. Ders</a>\n",
    "    * Gauss Eleme Yöntemi ile Denklem Sistemi Çözüm"
   ]
  },
  {
   "cell_type": "markdown",
   "metadata": {},
   "source": [
    "+ <a href=\"#6.2\">6. Hafta 2. Ders</a>\n",
    "    * Gauss Jordan Yöntemi ile Denklem Sistemi Çözüm\n",
    "    * LU Ayrıştırma Yöntemi ile Denklem Sistemi Çözüm"
   ]
  },
  {
   "cell_type": "markdown",
   "metadata": {},
   "source": [
    "+ <a href=\"#7.1\">7. Hafta 1. Ders</a>\n",
    "    * Gauss-Sidel Yöntemi ile Denklem Sistemi Çözüm"
   ]
  },
  {
   "cell_type": "markdown",
   "metadata": {},
   "source": [
    "+ <a href=\"#7.2\">7. Hafta 2. Ders</a>\n",
    "    * Basit Doğrusal Regresyon"
   ]
  },
  {
   "cell_type": "markdown",
   "metadata": {},
   "source": [
    "+ <a href=\"#8.1\">8. Hafta 1. Ders</a>\n",
    "    * Polinomsal Doğrusal Regresyon"
   ]
  },
  {
   "cell_type": "markdown",
   "metadata": {},
   "source": [
    "+ <a href=\"#8.2\">8. Hafta 2. Ders</a>\n",
    "    * Genelleştirilmiş Doğrusal Regresyon"
   ]
  },
  {
   "cell_type": "code",
   "execution_count": 1,
   "metadata": {},
   "outputs": [],
   "source": [
    "import numpy as np\n",
    "import matplotlib.pyplot as plt\n",
    "import warnings\n",
    "warnings.filterwarnings(\"ignore\")"
   ]
  },
  {
   "cell_type": "markdown",
   "metadata": {},
   "source": [
    "<div id=\"1.2\">\n",
    "<h2>1. Hafta 2. Ders</h2>\n",
    "</div>"
   ]
  },
  {
   "cell_type": "markdown",
   "metadata": {},
   "source": [
    "### İkiye Bölme Yöntemi"
   ]
  },
  {
   "cell_type": "code",
   "execution_count": 2,
   "metadata": {},
   "outputs": [
    {
     "name": "stdout",
     "output_type": "stream",
     "text": [
      "fonksiyonun kökü: 2.05\n",
      "fonksiyonda değeri: -0.05\n"
     ]
    }
   ],
   "source": [
    "def f(x):\n",
    "    return x**2 - 5 * x + 6\n",
    "\n",
    "\n",
    "def bisection_method(f, xa, xu, tol=1e-4, nMax=100):\n",
    "    i = 0\n",
    "    while i < nMax:\n",
    "        i += 1\n",
    "        xm = (xa + xu) / 2\n",
    "        if f(xm) * f(xa) < 0:\n",
    "            xu = xm\n",
    "        else:\n",
    "            xa = xm\n",
    "        if abs(xu - xa) < tol:\n",
    "            break\n",
    "        return (xa + xu) / 2\n",
    "\n",
    "\n",
    "x = bisection_method(f, xa=1, xu=2.4)\n",
    "print(f\"fonksiyonun kökü: {x:.2f}\")\n",
    "print(f\"fonksiyonda değeri: {f(x):.2f}\")"
   ]
  },
  {
   "cell_type": "markdown",
   "metadata": {},
   "source": [
    "<div id=\"2.1\">\n",
    "<h2>2. Hafta 1. Ders</h2>\n",
    "</div>"
   ]
  },
  {
   "cell_type": "markdown",
   "metadata": {},
   "source": [
    "### Taylor Serisi"
   ]
  },
  {
   "cell_type": "markdown",
   "metadata": {},
   "source": [
    "<math xmlns=\"http://www.w3.org/1998/Math/MathML\">\n",
    "  <mtable columnalign=\"left\" columnspacing=\"1em\" rowspacing=\"4pt\">\n",
    "    <mtr>\n",
    "      <mtd>\n",
    "        <mi>f</mi>\n",
    "        <mo stretchy=\"false\">(</mo>\n",
    "        <mi>a</mi>\n",
    "        <mo stretchy=\"false\">)</mo>\n",
    "        <mo>+</mo>\n",
    "        <mfrac>\n",
    "          <mrow>\n",
    "            <msup>\n",
    "              <mi>f</mi>\n",
    "              <mrow data-mjx-texclass=\"ORD\">\n",
    "                <mi data-mjx-alternate=\"1\">&#x2032;</mi>\n",
    "              </mrow>\n",
    "            </msup>\n",
    "            <mo stretchy=\"false\">(</mo>\n",
    "            <mi>a</mi>\n",
    "            <mo stretchy=\"false\">)</mo>\n",
    "          </mrow>\n",
    "          <mrow>\n",
    "            <mn>1</mn>\n",
    "            <mo>!</mo>\n",
    "          </mrow>\n",
    "        </mfrac>\n",
    "        <mo stretchy=\"false\">(</mo>\n",
    "        <mi>x</mi>\n",
    "        <mo>&#x2212;</mo>\n",
    "        <mi>a</mi>\n",
    "        <mo stretchy=\"false\">)</mo>\n",
    "        <mo>+</mo>\n",
    "        <mfrac>\n",
    "          <mrow>\n",
    "            <msup>\n",
    "              <mi>f</mi>\n",
    "              <mrow data-mjx-texclass=\"ORD\">\n",
    "                <mi data-mjx-alternate=\"1\">&#x2032;</mi>\n",
    "                <mi data-mjx-alternate=\"1\">&#x2032;</mi>\n",
    "              </mrow>\n",
    "            </msup>\n",
    "            <mo stretchy=\"false\">(</mo>\n",
    "            <mi>a</mi>\n",
    "            <mo stretchy=\"false\">)</mo>\n",
    "          </mrow>\n",
    "          <mrow>\n",
    "            <mn>2</mn>\n",
    "            <mo>!</mo>\n",
    "          </mrow>\n",
    "        </mfrac>\n",
    "        <mo stretchy=\"false\">(</mo>\n",
    "        <mi>x</mi>\n",
    "        <mo>&#x2212;</mo>\n",
    "        <mi>a</mi>\n",
    "        <msup>\n",
    "          <mo stretchy=\"false\">)</mo>\n",
    "          <mrow data-mjx-texclass=\"ORD\">\n",
    "            <mn>2</mn>\n",
    "          </mrow>\n",
    "        </msup>\n",
    "        <mo>+</mo>\n",
    "        <mfrac>\n",
    "          <mrow>\n",
    "            <msup>\n",
    "              <mi>f</mi>\n",
    "              <mrow data-mjx-texclass=\"ORD\">\n",
    "                <mi data-mjx-alternate=\"1\">&#x2032;</mi>\n",
    "                <mi data-mjx-alternate=\"1\">&#x2032;</mi>\n",
    "                <mi data-mjx-alternate=\"1\">&#x2032;</mi>\n",
    "              </mrow>\n",
    "            </msup>\n",
    "            <mo stretchy=\"false\">(</mo>\n",
    "            <mi>a</mi>\n",
    "            <mo stretchy=\"false\">)</mo>\n",
    "          </mrow>\n",
    "          <mrow>\n",
    "            <mn>3</mn>\n",
    "            <mo>!</mo>\n",
    "          </mrow>\n",
    "        </mfrac>\n",
    "        <mo stretchy=\"false\">(</mo>\n",
    "        <mi>x</mi>\n",
    "        <mo>&#x2212;</mo>\n",
    "        <mi>a</mi>\n",
    "        <msup>\n",
    "          <mo stretchy=\"false\">)</mo>\n",
    "          <mrow data-mjx-texclass=\"ORD\">\n",
    "            <mn>3</mn>\n",
    "          </mrow>\n",
    "        </msup>\n",
    "        <mo>+</mo>\n",
    "        <mo>&#x22EF;</mo>\n",
    "      </mtd>\n",
    "    </mtr>\n",
    "  </mtable>\n",
    "</math>"
   ]
  },
  {
   "cell_type": "markdown",
   "metadata": {},
   "source": [
    "#### Sigma Gösterimi\n",
    "<math xmlns=\"http://www.w3.org/1998/Math/MathML\">\n",
    "  <mtable columnalign=\"left\" columnspacing=\"1em\" rowspacing=\"4pt\">\n",
    "    <mtr>\n",
    "      <mtd>\n",
    "        <munderover>\n",
    "          <mo data-mjx-texclass=\"OP\">&#x2211;</mo>\n",
    "          <mrow data-mjx-texclass=\"ORD\">\n",
    "            <mi>n</mi>\n",
    "            <mo>=</mo>\n",
    "            <mn>0</mn>\n",
    "          </mrow>\n",
    "          <mrow data-mjx-texclass=\"ORD\">\n",
    "            <mi mathvariant=\"normal\">&#x221E;</mi>\n",
    "          </mrow>\n",
    "        </munderover>\n",
    "        <mfrac>\n",
    "          <mrow>\n",
    "            <msup>\n",
    "              <mi>f</mi>\n",
    "              <mrow data-mjx-texclass=\"ORD\">\n",
    "                <mi>n</mi>\n",
    "              </mrow>\n",
    "            </msup>\n",
    "            <mo stretchy=\"false\">(</mo>\n",
    "            <mi>a</mi>\n",
    "            <mo stretchy=\"false\">)</mo>\n",
    "          </mrow>\n",
    "          <mrow>\n",
    "            <mi>n</mi>\n",
    "            <mo>!</mo>\n",
    "          </mrow>\n",
    "        </mfrac>\n",
    "        <mo stretchy=\"false\">(</mo>\n",
    "        <mi>x</mi>\n",
    "        <mo>&#x2212;</mo>\n",
    "        <mi>a</mi>\n",
    "        <msup>\n",
    "          <mo stretchy=\"false\">)</mo>\n",
    "          <mrow data-mjx-texclass=\"ORD\">\n",
    "            <mi>n</mi>\n",
    "          </mrow>\n",
    "        </msup>\n",
    "      </mtd>\n",
    "    </mtr>\n",
    "  </mtable>\n",
    "</math>"
   ]
  },
  {
   "cell_type": "markdown",
   "metadata": {},
   "source": [
    "### Newton Raphson Yöntemi"
   ]
  },
  {
   "cell_type": "markdown",
   "metadata": {},
   "source": [
    "<math xmlns=\"http://www.w3.org/1998/Math/MathML\">\n",
    "  <mtable columnalign=\"left\" columnspacing=\"1em\" rowspacing=\"4pt\">\n",
    "    <mtr>\n",
    "      <mtd>\n",
    "        <msub>\n",
    "          <mi>x</mi>\n",
    "          <mrow data-mjx-texclass=\"ORD\">\n",
    "            <mi>n</mi>\n",
    "            <mo>+</mo>\n",
    "            <mn>1</mn>\n",
    "          </mrow>\n",
    "        </msub>\n",
    "        <mo>=</mo>\n",
    "        <msub>\n",
    "          <mi>x</mi>\n",
    "          <mi>n</mi>\n",
    "        </msub>\n",
    "        <mo>&#x2212;</mo>\n",
    "        <mfrac>\n",
    "          <mrow>\n",
    "            <mi>f</mi>\n",
    "            <mo stretchy=\"false\">(</mo>\n",
    "            <msub>\n",
    "              <mi>x</mi>\n",
    "              <mi>n</mi>\n",
    "            </msub>\n",
    "            <mo stretchy=\"false\">)</mo>\n",
    "          </mrow>\n",
    "          <mrow>\n",
    "            <msup>\n",
    "              <mi>f</mi>\n",
    "              <mo data-mjx-alternate=\"1\">&#x2032;</mo>\n",
    "            </msup>\n",
    "            <mo stretchy=\"false\">(</mo>\n",
    "            <msub>\n",
    "              <mi>x</mi>\n",
    "              <mi>n</mi>\n",
    "            </msub>\n",
    "            <mo stretchy=\"false\">)</mo>\n",
    "          </mrow>\n",
    "        </mfrac>\n",
    "      </mtd>\n",
    "    </mtr>\n",
    "  </mtable>\n",
    "</math>"
   ]
  },
  {
   "cell_type": "code",
   "execution_count": 3,
   "metadata": {},
   "outputs": [
    {
     "name": "stdout",
     "output_type": "stream",
     "text": [
      "0, 1.00, 1.67, 2.00, 0.44, 0.67\n",
      "1, 1.67, 1.93, 0.44, 0.07, 0.27\n",
      "2, 1.93, 2.00, 0.07, 0.00, 0.06\n",
      "3, 2.00, 2.00, 0.00, 0.00, 0.00\n",
      "fonksiyonun kökü: 2.00\n",
      "fonksiyonda değeri: 0.00\n"
     ]
    }
   ],
   "source": [
    "def f(x):\n",
    "    return x**2 - 5 * x + 6\n",
    "\n",
    "def df(x):\n",
    "    return 2 * x - 5\n",
    "\n",
    "def newton_raphson_method(f, x0, tol=1e-4, nMax=100):\n",
    "    for i in range(nMax):\n",
    "        x1 = x0 - f(x0) / df(x0)\n",
    "        if abs(x1 - x0) < tol:\n",
    "            break\n",
    "        print(f\"{i}, {x0:.2f}, {x1:.2f}, {f(x0):.2f}, {f(x1):.2f}, {abs(x1-x0):.2f}\")\n",
    "        x0 = x1\n",
    "    return x1\n",
    "\n",
    "x0 = 1\n",
    "xx = newton_raphson_method(f, x0)\n",
    "print(f\"fonksiyonun kökü: {xx:.2f}\")\n",
    "print(f\"fonksiyonda değeri: {f(xx):.2f}\")"
   ]
  },
  {
   "cell_type": "code",
   "execution_count": 4,
   "metadata": {},
   "outputs": [
    {
     "name": "stdout",
     "output_type": "stream",
     "text": [
      "0, 1.00, 0.21, 2.37, 1.18, 0.79\n",
      "1, 0.21, -1.32, 1.18, -6.20, 1.53\n",
      "2, -1.32, -0.87, -6.20, -1.73, 0.45\n",
      "3, -0.87, -0.61, -1.73, -0.36, 0.26\n",
      "4, -0.61, -0.52, -0.36, -0.03, 0.09\n",
      "5, -0.52, -0.52, -0.03, -0.00, 0.01\n",
      "fonksiyonun kökü: -0.52\n",
      "fonksiyonda değeri: -0.00\n"
     ]
    }
   ],
   "source": [
    "def f(x):\n",
    "    return x * np.exp(-x) + x**3 + 1\n",
    "\n",
    "def df(x):\n",
    "    return np.exp(-x) - x * np.exp(-x) + 3 * x**2\n",
    "\n",
    "x0 = 1\n",
    "xx = newton_raphson_method(f, x0)\n",
    "print(f\"fonksiyonun kökü: {xx:.2f}\")\n",
    "print(f\"fonksiyonda değeri: {f(xx):.2f}\")"
   ]
  },
  {
   "cell_type": "markdown",
   "metadata": {},
   "source": [
    "#### Matplotlib ile Grafik Çizimi"
   ]
  },
  {
   "cell_type": "code",
   "execution_count": 5,
   "metadata": {},
   "outputs": [
    {
     "name": "stdout",
     "output_type": "stream",
     "text": [
      "fonksiyonun kökü: -0.52\n",
      "fonksiyonda değeri: -0.00\n"
     ]
    },
    {
     "data": {
      "image/png": "[encoded data removed]",
      "text/plain": [
       "<Figure size 640x480 with 1 Axes>"
      ]
     },
     "metadata": {},
     "output_type": "display_data"
    }
   ],
   "source": [
    "def f(x):\n",
    "    return x * np.exp(-x) + x**3 + 1\n",
    "\n",
    "def df(x):\n",
    "    return np.exp(-x) - x * np.exp(-x) + 3 * x**2\n",
    "\n",
    "def newton_raphson_method_with_graph(f, x0, tol=1e-4, nMax=100):\n",
    "    xp = np.linspace(-2, 2, 100)\n",
    "    yp = f(xp)\n",
    "    for i in range(nMax):\n",
    "        x1 = x0 - f(x0) / df(x0)\n",
    "        if abs(x1 - x0) < tol:\n",
    "            break\n",
    "        plt.clf()\n",
    "        plt.plot(xp, yp)\n",
    "        plt.plot(x0, f(x0), \"o\", ms=15)\n",
    "        plt.plot(x1, f(x1), \"x\", ms=15)\n",
    "        plt.grid()\n",
    "        x0 = x1\n",
    "    return x1\n",
    "\n",
    "\n",
    "x0 = 1\n",
    "xx = newton_raphson_method_with_graph(f, x0)\n",
    "print(f\"fonksiyonun kökü: {xx:.2f}\")\n",
    "print(f\"fonksiyonda değeri: {f(xx):.2f}\")"
   ]
  },
  {
   "cell_type": "markdown",
   "metadata": {},
   "source": [
    "#### Secant Yöntemi\n",
    "Türev kullanmadan Newton-Raphson yöntemini kullanmak için kullanılır."
   ]
  },
  {
   "cell_type": "markdown",
   "metadata": {},
   "source": [
    "<math xmlns=\"http://www.w3.org/1998/Math/MathML\">\n",
    "  <mtable columnalign=\"left\" columnspacing=\"1em\" rowspacing=\"4pt\">\n",
    "    <mtr>\n",
    "      <mtd>\n",
    "        <msub>\n",
    "          <mi>x</mi>\n",
    "          <mrow data-mjx-texclass=\"ORD\">\n",
    "            <mi>n</mi>\n",
    "            <mo>+</mo>\n",
    "            <mn>1</mn>\n",
    "          </mrow>\n",
    "        </msub>\n",
    "        <mo>=</mo>\n",
    "        <msub>\n",
    "          <mi>x</mi>\n",
    "          <mrow data-mjx-texclass=\"ORD\">\n",
    "            <mi>n</mi>\n",
    "          </mrow>\n",
    "        </msub>\n",
    "        <mo>&#x2212;</mo>\n",
    "        <mi>f</mi>\n",
    "        <mo stretchy=\"false\">(</mo>\n",
    "        <msub>\n",
    "          <mi>x</mi>\n",
    "          <mrow data-mjx-texclass=\"ORD\">\n",
    "            <mi>n</mi>\n",
    "          </mrow>\n",
    "        </msub>\n",
    "        <mo stretchy=\"false\">)</mo>\n",
    "        <mo>.</mo>\n",
    "        <mfrac>\n",
    "          <mrow>\n",
    "            <msub>\n",
    "              <mi>x</mi>\n",
    "              <mrow data-mjx-texclass=\"ORD\">\n",
    "                <mi>n</mi>\n",
    "              </mrow>\n",
    "            </msub>\n",
    "            <mo>&#x2212;</mo>\n",
    "            <msub>\n",
    "              <mi>x</mi>\n",
    "              <mrow data-mjx-texclass=\"ORD\">\n",
    "                <mi>n</mi>\n",
    "                <mo>&#x2212;</mo>\n",
    "                <mn>1</mn>\n",
    "              </mrow>\n",
    "            </msub>\n",
    "          </mrow>\n",
    "          <mrow>\n",
    "            <mi>f</mi>\n",
    "            <mo stretchy=\"false\">(</mo>\n",
    "            <msub>\n",
    "              <mi>x</mi>\n",
    "              <mrow data-mjx-texclass=\"ORD\">\n",
    "                <mi>n</mi>\n",
    "              </mrow>\n",
    "            </msub>\n",
    "            <mo stretchy=\"false\">)</mo>\n",
    "            <mo>&#x2212;</mo>\n",
    "            <mi>f</mi>\n",
    "            <mo stretchy=\"false\">(</mo>\n",
    "            <msub>\n",
    "              <mi>x</mi>\n",
    "              <mrow data-mjx-texclass=\"ORD\">\n",
    "                <mi>n</mi>\n",
    "                <mo>&#x2212;</mo>\n",
    "                <mn>1</mn>\n",
    "              </mrow>\n",
    "            </msub>\n",
    "            <mo stretchy=\"false\">)</mo>\n",
    "          </mrow>\n",
    "        </mfrac>\n",
    "      </mtd>\n",
    "    </mtr>\n",
    "  </mtable>\n",
    "</math>"
   ]
  },
  {
   "cell_type": "code",
   "execution_count": 6,
   "metadata": {},
   "outputs": [
    {
     "name": "stdout",
     "output_type": "stream",
     "text": [
      "0, -1.00, 1.00, 1.40, 12.00, 0.96, 2.00, 0.96, 2.00\n",
      "1, 1.00, 1.40, 1.77, 2.00, 0.28, 0.96, 0.28, 0.40\n",
      "2, 1.40, 1.77, 1.92, 0.96, 0.08, 0.28, 0.08, 0.37\n",
      "3, 1.77, 1.92, 1.99, 0.28, 0.01, 0.08, 0.01, 0.16\n",
      "4, 1.92, 1.99, 2.00, 0.08, 0.00, 0.01, 0.00, 0.06\n",
      "5, 1.99, 2.00, 2.00, 0.01, 0.00, 0.00, 0.00, 0.01\n",
      "fonksiyonun kökü: 2.00\n",
      "fonksiyonda değeri: 0.00\n"
     ]
    }
   ],
   "source": [
    "def f(x):\n",
    "    return x**2 - 5 * x + 6\n",
    "\n",
    "def secant_method(f, x0, x1, tol=1e-4, nMax=100):\n",
    "    xp = np.linspace(-2, 2, 100)\n",
    "    yp = f(xp)\n",
    "    for i in range(nMax):\n",
    "        x2 = (x0 * f(x1) - x1 * f(x0)) / (f(x1) - f(x0))\n",
    "        if abs(x2 - x1) < tol:\n",
    "            break\n",
    "        print(f\"{i}, {x0:.2f}, {x1:.2f}, {x2:.2f}, {f(x0):.2f}, {f(x2):.2f}, {f(x1):.2f}, {f(x2):.2f}, {abs(x1-x0):.2f}\")\n",
    "        x0 = x1\n",
    "        x1 = x2\n",
    "    return x2\n",
    "\n",
    "x0 = -1\n",
    "b = 1\n",
    "xx = secant_method(f, x0, b)\n",
    "print(f\"fonksiyonun kökü: {xx:.2f}\")\n",
    "print(f\"fonksiyonda değeri: {f(xx):.2f}\")"
   ]
  },
  {
   "cell_type": "markdown",
   "metadata": {},
   "source": [
    "<div id=\"2.2\">\n",
    "<h2>2. Hafta 2. Ders</h2>\n",
    "</div>"
   ]
  },
  {
   "cell_type": "markdown",
   "metadata": {},
   "source": [
    "### Regula Falsi Yöntemi"
   ]
  },
  {
   "cell_type": "markdown",
   "metadata": {},
   "source": [
    "<math xmlns=\"http://www.w3.org/1998/Math/MathML\">\n",
    "  <mtable columnalign=\"left\" columnspacing=\"1em\" rowspacing=\"4pt\">\n",
    "    <mtr>\n",
    "      <mtd>\n",
    "        <mi>y</mi>\n",
    "        <mo>&#x2212;</mo>\n",
    "        <mi>f</mi>\n",
    "        <mo stretchy=\"false\">(</mo>\n",
    "        <mi>a</mi>\n",
    "        <mo stretchy=\"false\">)</mo>\n",
    "        <mo>=</mo>\n",
    "        <mfrac>\n",
    "          <mrow>\n",
    "            <mi>f</mi>\n",
    "            <mo stretchy=\"false\">(</mo>\n",
    "            <mi>b</mi>\n",
    "            <mo stretchy=\"false\">)</mo>\n",
    "            <mo>&#x2212;</mo>\n",
    "            <mi>f</mi>\n",
    "            <mo stretchy=\"false\">(</mo>\n",
    "            <mi>a</mi>\n",
    "            <mo stretchy=\"false\">)</mo>\n",
    "          </mrow>\n",
    "          <mrow>\n",
    "            <mo stretchy=\"false\">(</mo>\n",
    "            <mi>b</mi>\n",
    "            <mo>&#x2212;</mo>\n",
    "            <mi>a</mi>\n",
    "            <mo stretchy=\"false\">)</mo>\n",
    "          </mrow>\n",
    "        </mfrac>\n",
    "        <mo>.</mo>\n",
    "        <mo stretchy=\"false\">(</mo>\n",
    "        <mi>x</mi>\n",
    "        <mo>&#x2212;</mo>\n",
    "        <mi>a</mi>\n",
    "        <mo stretchy=\"false\">)</mo>\n",
    "      </mtd>\n",
    "    </mtr>\n",
    "  </mtable>\n",
    "</math>"
   ]
  },
  {
   "cell_type": "code",
   "execution_count": 7,
   "metadata": {},
   "outputs": [
    {
     "name": "stdout",
     "output_type": "stream",
     "text": [
      "fonksiyonun kökü: 2.00\n",
      "fonksiyonda değeri: 0.00\n"
     ]
    }
   ],
   "source": [
    "def f(x):\n",
    "    return x**2 - 5 * x + 6\n",
    "\n",
    "def regula_falsi(f, a, b, tol=1e-4, nMax=100):\n",
    "    c0 = a\n",
    "    for i in range(nMax):\n",
    "        c = (a * f(b) - b * f(a)) / (f(b) - f(a))\n",
    "        if abs(c - c0) < tol:\n",
    "            break\n",
    "        # print(f\"{i}, {a:.2f}, {b:.2f}, {c:.2f}, {f(a):.2f}, {f(b):.2f}, {abs(c0-c):.2f}\")\n",
    "        if f(a) * f(c) < 0:\n",
    "            b = c\n",
    "        else:\n",
    "            a = c\n",
    "    return c\n",
    "\n",
    "x0 = -1\n",
    "x1 = 1\n",
    "xx = regula_falsi(f, x0, x1)\n",
    "print(f\"fonksiyonun kökü: {xx:.2f}\")\n",
    "print(f\"fonksiyonda değeri: {f(xx):.2f}\")"
   ]
  },
  {
   "cell_type": "markdown",
   "metadata": {},
   "source": [
    "### Fixed Point Iteration "
   ]
  },
  {
   "cell_type": "code",
   "execution_count": 8,
   "metadata": {},
   "outputs": [
    {
     "name": "stdout",
     "output_type": "stream",
     "text": [
      "fonksiyonun kökü: 2.00\n",
      "fonksiyonda değeri: 0.00\n"
     ]
    }
   ],
   "source": [
    "def f(x):\n",
    "    return x**2 - 5 * x + 6\n",
    "\n",
    "def g(x):\n",
    "    return (6 + x**2) / 5\n",
    "\n",
    "def fixed_point(f, x0, tol=1e-4, nMax=100):\n",
    "    for i in range(nMax):\n",
    "        x1 = g(x0)\n",
    "        if abs(x1 - x0) < tol:\n",
    "            break\n",
    "        # print(f\"{i}, {x0:.2f}, {x1:.2f}, {f(x0):.2f}, {f(x1):.2f}, {abs(x1-x0):.2f}\")\n",
    "        x0 = x1\n",
    "\n",
    "    return x1\n",
    "\n",
    "x0 = 0\n",
    "xx = fixed_point(f, x0)\n",
    "print(f\"fonksiyonun kökü: {xx:.2f}\")\n",
    "print(f\"fonksiyonda değeri: {f(xx):.2f}\")"
   ]
  },
  {
   "cell_type": "markdown",
   "metadata": {},
   "source": [
    "<div id=\"3.1\">\n",
    "<h2>3. Hafta 1. Ders</h2>\n",
    "</div>"
   ]
  },
  {
   "cell_type": "markdown",
   "metadata": {},
   "source": [
    "### Polinomlar"
   ]
  },
  {
   "cell_type": "code",
   "execution_count": 9,
   "metadata": {},
   "outputs": [
    {
     "name": "stdout",
     "output_type": "stream",
     "text": [
      "P(1) = 12\n",
      "P(4) = 18\n"
     ]
    }
   ],
   "source": [
    "def polyval(p, x):\n",
    "    d = len(p)\n",
    "    t = 0\n",
    "    for i in range(d):\n",
    "        t += p[i] * x**i\n",
    "    return t\n",
    "\n",
    "p = [30, -19, 0, 1]\n",
    "\n",
    "print(f\"P(1) = {polyval(p, 1)}\")\n",
    "print(f\"P(4) = {polyval(p, 4)}\")"
   ]
  },
  {
   "cell_type": "markdown",
   "metadata": {},
   "source": [
    "### Polinom Toplama"
   ]
  },
  {
   "cell_type": "code",
   "execution_count": 10,
   "metadata": {},
   "outputs": [
    {
     "name": "stdout",
     "output_type": "stream",
     "text": [
      "[2, 3, 1]\n"
     ]
    }
   ],
   "source": [
    "def polysum(p, q):\n",
    "    n = len(p)\n",
    "    m = len(q)\n",
    "    s = []\n",
    "    for i in range(max(n, m)):\n",
    "        t = 0\n",
    "        if i < n:\n",
    "            t += p[i]\n",
    "        if i < m:\n",
    "            t += q[i]\n",
    "        s.append(t)\n",
    "    return s\n",
    "\n",
    "\n",
    "p = [4, -3, 1]\n",
    "q = [-2, 6]\n",
    "y = polysum(p, q)\n",
    "print(y)"
   ]
  },
  {
   "cell_type": "markdown",
   "metadata": {},
   "source": [
    "### Polinom Çarpma"
   ]
  },
  {
   "cell_type": "code",
   "execution_count": 11,
   "metadata": {},
   "outputs": [
    {
     "name": "stdout",
     "output_type": "stream",
     "text": [
      "[-8, 30, -20, 6]\n"
     ]
    }
   ],
   "source": [
    "def polyprod(p, q):\n",
    "    n = len(p)\n",
    "    m = len(q)\n",
    "    c = [0] * (m + n - 1)\n",
    "    for i in range(n):\n",
    "        for j in range(m):\n",
    "            k = i + j\n",
    "            c[k] += p[i] * q[j]\n",
    "    return c\n",
    "\n",
    "\n",
    "p = [4, -3, 1]\n",
    "q = [-2, 6]\n",
    "y = polyprod(p, q)\n",
    "print(y)"
   ]
  },
  {
   "cell_type": "markdown",
   "metadata": {},
   "source": [
    "### Polinom Katsayıları Bulma"
   ]
  },
  {
   "cell_type": "code",
   "execution_count": 12,
   "metadata": {},
   "outputs": [
    {
     "name": "stdout",
     "output_type": "stream",
     "text": [
      "Polinomun katsayıları: [6, -5, 1]\n"
     ]
    }
   ],
   "source": [
    "def poly(r):\n",
    "    p = [1]\n",
    "    n = len(r)\n",
    "    for i in range(n):\n",
    "        p = polyprod(p, [-r[i], 1])\n",
    "    return p\n",
    "\n",
    "\n",
    "r = [2, 3]\n",
    "y = poly(r)\n",
    "\n",
    "print(\"Polinomun katsayıları:\", y)"
   ]
  },
  {
   "cell_type": "markdown",
   "metadata": {},
   "source": [
    "<div id=\"3.2\">\n",
    "<h2>3. Hafta 2. Ders</h2>\n",
    "</div>"
   ]
  },
  {
   "cell_type": "markdown",
   "metadata": {},
   "source": [
    "### Polinom Bölme"
   ]
  },
  {
   "cell_type": "code",
   "execution_count": 13,
   "metadata": {},
   "outputs": [
    {
     "name": "stdout",
     "output_type": "stream",
     "text": [
      "Polinomun katsayıları: [6, -5, 1]\n",
      "Polinomun x=2 köküne bölümü: [-3, 1]\n"
     ]
    }
   ],
   "source": [
    "def polydiv(p, r):\n",
    "    n = len(p)\n",
    "    q = [0] * n\n",
    "    for i in range(n - 1, -1, -1):\n",
    "        q[i - 1] = p[i] + r * q[i]\n",
    "    return q[:-1]\n",
    "\n",
    "\n",
    "r = [2, 3]\n",
    "p = poly(r)\n",
    "print(\"Polinomun katsayıları:\", p)\n",
    "q = polydiv(p, 2)\n",
    "print(\"Polinomun x=2 köküne bölümü:\", q)"
   ]
  },
  {
   "cell_type": "code",
   "execution_count": 14,
   "metadata": {},
   "outputs": [
    {
     "name": "stdout",
     "output_type": "stream",
     "text": [
      "Polinomun katsayıları: [30, -19, 0, 1]\n",
      "Poilnomun x=-5 köküne bölümü: [6, -5, 1]\n"
     ]
    }
   ],
   "source": [
    "r = [2, 3, -5]\n",
    "p = poly(r)\n",
    "print(\"Polinomun katsayıları:\", p)\n",
    "q = polydiv(p, -5)\n",
    "print(\"Poilnomun x=-5 köküne bölümü:\", q)"
   ]
  },
  {
   "cell_type": "markdown",
   "metadata": {},
   "source": [
    "### Polinom Türev"
   ]
  },
  {
   "cell_type": "code",
   "execution_count": 15,
   "metadata": {},
   "outputs": [
    {
     "name": "stdout",
     "output_type": "stream",
     "text": [
      "Polinomun katsayıları: [30, -19, 0, 1]\n",
      "Polinomun türevi: [0, -19, 0, 3]\n"
     ]
    }
   ],
   "source": [
    "def polyder(p):\n",
    "    n = len(p)\n",
    "    q = [0] * n\n",
    "    for i in range(n):\n",
    "        q[i] = i * p[i]\n",
    "    return q\n",
    "\n",
    "\n",
    "r = [2, 3, -5]\n",
    "p = poly(r)\n",
    "print(\"Polinomun katsayıları:\", p)\n",
    "t = polyder(p)\n",
    "print(\"Polinomun türevi:\", t)"
   ]
  },
  {
   "cell_type": "markdown",
   "metadata": {},
   "source": [
    "### Polinomun Newton-Raphson ile köklerini Bulma"
   ]
  },
  {
   "cell_type": "code",
   "execution_count": 16,
   "metadata": {},
   "outputs": [
    {
     "name": "stdout",
     "output_type": "stream",
     "text": [
      "Polinomun 1. kökü: 2.00\n",
      "Polinomun 2. kökü: 3.00\n",
      "Polinomun 3. kökü: -5.00\n"
     ]
    }
   ],
   "source": [
    "def newton_raphson_method(f, x0, tol=1e-4, nMax=100):\n",
    "    for i in range(nMax):\n",
    "        q = polyder(p)\n",
    "        x1 = x0 - polyval(p, x0) / polyval(q, x0)\n",
    "        if abs(x1 - x0) < tol:\n",
    "            break\n",
    "        x0 = x1\n",
    "    return x1\n",
    "\n",
    "\n",
    "r = [2, 3, -5]\n",
    "p = poly(r)\n",
    "n = len(p)\n",
    "for i in range(n - 1):\n",
    "    r0 = newton_raphson_method(p, 1)\n",
    "    print(f\"Polinomun {i+1}. kökü: {r0:.2f}\")\n",
    "    p = polydiv(p, r0)"
   ]
  },
  {
   "cell_type": "markdown",
   "metadata": {},
   "source": [
    "### Polinom İntegral"
   ]
  },
  {
   "cell_type": "code",
   "execution_count": 17,
   "metadata": {},
   "outputs": [
    {
     "name": "stdout",
     "output_type": "stream",
     "text": [
      "Polinomun katsayıları: [30, -19, 0, 1]\n",
      "Polinomun integrali: [0, 30.0, -9.5, 0.0, 0.25]\n"
     ]
    }
   ],
   "source": [
    "def polyint(p):\n",
    "    n = len(p)\n",
    "    q = [0] * (n + 1)\n",
    "    for i in range(n):\n",
    "        q[i + 1] = p[i] / (i + 1)\n",
    "    return q\n",
    "\n",
    "\n",
    "r = [2, 3, -5]\n",
    "p = poly(r)\n",
    "print(\"Polinomun katsayıları:\", p)\n",
    "t = polyint(p)\n",
    "print(\"Polinomun integrali:\", t)"
   ]
  },
  {
   "cell_type": "markdown",
   "metadata": {},
   "source": [
    "<div id=\"4.1\">\n",
    "<h2>4. Hafta 1. Ders</h2>\n",
    "</div>"
   ]
  },
  {
   "cell_type": "markdown",
   "metadata": {},
   "source": [
    "### Matrisler"
   ]
  },
  {
   "cell_type": "code",
   "execution_count": 18,
   "metadata": {},
   "outputs": [
    {
     "name": "stdout",
     "output_type": "stream",
     "text": [
      "A matrisi: \n",
      " [4 8 3 6]\n",
      "B matrisi: \n",
      " [[4 8 3 6]]\n",
      "C matrisi: \n",
      " [[4]\n",
      " [8]\n",
      " [3]\n",
      " [6]]\n"
     ]
    }
   ],
   "source": [
    "a = np.array([4, 8, 3, 6])\n",
    "b = a.reshape(1, -1)\n",
    "c = a.reshape(-1, 1)\n",
    "print(\"A matrisi: \\n\", a)\n",
    "print(\"B matrisi: \\n\", b)\n",
    "print(\"C matrisi: \\n\", c)"
   ]
  },
  {
   "cell_type": "code",
   "execution_count": 19,
   "metadata": {},
   "outputs": [
    {
     "name": "stdout",
     "output_type": "stream",
     "text": [
      "D matrisi: \n",
      " [[ 3  5  8]\n",
      " [ 7  3  9]\n",
      " [91 65  3]]\n"
     ]
    }
   ],
   "source": [
    "d = np.array([[3, 5, 8], \n",
    "              [7, 3, 9], \n",
    "              [91, 65, 3]])\n",
    "print(\"D matrisi: \\n\", d)"
   ]
  },
  {
   "cell_type": "code",
   "execution_count": 20,
   "metadata": {},
   "outputs": [
    {
     "name": "stdout",
     "output_type": "stream",
     "text": [
      "E matrisi: \n",
      " [[16 27 87 37]\n",
      " [52 73 65  7]\n",
      " [47 50 23 12]\n",
      " [51 75 50 83]]\n"
     ]
    }
   ],
   "source": [
    "# rastgele değerlerle matris oluşturma\n",
    "e = np.random.randint(0, 100, size=(4, 4))\n",
    "print(\"E matrisi: \\n\", e)"
   ]
  },
  {
   "cell_type": "code",
   "execution_count": 21,
   "metadata": {},
   "outputs": [
    {
     "name": "stdout",
     "output_type": "stream",
     "text": [
      "E2 matrisi: \n",
      " [[4.44724874 2.77703905 3.24626334]\n",
      " [4.46870085 3.45653773 4.57027109]\n",
      " [2.38587455 3.2555553  3.97707596]\n",
      " [2.94062987 2.40633489 3.68183302]\n",
      " [2.10311507 2.92052487 2.96672089]]\n"
     ]
    }
   ],
   "source": [
    "e2 = np.random.uniform(2, 5, size=(5, 3))\n",
    "print(\"E2 matrisi: \\n\", e2)"
   ]
  },
  {
   "cell_type": "markdown",
   "metadata": {},
   "source": [
    "### Matris Toplama"
   ]
  },
  {
   "cell_type": "code",
   "execution_count": 22,
   "metadata": {},
   "outputs": [
    {
     "name": "stdout",
     "output_type": "stream",
     "text": [
      "A matrisi: \n",
      " [[2.24483571 4.88494157 2.48919075]\n",
      " [4.43148044 4.90036725 3.12594015]\n",
      " [3.74403534 3.42735432 2.86279035]\n",
      " [3.36685519 4.27786276 2.60828009]\n",
      " [3.49075686 2.57197538 4.58442372]]\n",
      "A matrisi toplamı: 53.01108987393855\n"
     ]
    }
   ],
   "source": [
    "a = np.random.uniform(2, 5, size=(5, 3))\n",
    "c = np.sum(a)\n",
    "print(\"A matrisi: \\n\", a)\n",
    "print(\"A matrisi toplamı:\", c)"
   ]
  },
  {
   "cell_type": "code",
   "execution_count": 23,
   "metadata": {},
   "outputs": [
    {
     "name": "stdout",
     "output_type": "stream",
     "text": [
      "A matrisi: \n",
      " [[4.38628586 3.55691956 2.1528142 ]\n",
      " [2.48887619 3.07708349 2.65808507]\n",
      " [3.6632635  4.03501436 3.97758786]\n",
      " [3.06389057 3.36273089 4.12146039]\n",
      " [3.22763334 4.75865094 3.23693199]]\n",
      "A matrisi sütunları toplamı: [16.82994946 18.79039923 16.14687951]\n"
     ]
    }
   ],
   "source": [
    "a = np.random.uniform(2, 5, size=(5, 3))\n",
    "c = np.sum(a, axis=0)  # sütunları toplama\n",
    "print(\"A matrisi: \\n\", a)\n",
    "print(\"A matrisi sütunları toplamı:\", c)"
   ]
  },
  {
   "cell_type": "code",
   "execution_count": 24,
   "metadata": {},
   "outputs": [
    {
     "name": "stdout",
     "output_type": "stream",
     "text": [
      "A matrisi: \n",
      " [[3.58442503 4.11749016 2.7032277 ]\n",
      " [4.7171344  2.4257327  4.38422274]\n",
      " [2.03101487 3.02551041 3.27090927]\n",
      " [4.61580728 3.69546769 4.02786588]\n",
      " [4.03746164 4.96961135 2.30923543]]\n",
      "A matrisi satırları toplamı: [10.40514289 11.52708985  8.32743455 12.33914085 11.31630843]\n"
     ]
    }
   ],
   "source": [
    "a = np.random.uniform(2, 5, size=(5, 3))\n",
    "c = np.sum(a, axis=1)  # satırları toplama\n",
    "print(\"A matrisi: \\n\", a)\n",
    "print(\"A matrisi satırları toplamı:\", c)"
   ]
  },
  {
   "cell_type": "code",
   "execution_count": 25,
   "metadata": {},
   "outputs": [
    {
     "name": "stdout",
     "output_type": "stream",
     "text": [
      "A matrisi: \n",
      " [[2.75621763 4.74618988 4.84390825]\n",
      " [2.80129944 4.93025098 4.95457495]\n",
      " [4.14471281 2.89782737 2.78086285]\n",
      " [4.85780763 4.15830868 3.14452305]\n",
      " [4.72533951 2.85313053 2.03456181]]\n",
      "B matrisi: \n",
      " [[3.65516642 2.68910375 4.91014017]\n",
      " [4.33449217 2.72689293 3.33208722]\n",
      " [4.31442425 2.44201007 2.68562829]\n",
      " [3.05196336 3.09710126 3.31364066]\n",
      " [4.50608359 3.15711854 2.17763622]]\n",
      "A + B toplamı: \n",
      " [[6.41138404 7.43529363 9.75404842]\n",
      " [7.13579161 7.65714391 8.28666216]\n",
      " [8.45913707 5.33983744 5.46649114]\n",
      " [7.90977099 7.25540993 6.45816371]\n",
      " [9.2314231  6.01024907 4.21219804]]\n"
     ]
    }
   ],
   "source": [
    "# iki matrisin toplamını bulan fonksiyon\n",
    "def add(a, b):\n",
    "    m, n = a.shape\n",
    "    c = np.zeros(a.shape)\n",
    "    for i in range(m):\n",
    "        for j in range(n):\n",
    "            c[i, j] = a[i, j] + b[i, j]\n",
    "    return c\n",
    "\n",
    "\n",
    "a = np.random.uniform(2, 5, size=(5, 3))\n",
    "b = np.random.uniform(2, 5, size=(5, 3))\n",
    "c = add(a, b)\n",
    "print(\"A matrisi: \\n\", a)\n",
    "print(\"B matrisi: \\n\", b)\n",
    "print(\"A + B toplamı: \\n\", c)"
   ]
  },
  {
   "cell_type": "markdown",
   "metadata": {},
   "source": [
    "<div id=\"4.2\">\n",
    "<h2>4. Hafta 2. Ders</h2>\n",
    "</div>"
   ]
  },
  {
   "cell_type": "markdown",
   "metadata": {},
   "source": [
    "### Matris Çarpma"
   ]
  },
  {
   "cell_type": "code",
   "execution_count": 26,
   "metadata": {},
   "outputs": [
    {
     "name": "stdout",
     "output_type": "stream",
     "text": [
      "A matrisi: \n",
      " [[4.30673018 4.93683832 3.97867435]\n",
      " [2.85477523 3.65697204 4.61791958]\n",
      " [4.64603537 4.03766246 2.33376816]\n",
      " [3.62032603 4.05306579 2.51308793]\n",
      " [4.93265428 3.43708224 3.91569283]]\n",
      "B matrisi: \n",
      " [[4.15023464 3.00927975 4.78359087 2.23531431]\n",
      " [4.7629379  2.18963151 4.43476679 4.67259284]\n",
      " [2.93279304 3.64093736 4.34928129 4.8322229 ]]\n",
      "Numpy ile matris çarpımı: \n",
      " [[53.0564236  38.25611681 59.79973571 51.92057231]\n",
      " [42.80932017 33.41179445 49.95852607 45.78367803]\n",
      " [45.35773153 31.31931683 50.28103795 40.52899   ]\n",
      " [41.70006993 28.91929012 46.22268637 39.1746938 ]\n",
      " [48.32619861 36.62647257 55.8689077  46.00761912]]\n",
      "Bizim fonksiyonumuz ile matris çarpımı: \n",
      " [[53.0564236  38.25611681 59.79973571 51.92057231]\n",
      " [42.80932017 33.41179445 49.95852607 45.78367803]\n",
      " [45.35773153 31.31931683 50.28103795 40.52899   ]\n",
      " [41.70006993 28.91929012 46.22268637 39.1746938 ]\n",
      " [48.32619861 36.62647257 55.8689077  46.00761912]]\n"
     ]
    }
   ],
   "source": [
    "# iki matrisin çarpımını bulan fonksiyon\n",
    "def dot(a, b):\n",
    "    m, n = a.shape\n",
    "    p, q = b.shape\n",
    "    if n != p:\n",
    "        print(\"çarpım mümkün değil\")\n",
    "        return\n",
    "    c = np.zeros((m, q))\n",
    "    for i in range(m):\n",
    "        for j in range(q):\n",
    "            for k in range(n):\n",
    "                c[i, j] += a[i, k] * b[k, j]\n",
    "    return c\n",
    "\n",
    "\n",
    "a = np.random.uniform(2, 5, size=(5, 3))\n",
    "b = np.random.uniform(2, 5, size=(3, 4))\n",
    "print(\"A matrisi: \\n\", a)\n",
    "print(\"B matrisi: \\n\", b)\n",
    "print(\"Numpy ile matris çarpımı: \\n\", np.dot(a, b))\n",
    "print(\"Bizim fonksiyonumuz ile matris çarpımı: \\n\", dot(a, b))"
   ]
  },
  {
   "cell_type": "markdown",
   "metadata": {},
   "source": [
    "### Matrisin Transpozu"
   ]
  },
  {
   "cell_type": "code",
   "execution_count": 27,
   "metadata": {},
   "outputs": [
    {
     "name": "stdout",
     "output_type": "stream",
     "text": [
      "A matrisi: \n",
      " [[3.92548579 2.34449321 4.52993669]\n",
      " [3.747057   3.08518112 2.53922585]\n",
      " [4.11312284 3.51193658 4.14161438]\n",
      " [4.51745607 4.25222211 4.87868792]\n",
      " [3.0395972  3.11651319 2.7933338 ]]\n",
      "Numpy ile matrisin transpozu: \n",
      " [[3.92548579 3.747057   4.11312284 4.51745607 3.0395972 ]\n",
      " [2.34449321 3.08518112 3.51193658 4.25222211 3.11651319]\n",
      " [4.52993669 2.53922585 4.14161438 4.87868792 2.7933338 ]]\n",
      "Bizim fonksiyonumuz ile matrisin transpozu: \n",
      " [[3.92548579 3.747057   4.11312284 4.51745607 3.0395972 ]\n",
      " [2.34449321 3.08518112 3.51193658 4.25222211 3.11651319]\n",
      " [4.52993669 2.53922585 4.14161438 4.87868792 2.7933338 ]]\n"
     ]
    }
   ],
   "source": [
    "# matrisin transpose bulan fonksiyon\n",
    "def transpose(a):\n",
    "    m, n = a.shape\n",
    "    c = np.zeros((a.shape[1], a.shape[0]))\n",
    "    for i in range(n):\n",
    "        for j in range(m):\n",
    "            c[i, j] = a[j, i]\n",
    "    return c\n",
    "\n",
    "\n",
    "a = np.random.uniform(2, 5, size=(5, 3))\n",
    "\n",
    "print(\"A matrisi: \\n\", a)\n",
    "print(\"Numpy ile matrisin transpozu: \\n\", np.transpose(a))\n",
    "print(\"Bizim fonksiyonumuz ile matrisin transpozu: \\n\", transpose(a))"
   ]
  },
  {
   "cell_type": "markdown",
   "metadata": {},
   "source": [
    "### Matrisin İzi"
   ]
  },
  {
   "cell_type": "code",
   "execution_count": 28,
   "metadata": {},
   "outputs": [
    {
     "name": "stdout",
     "output_type": "stream",
     "text": [
      "A matrisi: \n",
      " [[4.9167727  4.52505117]\n",
      " [3.75768356 4.06366239]\n",
      " [3.56045209 2.21577128]]\n",
      "Numpy ile matrisin izi: \n",
      " 8.980435089335465\n",
      "Bizim fonksiyonumuz ile matrisin izi: \n",
      " 8.980435089335465\n"
     ]
    }
   ],
   "source": [
    "# matrisin izini bulan fonksiyon\n",
    "def trace(a):\n",
    "    m, n = a.shape\n",
    "    c = 0\n",
    "    for i in range(m):\n",
    "        if i < m and i < n:\n",
    "            c += a[i, i]\n",
    "    return c\n",
    "\n",
    "\n",
    "a = np.random.uniform(2, 5, size=(3, 2))\n",
    "print(\"A matrisi: \\n\", a)\n",
    "print(\"Numpy ile matrisin izi: \\n\", np.trace(a))\n",
    "print(\"Bizim fonksiyonumuz ile matrisin izi: \\n\", trace(a))"
   ]
  },
  {
   "cell_type": "markdown",
   "metadata": {},
   "source": [
    "### Matrisin Determinantı"
   ]
  },
  {
   "cell_type": "code",
   "execution_count": 29,
   "metadata": {},
   "outputs": [
    {
     "name": "stdout",
     "output_type": "stream",
     "text": [
      "A matrisi: \n",
      " [[4.82127469 2.1779036  3.52253341 4.37272927]\n",
      " [4.13541008 2.16753081 3.26326991 4.94559362]\n",
      " [4.25541854 2.17523621 3.34472778 2.02669407]\n",
      " [4.79128759 4.16078239 2.76190098 4.51886612]]\n",
      "A matrisinin seçili alt matrisi: \n",
      " [[4.82127469 2.1779036  4.37272927]\n",
      " [4.25541854 2.17523621 2.02669407]\n",
      " [4.79128759 4.16078239 4.51886612]]\n"
     ]
    }
   ],
   "source": [
    "# alt matrisi bulan fonksiyon\n",
    "def sub_matrix(a, I, J):\n",
    "    n, _ = a.shape\n",
    "    c = np.zeros((n - 1, n - 1))\n",
    "    ii = 0\n",
    "    for i in range(n):\n",
    "        jj = 0\n",
    "        for j in range(n):\n",
    "            if i != I and j != J:\n",
    "                c[ii, jj] = a[i, j]\n",
    "                jj += 1\n",
    "                if jj == n - 1:\n",
    "                    ii += 1\n",
    "    return c\n",
    "\n",
    "\n",
    "a = np.random.uniform(2, 5, size=(4, 4))\n",
    "\n",
    "print(\"A matrisi: \\n\", a)\n",
    "print(\"A matrisinin seçili alt matrisi: \\n\", sub_matrix(a, 1, 2))"
   ]
  },
  {
   "cell_type": "markdown",
   "metadata": {},
   "source": [
    "#### Laplace Yöntemi ile Determinant Hesaplama"
   ]
  },
  {
   "cell_type": "code",
   "execution_count": 30,
   "metadata": {},
   "outputs": [
    {
     "name": "stdout",
     "output_type": "stream",
     "text": [
      "A matrisi: \n",
      " [[3.87658853 3.98722683 4.70126317 3.97805322]\n",
      " [4.35696066 2.9923864  2.19388813 4.53924431]\n",
      " [2.21215944 3.34984202 4.84316278 4.66172583]\n",
      " [3.96390175 3.88108314 2.97013048 2.82442132]]\n",
      "A matrisinin laplace yöntemi ile determinantı: \n",
      " -20.655196795041917\n",
      "A matrisinin np.linalg.det() ile determinantı: \n",
      " -20.655196795041928\n"
     ]
    }
   ],
   "source": [
    "# laplace determinant yöntemi ile determinant bulan fonksiyon\n",
    "def det_laplace(a):\n",
    "    n, _ = a.shape\n",
    "    if n == 1:\n",
    "        return a[0, 0]\n",
    "    d = 0\n",
    "    for j in range(n):\n",
    "        c = sub_matrix(a, 0, j)\n",
    "        d += (-1) ** j * a[0, j] * det_laplace(c)\n",
    "    return d\n",
    "\n",
    "\n",
    "a = np.random.uniform(2, 5, size=(4, 4))\n",
    "print(\"A matrisi: \\n\", a)\n",
    "print(\"A matrisinin laplace yöntemi ile determinantı: \\n\", det_laplace(a))\n",
    "print(\"A matrisinin np.linalg.det() ile determinantı: \\n\", np.linalg.det(a))"
   ]
  },
  {
   "cell_type": "markdown",
   "metadata": {},
   "source": [
    "<div id=\"5.1\">\n",
    "<h2>5. Hafta 1. Ders</h2>\n",
    "</div>"
   ]
  },
  {
   "cell_type": "markdown",
   "metadata": {},
   "source": [
    "#### Gauss Eleme Yöntemi ile Determinant Hesaplama"
   ]
  },
  {
   "cell_type": "code",
   "execution_count": 31,
   "metadata": {},
   "outputs": [
    {
     "name": "stdout",
     "output_type": "stream",
     "text": [
      "A matrisi: \n",
      " [[2.18469224 4.15604028 4.30735909]\n",
      " [3.69224375 3.36951639 3.11752114]\n",
      " [4.32957167 3.40125478 2.77804732]]\n",
      "A matrisinin gauss eleme yöntemi ile determinantı: \n",
      " 2.0064433218603863\n",
      "A matrisinin np.linalg.det() ile determinantı: \n",
      " 2.0064433218603868\n"
     ]
    }
   ],
   "source": [
    "def det_gauss_elimination(a):\n",
    "    n = a.shape[0]\n",
    "    for i in range(n - 1):\n",
    "        for k in range(i + 1, n):\n",
    "            p = a[k, i] / a[i, i]\n",
    "            for j in range(n):\n",
    "                a[k, j] = a[k, j] - p * a[i, j]\n",
    "    d = 1\n",
    "    for i in range(n):\n",
    "        d *= a[i, i]\n",
    "    return d\n",
    "\n",
    "\n",
    "a = np.random.uniform(2, 5, size=(3, 3))\n",
    "print(\"A matrisi: \\n\", a)\n",
    "print(\"A matrisinin gauss eleme yöntemi ile determinantı: \\n\", det_gauss_elimination(a))\n",
    "print(\"A matrisinin np.linalg.det() ile determinantı: \\n\", np.linalg.det(a))"
   ]
  },
  {
   "cell_type": "markdown",
   "metadata": {},
   "source": [
    "<div id=\"5.2\">\n",
    "<h2>5. Hafta 2. Ders</h2>\n",
    "</div>"
   ]
  },
  {
   "cell_type": "markdown",
   "metadata": {},
   "source": [
    "### LU Ayrışım Yöntemi ile Determinant Hesaplama"
   ]
  },
  {
   "cell_type": "code",
   "execution_count": 32,
   "metadata": {},
   "outputs": [
    {
     "name": "stdout",
     "output_type": "stream",
     "text": [
      "A matrisi: \n",
      " [[3.32165819 2.35108434 3.11589864 4.7467978 ]\n",
      " [3.26842145 4.69787728 3.82120847 4.05733096]\n",
      " [4.2622069  4.21977317 3.1568775  4.45530202]\n",
      " [4.25958909 3.81810847 4.65892531 4.6578794 ]]\n",
      "A matrisinin LU ayrıştırma yöntemi ile determinantı: \n",
      " 16.13089163525664\n",
      "A matrisinin np.linalg.det() ile determinantı: \n",
      " 16.130891635256635\n"
     ]
    }
   ],
   "source": [
    "def det_lu(a):\n",
    "    n = a.shape[0]\n",
    "    L = np.eye(n)\n",
    "    U = np.zeros((n, n))\n",
    "\n",
    "    for i in range(n):\n",
    "        for j in range(n):\n",
    "            if j >= i:\n",
    "                U[i, j] = a[i, j]\n",
    "                for k in range(i):\n",
    "                    U[i, j] -= L[i, k] * U[k, j]\n",
    "                U[i, j] /= L[i, i]\n",
    "            else:\n",
    "                L[i, j] = a[i, j]\n",
    "                for k in range(j):\n",
    "                    L[i, j] -= L[i, k] * U[k, j]\n",
    "                L[i, j] /= U[j, j]\n",
    "    d = 1\n",
    "    for i in range(n):\n",
    "        d *= U[i, i]\n",
    "    return d\n",
    "\n",
    "\n",
    "a = np.random.uniform(2, 5, size=(4, 4))\n",
    "print(\"A matrisi: \\n\", a)\n",
    "print(\"A matrisinin LU ayrıştırma yöntemi ile determinantı: \\n\", det_lu(a))\n",
    "print(\"A matrisinin np.linalg.det() ile determinantı: \\n\", np.linalg.det(a))"
   ]
  },
  {
   "cell_type": "markdown",
   "metadata": {},
   "source": [
    "### Cramer Kuralı ile Denklem Sistemi Çözüm"
   ]
  },
  {
   "cell_type": "code",
   "execution_count": 33,
   "metadata": {},
   "outputs": [
    {
     "name": "stdout",
     "output_type": "stream",
     "text": [
      "A matrisi: \n",
      " [[0.72938285 0.44164019 0.48059874 0.12799085]\n",
      " [0.87875241 0.88848879 0.90756571 0.98886909]\n",
      " [0.55227331 0.06928408 0.69449651 0.10301035]\n",
      " [0.14090516 0.14997902 0.89345118 0.19202344]]\n",
      "x vektörü: \n",
      " [[7]\n",
      " [5]\n",
      " [7]\n",
      " [6]]\n",
      "B vektörü: \n",
      " [[11.44601722]\n",
      " [22.87988532]\n",
      " [ 9.69187127]\n",
      " [ 9.14253012]]\n",
      "---------------------------------------\n",
      "A matrisi: \n",
      " [[0.72938285 0.44164019 0.48059874 0.12799085]\n",
      " [0.87875241 0.88848879 0.90756571 0.98886909]\n",
      " [0.55227331 0.06928408 0.69449651 0.10301035]\n",
      " [0.14090516 0.14997902 0.89345118 0.19202344]]\n",
      "Cramer kuralı ile çözüm: \n",
      " 1.9996232564922938\n"
     ]
    }
   ],
   "source": [
    "def solve_with_cramers_rule(a, b):\n",
    "    n = a.shape[0]\n",
    "    xx = np.zeros(n)\n",
    "    detA = det_gauss_elimination(a.copy())\n",
    "    for j in range(n):\n",
    "        aa = a.copy()\n",
    "        for i in range(n):\n",
    "            aa[i, j] = b[i]\n",
    "        xx[j] = det_gauss_elimination(aa.copy()) / detA\n",
    "    return xx\n",
    "\n",
    "\n",
    "n = 4\n",
    "a = np.random.uniform(0, 1, size=(4, 4))\n",
    "x = np.random.randint(1, 9, size=(n, 1))\n",
    "b = np.dot(a, x)\n",
    "print(\"A matrisi: \\n\", a)\n",
    "print(\"x vektörü: \\n\", x)\n",
    "print(\"B vektörü: \\n\", b)\n",
    "print(\"---------------------------------------\")\n",
    "print(\"A matrisi: \\n\", a)\n",
    "print(\"Cramer kuralı ile çözüm: \\n\", xx)"
   ]
  },
  {
   "cell_type": "markdown",
   "metadata": {},
   "source": [
    "<div id=\"6.1\">\n",
    "<h2>6. Hafta 1. Ders</h2>\n",
    "</div>"
   ]
  },
  {
   "cell_type": "markdown",
   "metadata": {},
   "source": [
    "### Gauss Eleme Yöntemi ile Denklem Sistemi Çözüm"
   ]
  },
  {
   "cell_type": "code",
   "execution_count": 34,
   "metadata": {},
   "outputs": [
    {
     "name": "stdout",
     "output_type": "stream",
     "text": [
      "A matrisi: \n",
      " [[0.1298372  0.31450169 0.26832449 0.57655324]\n",
      " [0.92521413 0.14797875 0.80878777 0.05991484]\n",
      " [0.35292346 0.32755559 0.08662949 0.55470863]\n",
      " [0.89732416 0.89665037 0.75129308 0.53668682]]\n",
      "x vektörü: \n",
      " [[7]\n",
      " [1]\n",
      " [6]\n",
      " [3]]\n",
      "B vektörü: \n",
      " [[ 4.56296874]\n",
      " [11.65694883]\n",
      " [ 4.98192258]\n",
      " [13.29573845]]\n",
      "---------------------------------------\n",
      "A matrisi: \n",
      " [[ 0.1298372   0.31450169  0.26832449  0.57655324]\n",
      " [ 0.         -2.09314627 -1.10328059 -4.04857786]\n",
      " [ 0.          0.         -0.36478246  0.00747316]\n",
      " [ 0.          0.          0.         -0.98694665]]\n",
      "Gauss Eleme Yöntemi ile çözüm: \n",
      " [7. 1. 6. 3.]\n"
     ]
    }
   ],
   "source": [
    "def solve_with_gauss_elimination(a, b):\n",
    "    n = a.shape[0]\n",
    "    xx = np.zeros(n)\n",
    "    for i in range(n - 1):\n",
    "        for k in range(i + 1, n):\n",
    "            p = a[k, i] / a[i, i]\n",
    "            for j in range(n):\n",
    "                a[k, j] = a[k, j] - p * a[i, j]\n",
    "            b[k] = b[k] - p * b[i]\n",
    "\n",
    "    for i in range(n - 1, -1, -1):\n",
    "        xx[i] = b[i]\n",
    "        for j in range(i + 1, n):\n",
    "            xx[i] -= a[i, j] * xx[j]\n",
    "        xx[i] /= a[i, i]\n",
    "\n",
    "    return xx\n",
    "\n",
    "\n",
    "n = 4\n",
    "a = np.random.uniform(0, 1, size=(4, 4))\n",
    "x = np.random.randint(1, 9, size=(n, 1))\n",
    "b = np.dot(a, x)\n",
    "print(\"A matrisi: \\n\", a)\n",
    "print(\"x vektörü: \\n\", x)\n",
    "print(\"B vektörü: \\n\", b)\n",
    "print(\"---------------------------------------\")\n",
    "xx = solve_with_gauss_elimination(a, b)\n",
    "print(\"A matrisi: \\n\", a)\n",
    "print(\"Gauss Eleme Yöntemi ile çözüm: \\n\", xx)"
   ]
  },
  {
   "cell_type": "markdown",
   "metadata": {},
   "source": [
    "<div id=\"6.2\">\n",
    "<h2>6. Hafta 2. Ders</h2>\n",
    "</div>"
   ]
  },
  {
   "cell_type": "markdown",
   "metadata": {},
   "source": [
    "### Gauss Jordan Yöntemi ile Denklem Sistemi Çözüm"
   ]
  },
  {
   "cell_type": "code",
   "execution_count": 35,
   "metadata": {},
   "outputs": [
    {
     "name": "stdout",
     "output_type": "stream",
     "text": [
      "A matrisi: \n",
      " [[0.9961066  0.00404315 0.12104029 0.60132657]\n",
      " [0.82556479 0.43959601 0.09897582 0.63696485]\n",
      " [0.65111837 0.02000798 0.64605445 0.34336401]\n",
      " [0.6700317  0.33273213 0.10322841 0.49594962]]\n",
      "x vektörü: \n",
      " [[6]\n",
      " [8]\n",
      " [1]\n",
      " [3]]\n",
      "B vektörü: \n",
      " [[ 7.9340048 ]\n",
      " [10.48002715]\n",
      " [ 5.74292051]\n",
      " [ 8.27312452]]\n",
      "---------------------------------------\n",
      "A matrisi: \n",
      " [[ 1.00000000e+00  0.00000000e+00  2.00969229e-21  0.00000000e+00]\n",
      " [ 0.00000000e+00  1.00000000e+00 -2.16840434e-19  0.00000000e+00]\n",
      " [ 0.00000000e+00  0.00000000e+00  1.00000000e+00  0.00000000e+00]\n",
      " [ 0.00000000e+00  0.00000000e+00  0.00000000e+00  1.00000000e+00]]\n",
      "Gauss Jordan Yöntemi ile çözüm: \n",
      " [6. 8. 1. 3.]\n"
     ]
    }
   ],
   "source": [
    "def solve_with_gauss_jordan(a, b):\n",
    "    n = a.shape[0]\n",
    "    xx = np.zeros(n)\n",
    "    for i in range(n - 1):\n",
    "        for k in range(i + 1, n):\n",
    "            p = a[k, i] / a[i, i]\n",
    "            for j in range(n):\n",
    "                a[k, j] = a[k, j] - p * a[i, j]\n",
    "            b[k] = b[k] - p * b[i]\n",
    "\n",
    "    for i in range(n - 1, 0, -1):\n",
    "        for k in range(i - 1, -1, -1):\n",
    "            p = a[k, i] / a[i, i]\n",
    "            for j in range(n):\n",
    "                a[k, j] = a[k, j] - p * a[i, j]\n",
    "            b[k] = b[k] - p * b[i]\n",
    "\n",
    "    for i in range(n):\n",
    "        b[i] /= a[i, i]\n",
    "        a[i, i] /= a[i, i]\n",
    "        xx[i] = b[i]\n",
    "\n",
    "    return xx\n",
    "\n",
    "\n",
    "n = 4\n",
    "a = np.random.uniform(0, 1, size=(4, 4))\n",
    "x = np.random.randint(1, 9, size=(n, 1))\n",
    "b = np.dot(a, x)\n",
    "print(\"A matrisi: \\n\", a)\n",
    "print(\"x vektörü: \\n\", x)\n",
    "print(\"B vektörü: \\n\", b)\n",
    "print(\"---------------------------------------\")\n",
    "xx = solve_with_gauss_jordan(a, b)\n",
    "print(\"A matrisi: \\n\", a)\n",
    "print(\"Gauss Jordan Yöntemi ile çözüm: \\n\", xx)"
   ]
  },
  {
   "cell_type": "markdown",
   "metadata": {},
   "source": [
    "### LU Ayrıştırma Yöntemi ile Denklem Sistemi Çözüm"
   ]
  },
  {
   "cell_type": "code",
   "execution_count": 36,
   "metadata": {},
   "outputs": [
    {
     "name": "stdout",
     "output_type": "stream",
     "text": [
      "A matrisi: \n",
      " [[0.36998941 0.84950859 0.03069479 0.14253467]\n",
      " [0.58191802 0.34179026 0.0677522  0.38657992]\n",
      " [0.61175401 0.4510574  0.08937905 0.63283745]\n",
      " [0.47772475 0.97984291 0.70408792 0.38552306]]\n",
      "x vektörü: \n",
      " [[1]\n",
      " [6]\n",
      " [5]\n",
      " [3]]\n",
      "B vektörü: \n",
      " [[ 6.0481189 ]\n",
      " [ 4.13116031]\n",
      " [ 5.66350604]\n",
      " [11.03379097]]\n",
      "---------------------------------------\n",
      "LU Ayrıştırma Yöntemi ile çözüm: \n",
      " [1. 6. 5. 3.]\n"
     ]
    }
   ],
   "source": [
    "def solve_with_lu(a, b):\n",
    "    n = a.shape[0]\n",
    "    x = np.zeros(n)\n",
    "    y = np.zeros(n)\n",
    "    L = np.eye(n)\n",
    "    U = np.zeros((n, n))\n",
    "\n",
    "    for i in range(n):\n",
    "        for j in range(n):\n",
    "            if j >= i:\n",
    "                U[i, j] = a[i, j]\n",
    "                for k in range(i):\n",
    "                    U[i, j] -= L[i, k] * U[k, j]\n",
    "                U[i, j] /= L[i, i]\n",
    "            else:\n",
    "                L[i, j] = a[i, j]\n",
    "                for k in range(j):\n",
    "                    L[i, j] -= L[i, k] * U[k, j]\n",
    "                L[i, j] /= U[j, j]\n",
    "\n",
    "    for i in range(n):\n",
    "        y[i] = b[i]\n",
    "        for j in range(i):\n",
    "            y[i] -= L[i, j] * y[j]\n",
    "        y[i] /= L[i, i]\n",
    "\n",
    "    for i in range(n - 1, -1, -1):\n",
    "        x[i] = y[i]\n",
    "        for j in range(i + 1, n):\n",
    "            x[i] -= U[i, j] * x[j]\n",
    "        x[i] /= U[i, i]\n",
    "\n",
    "    return x\n",
    "\n",
    "\n",
    "n = 4\n",
    "a = np.random.uniform(0, 1, size=(4, 4))\n",
    "x = np.random.randint(1, 9, size=(n, 1))\n",
    "b = np.dot(a, x)\n",
    "print(\"A matrisi: \\n\", a)\n",
    "print(\"x vektörü: \\n\", x)\n",
    "print(\"B vektörü: \\n\", b)\n",
    "print(\"---------------------------------------\")\n",
    "xx = solve_with_lu(a, b)\n",
    "print(\"LU Ayrıştırma Yöntemi ile çözüm: \\n\", xx)"
   ]
  },
  {
   "cell_type": "markdown",
   "metadata": {},
   "source": [
    "<div id=\"7.1\">\n",
    "<h2>7. Hafta 1. Ders</h2>\n",
    "</div>"
   ]
  },
  {
   "cell_type": "markdown",
   "metadata": {},
   "source": [
    "### Gauss-Sidel Yöntemi ile Denklem Sistemi Çözüm"
   ]
  },
  {
   "cell_type": "code",
   "execution_count": 37,
   "metadata": {},
   "outputs": [
    {
     "name": "stdout",
     "output_type": "stream",
     "text": [
      "A matrisi: \n",
      " [[0.79036256 0.04805779 0.87676674 0.9575879 ]\n",
      " [0.84968958 0.24299378 0.16098349 0.66424714]\n",
      " [0.58929743 0.1699878  0.74906816 0.74939131]\n",
      " [0.79413914 0.86143224 0.05269983 0.88834539]]\n",
      "x vektörü: \n",
      " [[2]\n",
      " [6]\n",
      " [3]\n",
      " [4]]\n",
      "B vektörü: \n",
      " [[ 8.32972372]\n",
      " [ 6.29728084]\n",
      " [ 7.44329137]\n",
      " [10.46835278]]\n",
      "---------------------------------------\n",
      "Gauss-Sidel Yöntemi ile çözüm: \n",
      " [ 1.08662073e+122 -5.09329719e+123  2.16894885e+027 -2.13939126e+012]\n"
     ]
    }
   ],
   "source": [
    "# sağlıklı bir yöntem değil\n",
    "def solve_with_gauss_sidel(a, b, tol=1e-4, nMax=200):\n",
    "    n = a.shape[0]\n",
    "    x = np.random.uniform(0, 10, size=n)\n",
    "    xx = np.zeros(n)\n",
    "\n",
    "    for t in range(nMax):\n",
    "        for i in range(n):\n",
    "            x[i] = b[i]\n",
    "            for j in range(n):\n",
    "                if i != j:\n",
    "                    xx[i] -= a[i, j] * x[j]\n",
    "            xx[i] /= a[i, i]\n",
    "        if np.sum(np.abs(xx - x)) < tol:\n",
    "            break\n",
    "        else:\n",
    "            x = xx.copy()\n",
    "\n",
    "    return x\n",
    "\n",
    "\n",
    "n = 4\n",
    "a = np.random.uniform(0, 1, size=(4, 4))\n",
    "x = np.random.randint(1, 9, size=(n, 1))\n",
    "b = np.dot(a, x)\n",
    "print(\"A matrisi: \\n\", a)\n",
    "print(\"x vektörü: \\n\", x)\n",
    "print(\"B vektörü: \\n\", b)\n",
    "print(\"---------------------------------------\")\n",
    "xx = solve_with_gauss_sidel(a, b)\n",
    "print(\"Gauss-Sidel Yöntemi ile çözüm: \\n\", xx)"
   ]
  },
  {
   "cell_type": "markdown",
   "metadata": {},
   "source": [
    "<div id=\"7.2\">\n",
    "<h2>7. Hafta 2. Ders</h2>\n",
    "</div>"
   ]
  },
  {
   "cell_type": "markdown",
   "metadata": {},
   "source": [
    "### Basit Doğrusal Regresyon"
   ]
  },
  {
   "cell_type": "markdown",
   "metadata": {},
   "source": [
    "<math xmlns=\"http://www.w3.org/1998/Math/MathML\">\n",
    "  <mrow>\n",
    "    <msup>\n",
    "      <mi>y</mi>\n",
    "    </msup>\n",
    "    <mo>=</mo>\n",
    "    <msub>\n",
    "      <mi>b</mi>\n",
    "      <mn>0</mn>\n",
    "    </msub>\n",
    "    <mo>+</mo>\n",
    "    <msub>\n",
    "      <mi>b</mi>\n",
    "      <mn>1</mn>\n",
    "    </msub>\n",
    "    <mi>x</mi>\n",
    "  </mrow>\n",
    "</math>\n"
   ]
  },
  {
   "cell_type": "code",
   "execution_count": 47,
   "metadata": {},
   "outputs": [
    {
     "name": "stdout",
     "output_type": "stream",
     "text": [
      "b0: -2.0000000000000058\n",
      "b1: 3.000000000000001\n"
     ]
    },
    {
     "data": {
      "image/png": "[encoded data removed]",
      "text/plain": [
       "<Figure size 640x480 with 1 Axes>"
      ]
     },
     "metadata": {},
     "output_type": "display_data"
    }
   ],
   "source": [
    "def simple_linear_regression(x, y):\n",
    "    n = x.size\n",
    "    b = np.zeros(2)\n",
    "    X = np.zeros((2, 2))\n",
    "    yX = np.zeros(2)\n",
    "\n",
    "    for i in range(2):\n",
    "        for j in range(2):\n",
    "            for k in range(n):\n",
    "                X[i, j] += x[k] ** (i + j)\n",
    "        for k in range(n):\n",
    "            yX[i] += y[k] * x[k] ** i\n",
    "\n",
    "    b = solve_with_gauss_jordan(X, yX)\n",
    "    return b\n",
    "\n",
    "\n",
    "x = np.sort(np.random.uniform(0, 10, size=12))\n",
    "y = 3 * x - 2\n",
    "\n",
    "plt.figure()\n",
    "plt.plot(x, y, \"o\")\n",
    "\n",
    "b = simple_linear_regression(x, y)\n",
    "for i in range(b.size):\n",
    "    print(f\"b{i}:\", b[i])\n",
    "\n",
    "yy = b[0] + b[1] * x\n",
    "plt.plot(x, yy)\n",
    "plt.show()"
   ]
  },
  {
   "cell_type": "code",
   "execution_count": 46,
   "metadata": {},
   "outputs": [
    {
     "name": "stdout",
     "output_type": "stream",
     "text": [
      "b0: -2.0660330705247034\n",
      "b1: 3.0770497021385603\n"
     ]
    },
    {
     "data": {
      "image/png": "[encoded data removed]",
      "text/plain": [
       "<Figure size 640x480 with 1 Axes>"
      ]
     },
     "metadata": {},
     "output_type": "display_data"
    }
   ],
   "source": [
    "x = np.sort(np.random.uniform(0, 10, size=12))\n",
    "y = 3 * x - 2 + np.random.normal(0, 1, size=x.size)\n",
    "\n",
    "plt.figure()\n",
    "plt.plot(x, y, \"o\")\n",
    "\n",
    "b = simple_linear_regression(x, y)\n",
    "for i in range(b.size):\n",
    "    print(f\"b{i}:\", b[i])\n",
    "\n",
    "yy = b[0] + b[1] * x\n",
    "plt.plot(x, yy)\n",
    "plt.show()"
   ]
  },
  {
   "cell_type": "markdown",
   "metadata": {},
   "source": [
    "<div id=\"8.1\">\n",
    "<h2>8. Hafta 1. Ders</h2>\n",
    "</div>"
   ]
  },
  {
   "cell_type": "markdown",
   "metadata": {},
   "source": [
    "### Polinomsal Doğrusal Regresyon"
   ]
  },
  {
   "cell_type": "code",
   "execution_count": 45,
   "metadata": {},
   "outputs": [
    {
     "name": "stdout",
     "output_type": "stream",
     "text": [
      "b0: -3.7743563129483184\n",
      "b1: 3.590344020657391\n",
      "b2: 1.9498164758043621\n"
     ]
    },
    {
     "data": {
      "image/png": "[encoded data removed]",
      "text/plain": [
       "<Figure size 640x480 with 1 Axes>"
      ]
     },
     "metadata": {},
     "output_type": "display_data"
    }
   ],
   "source": [
    "def polynomial_linear_regression(x, y, m=1):\n",
    "    n = x.size\n",
    "    b = np.zeros(m + 1)\n",
    "    X = np.zeros((m + 1, m + 1))\n",
    "    yX = np.zeros(m + 1)\n",
    "\n",
    "    for i in range(m + 1):\n",
    "        for j in range(m + 1):\n",
    "            for k in range(n):\n",
    "                X[i, j] += x[k] ** (i + j)\n",
    "        for k in range(n):\n",
    "            yX[i] += y[k] * x[k] ** i\n",
    "\n",
    "    b = solve_with_gauss_jordan(X, yX)\n",
    "    return b\n",
    "\n",
    "\n",
    "x = np.sort(np.random.uniform(0, 10, size=12))\n",
    "y = 2 * x**2 + 3 * x - 2 + np.random.normal(0, 1, size=x.size)\n",
    "\n",
    "plt.figure()\n",
    "plt.plot(x, y, \"o\")\n",
    "\n",
    "b = polynomial_linear_regression(x, y, 2)\n",
    "for i in range(b.size):\n",
    "    print(f\"b{i}:\", b[i])\n",
    "\n",
    "yy = b[0] + b[1] * x + b[2] * x**2\n",
    "plt.plot(x, yy)\n",
    "plt.show()"
   ]
  },
  {
   "cell_type": "markdown",
   "metadata": {},
   "source": [
    "<div id=\"8.2\">\n",
    "<h2>8. Hafta 2. Ders</h2>\n",
    "</div>"
   ]
  },
  {
   "cell_type": "markdown",
   "metadata": {},
   "source": [
    "### Genelleştirilmiş Doğrusal Regresyon"
   ]
  },
  {
   "cell_type": "code",
   "execution_count": 48,
   "metadata": {},
   "outputs": [
    {
     "name": "stdout",
     "output_type": "stream",
     "text": [
      "b0: -2.449146388233146\n",
      "b1: 3.0776996187761103\n"
     ]
    },
    {
     "data": {
      "image/png": "[encoded data removed]",
      "text/plain": [
       "<Figure size 640x480 with 1 Axes>"
      ]
     },
     "metadata": {},
     "output_type": "display_data"
    }
   ],
   "source": [
    "def generalized_linear_regression(X, y):\n",
    "    # b = np.dot(np.linalg.inv(np.dot(X.T, X)), np.dot(X.T, y))\n",
    "    XTX = dot(transpose(X.copy()), X.copy())\n",
    "    XTy = dot(transpose(X.copy()), y)\n",
    "    b = solve_with_gauss_jordan(XTX, XTy)\n",
    "\n",
    "    return b\n",
    "\n",
    "\n",
    "n = 12\n",
    "x = np.sort(np.random.uniform(0, 10, size=n))\n",
    "y = 3 * x - 2 + np.random.normal(0, 1, size=x.size)\n",
    "\n",
    "plt.figure()\n",
    "plt.plot(x, y, \"o\")\n",
    "\n",
    "X = np.hstack((np.ones((n, 1)), x.reshape(n, 1)))\n",
    "\n",
    "b = generalized_linear_regression(X, y.reshape(n, 1))\n",
    "for i in range(b.size):\n",
    "    print(f\"b{i}:\", b[i])\n",
    "\n",
    "yy = b[0] + b[1] * x\n",
    "plt.plot(x, yy)\n",
    "plt.show()"
   ]
  },
  {
   "cell_type": "code",
   "execution_count": 51,
   "metadata": {},
   "outputs": [
    {
     "name": "stdout",
     "output_type": "stream",
     "text": [
      "b0: -1.7078749503681723\n",
      "b1: 2.9584393465444716\n",
      "b2: 5.764688918574925\n"
     ]
    },
    {
     "data": {
      "image/png": "[encoded data removed]",
      "text/plain": [
       "<Figure size 640x480 with 1 Axes>"
      ]
     },
     "metadata": {},
     "output_type": "display_data"
    }
   ],
   "source": [
    "n = 12\n",
    "x = np.sort(np.random.uniform(0, 10, size=n))\n",
    "y = 5 * np.exp(-x) + 3 * x - 2 + np.random.normal(0, 1, size=x.size)\n",
    "\n",
    "plt.figure()\n",
    "plt.plot(x, y, \"o\")\n",
    "\n",
    "X = np.hstack((np.ones((n, 1)), x.reshape(n, 1), np.exp(-x).reshape(n, 1)))\n",
    "\n",
    "b = generalized_linear_regression(X, y.reshape(n, 1))\n",
    "for i in range(b.size):\n",
    "    print(f\"b{i}:\", b[i])\n",
    "\n",
    "yy = b[0] + b[1] * x + b[2] * np.exp(-x)\n",
    "plt.plot(x, yy)\n",
    "plt.show()"
   ]
  },
  {
   "cell_type": "code",
   "execution_count": null,
   "metadata": {},
   "outputs": [],
   "source": []
  }
 ],
 "metadata": {
  "kernelspec": {
   "display_name": "base",
   "language": "python",
   "name": "python3"
  },
  "language_info": {
   "codemirror_mode": {
    "name": "ipython",
    "version": 3
   },
   "file_extension": ".py",
   "mimetype": "text/x-python",
   "name": "python",
   "nbconvert_exporter": "python",
   "pygments_lexer": "ipython3",
   "version": "3.11.5"
  }
 },
 "nbformat": 4,
 "nbformat_minor": 2
}
