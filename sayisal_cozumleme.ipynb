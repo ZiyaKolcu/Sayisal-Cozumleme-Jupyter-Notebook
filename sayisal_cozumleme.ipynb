{
 "cells": [
  {
   "cell_type": "markdown",
   "metadata": {},
   "source": [
    "# Sayısal Çözümleme"
   ]
  },
  {
   "cell_type": "markdown",
   "metadata": {},
   "source": [
    "<h2 id=\"main\">Dersler</h2>"
   ]
  },
  {
   "cell_type": "markdown",
   "metadata": {},
   "source": [
    "+ <a href=\"#1.2\">1. Hafta 2. Ders</a>\n",
    "    * İkiye Bölme Yöntemi"
   ]
  },
  {
   "cell_type": "markdown",
   "metadata": {},
   "source": [
    "+ <a href=\"#2.1\">2. Hafta 1. Ders</a>\n",
    "    * Taylor Serisi\n",
    "    * Newton-Raphson Yöntemi\n",
    "    * Secant Yöntemi"
   ]
  },
  {
   "cell_type": "markdown",
   "metadata": {},
   "source": [
    "+ <a href=\"#2.2\">2. Hafta 2. Ders</a>\n",
    "    * Regula Falsi Yöntemi\n",
    "    * Fixed Point Yöntemi"
   ]
  },
  {
   "cell_type": "markdown",
   "metadata": {},
   "source": [
    "+ <a href=\"#3.1\">3. Hafta 1. Ders</a>\n",
    "    * Polinomlar\n",
    "    * Polinom Toplama\n",
    "    * Polinom Çarpma\n",
    "    * Polinom Katsayıları Bulma"
   ]
  },
  {
   "cell_type": "markdown",
   "metadata": {},
   "source": [
    "+ <a href=\"#3.2\">3. Hafta 2. Ders</a>\n",
    "    * Polinom Bölme\n",
    "    * Polinom Türev\n",
    "    * Polinomun Newton-Raphson Yöntemi ile Kök Bulma\n",
    "    * Polinom İntegral"
   ]
  },
  {
   "cell_type": "markdown",
   "metadata": {},
   "source": [
    "+ <a href=\"#4.1\">4. Hafta 1. Ders</a>\n",
    "    * Matrisler\n",
    "    * Matris Toplama"
   ]
  },
  {
   "cell_type": "markdown",
   "metadata": {},
   "source": [
    "+ <a href=\"#4.2\">4. Hafta 2. Ders</a>\n",
    "    * Matris Çarpımı\n",
    "    * Matrisin Transpozu\n",
    "    * Matrisin İzi\n",
    "    * Matrisin Laplace Yöntemi ile Determinantı"
   ]
  },
  {
   "cell_type": "markdown",
   "metadata": {},
   "source": [
    "+ <a href=\"#5.1\">5. Hafta 1. Ders</a>\n",
    "    * Gauss Eleme Yöntemi ile Determinant Hesaplama"
   ]
  },
  {
   "cell_type": "markdown",
   "metadata": {},
   "source": [
    "+ <a href=\"#5.2\">5. Hafta 2. Ders</a>\n",
    "    * LU Ayrışım Yöntemi ile Determinant Hesaplama"
   ]
  },
  {
   "cell_type": "markdown",
   "metadata": {},
   "source": [
    "+ <a href=\"#6.1\">6. Hafta 1. Ders</a>\n",
    "    * Gauss Eleme Yöntemi ile Denklem Sistemi Çözüm"
   ]
  },
  {
   "cell_type": "markdown",
   "metadata": {},
   "source": [
    "+ <a href=\"#6.2\">6. Hafta 2. Ders</a>\n",
    "    * Gauss Jordan Yöntemi ile Denklem Sistemi Çözüm\n",
    "    * LU Ayrıştırma Yöntemi ile Denklem Sistemi Çözüm"
   ]
  },
  {
   "cell_type": "markdown",
   "metadata": {},
   "source": [
    "+ <a href=\"#7.1\">7. Hafta 1. Ders</a>\n",
    "    * Gauss-Sidel Yöntemi ile Denklem Sistemi Çözüm"
   ]
  },
  {
   "cell_type": "markdown",
   "metadata": {},
   "source": [
    "+ <a href=\"#7.2\">7. Hafta 2. Ders</a>\n",
    "    * Basit Doğrusal Regresyon"
   ]
  },
  {
   "cell_type": "markdown",
   "metadata": {},
   "source": [
    "+ <a href=\"#8.1\">8. Hafta 1. Ders</a>\n",
    "    * Polinomsal Doğrusal Regresyon"
   ]
  },
  {
   "cell_type": "markdown",
   "metadata": {},
   "source": [
    "+ <a href=\"#8.2\">8. Hafta 2. Ders</a>\n",
    "    * Genelleştirilmiş Doğrusal Regresyon"
   ]
  },
  {
   "cell_type": "markdown",
   "metadata": {},
   "source": [
    "+ <a href=\"#9.1\">9. Hafta 1. Ders</a>\n",
    "    * Cramer Kuralı ile Matrisin Tersi\n",
    "    * Gauss-Jordan Kuralı ile Matrisin Tersi\n",
    "    * LU Ayrıştırma ile Matrisin Tersi"
   ]
  },
  {
   "cell_type": "markdown",
   "metadata": {},
   "source": [
    "+ <a href=\"#9.2\">9. Hafta 2. Ders</a>\n",
    "    * En Yakın Komşu Interpolasyon\n",
    "    * Linear Interpolasyon"
   ]
  },
  {
   "cell_type": "markdown",
   "metadata": {},
   "source": [
    "+ <a href=\"#10.1\">10. Hafta 1. Ders</a>\n",
    "    * Newton Bölünmüş Farklar Yöntemi"
   ]
  },
  {
   "cell_type": "markdown",
   "metadata": {},
   "source": [
    "+ <a href=\"#11.1\">11. Hafta 1. Ders</a>\n",
    "    * Lagrange Interpolasyon"
   ]
  },
  {
   "cell_type": "code",
   "execution_count": 2,
   "metadata": {},
   "outputs": [],
   "source": [
    "import numpy as np\n",
    "import matplotlib.pyplot as plt\n",
    "import warnings\n",
    "warnings.filterwarnings(\"ignore\")"
   ]
  },
  {
   "cell_type": "markdown",
   "metadata": {},
   "source": [
    "<div id=\"1.2\">\n",
    "<h2>1. Hafta 2. Ders</h2>\n",
    "</div>"
   ]
  },
  {
   "cell_type": "markdown",
   "metadata": {},
   "source": [
    "### İkiye Bölme Yöntemi"
   ]
  },
  {
   "cell_type": "code",
   "execution_count": 7,
   "metadata": {},
   "outputs": [
    {
     "name": "stdout",
     "output_type": "stream",
     "text": [
      "fonksiyonun kökü: 2.05\n",
      "fonksiyonda değeri: -0.05\n"
     ]
    }
   ],
   "source": [
    "def f(x):\n",
    "    return x**2 - 5 * x + 6\n",
    "\n",
    "\n",
    "def bisection_method(f, xa, xu, tol=1e-4, nMax=100):\n",
    "    i = 0\n",
    "    while i < nMax:\n",
    "        i += 1\n",
    "        xm = (xa + xu) / 2\n",
    "        if f(xm) * f(xa) < 0:\n",
    "            xu = xm\n",
    "        else:\n",
    "            xa = xm\n",
    "        if abs(xu - xa) < tol:\n",
    "            break\n",
    "        return (xa + xu) / 2\n",
    "\n",
    "\n",
    "x = bisection_method(f, xa=1, xu=2.4)\n",
    "print(f\"fonksiyonun kökü: {x:.2f}\")\n",
    "print(f\"fonksiyonda değeri: {f(x):.2f}\")"
   ]
  },
  {
   "cell_type": "markdown",
   "metadata": {},
   "source": [
    "<div id=\"2.1\">\n",
    "<h2>2. Hafta 1. Ders</h2>\n",
    "</div>"
   ]
  },
  {
   "cell_type": "markdown",
   "metadata": {},
   "source": [
    "### Taylor Serisi"
   ]
  },
  {
   "cell_type": "markdown",
   "metadata": {},
   "source": [
    "<math xmlns=\"http://www.w3.org/1998/Math/MathML\">\n",
    "  <mtable columnalign=\"left\" columnspacing=\"1em\" rowspacing=\"4pt\">\n",
    "    <mtr>\n",
    "      <mtd>\n",
    "        <mi>f</mi>\n",
    "        <mo stretchy=\"false\">(</mo>\n",
    "        <mi>a</mi>\n",
    "        <mo stretchy=\"false\">)</mo>\n",
    "        <mo>+</mo>\n",
    "        <mfrac>\n",
    "          <mrow>\n",
    "            <msup>\n",
    "              <mi>f</mi>\n",
    "              <mrow data-mjx-texclass=\"ORD\">\n",
    "                <mi data-mjx-alternate=\"1\">&#x2032;</mi>\n",
    "              </mrow>\n",
    "            </msup>\n",
    "            <mo stretchy=\"false\">(</mo>\n",
    "            <mi>a</mi>\n",
    "            <mo stretchy=\"false\">)</mo>\n",
    "          </mrow>\n",
    "          <mrow>\n",
    "            <mn>1</mn>\n",
    "            <mo>!</mo>\n",
    "          </mrow>\n",
    "        </mfrac>\n",
    "        <mo stretchy=\"false\">(</mo>\n",
    "        <mi>x</mi>\n",
    "        <mo>&#x2212;</mo>\n",
    "        <mi>a</mi>\n",
    "        <mo stretchy=\"false\">)</mo>\n",
    "        <mo>+</mo>\n",
    "        <mfrac>\n",
    "          <mrow>\n",
    "            <msup>\n",
    "              <mi>f</mi>\n",
    "              <mrow data-mjx-texclass=\"ORD\">\n",
    "                <mi data-mjx-alternate=\"1\">&#x2032;</mi>\n",
    "                <mi data-mjx-alternate=\"1\">&#x2032;</mi>\n",
    "              </mrow>\n",
    "            </msup>\n",
    "            <mo stretchy=\"false\">(</mo>\n",
    "            <mi>a</mi>\n",
    "            <mo stretchy=\"false\">)</mo>\n",
    "          </mrow>\n",
    "          <mrow>\n",
    "            <mn>2</mn>\n",
    "            <mo>!</mo>\n",
    "          </mrow>\n",
    "        </mfrac>\n",
    "        <mo stretchy=\"false\">(</mo>\n",
    "        <mi>x</mi>\n",
    "        <mo>&#x2212;</mo>\n",
    "        <mi>a</mi>\n",
    "        <msup>\n",
    "          <mo stretchy=\"false\">)</mo>\n",
    "          <mrow data-mjx-texclass=\"ORD\">\n",
    "            <mn>2</mn>\n",
    "          </mrow>\n",
    "        </msup>\n",
    "        <mo>+</mo>\n",
    "        <mfrac>\n",
    "          <mrow>\n",
    "            <msup>\n",
    "              <mi>f</mi>\n",
    "              <mrow data-mjx-texclass=\"ORD\">\n",
    "                <mi data-mjx-alternate=\"1\">&#x2032;</mi>\n",
    "                <mi data-mjx-alternate=\"1\">&#x2032;</mi>\n",
    "                <mi data-mjx-alternate=\"1\">&#x2032;</mi>\n",
    "              </mrow>\n",
    "            </msup>\n",
    "            <mo stretchy=\"false\">(</mo>\n",
    "            <mi>a</mi>\n",
    "            <mo stretchy=\"false\">)</mo>\n",
    "          </mrow>\n",
    "          <mrow>\n",
    "            <mn>3</mn>\n",
    "            <mo>!</mo>\n",
    "          </mrow>\n",
    "        </mfrac>\n",
    "        <mo stretchy=\"false\">(</mo>\n",
    "        <mi>x</mi>\n",
    "        <mo>&#x2212;</mo>\n",
    "        <mi>a</mi>\n",
    "        <msup>\n",
    "          <mo stretchy=\"false\">)</mo>\n",
    "          <mrow data-mjx-texclass=\"ORD\">\n",
    "            <mn>3</mn>\n",
    "          </mrow>\n",
    "        </msup>\n",
    "        <mo>+</mo>\n",
    "        <mo>&#x22EF;</mo>\n",
    "      </mtd>\n",
    "    </mtr>\n",
    "  </mtable>\n",
    "</math>"
   ]
  },
  {
   "cell_type": "markdown",
   "metadata": {},
   "source": [
    "#### Sigma Gösterimi\n",
    "<math xmlns=\"http://www.w3.org/1998/Math/MathML\">\n",
    "  <mtable columnalign=\"left\" columnspacing=\"1em\" rowspacing=\"4pt\">\n",
    "    <mtr>\n",
    "      <mtd>\n",
    "        <munderover>\n",
    "          <mo data-mjx-texclass=\"OP\">&#x2211;</mo>\n",
    "          <mrow data-mjx-texclass=\"ORD\">\n",
    "            <mi>n</mi>\n",
    "            <mo>=</mo>\n",
    "            <mn>0</mn>\n",
    "          </mrow>\n",
    "          <mrow data-mjx-texclass=\"ORD\">\n",
    "            <mi mathvariant=\"normal\">&#x221E;</mi>\n",
    "          </mrow>\n",
    "        </munderover>\n",
    "        <mfrac>\n",
    "          <mrow>\n",
    "            <msup>\n",
    "              <mi>f</mi>\n",
    "              <mrow data-mjx-texclass=\"ORD\">\n",
    "                <mi>n</mi>\n",
    "              </mrow>\n",
    "            </msup>\n",
    "            <mo stretchy=\"false\">(</mo>\n",
    "            <mi>a</mi>\n",
    "            <mo stretchy=\"false\">)</mo>\n",
    "          </mrow>\n",
    "          <mrow>\n",
    "            <mi>n</mi>\n",
    "            <mo>!</mo>\n",
    "          </mrow>\n",
    "        </mfrac>\n",
    "        <mo stretchy=\"false\">(</mo>\n",
    "        <mi>x</mi>\n",
    "        <mo>&#x2212;</mo>\n",
    "        <mi>a</mi>\n",
    "        <msup>\n",
    "          <mo stretchy=\"false\">)</mo>\n",
    "          <mrow data-mjx-texclass=\"ORD\">\n",
    "            <mi>n</mi>\n",
    "          </mrow>\n",
    "        </msup>\n",
    "      </mtd>\n",
    "    </mtr>\n",
    "  </mtable>\n",
    "</math>"
   ]
  },
  {
   "cell_type": "markdown",
   "metadata": {},
   "source": [
    "### Newton Raphson Yöntemi"
   ]
  },
  {
   "cell_type": "markdown",
   "metadata": {},
   "source": [
    "<math xmlns=\"http://www.w3.org/1998/Math/MathML\">\n",
    "  <mtable columnalign=\"left\" columnspacing=\"1em\" rowspacing=\"4pt\">\n",
    "    <mtr>\n",
    "      <mtd>\n",
    "        <msub>\n",
    "          <mi>x</mi>\n",
    "          <mrow data-mjx-texclass=\"ORD\">\n",
    "            <mi>n</mi>\n",
    "            <mo>+</mo>\n",
    "            <mn>1</mn>\n",
    "          </mrow>\n",
    "        </msub>\n",
    "        <mo>=</mo>\n",
    "        <msub>\n",
    "          <mi>x</mi>\n",
    "          <mi>n</mi>\n",
    "        </msub>\n",
    "        <mo>&#x2212;</mo>\n",
    "        <mfrac>\n",
    "          <mrow>\n",
    "            <mi>f</mi>\n",
    "            <mo stretchy=\"false\">(</mo>\n",
    "            <msub>\n",
    "              <mi>x</mi>\n",
    "              <mi>n</mi>\n",
    "            </msub>\n",
    "            <mo stretchy=\"false\">)</mo>\n",
    "          </mrow>\n",
    "          <mrow>\n",
    "            <msup>\n",
    "              <mi>f</mi>\n",
    "              <mo data-mjx-alternate=\"1\">&#x2032;</mo>\n",
    "            </msup>\n",
    "            <mo stretchy=\"false\">(</mo>\n",
    "            <msub>\n",
    "              <mi>x</mi>\n",
    "              <mi>n</mi>\n",
    "            </msub>\n",
    "            <mo stretchy=\"false\">)</mo>\n",
    "          </mrow>\n",
    "        </mfrac>\n",
    "      </mtd>\n",
    "    </mtr>\n",
    "  </mtable>\n",
    "</math>"
   ]
  },
  {
   "cell_type": "code",
   "execution_count": 8,
   "metadata": {},
   "outputs": [
    {
     "name": "stdout",
     "output_type": "stream",
     "text": [
      "0, 1.00, 1.67, 2.00, 0.44, 0.67\n",
      "1, 1.67, 1.93, 0.44, 0.07, 0.27\n",
      "2, 1.93, 2.00, 0.07, 0.00, 0.06\n",
      "3, 2.00, 2.00, 0.00, 0.00, 0.00\n",
      "fonksiyonun kökü: 2.00\n",
      "fonksiyonda değeri: 0.00\n"
     ]
    }
   ],
   "source": [
    "def f(x):\n",
    "    return x**2 - 5 * x + 6\n",
    "\n",
    "def df(x):\n",
    "    return 2 * x - 5\n",
    "\n",
    "def newton_raphson_method(f, x0, tol=1e-4, nMax=100):\n",
    "    for i in range(nMax):\n",
    "        x1 = x0 - f(x0) / df(x0)\n",
    "        if abs(x1 - x0) < tol:\n",
    "            break\n",
    "        print(f\"{i}, {x0:.2f}, {x1:.2f}, {f(x0):.2f}, {f(x1):.2f}, {abs(x1-x0):.2f}\")\n",
    "        x0 = x1\n",
    "    return x1\n",
    "\n",
    "x0 = 1\n",
    "xx = newton_raphson_method(f, x0)\n",
    "print(f\"fonksiyonun kökü: {xx:.2f}\")\n",
    "print(f\"fonksiyonda değeri: {f(xx):.2f}\")"
   ]
  },
  {
   "cell_type": "code",
   "execution_count": 9,
   "metadata": {},
   "outputs": [
    {
     "name": "stdout",
     "output_type": "stream",
     "text": [
      "0, 1.00, 0.21, 2.37, 1.18, 0.79\n",
      "1, 0.21, -1.32, 1.18, -6.20, 1.53\n",
      "2, -1.32, -0.87, -6.20, -1.73, 0.45\n",
      "3, -0.87, -0.61, -1.73, -0.36, 0.26\n",
      "4, -0.61, -0.52, -0.36, -0.03, 0.09\n",
      "5, -0.52, -0.52, -0.03, -0.00, 0.01\n",
      "fonksiyonun kökü: -0.52\n",
      "fonksiyonda değeri: -0.00\n"
     ]
    }
   ],
   "source": [
    "def f(x):\n",
    "    return x * np.exp(-x) + x**3 + 1\n",
    "\n",
    "def df(x):\n",
    "    return np.exp(-x) - x * np.exp(-x) + 3 * x**2\n",
    "\n",
    "x0 = 1\n",
    "xx = newton_raphson_method(f, x0)\n",
    "print(f\"fonksiyonun kökü: {xx:.2f}\")\n",
    "print(f\"fonksiyonda değeri: {f(xx):.2f}\")"
   ]
  },
  {
   "cell_type": "markdown",
   "metadata": {},
   "source": [
    "#### Matplotlib ile Grafik Çizimi"
   ]
  },
  {
   "cell_type": "code",
   "execution_count": 10,
   "metadata": {},
   "outputs": [
    {
     "name": "stdout",
     "output_type": "stream",
     "text": [
      "fonksiyonun kökü: -0.52\n",
      "fonksiyonda değeri: -0.00\n"
     ]
    },
    {
     "data": {
      "image/png": "[encoded data removed]",
      "text/plain": [
       "<Figure size 640x480 with 1 Axes>"
      ]
     },
     "metadata": {},
     "output_type": "display_data"
    }
   ],
   "source": [
    "def f(x):\n",
    "    return x * np.exp(-x) + x**3 + 1\n",
    "\n",
    "def df(x):\n",
    "    return np.exp(-x) - x * np.exp(-x) + 3 * x**2\n",
    "\n",
    "def newton_raphson_method_with_graph(f, x0, tol=1e-4, nMax=100):\n",
    "    xp = np.linspace(-2, 2, 100)\n",
    "    yp = f(xp)\n",
    "    for i in range(nMax):\n",
    "        x1 = x0 - f(x0) / df(x0)\n",
    "        if abs(x1 - x0) < tol:\n",
    "            break\n",
    "        plt.clf()\n",
    "        plt.plot(xp, yp)\n",
    "        plt.plot(x0, f(x0), \"o\", ms=15)\n",
    "        plt.plot(x1, f(x1), \"x\", ms=15)\n",
    "        plt.grid()\n",
    "        x0 = x1\n",
    "    return x1\n",
    "\n",
    "\n",
    "x0 = 1\n",
    "xx = newton_raphson_method_with_graph(f, x0)\n",
    "print(f\"fonksiyonun kökü: {xx:.2f}\")\n",
    "print(f\"fonksiyonda değeri: {f(xx):.2f}\")"
   ]
  },
  {
   "cell_type": "markdown",
   "metadata": {},
   "source": [
    "#### Secant Yöntemi\n",
    "Türev kullanmadan Newton-Raphson yöntemini kullanmak için kullanılır."
   ]
  },
  {
   "cell_type": "markdown",
   "metadata": {},
   "source": [
    "<math xmlns=\"http://www.w3.org/1998/Math/MathML\">\n",
    "  <mtable columnalign=\"left\" columnspacing=\"1em\" rowspacing=\"4pt\">\n",
    "    <mtr>\n",
    "      <mtd>\n",
    "        <msub>\n",
    "          <mi>x</mi>\n",
    "          <mrow data-mjx-texclass=\"ORD\">\n",
    "            <mi>n</mi>\n",
    "            <mo>+</mo>\n",
    "            <mn>1</mn>\n",
    "          </mrow>\n",
    "        </msub>\n",
    "        <mo>=</mo>\n",
    "        <msub>\n",
    "          <mi>x</mi>\n",
    "          <mrow data-mjx-texclass=\"ORD\">\n",
    "            <mi>n</mi>\n",
    "          </mrow>\n",
    "        </msub>\n",
    "        <mo>&#x2212;</mo>\n",
    "        <mi>f</mi>\n",
    "        <mo stretchy=\"false\">(</mo>\n",
    "        <msub>\n",
    "          <mi>x</mi>\n",
    "          <mrow data-mjx-texclass=\"ORD\">\n",
    "            <mi>n</mi>\n",
    "          </mrow>\n",
    "        </msub>\n",
    "        <mo stretchy=\"false\">)</mo>\n",
    "        <mo>.</mo>\n",
    "        <mfrac>\n",
    "          <mrow>\n",
    "            <msub>\n",
    "              <mi>x</mi>\n",
    "              <mrow data-mjx-texclass=\"ORD\">\n",
    "                <mi>n</mi>\n",
    "              </mrow>\n",
    "            </msub>\n",
    "            <mo>&#x2212;</mo>\n",
    "            <msub>\n",
    "              <mi>x</mi>\n",
    "              <mrow data-mjx-texclass=\"ORD\">\n",
    "                <mi>n</mi>\n",
    "                <mo>&#x2212;</mo>\n",
    "                <mn>1</mn>\n",
    "              </mrow>\n",
    "            </msub>\n",
    "          </mrow>\n",
    "          <mrow>\n",
    "            <mi>f</mi>\n",
    "            <mo stretchy=\"false\">(</mo>\n",
    "            <msub>\n",
    "              <mi>x</mi>\n",
    "              <mrow data-mjx-texclass=\"ORD\">\n",
    "                <mi>n</mi>\n",
    "              </mrow>\n",
    "            </msub>\n",
    "            <mo stretchy=\"false\">)</mo>\n",
    "            <mo>&#x2212;</mo>\n",
    "            <mi>f</mi>\n",
    "            <mo stretchy=\"false\">(</mo>\n",
    "            <msub>\n",
    "              <mi>x</mi>\n",
    "              <mrow data-mjx-texclass=\"ORD\">\n",
    "                <mi>n</mi>\n",
    "                <mo>&#x2212;</mo>\n",
    "                <mn>1</mn>\n",
    "              </mrow>\n",
    "            </msub>\n",
    "            <mo stretchy=\"false\">)</mo>\n",
    "          </mrow>\n",
    "        </mfrac>\n",
    "      </mtd>\n",
    "    </mtr>\n",
    "  </mtable>\n",
    "</math>"
   ]
  },
  {
   "cell_type": "code",
   "execution_count": 11,
   "metadata": {},
   "outputs": [
    {
     "name": "stdout",
     "output_type": "stream",
     "text": [
      "0, -1.00, 1.00, 1.40, 12.00, 0.96, 2.00, 0.96, 2.00\n",
      "1, 1.00, 1.40, 1.77, 2.00, 0.28, 0.96, 0.28, 0.40\n",
      "2, 1.40, 1.77, 1.92, 0.96, 0.08, 0.28, 0.08, 0.37\n",
      "3, 1.77, 1.92, 1.99, 0.28, 0.01, 0.08, 0.01, 0.16\n",
      "4, 1.92, 1.99, 2.00, 0.08, 0.00, 0.01, 0.00, 0.06\n",
      "5, 1.99, 2.00, 2.00, 0.01, 0.00, 0.00, 0.00, 0.01\n",
      "fonksiyonun kökü: 2.00\n",
      "fonksiyonda değeri: 0.00\n"
     ]
    }
   ],
   "source": [
    "def f(x):\n",
    "    return x**2 - 5 * x + 6\n",
    "\n",
    "def secant_method(f, x0, x1, tol=1e-4, nMax=100):\n",
    "    xp = np.linspace(-2, 2, 100)\n",
    "    yp = f(xp)\n",
    "    for i in range(nMax):\n",
    "        x2 = (x0 * f(x1) - x1 * f(x0)) / (f(x1) - f(x0))\n",
    "        if abs(x2 - x1) < tol:\n",
    "            break\n",
    "        print(f\"{i}, {x0:.2f}, {x1:.2f}, {x2:.2f}, {f(x0):.2f}, {f(x2):.2f}, {f(x1):.2f}, {f(x2):.2f}, {abs(x1-x0):.2f}\")\n",
    "        x0 = x1\n",
    "        x1 = x2\n",
    "    return x2\n",
    "\n",
    "x0 = -1\n",
    "b = 1\n",
    "xx = secant_method(f, x0, b)\n",
    "print(f\"fonksiyonun kökü: {xx:.2f}\")\n",
    "print(f\"fonksiyonda değeri: {f(xx):.2f}\")"
   ]
  },
  {
   "cell_type": "markdown",
   "metadata": {},
   "source": [
    "<div id=\"2.2\">\n",
    "<h2>2. Hafta 2. Ders</h2>\n",
    "</div>"
   ]
  },
  {
   "cell_type": "markdown",
   "metadata": {},
   "source": [
    "### Regula Falsi Yöntemi"
   ]
  },
  {
   "cell_type": "markdown",
   "metadata": {},
   "source": [
    "<math xmlns=\"http://www.w3.org/1998/Math/MathML\">\n",
    "  <mtable columnalign=\"left\" columnspacing=\"1em\" rowspacing=\"4pt\">\n",
    "    <mtr>\n",
    "      <mtd>\n",
    "        <mi>y</mi>\n",
    "        <mo>&#x2212;</mo>\n",
    "        <mi>f</mi>\n",
    "        <mo stretchy=\"false\">(</mo>\n",
    "        <mi>a</mi>\n",
    "        <mo stretchy=\"false\">)</mo>\n",
    "        <mo>=</mo>\n",
    "        <mfrac>\n",
    "          <mrow>\n",
    "            <mi>f</mi>\n",
    "            <mo stretchy=\"false\">(</mo>\n",
    "            <mi>b</mi>\n",
    "            <mo stretchy=\"false\">)</mo>\n",
    "            <mo>&#x2212;</mo>\n",
    "            <mi>f</mi>\n",
    "            <mo stretchy=\"false\">(</mo>\n",
    "            <mi>a</mi>\n",
    "            <mo stretchy=\"false\">)</mo>\n",
    "          </mrow>\n",
    "          <mrow>\n",
    "            <mo stretchy=\"false\">(</mo>\n",
    "            <mi>b</mi>\n",
    "            <mo>&#x2212;</mo>\n",
    "            <mi>a</mi>\n",
    "            <mo stretchy=\"false\">)</mo>\n",
    "          </mrow>\n",
    "        </mfrac>\n",
    "        <mo>.</mo>\n",
    "        <mo stretchy=\"false\">(</mo>\n",
    "        <mi>x</mi>\n",
    "        <mo>&#x2212;</mo>\n",
    "        <mi>a</mi>\n",
    "        <mo stretchy=\"false\">)</mo>\n",
    "      </mtd>\n",
    "    </mtr>\n",
    "  </mtable>\n",
    "</math>"
   ]
  },
  {
   "cell_type": "code",
   "execution_count": 12,
   "metadata": {},
   "outputs": [
    {
     "name": "stdout",
     "output_type": "stream",
     "text": [
      "fonksiyonun kökü: 2.00\n",
      "fonksiyonda değeri: 0.00\n"
     ]
    }
   ],
   "source": [
    "def f(x):\n",
    "    return x**2 - 5 * x + 6\n",
    "\n",
    "def regula_falsi(f, a, b, tol=1e-4, nMax=100):\n",
    "    c0 = a\n",
    "    for i in range(nMax):\n",
    "        c = (a * f(b) - b * f(a)) / (f(b) - f(a))\n",
    "        if abs(c - c0) < tol:\n",
    "            break\n",
    "        # print(f\"{i}, {a:.2f}, {b:.2f}, {c:.2f}, {f(a):.2f}, {f(b):.2f}, {abs(c0-c):.2f}\")\n",
    "        if f(a) * f(c) < 0:\n",
    "            b = c\n",
    "        else:\n",
    "            a = c\n",
    "    return c\n",
    "\n",
    "x0 = -1\n",
    "x1 = 1\n",
    "xx = regula_falsi(f, x0, x1)\n",
    "print(f\"fonksiyonun kökü: {xx:.2f}\")\n",
    "print(f\"fonksiyonda değeri: {f(xx):.2f}\")"
   ]
  },
  {
   "cell_type": "markdown",
   "metadata": {},
   "source": [
    "### Fixed Point Iteration "
   ]
  },
  {
   "cell_type": "code",
   "execution_count": 13,
   "metadata": {},
   "outputs": [
    {
     "name": "stdout",
     "output_type": "stream",
     "text": [
      "fonksiyonun kökü: 2.00\n",
      "fonksiyonda değeri: 0.00\n"
     ]
    }
   ],
   "source": [
    "def f(x):\n",
    "    return x**2 - 5 * x + 6\n",
    "\n",
    "def g(x):\n",
    "    return (6 + x**2) / 5\n",
    "\n",
    "def fixed_point(f, x0, tol=1e-4, nMax=100):\n",
    "    for i in range(nMax):\n",
    "        x1 = g(x0)\n",
    "        if abs(x1 - x0) < tol:\n",
    "            break\n",
    "        # print(f\"{i}, {x0:.2f}, {x1:.2f}, {f(x0):.2f}, {f(x1):.2f}, {abs(x1-x0):.2f}\")\n",
    "        x0 = x1\n",
    "\n",
    "    return x1\n",
    "\n",
    "x0 = 0\n",
    "xx = fixed_point(f, x0)\n",
    "print(f\"fonksiyonun kökü: {xx:.2f}\")\n",
    "print(f\"fonksiyonda değeri: {f(xx):.2f}\")"
   ]
  },
  {
   "cell_type": "markdown",
   "metadata": {},
   "source": [
    "<div id=\"3.1\">\n",
    "<h2>3. Hafta 1. Ders</h2>\n",
    "</div>"
   ]
  },
  {
   "cell_type": "markdown",
   "metadata": {},
   "source": [
    "### Polinomlar"
   ]
  },
  {
   "cell_type": "code",
   "execution_count": 14,
   "metadata": {},
   "outputs": [
    {
     "name": "stdout",
     "output_type": "stream",
     "text": [
      "P(1) = 12\n",
      "P(4) = 18\n"
     ]
    }
   ],
   "source": [
    "def polyval(p, x):\n",
    "    d = len(p)\n",
    "    t = 0\n",
    "    for i in range(d):\n",
    "        t += p[i] * x**i\n",
    "    return t\n",
    "\n",
    "p = [30, -19, 0, 1]\n",
    "\n",
    "print(f\"P(1) = {polyval(p, 1)}\")\n",
    "print(f\"P(4) = {polyval(p, 4)}\")"
   ]
  },
  {
   "cell_type": "markdown",
   "metadata": {},
   "source": [
    "### Polinom Toplama"
   ]
  },
  {
   "cell_type": "code",
   "execution_count": 15,
   "metadata": {},
   "outputs": [
    {
     "name": "stdout",
     "output_type": "stream",
     "text": [
      "[2, 3, 1]\n"
     ]
    }
   ],
   "source": [
    "def polysum(p, q):\n",
    "    n = len(p)\n",
    "    m = len(q)\n",
    "    s = []\n",
    "    for i in range(max(n, m)):\n",
    "        t = 0\n",
    "        if i < n:\n",
    "            t += p[i]\n",
    "        if i < m:\n",
    "            t += q[i]\n",
    "        s.append(t)\n",
    "    return s\n",
    "\n",
    "\n",
    "p = [4, -3, 1]\n",
    "q = [-2, 6]\n",
    "y = polysum(p, q)\n",
    "print(y)"
   ]
  },
  {
   "cell_type": "markdown",
   "metadata": {},
   "source": [
    "### Polinom Çarpma"
   ]
  },
  {
   "cell_type": "code",
   "execution_count": 16,
   "metadata": {},
   "outputs": [
    {
     "name": "stdout",
     "output_type": "stream",
     "text": [
      "[-8, 30, -20, 6]\n"
     ]
    }
   ],
   "source": [
    "def polyprod(p, q):\n",
    "    n = len(p)\n",
    "    m = len(q)\n",
    "    c = [0] * (m + n - 1)\n",
    "    for i in range(n):\n",
    "        for j in range(m):\n",
    "            k = i + j\n",
    "            c[k] += p[i] * q[j]\n",
    "    return c\n",
    "\n",
    "\n",
    "p = [4, -3, 1]\n",
    "q = [-2, 6]\n",
    "y = polyprod(p, q)\n",
    "print(y)"
   ]
  },
  {
   "cell_type": "markdown",
   "metadata": {},
   "source": [
    "### Polinom Katsayıları Bulma"
   ]
  },
  {
   "cell_type": "code",
   "execution_count": 17,
   "metadata": {},
   "outputs": [
    {
     "name": "stdout",
     "output_type": "stream",
     "text": [
      "Polinomun katsayıları: [6, -5, 1]\n"
     ]
    }
   ],
   "source": [
    "def poly(r):\n",
    "    p = [1]\n",
    "    n = len(r)\n",
    "    for i in range(n):\n",
    "        p = polyprod(p, [-r[i], 1])\n",
    "    return p\n",
    "\n",
    "\n",
    "r = [2, 3]\n",
    "y = poly(r)\n",
    "\n",
    "print(\"Polinomun katsayıları:\", y)"
   ]
  },
  {
   "cell_type": "markdown",
   "metadata": {},
   "source": [
    "<div id=\"3.2\">\n",
    "<h2>3. Hafta 2. Ders</h2>\n",
    "</div>"
   ]
  },
  {
   "cell_type": "markdown",
   "metadata": {},
   "source": [
    "### Polinom Bölme"
   ]
  },
  {
   "cell_type": "code",
   "execution_count": 18,
   "metadata": {},
   "outputs": [
    {
     "name": "stdout",
     "output_type": "stream",
     "text": [
      "Polinomun katsayıları: [6, -5, 1]\n",
      "Polinomun x=2 köküne bölümü: [-3, 1]\n"
     ]
    }
   ],
   "source": [
    "def polydiv(p, r):\n",
    "    n = len(p)\n",
    "    q = [0] * n\n",
    "    for i in range(n - 1, -1, -1):\n",
    "        q[i - 1] = p[i] + r * q[i]\n",
    "    return q[:-1]\n",
    "\n",
    "\n",
    "r = [2, 3]\n",
    "p = poly(r)\n",
    "print(\"Polinomun katsayıları:\", p)\n",
    "q = polydiv(p, 2)\n",
    "print(\"Polinomun x=2 köküne bölümü:\", q)"
   ]
  },
  {
   "cell_type": "code",
   "execution_count": 19,
   "metadata": {},
   "outputs": [
    {
     "name": "stdout",
     "output_type": "stream",
     "text": [
      "Polinomun katsayıları: [30, -19, 0, 1]\n",
      "Poilnomun x=-5 köküne bölümü: [6, -5, 1]\n"
     ]
    }
   ],
   "source": [
    "r = [2, 3, -5]\n",
    "p = poly(r)\n",
    "print(\"Polinomun katsayıları:\", p)\n",
    "q = polydiv(p, -5)\n",
    "print(\"Poilnomun x=-5 köküne bölümü:\", q)"
   ]
  },
  {
   "cell_type": "markdown",
   "metadata": {},
   "source": [
    "### Polinom Türev"
   ]
  },
  {
   "cell_type": "code",
   "execution_count": 20,
   "metadata": {},
   "outputs": [
    {
     "name": "stdout",
     "output_type": "stream",
     "text": [
      "Polinomun katsayıları: [30, -19, 0, 1]\n",
      "Polinomun türevi: [0, -19, 0, 3]\n"
     ]
    }
   ],
   "source": [
    "def polyder(p):\n",
    "    n = len(p)\n",
    "    q = [0] * n\n",
    "    for i in range(n):\n",
    "        q[i] = i * p[i]\n",
    "    return q\n",
    "\n",
    "\n",
    "r = [2, 3, -5]\n",
    "p = poly(r)\n",
    "print(\"Polinomun katsayıları:\", p)\n",
    "t = polyder(p)\n",
    "print(\"Polinomun türevi:\", t)"
   ]
  },
  {
   "cell_type": "markdown",
   "metadata": {},
   "source": [
    "### Polinomun Newton-Raphson ile köklerini Bulma"
   ]
  },
  {
   "cell_type": "code",
   "execution_count": 21,
   "metadata": {},
   "outputs": [
    {
     "name": "stdout",
     "output_type": "stream",
     "text": [
      "Polinomun 1. kökü: 2.00\n",
      "Polinomun 2. kökü: 3.00\n",
      "Polinomun 3. kökü: -5.00\n"
     ]
    }
   ],
   "source": [
    "def newton_raphson_method(f, x0, tol=1e-4, nMax=100):\n",
    "    for i in range(nMax):\n",
    "        q = polyder(p)\n",
    "        x1 = x0 - polyval(p, x0) / polyval(q, x0)\n",
    "        if abs(x1 - x0) < tol:\n",
    "            break\n",
    "        x0 = x1\n",
    "    return x1\n",
    "\n",
    "\n",
    "r = [2, 3, -5]\n",
    "p = poly(r)\n",
    "n = len(p)\n",
    "for i in range(n - 1):\n",
    "    r0 = newton_raphson_method(p, 1)\n",
    "    print(f\"Polinomun {i+1}. kökü: {r0:.2f}\")\n",
    "    p = polydiv(p, r0)"
   ]
  },
  {
   "cell_type": "markdown",
   "metadata": {},
   "source": [
    "### Polinom İntegral"
   ]
  },
  {
   "cell_type": "code",
   "execution_count": 22,
   "metadata": {},
   "outputs": [
    {
     "name": "stdout",
     "output_type": "stream",
     "text": [
      "Polinomun katsayıları: [30, -19, 0, 1]\n",
      "Polinomun integrali: [0, 30.0, -9.5, 0.0, 0.25]\n"
     ]
    }
   ],
   "source": [
    "def polyint(p):\n",
    "    n = len(p)\n",
    "    q = [0] * (n + 1)\n",
    "    for i in range(n):\n",
    "        q[i + 1] = p[i] / (i + 1)\n",
    "    return q\n",
    "\n",
    "\n",
    "r = [2, 3, -5]\n",
    "p = poly(r)\n",
    "print(\"Polinomun katsayıları:\", p)\n",
    "t = polyint(p)\n",
    "print(\"Polinomun integrali:\", t)"
   ]
  },
  {
   "cell_type": "markdown",
   "metadata": {},
   "source": [
    "<div id=\"4.1\">\n",
    "<h2>4. Hafta 1. Ders</h2>\n",
    "</div>"
   ]
  },
  {
   "cell_type": "markdown",
   "metadata": {},
   "source": [
    "### Matrisler"
   ]
  },
  {
   "cell_type": "code",
   "execution_count": 23,
   "metadata": {},
   "outputs": [
    {
     "name": "stdout",
     "output_type": "stream",
     "text": [
      "A matrisi: \n",
      " [4 8 3 6]\n",
      "B matrisi: \n",
      " [[4 8 3 6]]\n",
      "C matrisi: \n",
      " [[4]\n",
      " [8]\n",
      " [3]\n",
      " [6]]\n"
     ]
    }
   ],
   "source": [
    "a = np.array([4, 8, 3, 6])\n",
    "b = a.reshape(1, -1)\n",
    "c = a.reshape(-1, 1)\n",
    "print(\"A matrisi: \\n\", a)\n",
    "print(\"B matrisi: \\n\", b)\n",
    "print(\"C matrisi: \\n\", c)"
   ]
  },
  {
   "cell_type": "code",
   "execution_count": 24,
   "metadata": {},
   "outputs": [
    {
     "name": "stdout",
     "output_type": "stream",
     "text": [
      "D matrisi: \n",
      " [[ 3  5  8]\n",
      " [ 7  3  9]\n",
      " [91 65  3]]\n"
     ]
    }
   ],
   "source": [
    "d = np.array([[3, 5, 8], \n",
    "              [7, 3, 9], \n",
    "              [91, 65, 3]])\n",
    "print(\"D matrisi: \\n\", d)"
   ]
  },
  {
   "cell_type": "code",
   "execution_count": 25,
   "metadata": {},
   "outputs": [
    {
     "name": "stdout",
     "output_type": "stream",
     "text": [
      "E matrisi: \n",
      " [[15 21 36 22]\n",
      " [92 55 93 41]\n",
      " [ 4 61 70 68]\n",
      " [64 59 98 38]]\n"
     ]
    }
   ],
   "source": [
    "# rastgele değerlerle matris oluşturma\n",
    "e = np.random.randint(0, 100, size=(4, 4))\n",
    "print(\"E matrisi: \\n\", e)"
   ]
  },
  {
   "cell_type": "code",
   "execution_count": 26,
   "metadata": {},
   "outputs": [
    {
     "name": "stdout",
     "output_type": "stream",
     "text": [
      "E2 matrisi: \n",
      " [[3.66349982 3.36892102 2.9424193 ]\n",
      " [2.63788873 3.34941997 2.11511367]\n",
      " [4.19414669 3.75332356 4.27929908]\n",
      " [2.08391605 2.96054802 3.31517938]\n",
      " [3.47888096 4.67850196 2.77226228]]\n"
     ]
    }
   ],
   "source": [
    "e2 = np.random.uniform(2, 5, size=(5, 3))\n",
    "print(\"E2 matrisi: \\n\", e2)"
   ]
  },
  {
   "cell_type": "markdown",
   "metadata": {},
   "source": [
    "### Matris Toplama"
   ]
  },
  {
   "cell_type": "code",
   "execution_count": 27,
   "metadata": {},
   "outputs": [
    {
     "name": "stdout",
     "output_type": "stream",
     "text": [
      "A matrisi: \n",
      " [[4.34510173 4.97168358 2.79240911]\n",
      " [4.91358579 3.62463506 4.21004064]\n",
      " [3.30496007 2.48806097 4.07973118]\n",
      " [4.93747956 3.17910391 4.92014405]\n",
      " [3.72817692 2.28472084 3.57352971]]\n",
      "A matrisi toplamı: 57.35336312263884\n"
     ]
    }
   ],
   "source": [
    "a = np.random.uniform(2, 5, size=(5, 3))\n",
    "c = np.sum(a)\n",
    "print(\"A matrisi: \\n\", a)\n",
    "print(\"A matrisi toplamı:\", c)"
   ]
  },
  {
   "cell_type": "code",
   "execution_count": 28,
   "metadata": {},
   "outputs": [
    {
     "name": "stdout",
     "output_type": "stream",
     "text": [
      "A matrisi: \n",
      " [[2.10275872 4.60278575 2.30895448]\n",
      " [4.34058844 2.62315561 4.15451202]\n",
      " [4.81367969 2.56566373 2.40128768]\n",
      " [4.45372137 4.02958749 4.63138265]\n",
      " [3.6764306  2.48284897 2.49460609]]\n",
      "A matrisi sütunları toplamı: [19.38717881 16.30404155 15.99074293]\n"
     ]
    }
   ],
   "source": [
    "a = np.random.uniform(2, 5, size=(5, 3))\n",
    "c = np.sum(a, axis=0)  # sütunları toplama\n",
    "print(\"A matrisi: \\n\", a)\n",
    "print(\"A matrisi sütunları toplamı:\", c)"
   ]
  },
  {
   "cell_type": "code",
   "execution_count": 29,
   "metadata": {},
   "outputs": [
    {
     "name": "stdout",
     "output_type": "stream",
     "text": [
      "A matrisi: \n",
      " [[4.52138653 2.7290008  3.55152446]\n",
      " [4.82190971 2.4110485  2.69618683]\n",
      " [2.20603242 4.44086168 2.47275168]\n",
      " [2.87860802 3.0866718  4.05908267]\n",
      " [2.8700451  3.62580425 2.23911904]]\n",
      "A matrisi satırları toplamı: [10.8019118   9.92914504  9.11964578 10.02436249  8.73496839]\n"
     ]
    }
   ],
   "source": [
    "a = np.random.uniform(2, 5, size=(5, 3))\n",
    "c = np.sum(a, axis=1)  # satırları toplama\n",
    "print(\"A matrisi: \\n\", a)\n",
    "print(\"A matrisi satırları toplamı:\", c)"
   ]
  },
  {
   "cell_type": "code",
   "execution_count": 30,
   "metadata": {},
   "outputs": [
    {
     "name": "stdout",
     "output_type": "stream",
     "text": [
      "A matrisi: \n",
      " [[3.67802828 4.21823887 3.39086409]\n",
      " [2.02250514 2.2110946  2.21776143]\n",
      " [3.89607273 3.42611023 4.43355093]\n",
      " [2.28201478 3.74784034 3.74637943]\n",
      " [4.48296702 3.48904689 2.61499468]]\n",
      "B matrisi: \n",
      " [[3.94358425 4.40516703 3.13168703]\n",
      " [4.25971541 3.24636946 4.02815659]\n",
      " [3.2461195  3.59045389 3.76736055]\n",
      " [2.15419305 2.06886978 3.66391817]\n",
      " [4.03558003 2.94760559 4.66097697]]\n",
      "A + B toplamı: \n",
      " [[7.62161253 8.62340591 6.52255113]\n",
      " [6.28222055 5.45746406 6.24591802]\n",
      " [7.14219222 7.01656412 8.20091148]\n",
      " [4.43620783 5.81671011 7.41029759]\n",
      " [8.51854705 6.43665248 7.27597165]]\n"
     ]
    }
   ],
   "source": [
    "# iki matrisin toplamını bulan fonksiyon\n",
    "def add(a, b):\n",
    "    m, n = a.shape\n",
    "    c = np.zeros(a.shape)\n",
    "    for i in range(m):\n",
    "        for j in range(n):\n",
    "            c[i, j] = a[i, j] + b[i, j]\n",
    "    return c\n",
    "\n",
    "\n",
    "a = np.random.uniform(2, 5, size=(5, 3))\n",
    "b = np.random.uniform(2, 5, size=(5, 3))\n",
    "c = add(a, b)\n",
    "print(\"A matrisi: \\n\", a)\n",
    "print(\"B matrisi: \\n\", b)\n",
    "print(\"A + B toplamı: \\n\", c)"
   ]
  },
  {
   "cell_type": "markdown",
   "metadata": {},
   "source": [
    "<div id=\"4.2\">\n",
    "<h2>4. Hafta 2. Ders</h2>\n",
    "</div>"
   ]
  },
  {
   "cell_type": "markdown",
   "metadata": {},
   "source": [
    "### Matris Çarpma"
   ]
  },
  {
   "cell_type": "code",
   "execution_count": 31,
   "metadata": {},
   "outputs": [
    {
     "name": "stdout",
     "output_type": "stream",
     "text": [
      "A matrisi: \n",
      " [[2.0309054  4.4984795  3.96231419]\n",
      " [3.27116433 2.93810837 3.15643539]\n",
      " [3.37694487 3.98274494 2.1968269 ]\n",
      " [3.48314158 3.37227034 2.6616476 ]\n",
      " [2.71348187 2.60931967 2.63047084]]\n",
      "B matrisi: \n",
      " [[2.82228304 2.02001693 2.87702683 4.53554614]\n",
      " [3.83287839 3.82568977 4.34564843 3.95614544]\n",
      " [2.95051406 2.85028016 2.66519056 4.41610265]]\n",
      "Numpy ile matris çarpımı: \n",
      " [[34.66477849 32.60595585 35.95210211 44.50589051]\n",
      " [29.8066707  26.84482365 30.59171539 40.39924346]\n",
      " [31.27783994 28.31980455 32.87813264 40.77402061]\n",
      " [30.60914222 27.52370649 31.76959118 40.89325032]\n",
      " [25.42066005 22.96130575 26.15665214 34.24639959]]\n",
      "Bizim fonksiyonumuz ile matris çarpımı: \n",
      " [[34.66477849 32.60595585 35.95210211 44.50589051]\n",
      " [29.8066707  26.84482365 30.59171539 40.39924346]\n",
      " [31.27783994 28.31980455 32.87813264 40.77402061]\n",
      " [30.60914222 27.52370649 31.76959118 40.89325032]\n",
      " [25.42066005 22.96130575 26.15665214 34.24639959]]\n"
     ]
    }
   ],
   "source": [
    "# iki matrisin çarpımını bulan fonksiyon\n",
    "def dot(a, b):\n",
    "    m, n = a.shape\n",
    "    p, q = b.shape\n",
    "    if n != p:\n",
    "        print(\"çarpım mümkün değil\")\n",
    "        return\n",
    "    c = np.zeros((m, q))\n",
    "    for i in range(m):\n",
    "        for j in range(q):\n",
    "            for k in range(n):\n",
    "                c[i, j] += a[i, k] * b[k, j]\n",
    "    return c\n",
    "\n",
    "\n",
    "a = np.random.uniform(2, 5, size=(5, 3))\n",
    "b = np.random.uniform(2, 5, size=(3, 4))\n",
    "print(\"A matrisi: \\n\", a)\n",
    "print(\"B matrisi: \\n\", b)\n",
    "print(\"Numpy ile matris çarpımı: \\n\", np.dot(a, b))\n",
    "print(\"Bizim fonksiyonumuz ile matris çarpımı: \\n\", dot(a, b))"
   ]
  },
  {
   "cell_type": "markdown",
   "metadata": {},
   "source": [
    "### Matrisin Transpozu"
   ]
  },
  {
   "cell_type": "code",
   "execution_count": 32,
   "metadata": {},
   "outputs": [
    {
     "name": "stdout",
     "output_type": "stream",
     "text": [
      "A matrisi: \n",
      " [[3.46974511 3.30171213 4.58451811]\n",
      " [3.18782799 3.2014446  3.385923  ]\n",
      " [4.97795275 3.40038559 2.79849169]\n",
      " [4.35736193 4.00335151 2.2529919 ]\n",
      " [4.85084197 4.87625418 2.33282906]]\n",
      "Numpy ile matrisin transpozu: \n",
      " [[3.46974511 3.18782799 4.97795275 4.35736193 4.85084197]\n",
      " [3.30171213 3.2014446  3.40038559 4.00335151 4.87625418]\n",
      " [4.58451811 3.385923   2.79849169 2.2529919  2.33282906]]\n",
      "Bizim fonksiyonumuz ile matrisin transpozu: \n",
      " [[3.46974511 3.18782799 4.97795275 4.35736193 4.85084197]\n",
      " [3.30171213 3.2014446  3.40038559 4.00335151 4.87625418]\n",
      " [4.58451811 3.385923   2.79849169 2.2529919  2.33282906]]\n"
     ]
    }
   ],
   "source": [
    "# matrisin transpose bulan fonksiyon\n",
    "def transpose(a):\n",
    "    m, n = a.shape\n",
    "    c = np.zeros((a.shape[1], a.shape[0]))\n",
    "    for i in range(n):\n",
    "        for j in range(m):\n",
    "            c[i, j] = a[j, i]\n",
    "    return c\n",
    "\n",
    "\n",
    "a = np.random.uniform(2, 5, size=(5, 3))\n",
    "\n",
    "print(\"A matrisi: \\n\", a)\n",
    "print(\"Numpy ile matrisin transpozu: \\n\", np.transpose(a))\n",
    "print(\"Bizim fonksiyonumuz ile matrisin transpozu: \\n\", transpose(a))"
   ]
  },
  {
   "cell_type": "markdown",
   "metadata": {},
   "source": [
    "### Matrisin İzi"
   ]
  },
  {
   "cell_type": "code",
   "execution_count": 33,
   "metadata": {},
   "outputs": [
    {
     "name": "stdout",
     "output_type": "stream",
     "text": [
      "A matrisi: \n",
      " [[4.66631809 2.38916446]\n",
      " [2.73686151 4.3874056 ]\n",
      " [2.6659559  4.08796106]]\n",
      "Numpy ile matrisin izi: \n",
      " 9.053723690844846\n",
      "Bizim fonksiyonumuz ile matrisin izi: \n",
      " 9.053723690844846\n"
     ]
    }
   ],
   "source": [
    "# matrisin izini bulan fonksiyon\n",
    "def trace(a):\n",
    "    m, n = a.shape\n",
    "    c = 0\n",
    "    for i in range(m):\n",
    "        if i < m and i < n:\n",
    "            c += a[i, i]\n",
    "    return c\n",
    "\n",
    "\n",
    "a = np.random.uniform(2, 5, size=(3, 2))\n",
    "print(\"A matrisi: \\n\", a)\n",
    "print(\"Numpy ile matrisin izi: \\n\", np.trace(a))\n",
    "print(\"Bizim fonksiyonumuz ile matrisin izi: \\n\", trace(a))"
   ]
  },
  {
   "cell_type": "markdown",
   "metadata": {},
   "source": [
    "### Matrisin Determinantı"
   ]
  },
  {
   "cell_type": "code",
   "execution_count": 34,
   "metadata": {},
   "outputs": [
    {
     "name": "stdout",
     "output_type": "stream",
     "text": [
      "A matrisi: \n",
      " [[4.92645386 3.93136501 2.68026763 2.6643007 ]\n",
      " [3.22004136 3.61477455 2.65289149 2.86073279]\n",
      " [3.76528977 3.37653062 2.89466085 4.34368293]\n",
      " [3.58338345 2.69416632 4.79458157 3.51761653]]\n",
      "A matrisinin seçili alt matrisi: \n",
      " [[4.92645386 3.93136501 2.6643007 ]\n",
      " [3.76528977 3.37653062 4.34368293]\n",
      " [3.58338345 2.69416632 3.51761653]]\n"
     ]
    }
   ],
   "source": [
    "# alt matrisi bulan fonksiyon\n",
    "def sub_matrix(a, I, J):\n",
    "    n, _ = a.shape\n",
    "    c = np.zeros((n - 1, n - 1))\n",
    "    ii = 0\n",
    "    for i in range(n):\n",
    "        jj = 0\n",
    "        for j in range(n):\n",
    "            if i != I and j != J:\n",
    "                c[ii, jj] = a[i, j]\n",
    "                jj += 1\n",
    "                if jj == n - 1:\n",
    "                    ii += 1\n",
    "    return c\n",
    "\n",
    "\n",
    "a = np.random.uniform(2, 5, size=(4, 4))\n",
    "\n",
    "print(\"A matrisi: \\n\", a)\n",
    "print(\"A matrisinin seçili alt matrisi: \\n\", sub_matrix(a, 1, 2))"
   ]
  },
  {
   "cell_type": "markdown",
   "metadata": {},
   "source": [
    "#### Laplace Yöntemi ile Determinant Hesaplama"
   ]
  },
  {
   "cell_type": "code",
   "execution_count": 35,
   "metadata": {},
   "outputs": [
    {
     "name": "stdout",
     "output_type": "stream",
     "text": [
      "A matrisi: \n",
      " [[2.69867823 4.32866447 4.72094393 2.56409609]\n",
      " [2.16737642 2.67071897 2.97530297 2.71659569]\n",
      " [3.36843174 3.89410608 4.47142652 3.34171419]\n",
      " [3.24012384 3.31438683 3.28654339 4.19907085]]\n",
      "A matrisinin laplace yöntemi ile determinantı: \n",
      " 1.2208279468378453\n",
      "A matrisinin np.linalg.det() ile determinantı: \n",
      " 1.220827946837846\n"
     ]
    }
   ],
   "source": [
    "# laplace determinant yöntemi ile determinant bulan fonksiyon\n",
    "def det_laplace(a):\n",
    "    n, _ = a.shape\n",
    "    if n == 1:\n",
    "        return a[0, 0]\n",
    "    d = 0\n",
    "    for j in range(n):\n",
    "        c = sub_matrix(a, 0, j)\n",
    "        d += (-1) ** j * a[0, j] * det_laplace(c)\n",
    "    return d\n",
    "\n",
    "\n",
    "a = np.random.uniform(2, 5, size=(4, 4))\n",
    "print(\"A matrisi: \\n\", a)\n",
    "print(\"A matrisinin laplace yöntemi ile determinantı: \\n\", det_laplace(a))\n",
    "print(\"A matrisinin np.linalg.det() ile determinantı: \\n\", np.linalg.det(a))"
   ]
  },
  {
   "cell_type": "markdown",
   "metadata": {},
   "source": [
    "<div id=\"5.1\">\n",
    "<h2>5. Hafta 1. Ders</h2>\n",
    "</div>"
   ]
  },
  {
   "cell_type": "markdown",
   "metadata": {},
   "source": [
    "#### Gauss Eleme Yöntemi ile Determinant Hesaplama"
   ]
  },
  {
   "cell_type": "code",
   "execution_count": 36,
   "metadata": {},
   "outputs": [
    {
     "name": "stdout",
     "output_type": "stream",
     "text": [
      "A matrisi: \n",
      " [[2.84930303 4.95030188 2.50709732]\n",
      " [3.09690816 2.92094664 4.79318454]\n",
      " [3.84938842 2.130299   2.59452794]]\n",
      "A matrisinin gauss eleme yöntemi ile determinantı: \n",
      " 32.411537623353894\n",
      "A matrisinin np.linalg.det() ile determinantı: \n",
      " 32.4115376233539\n"
     ]
    }
   ],
   "source": [
    "def det_gauss_elimination(a):\n",
    "    \n",
    "    n = a.shape[0]\n",
    "    for i in range(n - 1):\n",
    "        for k in range(i + 1, n):\n",
    "            p = a[k, i] / a[i, i]\n",
    "            for j in range(n):\n",
    "                a[k, j] = a[k, j] - p * a[i, j]\n",
    "    d = 1\n",
    "    for i in range(n):\n",
    "        d *= a[i, i]\n",
    "    return d\n",
    "\n",
    "\n",
    "a = np.random.uniform(2, 5, size=(3, 3))\n",
    "print(\"A matrisi: \\n\", a)\n",
    "print(\"A matrisinin gauss eleme yöntemi ile determinantı: \\n\", det_gauss_elimination(a))\n",
    "print(\"A matrisinin np.linalg.det() ile determinantı: \\n\", np.linalg.det(a))"
   ]
  },
  {
   "cell_type": "markdown",
   "metadata": {},
   "source": [
    "<div id=\"5.2\">\n",
    "<h2>5. Hafta 2. Ders</h2>\n",
    "</div>"
   ]
  },
  {
   "cell_type": "markdown",
   "metadata": {},
   "source": [
    "### LU Ayrışım Yöntemi ile Determinant Hesaplama"
   ]
  },
  {
   "cell_type": "code",
   "execution_count": 37,
   "metadata": {},
   "outputs": [
    {
     "name": "stdout",
     "output_type": "stream",
     "text": [
      "A matrisi: \n",
      " [[2.25098358 4.60802581 2.27193083 2.66866622]\n",
      " [3.31214943 4.43756553 3.19240529 2.62369349]\n",
      " [3.41129324 2.18813297 3.23691963 4.89531842]\n",
      " [4.44308777 3.11337557 2.06822208 4.46878585]]\n",
      "A matrisinin LU ayrıştırma yöntemi ile determinantı: \n",
      " -39.05580807987886\n",
      "A matrisinin np.linalg.det() ile determinantı: \n",
      " -39.05580807987886\n"
     ]
    }
   ],
   "source": [
    "def det_lu(a):\n",
    "    n = a.shape[0]\n",
    "    L = np.eye(n)\n",
    "    U = np.zeros((n, n))\n",
    "\n",
    "    for i in range(n):\n",
    "        for j in range(n):\n",
    "            if j >= i:\n",
    "                U[i, j] = a[i, j]\n",
    "                for k in range(i):\n",
    "                    U[i, j] -= L[i, k] * U[k, j]\n",
    "                U[i, j] /= L[i, i]\n",
    "            else:\n",
    "                L[i, j] = a[i, j]\n",
    "                for k in range(j):\n",
    "                    L[i, j] -= L[i, k] * U[k, j]\n",
    "                L[i, j] /= U[j, j]\n",
    "    d = 1\n",
    "    for i in range(n):\n",
    "        d *= U[i, i]\n",
    "    return d\n",
    "\n",
    "\n",
    "a = np.random.uniform(2, 5, size=(4, 4))\n",
    "print(\"A matrisi: \\n\", a)\n",
    "print(\"A matrisinin LU ayrıştırma yöntemi ile determinantı: \\n\", det_lu(a))\n",
    "print(\"A matrisinin np.linalg.det() ile determinantı: \\n\", np.linalg.det(a))"
   ]
  },
  {
   "cell_type": "markdown",
   "metadata": {},
   "source": [
    "### Cramer Kuralı ile Denklem Sistemi Çözüm"
   ]
  },
  {
   "cell_type": "code",
   "execution_count": 38,
   "metadata": {},
   "outputs": [
    {
     "name": "stdout",
     "output_type": "stream",
     "text": [
      "A matrisi: \n",
      " [[0.15141736 0.94278688 0.85701743 0.42785861]\n",
      " [0.34694737 0.15057603 0.05457765 0.6466909 ]\n",
      " [0.64267268 0.88597949 0.86222301 0.01765692]\n",
      " [0.09975027 0.27312263 0.93215375 0.30200221]]\n",
      "x vektörü: \n",
      " [[1]\n",
      " [1]\n",
      " [8]\n",
      " [6]]\n",
      "B vektörü: \n",
      " [[10.51749529]\n",
      " [ 4.81428998]\n",
      " [ 8.53237774]\n",
      " [ 9.64211618]]\n",
      "---------------------------------------\n",
      "A matrisi: \n",
      " [[0.15141736 0.94278688 0.85701743 0.42785861]\n",
      " [0.34694737 0.15057603 0.05457765 0.6466909 ]\n",
      " [0.64267268 0.88597949 0.86222301 0.01765692]\n",
      " [0.09975027 0.27312263 0.93215375 0.30200221]]\n",
      "Cramer kuralı ile çözüm: \n",
      " 1.9996232564922938\n"
     ]
    }
   ],
   "source": [
    "def solve_with_cramers_rule(a, b):\n",
    "    n = a.shape[0]\n",
    "    xx = np.zeros(n)\n",
    "    detA = det_gauss_elimination(a.copy())\n",
    "    for j in range(n):\n",
    "        aa = a.copy()\n",
    "        for i in range(n):\n",
    "            aa[i, j] = b[i]\n",
    "        xx[j] = det_gauss_elimination(aa.copy()) / detA\n",
    "    return xx\n",
    "\n",
    "\n",
    "n = 4\n",
    "a = np.random.uniform(0, 1, size=(4, 4))\n",
    "x = np.random.randint(1, 9, size=(n, 1))\n",
    "b = np.dot(a, x)\n",
    "print(\"A matrisi: \\n\", a)\n",
    "print(\"x vektörü: \\n\", x)\n",
    "print(\"B vektörü: \\n\", b)\n",
    "print(\"---------------------------------------\")\n",
    "print(\"A matrisi: \\n\", a)\n",
    "print(\"Cramer kuralı ile çözüm: \\n\", xx)"
   ]
  },
  {
   "cell_type": "markdown",
   "metadata": {},
   "source": [
    "<div id=\"6.1\">\n",
    "<h2>6. Hafta 1. Ders</h2>\n",
    "</div>"
   ]
  },
  {
   "cell_type": "markdown",
   "metadata": {},
   "source": [
    "### Gauss Eleme Yöntemi ile Denklem Sistemi Çözüm"
   ]
  },
  {
   "cell_type": "code",
   "execution_count": 39,
   "metadata": {},
   "outputs": [
    {
     "name": "stdout",
     "output_type": "stream",
     "text": [
      "A matrisi: \n",
      " [[0.74499685 0.05339316 0.97923658 0.02482342]\n",
      " [0.15012381 0.39339743 0.8148929  0.21167383]\n",
      " [0.51683555 0.90175327 0.50547171 0.27697366]\n",
      " [0.45662459 0.60946688 0.00348574 0.05041922]]\n",
      "x vektörü: \n",
      " [[4]\n",
      " [6]\n",
      " [6]\n",
      " [7]]\n",
      "B vektörü: \n",
      " [[ 9.34952975]\n",
      " [ 9.33195401]\n",
      " [12.44950773]\n",
      " [ 5.8571487 ]]\n",
      "---------------------------------------\n",
      "A matrisi: \n",
      " [[ 7.44996846e-01  5.33931577e-02  9.79236578e-01  2.48234215e-02]\n",
      " [ 0.00000000e+00  3.82638212e-01  6.17567605e-01  2.06671678e-01]\n",
      " [ 0.00000000e+00  0.00000000e+00 -1.56948760e+00 -2.07298289e-01]\n",
      " [ 5.55111512e-17  0.00000000e+00  0.00000000e+00 -7.45470192e-02]]\n",
      "Gauss Eleme Yöntemi ile çözüm: \n",
      " [4. 6. 6. 7.]\n"
     ]
    }
   ],
   "source": [
    "def solve_with_gauss_elimination(a, b):\n",
    "    n = a.shape[0]\n",
    "    xx = np.zeros(n)\n",
    "    for i in range(n - 1):\n",
    "        for k in range(i + 1, n):\n",
    "            p = a[k, i] / a[i, i]\n",
    "            for j in range(n):\n",
    "                a[k, j] = a[k, j] - p * a[i, j]\n",
    "            b[k] = b[k] - p * b[i]\n",
    "\n",
    "    for i in range(n - 1, -1, -1):\n",
    "        xx[i] = b[i]\n",
    "        for j in range(i + 1, n):\n",
    "            xx[i] -= a[i, j] * xx[j]\n",
    "        xx[i] /= a[i, i]\n",
    "\n",
    "    return xx\n",
    "\n",
    "\n",
    "n = 4\n",
    "a = np.random.uniform(0, 1, size=(4, 4))\n",
    "x = np.random.randint(1, 9, size=(n, 1))\n",
    "b = np.dot(a, x)\n",
    "print(\"A matrisi: \\n\", a)\n",
    "print(\"x vektörü: \\n\", x)\n",
    "print(\"B vektörü: \\n\", b)\n",
    "print(\"---------------------------------------\")\n",
    "xx = solve_with_gauss_elimination(a, b)\n",
    "print(\"A matrisi: \\n\", a)\n",
    "print(\"Gauss Eleme Yöntemi ile çözüm: \\n\", xx)"
   ]
  },
  {
   "cell_type": "markdown",
   "metadata": {},
   "source": [
    "<div id=\"6.2\">\n",
    "<h2>6. Hafta 2. Ders</h2>\n",
    "</div>"
   ]
  },
  {
   "cell_type": "markdown",
   "metadata": {},
   "source": [
    "### Gauss Jordan Yöntemi ile Denklem Sistemi Çözüm"
   ]
  },
  {
   "cell_type": "code",
   "execution_count": 40,
   "metadata": {},
   "outputs": [
    {
     "name": "stdout",
     "output_type": "stream",
     "text": [
      "A matrisi: \n",
      " [[0.9862685  0.28396445 0.8306376  0.91331714]\n",
      " [0.26422148 0.41387511 0.06497758 0.03465589]\n",
      " [0.10358114 0.70249404 0.05399605 0.1000933 ]\n",
      " [0.73810493 0.12414117 0.37854134 0.19394856]]\n",
      "x vektörü: \n",
      " [[1]\n",
      " [8]\n",
      " [2]\n",
      " [2]]\n",
      "B vektörü: \n",
      " [[6.74589359]\n",
      " [3.77448927]\n",
      " [6.03171219]\n",
      " [2.87621411]]\n",
      "---------------------------------------\n",
      "A matrisi: \n",
      " [[ 1.00000000e+00  0.00000000e+00  0.00000000e+00  0.00000000e+00]\n",
      " [ 0.00000000e+00  1.00000000e+00  0.00000000e+00  0.00000000e+00]\n",
      " [ 0.00000000e+00  0.00000000e+00  1.00000000e+00  0.00000000e+00]\n",
      " [ 0.00000000e+00  0.00000000e+00 -5.55111512e-17  1.00000000e+00]]\n",
      "Gauss Jordan Yöntemi ile çözüm: \n",
      " [1. 8. 2. 2.]\n"
     ]
    }
   ],
   "source": [
    "def solve_with_gauss_jordan(a, b):\n",
    "    n = a.shape[0]\n",
    "    xx = np.zeros(n)\n",
    "    for i in range(n - 1):\n",
    "        for k in range(i + 1, n):\n",
    "            p = a[k, i] / a[i, i]\n",
    "            for j in range(n):\n",
    "                a[k, j] = a[k, j] - p * a[i, j]\n",
    "            b[k] = b[k] - p * b[i]\n",
    "\n",
    "    for i in range(n - 1, 0, -1):\n",
    "        for k in range(i - 1, -1, -1):\n",
    "            p = a[k, i] / a[i, i]\n",
    "            for j in range(n):\n",
    "                a[k, j] = a[k, j] - p * a[i, j]\n",
    "            b[k] = b[k] - p * b[i]\n",
    "\n",
    "    for i in range(n):\n",
    "        b[i] /= a[i, i]\n",
    "        a[i, i] /= a[i, i]\n",
    "        xx[i] = b[i]\n",
    "\n",
    "    return xx\n",
    "\n",
    "\n",
    "n = 4\n",
    "a = np.random.uniform(0, 1, size=(4, 4))\n",
    "x = np.random.randint(1, 9, size=(n, 1))\n",
    "b = np.dot(a, x)\n",
    "print(\"A matrisi: \\n\", a)\n",
    "print(\"x vektörü: \\n\", x)\n",
    "print(\"B vektörü: \\n\", b)\n",
    "print(\"---------------------------------------\")\n",
    "xx = solve_with_gauss_jordan(a, b)\n",
    "print(\"A matrisi: \\n\", a)\n",
    "print(\"Gauss Jordan Yöntemi ile çözüm: \\n\", xx)"
   ]
  },
  {
   "cell_type": "markdown",
   "metadata": {},
   "source": [
    "### LU Ayrıştırma Yöntemi ile Denklem Sistemi Çözüm"
   ]
  },
  {
   "cell_type": "code",
   "execution_count": 41,
   "metadata": {},
   "outputs": [
    {
     "name": "stdout",
     "output_type": "stream",
     "text": [
      "A matrisi: \n",
      " [[0.74085108 0.90771486 0.54186118 0.42479527]\n",
      " [0.00462842 0.64785775 0.14054809 0.57527911]\n",
      " [0.2311613  0.2106546  0.23369306 0.33397872]\n",
      " [0.24883287 0.60449162 0.92585093 0.84273534]]\n",
      "x vektörü: \n",
      " [[1]\n",
      " [5]\n",
      " [3]\n",
      " [4]]\n",
      "B vektörü: \n",
      " [[8.60418999]\n",
      " [5.96667791]\n",
      " [3.32142836]\n",
      " [9.41978515]]\n",
      "---------------------------------------\n",
      "LU Ayrıştırma Yöntemi ile çözüm: \n",
      " [1. 5. 3. 4.]\n"
     ]
    }
   ],
   "source": [
    "def solve_with_lu(a, b):\n",
    "    n = a.shape[0]\n",
    "    x = np.zeros(n)\n",
    "    y = np.zeros(n)\n",
    "    L = np.eye(n)\n",
    "    U = np.zeros((n, n))\n",
    "\n",
    "    for i in range(n):\n",
    "        for j in range(n):\n",
    "            if j >= i:\n",
    "                U[i, j] = a[i, j]\n",
    "                for k in range(i):\n",
    "                    U[i, j] -= L[i, k] * U[k, j]\n",
    "                U[i, j] /= L[i, i]\n",
    "            else:\n",
    "                L[i, j] = a[i, j]\n",
    "                for k in range(j):\n",
    "                    L[i, j] -= L[i, k] * U[k, j]\n",
    "                L[i, j] /= U[j, j]\n",
    "\n",
    "    for i in range(n):\n",
    "        y[i] = b[i]\n",
    "        for j in range(i):\n",
    "            y[i] -= L[i, j] * y[j]\n",
    "        y[i] /= L[i, i]\n",
    "\n",
    "    for i in range(n - 1, -1, -1):\n",
    "        x[i] = y[i]\n",
    "        for j in range(i + 1, n):\n",
    "            x[i] -= U[i, j] * x[j]\n",
    "        x[i] /= U[i, i]\n",
    "\n",
    "    return x\n",
    "\n",
    "\n",
    "n = 4\n",
    "a = np.random.uniform(0, 1, size=(4, 4))\n",
    "x = np.random.randint(1, 9, size=(n, 1))\n",
    "b = np.dot(a, x)\n",
    "print(\"A matrisi: \\n\", a)\n",
    "print(\"x vektörü: \\n\", x)\n",
    "print(\"B vektörü: \\n\", b)\n",
    "print(\"---------------------------------------\")\n",
    "xx = solve_with_lu(a, b)\n",
    "print(\"LU Ayrıştırma Yöntemi ile çözüm: \\n\", xx)"
   ]
  },
  {
   "cell_type": "markdown",
   "metadata": {},
   "source": [
    "<div id=\"7.1\">\n",
    "<h2>7. Hafta 1. Ders</h2>\n",
    "</div>"
   ]
  },
  {
   "cell_type": "markdown",
   "metadata": {},
   "source": [
    "### Gauss-Sidel Yöntemi ile Denklem Sistemi Çözüm"
   ]
  },
  {
   "cell_type": "code",
   "execution_count": 42,
   "metadata": {},
   "outputs": [
    {
     "name": "stdout",
     "output_type": "stream",
     "text": [
      "A matrisi: \n",
      " [[0.84590755 0.5073366  0.51559051 0.62719482]\n",
      " [0.57890186 0.68900972 0.72468392 0.64040559]\n",
      " [0.26513612 0.38856539 0.85358687 0.80857171]\n",
      " [0.31659802 0.68575374 0.22601764 0.15354675]]\n",
      "x vektörü: \n",
      " [[1]\n",
      " [3]\n",
      " [5]\n",
      " [8]]\n",
      "B vektörü: \n",
      " [[ 9.96342845]\n",
      " [11.39259533]\n",
      " [12.16734027]\n",
      " [ 4.73232141]]\n",
      "---------------------------------------\n",
      "Gauss-Sidel Yöntemi ile çözüm: \n",
      " [ 9.36283200e+162  1.34341649e+163  1.62317887e+163 -9.15229790e+163]\n"
     ]
    }
   ],
   "source": [
    "# sağlıklı bir yöntem değil\n",
    "def solve_with_gauss_sidel(a, b, tol=1e-4, nMax=200):\n",
    "    n = a.shape[0]\n",
    "    x = np.random.uniform(0, 10, size=n)\n",
    "    xx = np.zeros(n)\n",
    "\n",
    "    for t in range(nMax):\n",
    "        for i in range(n):\n",
    "            x[i] = b[i]\n",
    "            for j in range(n):\n",
    "                if i != j:\n",
    "                    xx[i] -= a[i, j] * x[j]\n",
    "            xx[i] /= a[i, i]\n",
    "        if np.sum(np.abs(xx - x)) < tol:\n",
    "            break\n",
    "        else:\n",
    "            x = xx.copy()\n",
    "\n",
    "    return x\n",
    "\n",
    "\n",
    "n = 4\n",
    "a = np.random.uniform(0, 1, size=(4, 4))\n",
    "x = np.random.randint(1, 9, size=(n, 1))\n",
    "b = np.dot(a, x)\n",
    "print(\"A matrisi: \\n\", a)\n",
    "print(\"x vektörü: \\n\", x)\n",
    "print(\"B vektörü: \\n\", b)\n",
    "print(\"---------------------------------------\")\n",
    "xx = solve_with_gauss_sidel(a, b)\n",
    "print(\"Gauss-Sidel Yöntemi ile çözüm: \\n\", xx)"
   ]
  },
  {
   "cell_type": "markdown",
   "metadata": {},
   "source": [
    "<div id=\"7.2\">\n",
    "<h2>7. Hafta 2. Ders</h2>\n",
    "</div>"
   ]
  },
  {
   "cell_type": "markdown",
   "metadata": {},
   "source": [
    "### Basit Doğrusal Regresyon"
   ]
  },
  {
   "cell_type": "markdown",
   "metadata": {},
   "source": [
    "<math xmlns=\"http://www.w3.org/1998/Math/MathML\">\n",
    "  <mrow>\n",
    "    <msup>\n",
    "      <mi>y</mi>\n",
    "    </msup>\n",
    "    <mo>=</mo>\n",
    "    <msub>\n",
    "      <mi>b</mi>\n",
    "      <mn>0</mn>\n",
    "    </msub>\n",
    "    <mo>+</mo>\n",
    "    <msub>\n",
    "      <mi>b</mi>\n",
    "      <mn>1</mn>\n",
    "    </msub>\n",
    "    <mi>x</mi>\n",
    "  </mrow>\n",
    "</math>\n"
   ]
  },
  {
   "cell_type": "code",
   "execution_count": 43,
   "metadata": {},
   "outputs": [
    {
     "name": "stdout",
     "output_type": "stream",
     "text": [
      "b0: -1.9999999999999976\n",
      "b1: 2.9999999999999996\n"
     ]
    },
    {
     "data": {
      "image/png": "[encoded data removed]",
      "text/plain": [
       "<Figure size 640x480 with 1 Axes>"
      ]
     },
     "metadata": {},
     "output_type": "display_data"
    }
   ],
   "source": [
    "def simple_linear_regression(x, y):\n",
    "    n = x.size\n",
    "    b = np.zeros(2)\n",
    "    X = np.zeros((2, 2))\n",
    "    yX = np.zeros(2)\n",
    "\n",
    "    for i in range(2):\n",
    "        for j in range(2):\n",
    "            for k in range(n):\n",
    "                X[i, j] += x[k] ** (i + j)\n",
    "        for k in range(n):\n",
    "            yX[i] += y[k] * x[k] ** i\n",
    "\n",
    "    b = solve_with_gauss_jordan(X, yX)\n",
    "    return b\n",
    "\n",
    "\n",
    "x = np.sort(np.random.uniform(0, 10, size=12))\n",
    "y = 3 * x - 2\n",
    "\n",
    "plt.figure()\n",
    "plt.plot(x, y, \"o\")\n",
    "\n",
    "b = simple_linear_regression(x, y)\n",
    "for i in range(b.size):\n",
    "    print(f\"b{i}:\", b[i])\n",
    "\n",
    "yy = b[0] + b[1] * x\n",
    "plt.plot(x, yy)\n",
    "plt.show()"
   ]
  },
  {
   "cell_type": "code",
   "execution_count": 44,
   "metadata": {},
   "outputs": [
    {
     "name": "stdout",
     "output_type": "stream",
     "text": [
      "b0: -2.9003144520773865\n",
      "b1: 3.1012649297166934\n"
     ]
    },
    {
     "data": {
      "image/png": "[encoded data removed]",
      "text/plain": [
       "<Figure size 640x480 with 1 Axes>"
      ]
     },
     "metadata": {},
     "output_type": "display_data"
    }
   ],
   "source": [
    "x = np.sort(np.random.uniform(0, 10, size=12))\n",
    "y = 3 * x - 2 + np.random.normal(0, 1, size=x.size)\n",
    "\n",
    "plt.figure()\n",
    "plt.plot(x, y, \"o\")\n",
    "\n",
    "b = simple_linear_regression(x, y)\n",
    "for i in range(b.size):\n",
    "    print(f\"b{i}:\", b[i])\n",
    "\n",
    "yy = b[0] + b[1] * x\n",
    "plt.plot(x, yy)\n",
    "plt.show()"
   ]
  },
  {
   "cell_type": "markdown",
   "metadata": {},
   "source": [
    "<div id=\"8.1\">\n",
    "<h2>8. Hafta 1. Ders</h2>\n",
    "</div>"
   ]
  },
  {
   "cell_type": "markdown",
   "metadata": {},
   "source": [
    "### Polinomsal Doğrusal Regresyon"
   ]
  },
  {
   "cell_type": "code",
   "execution_count": 45,
   "metadata": {},
   "outputs": [
    {
     "name": "stdout",
     "output_type": "stream",
     "text": [
      "b0: -3.1100119594925513\n",
      "b1: 3.357697212719577\n",
      "b2: 1.964953277638834\n"
     ]
    },
    {
     "data": {
      "image/png": "[encoded data removed]",
      "text/plain": [
       "<Figure size 640x480 with 1 Axes>"
      ]
     },
     "metadata": {},
     "output_type": "display_data"
    }
   ],
   "source": [
    "def polynomial_linear_regression(x, y, m=1):\n",
    "    n = x.size\n",
    "    b = np.zeros(m + 1)\n",
    "    X = np.zeros((m + 1, m + 1))\n",
    "    yX = np.zeros(m + 1)\n",
    "\n",
    "    for i in range(m + 1):\n",
    "        for j in range(m + 1):\n",
    "            for k in range(n):\n",
    "                X[i, j] += x[k] ** (i + j)\n",
    "        for k in range(n):\n",
    "            yX[i] += y[k] * x[k] ** i\n",
    "\n",
    "    b = solve_with_gauss_jordan(X, yX)\n",
    "    return b\n",
    "\n",
    "\n",
    "x = np.sort(np.random.uniform(0, 10, size=12))\n",
    "y = 2 * x**2 + 3 * x - 2 + np.random.normal(0, 1, size=x.size)\n",
    "\n",
    "plt.figure()\n",
    "plt.plot(x, y, \"o\")\n",
    "\n",
    "b = polynomial_linear_regression(x, y, 2)\n",
    "for i in range(b.size):\n",
    "    print(f\"b{i}:\", b[i])\n",
    "\n",
    "yy = b[0] + b[1] * x + b[2] * x**2\n",
    "plt.plot(x, yy)\n",
    "plt.show()"
   ]
  },
  {
   "cell_type": "markdown",
   "metadata": {},
   "source": [
    "<div id=\"8.2\">\n",
    "<h2>8. Hafta 2. Ders</h2>\n",
    "</div>"
   ]
  },
  {
   "cell_type": "markdown",
   "metadata": {},
   "source": [
    "### Genelleştirilmiş Doğrusal Regresyon"
   ]
  },
  {
   "cell_type": "code",
   "execution_count": 46,
   "metadata": {},
   "outputs": [
    {
     "name": "stdout",
     "output_type": "stream",
     "text": [
      "b0: -1.7493131712711172\n",
      "b1: 2.8802533836546362\n"
     ]
    },
    {
     "data": {
      "image/png": "[encoded data removed]",
      "text/plain": [
       "<Figure size 640x480 with 1 Axes>"
      ]
     },
     "metadata": {},
     "output_type": "display_data"
    }
   ],
   "source": [
    "def generalized_linear_regression(X, y):\n",
    "    # b = np.dot(np.linalg.inv(np.dot(X.T, X)), np.dot(X.T, y))\n",
    "    XTX = dot(transpose(X.copy()), X.copy())\n",
    "    XTy = dot(transpose(X.copy()), y)\n",
    "    b = solve_with_gauss_jordan(XTX, XTy)\n",
    "\n",
    "    return b\n",
    "\n",
    "\n",
    "n = 12\n",
    "x = np.sort(np.random.uniform(0, 10, size=n))\n",
    "y = 3 * x - 2 + np.random.normal(0, 1, size=x.size)\n",
    "\n",
    "plt.figure()\n",
    "plt.plot(x, y, \"o\")\n",
    "\n",
    "X = np.hstack((np.ones((n, 1)), x.reshape(n, 1)))\n",
    "\n",
    "b = generalized_linear_regression(X, y.reshape(n, 1))\n",
    "for i in range(b.size):\n",
    "    print(f\"b{i}:\", b[i])\n",
    "\n",
    "yy = b[0] + b[1] * x\n",
    "plt.plot(x, yy)\n",
    "plt.show()"
   ]
  },
  {
   "cell_type": "code",
   "execution_count": 47,
   "metadata": {},
   "outputs": [
    {
     "name": "stdout",
     "output_type": "stream",
     "text": [
      "b0: -3.3358295187253617\n",
      "b1: 3.1490765253760933\n",
      "b2: 22.06722154933212\n"
     ]
    },
    {
     "data": {
      "image/png": "[encoded data removed]",
      "text/plain": [
       "<Figure size 640x480 with 1 Axes>"
      ]
     },
     "metadata": {},
     "output_type": "display_data"
    }
   ],
   "source": [
    "n = 12\n",
    "x = np.sort(np.random.uniform(0, 10, size=n))\n",
    "y = 5 * np.exp(-x) + 3 * x - 2 + np.random.normal(0, 1, size=x.size)\n",
    "\n",
    "plt.figure()\n",
    "plt.plot(x, y, \"o\")\n",
    "\n",
    "X = np.hstack((np.ones((n, 1)), x.reshape(n, 1), np.exp(-x).reshape(n, 1)))\n",
    "\n",
    "b = generalized_linear_regression(X, y.reshape(n, 1))\n",
    "for i in range(b.size):\n",
    "    print(f\"b{i}:\", b[i])\n",
    "\n",
    "yy = b[0] + b[1] * x + b[2] * np.exp(-x)\n",
    "plt.plot(x, yy)\n",
    "plt.show()"
   ]
  },
  {
   "cell_type": "markdown",
   "metadata": {},
   "source": [
    "<div id=\"9.1\">\n",
    "<h2>9. Hafta 1. Ders</h2>\n",
    "</div>"
   ]
  },
  {
   "cell_type": "markdown",
   "metadata": {},
   "source": [
    "### Cramer Kuralı ile Matrisin Tersi"
   ]
  },
  {
   "cell_type": "code",
   "execution_count": 48,
   "metadata": {},
   "outputs": [
    {
     "name": "stdout",
     "output_type": "stream",
     "text": [
      "A Matrisi: \n",
      " [[0.55444664 0.88463154 2.49097   ]\n",
      " [0.2014951  0.68996312 0.98011884]\n",
      " [2.16242753 1.80820008 2.68080645]]\n",
      "Cramer Kuralı ile Matrisin Tersi: \n",
      " [[-0.05654411 -1.55785879  0.62210251]\n",
      " [-1.15362518  2.84900821  0.0303189 ]\n",
      " [ 0.82372888 -0.66503127 -0.14923652]]\n",
      "np.linalg.inv() ile Matrsin Tersi: \n",
      " [[-0.05654411 -1.55785879  0.62210251]\n",
      " [-1.15362518  2.84900821  0.0303189 ]\n",
      " [ 0.82372888 -0.66503127 -0.14923652]]\n"
     ]
    }
   ],
   "source": [
    "def inverse_cramer(a):\n",
    "    n = a.shape[0]\n",
    "    t = np.zeros((n, n))\n",
    "    detA = det_gauss_elimination(a.copy())\n",
    "\n",
    "    for i in range(n):\n",
    "        for j in range(n):\n",
    "            M=sub_matrix(a, j, i)\n",
    "            t[i, j] = (-1)**(i+j) * det_gauss_elimination(M.copy()) / detA\n",
    "\n",
    "    return t\n",
    "\n",
    "\n",
    "n = 3\n",
    "a=np.random.uniform(0, 3, size=(n, n))\n",
    "t = inverse_cramer(a)\n",
    "print(\"A Matrisi: \\n\", a)\n",
    "print(\"Cramer Kuralı ile Matrisin Tersi: \\n\", t)\n",
    "print(\"np.linalg.inv() ile Matrsin Tersi: \\n\", np.linalg.inv(a))"
   ]
  },
  {
   "cell_type": "markdown",
   "metadata": {},
   "source": [
    "### Gauss-Jordan Kuralı ile Matrisin Tersi"
   ]
  },
  {
   "cell_type": "code",
   "execution_count": 49,
   "metadata": {},
   "outputs": [
    {
     "name": "stdout",
     "output_type": "stream",
     "text": [
      "A Matrisi: \n",
      " [[0.39640402 2.86030197 1.81695277]\n",
      " [1.82211518 1.41258975 1.56703602]\n",
      " [0.62959762 1.59156653 1.46771958]]\n",
      "Gauss Jordan Kuralı ile Matrisin Tersi: \n",
      " [[ 0.31376185  0.97413449 -1.42847063]\n",
      " [ 1.25857173  0.41919222 -2.00559748]\n",
      " [-1.49936295 -0.87243169  3.46892119]]\n",
      "np.linalg.inv() ile Matrsin Tersi: \n",
      " [[ 0.31376185  0.97413449 -1.42847063]\n",
      " [ 1.25857173  0.41919222 -2.00559748]\n",
      " [-1.49936295 -0.87243169  3.46892119]]\n"
     ]
    }
   ],
   "source": [
    "def inverse_gauss_jordan(a):\n",
    "    n = a.shape[0]\n",
    "    t = np.eye(n)\n",
    "\n",
    "    for i in range(n - 1):\n",
    "        for k in range(i + 1, n):\n",
    "            p = a[k, i] / a[i, i]\n",
    "            for j in range(n):\n",
    "                a[k, j] = a[k, j] - p * a[i, j]\n",
    "                t[k, j] = t[k, j] - p * t[i, j] \n",
    "\n",
    "    for i in range(n - 1, 0, -1):\n",
    "        for k in range(i - 1, -1, -1):\n",
    "            p = a[k, i] / a[i, i]\n",
    "            for j in range(n):\n",
    "                a[k, j] = a[k, j] - p * a[i, j]\n",
    "                t[k, j] = t[k, j] - p * t[i, j] \n",
    "            \n",
    "    for i in range(n):\n",
    "        for j in range(n):\n",
    "            t[i, j] /= a[i, i]\n",
    "\n",
    "        a[i, j] /= a[i, i]\n",
    "\n",
    "    return t\n",
    "\n",
    "\n",
    "n = 3\n",
    "a=np.random.uniform(0, 3, size=(n, n))\n",
    "t = inverse_gauss_jordan(a.copy())\n",
    "print(\"A Matrisi: \\n\", a)\n",
    "print(\"Gauss Jordan Kuralı ile Matrisin Tersi: \\n\", t)\n",
    "print(\"np.linalg.inv() ile Matrsin Tersi: \\n\", np.linalg.inv(a))"
   ]
  },
  {
   "cell_type": "markdown",
   "metadata": {},
   "source": [
    "### LU Ayrıştırma ile Matrisin Tersi"
   ]
  },
  {
   "cell_type": "code",
   "execution_count": 50,
   "metadata": {},
   "outputs": [
    {
     "name": "stdout",
     "output_type": "stream",
     "text": [
      "A Matrisi: \n",
      " [[0.51533077 1.44527687 1.23007308]\n",
      " [1.31204449 1.39982446 1.02125184]\n",
      " [1.57316615 2.02296926 2.62007695]]\n",
      "LU Ayrışım ile Matrisin Tersi: \n",
      " [[-1.26624544  1.02642593  0.19439698]\n",
      " [ 1.44758005  0.4624068  -0.85984614]\n",
      " [-0.35739236 -0.97331999  0.92883667]]\n",
      "np.linalg.inv() ile Matrsin Tersi: \n",
      " [[-1.26624544  1.02642593  0.19439698]\n",
      " [ 1.44758005  0.4624068  -0.85984614]\n",
      " [-0.35739236 -0.97331999  0.92883667]]\n"
     ]
    }
   ],
   "source": [
    "def inverse_with_lu(a):\n",
    "    n = a.shape[0]\n",
    "    t = np.zeros((n, n))\n",
    "    I = np.eye(n)\n",
    "\n",
    "    for j in range(n):\n",
    "        t[:, j] = solve_with_lu(a, I[:, j])\n",
    "\n",
    "    return t\n",
    "\n",
    "n = 3\n",
    "a = np.random.uniform(0, 3, size=(n, n))\n",
    "t = inverse_with_lu(a.copy())\n",
    "print(\"A Matrisi: \\n\", a)\n",
    "print(\"LU Ayrışım ile Matrisin Tersi: \\n\", t)\n",
    "print(\"np.linalg.inv() ile Matrsin Tersi: \\n\", np.linalg.inv(a))"
   ]
  },
  {
   "cell_type": "markdown",
   "metadata": {},
   "source": [
    "<div id=\"9.2\">\n",
    "<h2>9. Hafta 2. Ders</h2>\n",
    "</div>"
   ]
  },
  {
   "cell_type": "markdown",
   "metadata": {},
   "source": [
    "### En Yakın Komşu Interpolasyon"
   ]
  },
  {
   "cell_type": "code",
   "execution_count": 51,
   "metadata": {},
   "outputs": [
    {
     "data": {
      "image/png": "[encoded data removed]",
      "text/plain": [
       "<Figure size 640x480 with 1 Axes>"
      ]
     },
     "metadata": {},
     "output_type": "display_data"
    }
   ],
   "source": [
    "def nearest_neighbor_interpolation(xa, x, y):\n",
    "    n = x.size\n",
    "    d = 1e6\n",
    "    I = 0\n",
    "    for i in range(n):\n",
    "        d1 = np.sqrt((x[i] - xa) ** 2)\n",
    "        if d1 < d:\n",
    "            d = d1\n",
    "            I = i\n",
    "    \n",
    "    ya = y[I]\n",
    "    return ya\n",
    "\n",
    "\n",
    "x = np.linspace(0, 6, 7)\n",
    "y = np.sin(x)\n",
    "xa = 2.2\n",
    "ya = nearest_neighbor_interpolation(xa, x, y)\n",
    "\n",
    "plt.figure()\n",
    "plt.plot(x, y, \"o\")\n",
    "plt.plot(xa, ya, \"r*\")\n",
    "plt.grid(True)\n",
    "plt.show()"
   ]
  },
  {
   "cell_type": "code",
   "execution_count": 52,
   "metadata": {},
   "outputs": [
    {
     "data": {
      "image/png": "[encoded data removed]",
      "text/plain": [
       "<Figure size 640x480 with 1 Axes>"
      ]
     },
     "metadata": {},
     "output_type": "display_data"
    }
   ],
   "source": [
    "x = np.linspace(0, 6, 7)\n",
    "y = np.sin(x)\n",
    "xa = np.linspace(0, 6, 61)\n",
    "ya = np.zeros(61)\n",
    "for i in range(61):\n",
    "    ya[i] = nearest_neighbor_interpolation(xa[i], x, y) \n",
    "\n",
    "plt.figure()\n",
    "plt.plot(x, y, \"o\")\n",
    "plt.plot(xa, ya, \"r*\")\n",
    "plt.grid(True)\n",
    "plt.show()"
   ]
  },
  {
   "cell_type": "markdown",
   "metadata": {},
   "source": [
    "### Linear Interpolasyon"
   ]
  },
  {
   "cell_type": "code",
   "execution_count": 53,
   "metadata": {},
   "outputs": [
    {
     "data": {
      "image/png": "[encoded data removed]",
      "text/plain": [
       "<Figure size 640x480 with 1 Axes>"
      ]
     },
     "metadata": {},
     "output_type": "display_data"
    }
   ],
   "source": [
    "def linear_interpolation(xa, x, y):\n",
    "    n = x.size\n",
    "    d1, d2 = 1e6, 1e6\n",
    "    I1, I2 = 0, n-1\n",
    "\n",
    "    for i in range(n):\n",
    "        if xa >= x[i]:\n",
    "            d = xa - x[i]\n",
    "            if d < d1:\n",
    "                d1 = d\n",
    "                I1 = i\n",
    "        else:\n",
    "            d = x[i] - xa\n",
    "            if d < d2:\n",
    "                d2 = d\n",
    "                I2 = i\n",
    "\n",
    "    x1, x2 = x[I1], x[I2]\n",
    "    y1, y2 = y[I1], y[I2]\n",
    "\n",
    "    ya = y1 + ((y2 - y1) / (x2 - x1)) * (xa - x1)\n",
    "    return ya\n",
    "\n",
    "\n",
    "x = np.linspace(0, 6, 7)\n",
    "y = np.sin(x)\n",
    "xa = 3.6\n",
    "ya = linear_interpolation(xa, x, y)\n",
    "\n",
    "plt.figure()\n",
    "plt.plot(x, y, \"o\")\n",
    "plt.plot(xa, ya, \"r*\")\n",
    "plt.grid(True)\n",
    "plt.show()"
   ]
  },
  {
   "cell_type": "code",
   "execution_count": 54,
   "metadata": {},
   "outputs": [
    {
     "data": {
      "image/png": "[encoded data removed]",
      "text/plain": [
       "<Figure size 640x480 with 1 Axes>"
      ]
     },
     "metadata": {},
     "output_type": "display_data"
    }
   ],
   "source": [
    "x = np.linspace(0, 6, 7)\n",
    "y = np.sin(x)\n",
    "xa = np.linspace(0, 6, 61)\n",
    "ya = np.zeros(61)\n",
    "for i in range(61):\n",
    "    ya[i] = linear_interpolation(xa[i], x, y) \n",
    "\n",
    "plt.figure()\n",
    "plt.plot(x, y, \"o\")\n",
    "plt.plot(xa, ya, \"r-\")\n",
    "plt.grid(True)\n",
    "plt.show()"
   ]
  },
  {
   "cell_type": "markdown",
   "metadata": {},
   "source": [
    "<div id=\"10.1\">\n",
    "<h2>10. Hafta 1. Ders</h2>\n",
    "</div>"
   ]
  },
  {
   "cell_type": "markdown",
   "metadata": {},
   "source": [
    "### Newton Bölünmüş Farklar Yöntemi"
   ]
  },
  {
   "cell_type": "code",
   "execution_count": 3,
   "metadata": {},
   "outputs": [
    {
     "data": {
      "image/png": "[encoded data removed]",
      "text/plain": [
       "<Figure size 640x480 with 1 Axes>"
      ]
     },
     "metadata": {},
     "output_type": "display_data"
    }
   ],
   "source": [
    "def newton_divided_difference_method(xa, x, y):\n",
    "    n = x.shape[0]\n",
    "    D = np.zeros((n, n))\n",
    "    for i in range(n):\n",
    "        D[i, 0] = y[i]\n",
    "        for j in range(1, i + 1):\n",
    "            D[i, j] = (D[i, j - 1] - D[i - 1, j - 1]) / (x[i] - x[i - j])\n",
    "\n",
    "    ya = 0\n",
    "    for i in range(n):\n",
    "        c = D[i, i]\n",
    "        for j in range(i):\n",
    "            c *= xa - x[j]\n",
    "        ya += c\n",
    "    return ya\n",
    "\n",
    "\n",
    "x = np.linspace(0, 6, 7)\n",
    "y = np.sin(x)\n",
    "xa = np.linspace(0, 6, 61)\n",
    "ya = np.zeros(61)\n",
    "for i in range(61):\n",
    "    ya[i] = newton_divided_difference_method(xa[i], x, y)\n",
    "\n",
    "plt.figure()\n",
    "plt.plot(x, y, \"o\")\n",
    "plt.plot(xa, ya, \"r-\")\n",
    "plt.grid(True)\n",
    "plt.show()"
   ]
  },
  {
   "cell_type": "code",
   "execution_count": 4,
   "metadata": {},
   "outputs": [
    {
     "data": {
      "image/png": "[encoded data removed]",
      "text/plain": [
       "<Figure size 640x480 with 1 Axes>"
      ]
     },
     "metadata": {},
     "output_type": "display_data"
    }
   ],
   "source": [
    "x = np.linspace(0, 6, 7)\n",
    "y = np.sin(x)\n",
    "xa = np.linspace(-1, 7, 81)\n",
    "ya = np.zeros(81)\n",
    "for i in range(81):\n",
    "    ya[i] = newton_divided_difference_method(xa[i], x, y)\n",
    "\n",
    "plt.figure()\n",
    "plt.plot(x, y, \"o\")\n",
    "plt.plot(xa, ya, \"r-\")\n",
    "plt.grid(True)\n",
    "plt.show()"
   ]
  },
  {
   "cell_type": "markdown",
   "metadata": {},
   "source": [
    "<div id=\"11.1\">\n",
    "<h2>11. Hafta 1. Ders</h2>\n",
    "</div>"
   ]
  },
  {
   "cell_type": "markdown",
   "metadata": {},
   "source": [
    "### Lagrange Interpolasyon"
   ]
  },
  {
   "cell_type": "code",
   "execution_count": 5,
   "metadata": {},
   "outputs": [
    {
     "data": {
      "image/png": "[encoded data removed]",
      "text/plain": [
       "<Figure size 640x480 with 1 Axes>"
      ]
     },
     "metadata": {},
     "output_type": "display_data"
    }
   ],
   "source": [
    "def lagrange_interpolation(xa, x, y):\n",
    "    n = x.size\n",
    "    L = np.ones(n)\n",
    "\n",
    "    for k in range(n):\n",
    "        for i in range(n):\n",
    "            if i != k:\n",
    "                L[k] *= (xa - x[i]) / (x[k] - x[i])\n",
    "\n",
    "    ya = 0\n",
    "    for k in range(n):\n",
    "        ya += L[k] * y[k]\n",
    "\n",
    "    return ya\n",
    "\n",
    "\n",
    "x = np.linspace(0, 6, 7)\n",
    "y = np.sin(x)\n",
    "xa = np.linspace(0, 6, 61)\n",
    "ya = np.zeros(61)\n",
    "for i in range(61):\n",
    "    ya[i] = lagrange_interpolation(xa[i], x, y)\n",
    "\n",
    "plt.figure()\n",
    "plt.plot(x, y, \"o\")\n",
    "plt.plot(xa, ya, \"r-\")\n",
    "plt.grid(True)\n",
    "plt.show()"
   ]
  },
  {
   "cell_type": "code",
   "execution_count": 6,
   "metadata": {},
   "outputs": [
    {
     "data": {
      "image/png": "[encoded data removed]",
      "text/plain": [
       "<Figure size 640x480 with 1 Axes>"
      ]
     },
     "metadata": {},
     "output_type": "display_data"
    }
   ],
   "source": [
    "x = np.linspace(0, 6, 7)\n",
    "y = np.sin(x)\n",
    "xa = np.linspace(-1, 7, 81)\n",
    "ya = np.zeros(81)\n",
    "for i in range(81):\n",
    "    ya[i] = lagrange_interpolation(xa[i], x, y)\n",
    "\n",
    "plt.figure()\n",
    "plt.plot(x, y, \"o\")\n",
    "plt.plot(xa, ya, \"r-\")\n",
    "plt.grid(True)\n",
    "plt.show()"
   ]
  },
  {
   "cell_type": "code",
   "execution_count": 10,
   "metadata": {},
   "outputs": [
    {
     "data": {
      "image/png": "[encoded data removed]",
      "text/plain": [
       "<Figure size 640x480 with 1 Axes>"
      ]
     },
     "metadata": {},
     "output_type": "display_data"
    }
   ],
   "source": [
    "x = np.linspace(0, 6, 7)\n",
    "y = np.random.uniform(0, 10, size=x.size)\n",
    "xa = np.linspace(0, 6, 81)\n",
    "ya = np.zeros(81)\n",
    "for i in range(81):\n",
    "    ya[i] = lagrange_interpolation(xa[i], x, y)\n",
    "\n",
    "plt.figure()\n",
    "plt.plot(x, y, \"o\")\n",
    "plt.plot(xa, ya, \"r-\")\n",
    "plt.grid(True)\n",
    "plt.show()"
   ]
  },
  {
   "cell_type": "code",
   "execution_count": null,
   "metadata": {},
   "outputs": [],
   "source": []
  }
 ],
 "metadata": {
  "kernelspec": {
   "display_name": "base",
   "language": "python",
   "name": "python3"
  },
  "language_info": {
   "codemirror_mode": {
    "name": "ipython",
    "version": 3
   },
   "file_extension": ".py",
   "mimetype": "text/x-python",
   "name": "python",
   "nbconvert_exporter": "python",
   "pygments_lexer": "ipython3",
   "version": "3.11.7"
  }
 },
 "nbformat": 4,
 "nbformat_minor": 2
}
