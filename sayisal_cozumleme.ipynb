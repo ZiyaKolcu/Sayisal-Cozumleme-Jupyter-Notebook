{
 "cells": [
  {
   "cell_type": "markdown",
   "metadata": {},
   "source": [
    "# Sayısal Çözümleme"
   ]
  },
  {
   "cell_type": "markdown",
   "metadata": {},
   "source": [
    "<h2 id=\"main\">Dersler</h2>"
   ]
  },
  {
   "cell_type": "markdown",
   "metadata": {},
   "source": [
    "+ <a href=\"#1.2\">1. Hafta 2. Ders</a>\n",
    "    * İkiye Bölme Yöntemi"
   ]
  },
  {
   "cell_type": "markdown",
   "metadata": {},
   "source": [
    "+ <a href=\"#2.1\">2. Hafta 1. Ders</a>\n",
    "    * Taylor Serisi\n",
    "    * Newton-Raphson Yöntemi\n",
    "    * Secant Yöntemi"
   ]
  },
  {
   "cell_type": "markdown",
   "metadata": {},
   "source": [
    "+ <a href=\"#2.2\">2. Hafta 2. Ders</a>\n",
    "    * Regula Falsi Yöntemi\n",
    "    * Fixed Point Yöntemi"
   ]
  },
  {
   "cell_type": "markdown",
   "metadata": {},
   "source": [
    "+ <a href=\"#3.1\">3. Hafta 1. Ders</a>\n",
    "    * Polinomlar\n",
    "    * Polinom Toplama\n",
    "    * Polinom Çarpma\n",
    "    * Polinom Katsayıları Bulma"
   ]
  },
  {
   "cell_type": "markdown",
   "metadata": {},
   "source": [
    "+ <a href=\"#3.2\">3. Hafta 2. Ders</a>\n",
    "    * Polinom Bölme\n",
    "    * Polinom Türev\n",
    "    * Polinomun Newton-Raphson Yöntemi ile Kök Bulma\n",
    "    * Polinom İntegral"
   ]
  },
  {
   "cell_type": "markdown",
   "metadata": {},
   "source": [
    "+ <a href=\"#4.1\">4. Hafta 1. Ders</a>\n",
    "    * Matrisler\n",
    "    * Matris Toplama"
   ]
  },
  {
   "cell_type": "markdown",
   "metadata": {},
   "source": [
    "+ <a href=\"#4.2\">4. Hafta 2. Ders</a>\n",
    "    * Matris Çarpımı\n",
    "    * Matrisin Transpozu\n",
    "    * Matrisin İzi\n",
    "    * Matrisin Laplace Yöntemi ile Determinantı"
   ]
  },
  {
   "cell_type": "markdown",
   "metadata": {},
   "source": [
    "+ <a href=\"#5.1\">5. Hafta 1. Ders</a>\n",
    "    * Gauss Eleme Yöntemi ile Determinant Hesaplama"
   ]
  },
  {
   "cell_type": "markdown",
   "metadata": {},
   "source": [
    "+ <a href=\"#5.2\">5. Hafta 2. Ders</a>\n",
    "    * LU Ayrışım Yöntemi ile Determinant Hesaplama"
   ]
  },
  {
   "cell_type": "markdown",
   "metadata": {},
   "source": [
    "+ <a href=\"#6.1\">6. Hafta 1. Ders</a>\n",
    "    * Gauss Eleme Yöntemi ile Denklem Sistemi Çözüm"
   ]
  },
  {
   "cell_type": "markdown",
   "metadata": {},
   "source": [
    "+ <a href=\"#6.2\">6. Hafta 2. Ders</a>\n",
    "    * Gauss Jordan Yöntemi ile Denklem Sistemi Çözüm\n",
    "    * LU Ayrıştırma Yöntemi ile Denklem Sistemi Çözüm"
   ]
  },
  {
   "cell_type": "markdown",
   "metadata": {},
   "source": [
    "+ <a href=\"#7.1\">7. Hafta 1. Ders</a>\n",
    "    * Gauss-Sidel Yöntemi ile Denklem Sistemi Çözüm"
   ]
  },
  {
   "cell_type": "markdown",
   "metadata": {},
   "source": [
    "+ <a href=\"#7.2\">7. Hafta 2. Ders</a>\n",
    "    * Basit Doğrusal Regresyon"
   ]
  },
  {
   "cell_type": "markdown",
   "metadata": {},
   "source": [
    "+ <a href=\"#8.1\">8. Hafta 1. Ders</a>\n",
    "    * Polinomsal Doğrusal Regresyon"
   ]
  },
  {
   "cell_type": "markdown",
   "metadata": {},
   "source": [
    "+ <a href=\"#8.2\">8. Hafta 2. Ders</a>\n",
    "    * Genelleştirilmiş Doğrusal Regresyon"
   ]
  },
  {
   "cell_type": "markdown",
   "metadata": {},
   "source": [
    "+ <a href=\"#9.1\">9. Hafta 1. Ders</a>\n",
    "    * Cramer Kuralı ile Matrisin Tersi\n",
    "    * Gauss-Jordan Kuralı ile Matrisin Tersi"
   ]
  },
  {
   "cell_type": "code",
   "execution_count": 1,
   "metadata": {},
   "outputs": [],
   "source": [
    "import numpy as np\n",
    "import matplotlib.pyplot as plt\n",
    "import warnings\n",
    "warnings.filterwarnings(\"ignore\")"
   ]
  },
  {
   "cell_type": "markdown",
   "metadata": {},
   "source": [
    "<div id=\"1.2\">\n",
    "<h2>1. Hafta 2. Ders</h2>\n",
    "</div>"
   ]
  },
  {
   "cell_type": "markdown",
   "metadata": {},
   "source": [
    "### İkiye Bölme Yöntemi"
   ]
  },
  {
   "cell_type": "code",
   "execution_count": 2,
   "metadata": {},
   "outputs": [
    {
     "name": "stdout",
     "output_type": "stream",
     "text": [
      "fonksiyonun kökü: 2.05\n",
      "fonksiyonda değeri: -0.05\n"
     ]
    }
   ],
   "source": [
    "def f(x):\n",
    "    return x**2 - 5 * x + 6\n",
    "\n",
    "\n",
    "def bisection_method(f, xa, xu, tol=1e-4, nMax=100):\n",
    "    i = 0\n",
    "    while i < nMax:\n",
    "        i += 1\n",
    "        xm = (xa + xu) / 2\n",
    "        if f(xm) * f(xa) < 0:\n",
    "            xu = xm\n",
    "        else:\n",
    "            xa = xm\n",
    "        if abs(xu - xa) < tol:\n",
    "            break\n",
    "        return (xa + xu) / 2\n",
    "\n",
    "\n",
    "x = bisection_method(f, xa=1, xu=2.4)\n",
    "print(f\"fonksiyonun kökü: {x:.2f}\")\n",
    "print(f\"fonksiyonda değeri: {f(x):.2f}\")"
   ]
  },
  {
   "cell_type": "markdown",
   "metadata": {},
   "source": [
    "<div id=\"2.1\">\n",
    "<h2>2. Hafta 1. Ders</h2>\n",
    "</div>"
   ]
  },
  {
   "cell_type": "markdown",
   "metadata": {},
   "source": [
    "### Taylor Serisi"
   ]
  },
  {
   "cell_type": "markdown",
   "metadata": {},
   "source": [
    "<math xmlns=\"http://www.w3.org/1998/Math/MathML\">\n",
    "  <mtable columnalign=\"left\" columnspacing=\"1em\" rowspacing=\"4pt\">\n",
    "    <mtr>\n",
    "      <mtd>\n",
    "        <mi>f</mi>\n",
    "        <mo stretchy=\"false\">(</mo>\n",
    "        <mi>a</mi>\n",
    "        <mo stretchy=\"false\">)</mo>\n",
    "        <mo>+</mo>\n",
    "        <mfrac>\n",
    "          <mrow>\n",
    "            <msup>\n",
    "              <mi>f</mi>\n",
    "              <mrow data-mjx-texclass=\"ORD\">\n",
    "                <mi data-mjx-alternate=\"1\">&#x2032;</mi>\n",
    "              </mrow>\n",
    "            </msup>\n",
    "            <mo stretchy=\"false\">(</mo>\n",
    "            <mi>a</mi>\n",
    "            <mo stretchy=\"false\">)</mo>\n",
    "          </mrow>\n",
    "          <mrow>\n",
    "            <mn>1</mn>\n",
    "            <mo>!</mo>\n",
    "          </mrow>\n",
    "        </mfrac>\n",
    "        <mo stretchy=\"false\">(</mo>\n",
    "        <mi>x</mi>\n",
    "        <mo>&#x2212;</mo>\n",
    "        <mi>a</mi>\n",
    "        <mo stretchy=\"false\">)</mo>\n",
    "        <mo>+</mo>\n",
    "        <mfrac>\n",
    "          <mrow>\n",
    "            <msup>\n",
    "              <mi>f</mi>\n",
    "              <mrow data-mjx-texclass=\"ORD\">\n",
    "                <mi data-mjx-alternate=\"1\">&#x2032;</mi>\n",
    "                <mi data-mjx-alternate=\"1\">&#x2032;</mi>\n",
    "              </mrow>\n",
    "            </msup>\n",
    "            <mo stretchy=\"false\">(</mo>\n",
    "            <mi>a</mi>\n",
    "            <mo stretchy=\"false\">)</mo>\n",
    "          </mrow>\n",
    "          <mrow>\n",
    "            <mn>2</mn>\n",
    "            <mo>!</mo>\n",
    "          </mrow>\n",
    "        </mfrac>\n",
    "        <mo stretchy=\"false\">(</mo>\n",
    "        <mi>x</mi>\n",
    "        <mo>&#x2212;</mo>\n",
    "        <mi>a</mi>\n",
    "        <msup>\n",
    "          <mo stretchy=\"false\">)</mo>\n",
    "          <mrow data-mjx-texclass=\"ORD\">\n",
    "            <mn>2</mn>\n",
    "          </mrow>\n",
    "        </msup>\n",
    "        <mo>+</mo>\n",
    "        <mfrac>\n",
    "          <mrow>\n",
    "            <msup>\n",
    "              <mi>f</mi>\n",
    "              <mrow data-mjx-texclass=\"ORD\">\n",
    "                <mi data-mjx-alternate=\"1\">&#x2032;</mi>\n",
    "                <mi data-mjx-alternate=\"1\">&#x2032;</mi>\n",
    "                <mi data-mjx-alternate=\"1\">&#x2032;</mi>\n",
    "              </mrow>\n",
    "            </msup>\n",
    "            <mo stretchy=\"false\">(</mo>\n",
    "            <mi>a</mi>\n",
    "            <mo stretchy=\"false\">)</mo>\n",
    "          </mrow>\n",
    "          <mrow>\n",
    "            <mn>3</mn>\n",
    "            <mo>!</mo>\n",
    "          </mrow>\n",
    "        </mfrac>\n",
    "        <mo stretchy=\"false\">(</mo>\n",
    "        <mi>x</mi>\n",
    "        <mo>&#x2212;</mo>\n",
    "        <mi>a</mi>\n",
    "        <msup>\n",
    "          <mo stretchy=\"false\">)</mo>\n",
    "          <mrow data-mjx-texclass=\"ORD\">\n",
    "            <mn>3</mn>\n",
    "          </mrow>\n",
    "        </msup>\n",
    "        <mo>+</mo>\n",
    "        <mo>&#x22EF;</mo>\n",
    "      </mtd>\n",
    "    </mtr>\n",
    "  </mtable>\n",
    "</math>"
   ]
  },
  {
   "cell_type": "markdown",
   "metadata": {},
   "source": [
    "#### Sigma Gösterimi\n",
    "<math xmlns=\"http://www.w3.org/1998/Math/MathML\">\n",
    "  <mtable columnalign=\"left\" columnspacing=\"1em\" rowspacing=\"4pt\">\n",
    "    <mtr>\n",
    "      <mtd>\n",
    "        <munderover>\n",
    "          <mo data-mjx-texclass=\"OP\">&#x2211;</mo>\n",
    "          <mrow data-mjx-texclass=\"ORD\">\n",
    "            <mi>n</mi>\n",
    "            <mo>=</mo>\n",
    "            <mn>0</mn>\n",
    "          </mrow>\n",
    "          <mrow data-mjx-texclass=\"ORD\">\n",
    "            <mi mathvariant=\"normal\">&#x221E;</mi>\n",
    "          </mrow>\n",
    "        </munderover>\n",
    "        <mfrac>\n",
    "          <mrow>\n",
    "            <msup>\n",
    "              <mi>f</mi>\n",
    "              <mrow data-mjx-texclass=\"ORD\">\n",
    "                <mi>n</mi>\n",
    "              </mrow>\n",
    "            </msup>\n",
    "            <mo stretchy=\"false\">(</mo>\n",
    "            <mi>a</mi>\n",
    "            <mo stretchy=\"false\">)</mo>\n",
    "          </mrow>\n",
    "          <mrow>\n",
    "            <mi>n</mi>\n",
    "            <mo>!</mo>\n",
    "          </mrow>\n",
    "        </mfrac>\n",
    "        <mo stretchy=\"false\">(</mo>\n",
    "        <mi>x</mi>\n",
    "        <mo>&#x2212;</mo>\n",
    "        <mi>a</mi>\n",
    "        <msup>\n",
    "          <mo stretchy=\"false\">)</mo>\n",
    "          <mrow data-mjx-texclass=\"ORD\">\n",
    "            <mi>n</mi>\n",
    "          </mrow>\n",
    "        </msup>\n",
    "      </mtd>\n",
    "    </mtr>\n",
    "  </mtable>\n",
    "</math>"
   ]
  },
  {
   "cell_type": "markdown",
   "metadata": {},
   "source": [
    "### Newton Raphson Yöntemi"
   ]
  },
  {
   "cell_type": "markdown",
   "metadata": {},
   "source": [
    "<math xmlns=\"http://www.w3.org/1998/Math/MathML\">\n",
    "  <mtable columnalign=\"left\" columnspacing=\"1em\" rowspacing=\"4pt\">\n",
    "    <mtr>\n",
    "      <mtd>\n",
    "        <msub>\n",
    "          <mi>x</mi>\n",
    "          <mrow data-mjx-texclass=\"ORD\">\n",
    "            <mi>n</mi>\n",
    "            <mo>+</mo>\n",
    "            <mn>1</mn>\n",
    "          </mrow>\n",
    "        </msub>\n",
    "        <mo>=</mo>\n",
    "        <msub>\n",
    "          <mi>x</mi>\n",
    "          <mi>n</mi>\n",
    "        </msub>\n",
    "        <mo>&#x2212;</mo>\n",
    "        <mfrac>\n",
    "          <mrow>\n",
    "            <mi>f</mi>\n",
    "            <mo stretchy=\"false\">(</mo>\n",
    "            <msub>\n",
    "              <mi>x</mi>\n",
    "              <mi>n</mi>\n",
    "            </msub>\n",
    "            <mo stretchy=\"false\">)</mo>\n",
    "          </mrow>\n",
    "          <mrow>\n",
    "            <msup>\n",
    "              <mi>f</mi>\n",
    "              <mo data-mjx-alternate=\"1\">&#x2032;</mo>\n",
    "            </msup>\n",
    "            <mo stretchy=\"false\">(</mo>\n",
    "            <msub>\n",
    "              <mi>x</mi>\n",
    "              <mi>n</mi>\n",
    "            </msub>\n",
    "            <mo stretchy=\"false\">)</mo>\n",
    "          </mrow>\n",
    "        </mfrac>\n",
    "      </mtd>\n",
    "    </mtr>\n",
    "  </mtable>\n",
    "</math>"
   ]
  },
  {
   "cell_type": "code",
   "execution_count": 3,
   "metadata": {},
   "outputs": [
    {
     "name": "stdout",
     "output_type": "stream",
     "text": [
      "0, 1.00, 1.67, 2.00, 0.44, 0.67\n",
      "1, 1.67, 1.93, 0.44, 0.07, 0.27\n",
      "2, 1.93, 2.00, 0.07, 0.00, 0.06\n",
      "3, 2.00, 2.00, 0.00, 0.00, 0.00\n",
      "fonksiyonun kökü: 2.00\n",
      "fonksiyonda değeri: 0.00\n"
     ]
    }
   ],
   "source": [
    "def f(x):\n",
    "    return x**2 - 5 * x + 6\n",
    "\n",
    "def df(x):\n",
    "    return 2 * x - 5\n",
    "\n",
    "def newton_raphson_method(f, x0, tol=1e-4, nMax=100):\n",
    "    for i in range(nMax):\n",
    "        x1 = x0 - f(x0) / df(x0)\n",
    "        if abs(x1 - x0) < tol:\n",
    "            break\n",
    "        print(f\"{i}, {x0:.2f}, {x1:.2f}, {f(x0):.2f}, {f(x1):.2f}, {abs(x1-x0):.2f}\")\n",
    "        x0 = x1\n",
    "    return x1\n",
    "\n",
    "x0 = 1\n",
    "xx = newton_raphson_method(f, x0)\n",
    "print(f\"fonksiyonun kökü: {xx:.2f}\")\n",
    "print(f\"fonksiyonda değeri: {f(xx):.2f}\")"
   ]
  },
  {
   "cell_type": "code",
   "execution_count": 4,
   "metadata": {},
   "outputs": [
    {
     "name": "stdout",
     "output_type": "stream",
     "text": [
      "0, 1.00, 0.21, 2.37, 1.18, 0.79\n",
      "1, 0.21, -1.32, 1.18, -6.20, 1.53\n",
      "2, -1.32, -0.87, -6.20, -1.73, 0.45\n",
      "3, -0.87, -0.61, -1.73, -0.36, 0.26\n",
      "4, -0.61, -0.52, -0.36, -0.03, 0.09\n",
      "5, -0.52, -0.52, -0.03, -0.00, 0.01\n",
      "fonksiyonun kökü: -0.52\n",
      "fonksiyonda değeri: -0.00\n"
     ]
    }
   ],
   "source": [
    "def f(x):\n",
    "    return x * np.exp(-x) + x**3 + 1\n",
    "\n",
    "def df(x):\n",
    "    return np.exp(-x) - x * np.exp(-x) + 3 * x**2\n",
    "\n",
    "x0 = 1\n",
    "xx = newton_raphson_method(f, x0)\n",
    "print(f\"fonksiyonun kökü: {xx:.2f}\")\n",
    "print(f\"fonksiyonda değeri: {f(xx):.2f}\")"
   ]
  },
  {
   "cell_type": "markdown",
   "metadata": {},
   "source": [
    "#### Matplotlib ile Grafik Çizimi"
   ]
  },
  {
   "cell_type": "code",
   "execution_count": 5,
   "metadata": {},
   "outputs": [
    {
     "name": "stdout",
     "output_type": "stream",
     "text": [
      "fonksiyonun kökü: -0.52\n",
      "fonksiyonda değeri: -0.00\n"
     ]
    },
    {
     "data": {
      "image/png": "[encoded data removed]",
      "text/plain": [
       "<Figure size 640x480 with 1 Axes>"
      ]
     },
     "metadata": {},
     "output_type": "display_data"
    }
   ],
   "source": [
    "def f(x):\n",
    "    return x * np.exp(-x) + x**3 + 1\n",
    "\n",
    "def df(x):\n",
    "    return np.exp(-x) - x * np.exp(-x) + 3 * x**2\n",
    "\n",
    "def newton_raphson_method_with_graph(f, x0, tol=1e-4, nMax=100):\n",
    "    xp = np.linspace(-2, 2, 100)\n",
    "    yp = f(xp)\n",
    "    for i in range(nMax):\n",
    "        x1 = x0 - f(x0) / df(x0)\n",
    "        if abs(x1 - x0) < tol:\n",
    "            break\n",
    "        plt.clf()\n",
    "        plt.plot(xp, yp)\n",
    "        plt.plot(x0, f(x0), \"o\", ms=15)\n",
    "        plt.plot(x1, f(x1), \"x\", ms=15)\n",
    "        plt.grid()\n",
    "        x0 = x1\n",
    "    return x1\n",
    "\n",
    "\n",
    "x0 = 1\n",
    "xx = newton_raphson_method_with_graph(f, x0)\n",
    "print(f\"fonksiyonun kökü: {xx:.2f}\")\n",
    "print(f\"fonksiyonda değeri: {f(xx):.2f}\")"
   ]
  },
  {
   "cell_type": "markdown",
   "metadata": {},
   "source": [
    "#### Secant Yöntemi\n",
    "Türev kullanmadan Newton-Raphson yöntemini kullanmak için kullanılır."
   ]
  },
  {
   "cell_type": "markdown",
   "metadata": {},
   "source": [
    "<math xmlns=\"http://www.w3.org/1998/Math/MathML\">\n",
    "  <mtable columnalign=\"left\" columnspacing=\"1em\" rowspacing=\"4pt\">\n",
    "    <mtr>\n",
    "      <mtd>\n",
    "        <msub>\n",
    "          <mi>x</mi>\n",
    "          <mrow data-mjx-texclass=\"ORD\">\n",
    "            <mi>n</mi>\n",
    "            <mo>+</mo>\n",
    "            <mn>1</mn>\n",
    "          </mrow>\n",
    "        </msub>\n",
    "        <mo>=</mo>\n",
    "        <msub>\n",
    "          <mi>x</mi>\n",
    "          <mrow data-mjx-texclass=\"ORD\">\n",
    "            <mi>n</mi>\n",
    "          </mrow>\n",
    "        </msub>\n",
    "        <mo>&#x2212;</mo>\n",
    "        <mi>f</mi>\n",
    "        <mo stretchy=\"false\">(</mo>\n",
    "        <msub>\n",
    "          <mi>x</mi>\n",
    "          <mrow data-mjx-texclass=\"ORD\">\n",
    "            <mi>n</mi>\n",
    "          </mrow>\n",
    "        </msub>\n",
    "        <mo stretchy=\"false\">)</mo>\n",
    "        <mo>.</mo>\n",
    "        <mfrac>\n",
    "          <mrow>\n",
    "            <msub>\n",
    "              <mi>x</mi>\n",
    "              <mrow data-mjx-texclass=\"ORD\">\n",
    "                <mi>n</mi>\n",
    "              </mrow>\n",
    "            </msub>\n",
    "            <mo>&#x2212;</mo>\n",
    "            <msub>\n",
    "              <mi>x</mi>\n",
    "              <mrow data-mjx-texclass=\"ORD\">\n",
    "                <mi>n</mi>\n",
    "                <mo>&#x2212;</mo>\n",
    "                <mn>1</mn>\n",
    "              </mrow>\n",
    "            </msub>\n",
    "          </mrow>\n",
    "          <mrow>\n",
    "            <mi>f</mi>\n",
    "            <mo stretchy=\"false\">(</mo>\n",
    "            <msub>\n",
    "              <mi>x</mi>\n",
    "              <mrow data-mjx-texclass=\"ORD\">\n",
    "                <mi>n</mi>\n",
    "              </mrow>\n",
    "            </msub>\n",
    "            <mo stretchy=\"false\">)</mo>\n",
    "            <mo>&#x2212;</mo>\n",
    "            <mi>f</mi>\n",
    "            <mo stretchy=\"false\">(</mo>\n",
    "            <msub>\n",
    "              <mi>x</mi>\n",
    "              <mrow data-mjx-texclass=\"ORD\">\n",
    "                <mi>n</mi>\n",
    "                <mo>&#x2212;</mo>\n",
    "                <mn>1</mn>\n",
    "              </mrow>\n",
    "            </msub>\n",
    "            <mo stretchy=\"false\">)</mo>\n",
    "          </mrow>\n",
    "        </mfrac>\n",
    "      </mtd>\n",
    "    </mtr>\n",
    "  </mtable>\n",
    "</math>"
   ]
  },
  {
   "cell_type": "code",
   "execution_count": 6,
   "metadata": {},
   "outputs": [
    {
     "name": "stdout",
     "output_type": "stream",
     "text": [
      "0, -1.00, 1.00, 1.40, 12.00, 0.96, 2.00, 0.96, 2.00\n",
      "1, 1.00, 1.40, 1.77, 2.00, 0.28, 0.96, 0.28, 0.40\n",
      "2, 1.40, 1.77, 1.92, 0.96, 0.08, 0.28, 0.08, 0.37\n",
      "3, 1.77, 1.92, 1.99, 0.28, 0.01, 0.08, 0.01, 0.16\n",
      "4, 1.92, 1.99, 2.00, 0.08, 0.00, 0.01, 0.00, 0.06\n",
      "5, 1.99, 2.00, 2.00, 0.01, 0.00, 0.00, 0.00, 0.01\n",
      "fonksiyonun kökü: 2.00\n",
      "fonksiyonda değeri: 0.00\n"
     ]
    }
   ],
   "source": [
    "def f(x):\n",
    "    return x**2 - 5 * x + 6\n",
    "\n",
    "def secant_method(f, x0, x1, tol=1e-4, nMax=100):\n",
    "    xp = np.linspace(-2, 2, 100)\n",
    "    yp = f(xp)\n",
    "    for i in range(nMax):\n",
    "        x2 = (x0 * f(x1) - x1 * f(x0)) / (f(x1) - f(x0))\n",
    "        if abs(x2 - x1) < tol:\n",
    "            break\n",
    "        print(f\"{i}, {x0:.2f}, {x1:.2f}, {x2:.2f}, {f(x0):.2f}, {f(x2):.2f}, {f(x1):.2f}, {f(x2):.2f}, {abs(x1-x0):.2f}\")\n",
    "        x0 = x1\n",
    "        x1 = x2\n",
    "    return x2\n",
    "\n",
    "x0 = -1\n",
    "b = 1\n",
    "xx = secant_method(f, x0, b)\n",
    "print(f\"fonksiyonun kökü: {xx:.2f}\")\n",
    "print(f\"fonksiyonda değeri: {f(xx):.2f}\")"
   ]
  },
  {
   "cell_type": "markdown",
   "metadata": {},
   "source": [
    "<div id=\"2.2\">\n",
    "<h2>2. Hafta 2. Ders</h2>\n",
    "</div>"
   ]
  },
  {
   "cell_type": "markdown",
   "metadata": {},
   "source": [
    "### Regula Falsi Yöntemi"
   ]
  },
  {
   "cell_type": "markdown",
   "metadata": {},
   "source": [
    "<math xmlns=\"http://www.w3.org/1998/Math/MathML\">\n",
    "  <mtable columnalign=\"left\" columnspacing=\"1em\" rowspacing=\"4pt\">\n",
    "    <mtr>\n",
    "      <mtd>\n",
    "        <mi>y</mi>\n",
    "        <mo>&#x2212;</mo>\n",
    "        <mi>f</mi>\n",
    "        <mo stretchy=\"false\">(</mo>\n",
    "        <mi>a</mi>\n",
    "        <mo stretchy=\"false\">)</mo>\n",
    "        <mo>=</mo>\n",
    "        <mfrac>\n",
    "          <mrow>\n",
    "            <mi>f</mi>\n",
    "            <mo stretchy=\"false\">(</mo>\n",
    "            <mi>b</mi>\n",
    "            <mo stretchy=\"false\">)</mo>\n",
    "            <mo>&#x2212;</mo>\n",
    "            <mi>f</mi>\n",
    "            <mo stretchy=\"false\">(</mo>\n",
    "            <mi>a</mi>\n",
    "            <mo stretchy=\"false\">)</mo>\n",
    "          </mrow>\n",
    "          <mrow>\n",
    "            <mo stretchy=\"false\">(</mo>\n",
    "            <mi>b</mi>\n",
    "            <mo>&#x2212;</mo>\n",
    "            <mi>a</mi>\n",
    "            <mo stretchy=\"false\">)</mo>\n",
    "          </mrow>\n",
    "        </mfrac>\n",
    "        <mo>.</mo>\n",
    "        <mo stretchy=\"false\">(</mo>\n",
    "        <mi>x</mi>\n",
    "        <mo>&#x2212;</mo>\n",
    "        <mi>a</mi>\n",
    "        <mo stretchy=\"false\">)</mo>\n",
    "      </mtd>\n",
    "    </mtr>\n",
    "  </mtable>\n",
    "</math>"
   ]
  },
  {
   "cell_type": "code",
   "execution_count": 7,
   "metadata": {},
   "outputs": [
    {
     "name": "stdout",
     "output_type": "stream",
     "text": [
      "fonksiyonun kökü: 2.00\n",
      "fonksiyonda değeri: 0.00\n"
     ]
    }
   ],
   "source": [
    "def f(x):\n",
    "    return x**2 - 5 * x + 6\n",
    "\n",
    "def regula_falsi(f, a, b, tol=1e-4, nMax=100):\n",
    "    c0 = a\n",
    "    for i in range(nMax):\n",
    "        c = (a * f(b) - b * f(a)) / (f(b) - f(a))\n",
    "        if abs(c - c0) < tol:\n",
    "            break\n",
    "        # print(f\"{i}, {a:.2f}, {b:.2f}, {c:.2f}, {f(a):.2f}, {f(b):.2f}, {abs(c0-c):.2f}\")\n",
    "        if f(a) * f(c) < 0:\n",
    "            b = c\n",
    "        else:\n",
    "            a = c\n",
    "    return c\n",
    "\n",
    "x0 = -1\n",
    "x1 = 1\n",
    "xx = regula_falsi(f, x0, x1)\n",
    "print(f\"fonksiyonun kökü: {xx:.2f}\")\n",
    "print(f\"fonksiyonda değeri: {f(xx):.2f}\")"
   ]
  },
  {
   "cell_type": "markdown",
   "metadata": {},
   "source": [
    "### Fixed Point Iteration "
   ]
  },
  {
   "cell_type": "code",
   "execution_count": 8,
   "metadata": {},
   "outputs": [
    {
     "name": "stdout",
     "output_type": "stream",
     "text": [
      "fonksiyonun kökü: 2.00\n",
      "fonksiyonda değeri: 0.00\n"
     ]
    }
   ],
   "source": [
    "def f(x):\n",
    "    return x**2 - 5 * x + 6\n",
    "\n",
    "def g(x):\n",
    "    return (6 + x**2) / 5\n",
    "\n",
    "def fixed_point(f, x0, tol=1e-4, nMax=100):\n",
    "    for i in range(nMax):\n",
    "        x1 = g(x0)\n",
    "        if abs(x1 - x0) < tol:\n",
    "            break\n",
    "        # print(f\"{i}, {x0:.2f}, {x1:.2f}, {f(x0):.2f}, {f(x1):.2f}, {abs(x1-x0):.2f}\")\n",
    "        x0 = x1\n",
    "\n",
    "    return x1\n",
    "\n",
    "x0 = 0\n",
    "xx = fixed_point(f, x0)\n",
    "print(f\"fonksiyonun kökü: {xx:.2f}\")\n",
    "print(f\"fonksiyonda değeri: {f(xx):.2f}\")"
   ]
  },
  {
   "cell_type": "markdown",
   "metadata": {},
   "source": [
    "<div id=\"3.1\">\n",
    "<h2>3. Hafta 1. Ders</h2>\n",
    "</div>"
   ]
  },
  {
   "cell_type": "markdown",
   "metadata": {},
   "source": [
    "### Polinomlar"
   ]
  },
  {
   "cell_type": "code",
   "execution_count": 9,
   "metadata": {},
   "outputs": [
    {
     "name": "stdout",
     "output_type": "stream",
     "text": [
      "P(1) = 12\n",
      "P(4) = 18\n"
     ]
    }
   ],
   "source": [
    "def polyval(p, x):\n",
    "    d = len(p)\n",
    "    t = 0\n",
    "    for i in range(d):\n",
    "        t += p[i] * x**i\n",
    "    return t\n",
    "\n",
    "p = [30, -19, 0, 1]\n",
    "\n",
    "print(f\"P(1) = {polyval(p, 1)}\")\n",
    "print(f\"P(4) = {polyval(p, 4)}\")"
   ]
  },
  {
   "cell_type": "markdown",
   "metadata": {},
   "source": [
    "### Polinom Toplama"
   ]
  },
  {
   "cell_type": "code",
   "execution_count": 10,
   "metadata": {},
   "outputs": [
    {
     "name": "stdout",
     "output_type": "stream",
     "text": [
      "[2, 3, 1]\n"
     ]
    }
   ],
   "source": [
    "def polysum(p, q):\n",
    "    n = len(p)\n",
    "    m = len(q)\n",
    "    s = []\n",
    "    for i in range(max(n, m)):\n",
    "        t = 0\n",
    "        if i < n:\n",
    "            t += p[i]\n",
    "        if i < m:\n",
    "            t += q[i]\n",
    "        s.append(t)\n",
    "    return s\n",
    "\n",
    "\n",
    "p = [4, -3, 1]\n",
    "q = [-2, 6]\n",
    "y = polysum(p, q)\n",
    "print(y)"
   ]
  },
  {
   "cell_type": "markdown",
   "metadata": {},
   "source": [
    "### Polinom Çarpma"
   ]
  },
  {
   "cell_type": "code",
   "execution_count": 11,
   "metadata": {},
   "outputs": [
    {
     "name": "stdout",
     "output_type": "stream",
     "text": [
      "[-8, 30, -20, 6]\n"
     ]
    }
   ],
   "source": [
    "def polyprod(p, q):\n",
    "    n = len(p)\n",
    "    m = len(q)\n",
    "    c = [0] * (m + n - 1)\n",
    "    for i in range(n):\n",
    "        for j in range(m):\n",
    "            k = i + j\n",
    "            c[k] += p[i] * q[j]\n",
    "    return c\n",
    "\n",
    "\n",
    "p = [4, -3, 1]\n",
    "q = [-2, 6]\n",
    "y = polyprod(p, q)\n",
    "print(y)"
   ]
  },
  {
   "cell_type": "markdown",
   "metadata": {},
   "source": [
    "### Polinom Katsayıları Bulma"
   ]
  },
  {
   "cell_type": "code",
   "execution_count": 12,
   "metadata": {},
   "outputs": [
    {
     "name": "stdout",
     "output_type": "stream",
     "text": [
      "Polinomun katsayıları: [6, -5, 1]\n"
     ]
    }
   ],
   "source": [
    "def poly(r):\n",
    "    p = [1]\n",
    "    n = len(r)\n",
    "    for i in range(n):\n",
    "        p = polyprod(p, [-r[i], 1])\n",
    "    return p\n",
    "\n",
    "\n",
    "r = [2, 3]\n",
    "y = poly(r)\n",
    "\n",
    "print(\"Polinomun katsayıları:\", y)"
   ]
  },
  {
   "cell_type": "markdown",
   "metadata": {},
   "source": [
    "<div id=\"3.2\">\n",
    "<h2>3. Hafta 2. Ders</h2>\n",
    "</div>"
   ]
  },
  {
   "cell_type": "markdown",
   "metadata": {},
   "source": [
    "### Polinom Bölme"
   ]
  },
  {
   "cell_type": "code",
   "execution_count": 13,
   "metadata": {},
   "outputs": [
    {
     "name": "stdout",
     "output_type": "stream",
     "text": [
      "Polinomun katsayıları: [6, -5, 1]\n",
      "Polinomun x=2 köküne bölümü: [-3, 1]\n"
     ]
    }
   ],
   "source": [
    "def polydiv(p, r):\n",
    "    n = len(p)\n",
    "    q = [0] * n\n",
    "    for i in range(n - 1, -1, -1):\n",
    "        q[i - 1] = p[i] + r * q[i]\n",
    "    return q[:-1]\n",
    "\n",
    "\n",
    "r = [2, 3]\n",
    "p = poly(r)\n",
    "print(\"Polinomun katsayıları:\", p)\n",
    "q = polydiv(p, 2)\n",
    "print(\"Polinomun x=2 köküne bölümü:\", q)"
   ]
  },
  {
   "cell_type": "code",
   "execution_count": 14,
   "metadata": {},
   "outputs": [
    {
     "name": "stdout",
     "output_type": "stream",
     "text": [
      "Polinomun katsayıları: [30, -19, 0, 1]\n",
      "Poilnomun x=-5 köküne bölümü: [6, -5, 1]\n"
     ]
    }
   ],
   "source": [
    "r = [2, 3, -5]\n",
    "p = poly(r)\n",
    "print(\"Polinomun katsayıları:\", p)\n",
    "q = polydiv(p, -5)\n",
    "print(\"Poilnomun x=-5 köküne bölümü:\", q)"
   ]
  },
  {
   "cell_type": "markdown",
   "metadata": {},
   "source": [
    "### Polinom Türev"
   ]
  },
  {
   "cell_type": "code",
   "execution_count": 15,
   "metadata": {},
   "outputs": [
    {
     "name": "stdout",
     "output_type": "stream",
     "text": [
      "Polinomun katsayıları: [30, -19, 0, 1]\n",
      "Polinomun türevi: [0, -19, 0, 3]\n"
     ]
    }
   ],
   "source": [
    "def polyder(p):\n",
    "    n = len(p)\n",
    "    q = [0] * n\n",
    "    for i in range(n):\n",
    "        q[i] = i * p[i]\n",
    "    return q\n",
    "\n",
    "\n",
    "r = [2, 3, -5]\n",
    "p = poly(r)\n",
    "print(\"Polinomun katsayıları:\", p)\n",
    "t = polyder(p)\n",
    "print(\"Polinomun türevi:\", t)"
   ]
  },
  {
   "cell_type": "markdown",
   "metadata": {},
   "source": [
    "### Polinomun Newton-Raphson ile köklerini Bulma"
   ]
  },
  {
   "cell_type": "code",
   "execution_count": 16,
   "metadata": {},
   "outputs": [
    {
     "name": "stdout",
     "output_type": "stream",
     "text": [
      "Polinomun 1. kökü: 2.00\n",
      "Polinomun 2. kökü: 3.00\n",
      "Polinomun 3. kökü: -5.00\n"
     ]
    }
   ],
   "source": [
    "def newton_raphson_method(f, x0, tol=1e-4, nMax=100):\n",
    "    for i in range(nMax):\n",
    "        q = polyder(p)\n",
    "        x1 = x0 - polyval(p, x0) / polyval(q, x0)\n",
    "        if abs(x1 - x0) < tol:\n",
    "            break\n",
    "        x0 = x1\n",
    "    return x1\n",
    "\n",
    "\n",
    "r = [2, 3, -5]\n",
    "p = poly(r)\n",
    "n = len(p)\n",
    "for i in range(n - 1):\n",
    "    r0 = newton_raphson_method(p, 1)\n",
    "    print(f\"Polinomun {i+1}. kökü: {r0:.2f}\")\n",
    "    p = polydiv(p, r0)"
   ]
  },
  {
   "cell_type": "markdown",
   "metadata": {},
   "source": [
    "### Polinom İntegral"
   ]
  },
  {
   "cell_type": "code",
   "execution_count": 17,
   "metadata": {},
   "outputs": [
    {
     "name": "stdout",
     "output_type": "stream",
     "text": [
      "Polinomun katsayıları: [30, -19, 0, 1]\n",
      "Polinomun integrali: [0, 30.0, -9.5, 0.0, 0.25]\n"
     ]
    }
   ],
   "source": [
    "def polyint(p):\n",
    "    n = len(p)\n",
    "    q = [0] * (n + 1)\n",
    "    for i in range(n):\n",
    "        q[i + 1] = p[i] / (i + 1)\n",
    "    return q\n",
    "\n",
    "\n",
    "r = [2, 3, -5]\n",
    "p = poly(r)\n",
    "print(\"Polinomun katsayıları:\", p)\n",
    "t = polyint(p)\n",
    "print(\"Polinomun integrali:\", t)"
   ]
  },
  {
   "cell_type": "markdown",
   "metadata": {},
   "source": [
    "<div id=\"4.1\">\n",
    "<h2>4. Hafta 1. Ders</h2>\n",
    "</div>"
   ]
  },
  {
   "cell_type": "markdown",
   "metadata": {},
   "source": [
    "### Matrisler"
   ]
  },
  {
   "cell_type": "code",
   "execution_count": 18,
   "metadata": {},
   "outputs": [
    {
     "name": "stdout",
     "output_type": "stream",
     "text": [
      "A matrisi: \n",
      " [4 8 3 6]\n",
      "B matrisi: \n",
      " [[4 8 3 6]]\n",
      "C matrisi: \n",
      " [[4]\n",
      " [8]\n",
      " [3]\n",
      " [6]]\n"
     ]
    }
   ],
   "source": [
    "a = np.array([4, 8, 3, 6])\n",
    "b = a.reshape(1, -1)\n",
    "c = a.reshape(-1, 1)\n",
    "print(\"A matrisi: \\n\", a)\n",
    "print(\"B matrisi: \\n\", b)\n",
    "print(\"C matrisi: \\n\", c)"
   ]
  },
  {
   "cell_type": "code",
   "execution_count": 19,
   "metadata": {},
   "outputs": [
    {
     "name": "stdout",
     "output_type": "stream",
     "text": [
      "D matrisi: \n",
      " [[ 3  5  8]\n",
      " [ 7  3  9]\n",
      " [91 65  3]]\n"
     ]
    }
   ],
   "source": [
    "d = np.array([[3, 5, 8], \n",
    "              [7, 3, 9], \n",
    "              [91, 65, 3]])\n",
    "print(\"D matrisi: \\n\", d)"
   ]
  },
  {
   "cell_type": "code",
   "execution_count": 20,
   "metadata": {},
   "outputs": [
    {
     "name": "stdout",
     "output_type": "stream",
     "text": [
      "E matrisi: \n",
      " [[94 12 41 87]\n",
      " [20 32 58 58]\n",
      " [26 63 24 42]\n",
      " [45 73 22  8]]\n"
     ]
    }
   ],
   "source": [
    "# rastgele değerlerle matris oluşturma\n",
    "e = np.random.randint(0, 100, size=(4, 4))\n",
    "print(\"E matrisi: \\n\", e)"
   ]
  },
  {
   "cell_type": "code",
   "execution_count": 21,
   "metadata": {},
   "outputs": [
    {
     "name": "stdout",
     "output_type": "stream",
     "text": [
      "E2 matrisi: \n",
      " [[4.31796226 2.32239864 2.90666843]\n",
      " [2.8827378  3.89157623 4.79799678]\n",
      " [3.98964173 2.97265535 3.38508608]\n",
      " [2.43423724 2.6397481  4.99874825]\n",
      " [4.94603594 4.54631359 4.7724339 ]]\n"
     ]
    }
   ],
   "source": [
    "e2 = np.random.uniform(2, 5, size=(5, 3))\n",
    "print(\"E2 matrisi: \\n\", e2)"
   ]
  },
  {
   "cell_type": "markdown",
   "metadata": {},
   "source": [
    "### Matris Toplama"
   ]
  },
  {
   "cell_type": "code",
   "execution_count": 22,
   "metadata": {},
   "outputs": [
    {
     "name": "stdout",
     "output_type": "stream",
     "text": [
      "A matrisi: \n",
      " [[4.72680801 4.0539037  2.05419393]\n",
      " [4.92985984 3.03770959 3.34166652]\n",
      " [4.26073229 3.85042928 3.47813202]\n",
      " [4.08564086 4.26083674 4.69186705]\n",
      " [4.82866877 4.17611104 3.69270617]]\n",
      "A matrisi toplamı: 59.469265815666276\n"
     ]
    }
   ],
   "source": [
    "a = np.random.uniform(2, 5, size=(5, 3))\n",
    "c = np.sum(a)\n",
    "print(\"A matrisi: \\n\", a)\n",
    "print(\"A matrisi toplamı:\", c)"
   ]
  },
  {
   "cell_type": "code",
   "execution_count": 23,
   "metadata": {},
   "outputs": [
    {
     "name": "stdout",
     "output_type": "stream",
     "text": [
      "A matrisi: \n",
      " [[3.29202248 4.16447883 2.78653854]\n",
      " [2.98692826 2.79424174 4.30061547]\n",
      " [2.61702224 4.57582785 2.81256   ]\n",
      " [2.08336276 3.61716249 4.50418174]\n",
      " [2.06975595 2.42129056 2.37018933]]\n",
      "A matrisi sütunları toplamı: [13.0490917  17.57300147 16.77408507]\n"
     ]
    }
   ],
   "source": [
    "a = np.random.uniform(2, 5, size=(5, 3))\n",
    "c = np.sum(a, axis=0)  # sütunları toplama\n",
    "print(\"A matrisi: \\n\", a)\n",
    "print(\"A matrisi sütunları toplamı:\", c)"
   ]
  },
  {
   "cell_type": "code",
   "execution_count": 24,
   "metadata": {},
   "outputs": [
    {
     "name": "stdout",
     "output_type": "stream",
     "text": [
      "A matrisi: \n",
      " [[4.35935363 3.11243786 2.23723239]\n",
      " [3.05522538 4.99564953 2.93408196]\n",
      " [3.33182397 3.16936888 2.97797715]\n",
      " [3.20964006 2.23153224 4.6617073 ]\n",
      " [2.05191828 4.82329412 3.74881975]]\n",
      "A matrisi satırları toplamı: [ 9.70902387 10.98495687  9.47917    10.1028796  10.62403216]\n"
     ]
    }
   ],
   "source": [
    "a = np.random.uniform(2, 5, size=(5, 3))\n",
    "c = np.sum(a, axis=1)  # satırları toplama\n",
    "print(\"A matrisi: \\n\", a)\n",
    "print(\"A matrisi satırları toplamı:\", c)"
   ]
  },
  {
   "cell_type": "code",
   "execution_count": 25,
   "metadata": {},
   "outputs": [
    {
     "name": "stdout",
     "output_type": "stream",
     "text": [
      "A matrisi: \n",
      " [[4.11070251 4.22198138 2.95583403]\n",
      " [4.39852867 4.28279088 4.45243484]\n",
      " [4.97367987 4.79093715 2.18557616]\n",
      " [4.18309785 2.90957063 4.02640788]\n",
      " [3.63224075 4.30468576 2.97105634]]\n",
      "B matrisi: \n",
      " [[3.17155137 3.38235847 2.61579275]\n",
      " [4.94395881 3.39426129 2.86470018]\n",
      " [3.37557495 4.50657392 4.40971246]\n",
      " [2.07952494 2.91663547 3.72738307]\n",
      " [4.72524741 3.5161891  2.17949086]]\n",
      "A + B toplamı: \n",
      " [[7.28225388 7.60433985 5.57162678]\n",
      " [9.34248748 7.67705217 7.31713501]\n",
      " [8.34925482 9.29751107 6.59528862]\n",
      " [6.26262279 5.82620611 7.75379096]\n",
      " [8.35748816 7.82087485 5.1505472 ]]\n"
     ]
    }
   ],
   "source": [
    "# iki matrisin toplamını bulan fonksiyon\n",
    "def add(a, b):\n",
    "    m, n = a.shape\n",
    "    c = np.zeros(a.shape)\n",
    "    for i in range(m):\n",
    "        for j in range(n):\n",
    "            c[i, j] = a[i, j] + b[i, j]\n",
    "    return c\n",
    "\n",
    "\n",
    "a = np.random.uniform(2, 5, size=(5, 3))\n",
    "b = np.random.uniform(2, 5, size=(5, 3))\n",
    "c = add(a, b)\n",
    "print(\"A matrisi: \\n\", a)\n",
    "print(\"B matrisi: \\n\", b)\n",
    "print(\"A + B toplamı: \\n\", c)"
   ]
  },
  {
   "cell_type": "markdown",
   "metadata": {},
   "source": [
    "<div id=\"4.2\">\n",
    "<h2>4. Hafta 2. Ders</h2>\n",
    "</div>"
   ]
  },
  {
   "cell_type": "markdown",
   "metadata": {},
   "source": [
    "### Matris Çarpma"
   ]
  },
  {
   "cell_type": "code",
   "execution_count": 26,
   "metadata": {},
   "outputs": [
    {
     "name": "stdout",
     "output_type": "stream",
     "text": [
      "A matrisi: \n",
      " [[4.72411793 4.06105356 4.60247518]\n",
      " [4.60292732 3.38438529 3.25989225]\n",
      " [3.02118874 2.30772805 4.02539546]\n",
      " [4.3697087  4.59356688 4.28352335]\n",
      " [4.74505066 3.90433156 4.38392493]]\n",
      "B matrisi: \n",
      " [[3.3922263  3.88230007 3.59560929 3.93831175]\n",
      " [2.1387327  4.74139452 3.27885087 2.85991805]\n",
      " [2.12437846 4.17271705 4.18828218 2.26937078]]\n",
      "Numpy ile matris çarpımı: \n",
      " [[34.4881843  56.80032712 49.5781361  40.66405224]\n",
      " [29.7777115  47.51925887 41.30057149 35.20473155]\n",
      " [23.73563277 39.46784665 35.2892025  27.63341105]\n",
      " [33.74727723 56.61836411 48.71399045 40.06740268]\n",
      " [33.75972294 55.22656506 48.22418383 39.80230822]]\n",
      "Bizim fonksiyonumuz ile matris çarpımı: \n",
      " [[34.4881843  56.80032712 49.5781361  40.66405224]\n",
      " [29.7777115  47.51925887 41.30057149 35.20473155]\n",
      " [23.73563277 39.46784665 35.2892025  27.63341105]\n",
      " [33.74727723 56.61836411 48.71399045 40.06740268]\n",
      " [33.75972294 55.22656506 48.22418383 39.80230822]]\n"
     ]
    }
   ],
   "source": [
    "# iki matrisin çarpımını bulan fonksiyon\n",
    "def dot(a, b):\n",
    "    m, n = a.shape\n",
    "    p, q = b.shape\n",
    "    if n != p:\n",
    "        print(\"çarpım mümkün değil\")\n",
    "        return\n",
    "    c = np.zeros((m, q))\n",
    "    for i in range(m):\n",
    "        for j in range(q):\n",
    "            for k in range(n):\n",
    "                c[i, j] += a[i, k] * b[k, j]\n",
    "    return c\n",
    "\n",
    "\n",
    "a = np.random.uniform(2, 5, size=(5, 3))\n",
    "b = np.random.uniform(2, 5, size=(3, 4))\n",
    "print(\"A matrisi: \\n\", a)\n",
    "print(\"B matrisi: \\n\", b)\n",
    "print(\"Numpy ile matris çarpımı: \\n\", np.dot(a, b))\n",
    "print(\"Bizim fonksiyonumuz ile matris çarpımı: \\n\", dot(a, b))"
   ]
  },
  {
   "cell_type": "markdown",
   "metadata": {},
   "source": [
    "### Matrisin Transpozu"
   ]
  },
  {
   "cell_type": "code",
   "execution_count": 27,
   "metadata": {},
   "outputs": [
    {
     "name": "stdout",
     "output_type": "stream",
     "text": [
      "A matrisi: \n",
      " [[3.28032307 4.93628063 2.94078875]\n",
      " [4.81211827 3.56929993 2.38084925]\n",
      " [3.97569541 2.46465431 3.9174132 ]\n",
      " [3.34690471 4.09503147 4.45565982]\n",
      " [3.50360504 2.75425485 3.57903483]]\n",
      "Numpy ile matrisin transpozu: \n",
      " [[3.28032307 4.81211827 3.97569541 3.34690471 3.50360504]\n",
      " [4.93628063 3.56929993 2.46465431 4.09503147 2.75425485]\n",
      " [2.94078875 2.38084925 3.9174132  4.45565982 3.57903483]]\n",
      "Bizim fonksiyonumuz ile matrisin transpozu: \n",
      " [[3.28032307 4.81211827 3.97569541 3.34690471 3.50360504]\n",
      " [4.93628063 3.56929993 2.46465431 4.09503147 2.75425485]\n",
      " [2.94078875 2.38084925 3.9174132  4.45565982 3.57903483]]\n"
     ]
    }
   ],
   "source": [
    "# matrisin transpose bulan fonksiyon\n",
    "def transpose(a):\n",
    "    m, n = a.shape\n",
    "    c = np.zeros((a.shape[1], a.shape[0]))\n",
    "    for i in range(n):\n",
    "        for j in range(m):\n",
    "            c[i, j] = a[j, i]\n",
    "    return c\n",
    "\n",
    "\n",
    "a = np.random.uniform(2, 5, size=(5, 3))\n",
    "\n",
    "print(\"A matrisi: \\n\", a)\n",
    "print(\"Numpy ile matrisin transpozu: \\n\", np.transpose(a))\n",
    "print(\"Bizim fonksiyonumuz ile matrisin transpozu: \\n\", transpose(a))"
   ]
  },
  {
   "cell_type": "markdown",
   "metadata": {},
   "source": [
    "### Matrisin İzi"
   ]
  },
  {
   "cell_type": "code",
   "execution_count": 28,
   "metadata": {},
   "outputs": [
    {
     "name": "stdout",
     "output_type": "stream",
     "text": [
      "A matrisi: \n",
      " [[4.85535975 4.01462809]\n",
      " [4.65628362 3.73659796]\n",
      " [2.59305341 4.97209926]]\n",
      "Numpy ile matrisin izi: \n",
      " 8.591957716678497\n",
      "Bizim fonksiyonumuz ile matrisin izi: \n",
      " 8.591957716678497\n"
     ]
    }
   ],
   "source": [
    "# matrisin izini bulan fonksiyon\n",
    "def trace(a):\n",
    "    m, n = a.shape\n",
    "    c = 0\n",
    "    for i in range(m):\n",
    "        if i < m and i < n:\n",
    "            c += a[i, i]\n",
    "    return c\n",
    "\n",
    "\n",
    "a = np.random.uniform(2, 5, size=(3, 2))\n",
    "print(\"A matrisi: \\n\", a)\n",
    "print(\"Numpy ile matrisin izi: \\n\", np.trace(a))\n",
    "print(\"Bizim fonksiyonumuz ile matrisin izi: \\n\", trace(a))"
   ]
  },
  {
   "cell_type": "markdown",
   "metadata": {},
   "source": [
    "### Matrisin Determinantı"
   ]
  },
  {
   "cell_type": "code",
   "execution_count": 29,
   "metadata": {},
   "outputs": [
    {
     "name": "stdout",
     "output_type": "stream",
     "text": [
      "A matrisi: \n",
      " [[3.98252707 2.49927877 4.04183226 3.08344973]\n",
      " [3.30509584 3.49843597 4.00624127 4.20412807]\n",
      " [2.18057619 2.82334039 4.08176284 2.59040853]\n",
      " [4.66465978 4.34685031 4.76513444 4.6581615 ]]\n",
      "A matrisinin seçili alt matrisi: \n",
      " [[3.98252707 2.49927877 3.08344973]\n",
      " [2.18057619 2.82334039 2.59040853]\n",
      " [4.66465978 4.34685031 4.6581615 ]]\n"
     ]
    }
   ],
   "source": [
    "# alt matrisi bulan fonksiyon\n",
    "def sub_matrix(a, I, J):\n",
    "    n, _ = a.shape\n",
    "    c = np.zeros((n - 1, n - 1))\n",
    "    ii = 0\n",
    "    for i in range(n):\n",
    "        jj = 0\n",
    "        for j in range(n):\n",
    "            if i != I and j != J:\n",
    "                c[ii, jj] = a[i, j]\n",
    "                jj += 1\n",
    "                if jj == n - 1:\n",
    "                    ii += 1\n",
    "    return c\n",
    "\n",
    "\n",
    "a = np.random.uniform(2, 5, size=(4, 4))\n",
    "\n",
    "print(\"A matrisi: \\n\", a)\n",
    "print(\"A matrisinin seçili alt matrisi: \\n\", sub_matrix(a, 1, 2))"
   ]
  },
  {
   "cell_type": "markdown",
   "metadata": {},
   "source": [
    "#### Laplace Yöntemi ile Determinant Hesaplama"
   ]
  },
  {
   "cell_type": "code",
   "execution_count": 30,
   "metadata": {},
   "outputs": [
    {
     "name": "stdout",
     "output_type": "stream",
     "text": [
      "A matrisi: \n",
      " [[3.83414322 3.80160915 3.80855351 3.36702297]\n",
      " [3.55763243 2.74810197 4.96833676 4.55157083]\n",
      " [2.19932729 2.09654457 2.33027671 2.25808025]\n",
      " [3.08647204 4.27421136 3.60003055 2.85819751]]\n",
      "A matrisinin laplace yöntemi ile determinantı: \n",
      " 1.4933305374493262\n",
      "A matrisinin np.linalg.det() ile determinantı: \n",
      " 1.493330537449338\n"
     ]
    }
   ],
   "source": [
    "# laplace determinant yöntemi ile determinant bulan fonksiyon\n",
    "def det_laplace(a):\n",
    "    n, _ = a.shape\n",
    "    if n == 1:\n",
    "        return a[0, 0]\n",
    "    d = 0\n",
    "    for j in range(n):\n",
    "        c = sub_matrix(a, 0, j)\n",
    "        d += (-1) ** j * a[0, j] * det_laplace(c)\n",
    "    return d\n",
    "\n",
    "\n",
    "a = np.random.uniform(2, 5, size=(4, 4))\n",
    "print(\"A matrisi: \\n\", a)\n",
    "print(\"A matrisinin laplace yöntemi ile determinantı: \\n\", det_laplace(a))\n",
    "print(\"A matrisinin np.linalg.det() ile determinantı: \\n\", np.linalg.det(a))"
   ]
  },
  {
   "cell_type": "markdown",
   "metadata": {},
   "source": [
    "<div id=\"5.1\">\n",
    "<h2>5. Hafta 1. Ders</h2>\n",
    "</div>"
   ]
  },
  {
   "cell_type": "markdown",
   "metadata": {},
   "source": [
    "#### Gauss Eleme Yöntemi ile Determinant Hesaplama"
   ]
  },
  {
   "cell_type": "code",
   "execution_count": 56,
   "metadata": {},
   "outputs": [
    {
     "name": "stdout",
     "output_type": "stream",
     "text": [
      "A matrisi: \n",
      " [[4.85974324 2.98694449 4.41971223]\n",
      " [3.35235113 4.15192978 2.23228149]\n",
      " [3.04240151 3.06748819 4.90261407]]\n",
      "A matrisinin gauss eleme yöntemi ile determinantı: \n",
      " 26.459171352120144\n",
      "A matrisinin np.linalg.det() ile determinantı: \n",
      " 26.45917135212014\n"
     ]
    }
   ],
   "source": [
    "def det_gauss_elimination(a):\n",
    "    \n",
    "    n = a.shape[0]\n",
    "    for i in range(n - 1):\n",
    "        for k in range(i + 1, n):\n",
    "            p = a[k, i] / a[i, i]\n",
    "            for j in range(n):\n",
    "                a[k, j] = a[k, j] - p * a[i, j]\n",
    "    d = 1\n",
    "    for i in range(n):\n",
    "        d *= a[i, i]\n",
    "    return d\n",
    "\n",
    "\n",
    "a = np.random.uniform(2, 5, size=(3, 3))\n",
    "print(\"A matrisi: \\n\", a)\n",
    "print(\"A matrisinin gauss eleme yöntemi ile determinantı: \\n\", det_gauss_elimination(a))\n",
    "print(\"A matrisinin np.linalg.det() ile determinantı: \\n\", np.linalg.det(a))"
   ]
  },
  {
   "cell_type": "markdown",
   "metadata": {},
   "source": [
    "<div id=\"5.2\">\n",
    "<h2>5. Hafta 2. Ders</h2>\n",
    "</div>"
   ]
  },
  {
   "cell_type": "markdown",
   "metadata": {},
   "source": [
    "### LU Ayrışım Yöntemi ile Determinant Hesaplama"
   ]
  },
  {
   "cell_type": "code",
   "execution_count": 32,
   "metadata": {},
   "outputs": [
    {
     "name": "stdout",
     "output_type": "stream",
     "text": [
      "A matrisi: \n",
      " [[3.52913372 4.50008627 4.18725833 2.86365841]\n",
      " [2.85180552 2.25346022 3.42127582 2.86521312]\n",
      " [3.13589141 2.15630678 2.08445206 2.71174858]\n",
      " [3.23604513 4.68266686 3.74624116 4.41688359]]\n",
      "A matrisinin LU ayrıştırma yöntemi ile determinantı: \n",
      " 16.782501443622866\n",
      "A matrisinin np.linalg.det() ile determinantı: \n",
      " 16.782501443622877\n"
     ]
    }
   ],
   "source": [
    "def det_lu(a):\n",
    "    n = a.shape[0]\n",
    "    L = np.eye(n)\n",
    "    U = np.zeros((n, n))\n",
    "\n",
    "    for i in range(n):\n",
    "        for j in range(n):\n",
    "            if j >= i:\n",
    "                U[i, j] = a[i, j]\n",
    "                for k in range(i):\n",
    "                    U[i, j] -= L[i, k] * U[k, j]\n",
    "                U[i, j] /= L[i, i]\n",
    "            else:\n",
    "                L[i, j] = a[i, j]\n",
    "                for k in range(j):\n",
    "                    L[i, j] -= L[i, k] * U[k, j]\n",
    "                L[i, j] /= U[j, j]\n",
    "    d = 1\n",
    "    for i in range(n):\n",
    "        d *= U[i, i]\n",
    "    return d\n",
    "\n",
    "\n",
    "a = np.random.uniform(2, 5, size=(4, 4))\n",
    "print(\"A matrisi: \\n\", a)\n",
    "print(\"A matrisinin LU ayrıştırma yöntemi ile determinantı: \\n\", det_lu(a))\n",
    "print(\"A matrisinin np.linalg.det() ile determinantı: \\n\", np.linalg.det(a))"
   ]
  },
  {
   "cell_type": "markdown",
   "metadata": {},
   "source": [
    "### Cramer Kuralı ile Denklem Sistemi Çözüm"
   ]
  },
  {
   "cell_type": "code",
   "execution_count": 33,
   "metadata": {},
   "outputs": [
    {
     "name": "stdout",
     "output_type": "stream",
     "text": [
      "A matrisi: \n",
      " [[0.40605974 0.85376256 0.03760028 0.96547744]\n",
      " [0.36896957 0.12494536 0.91525466 0.74580915]\n",
      " [0.14942158 0.66766039 0.66756211 0.54588141]\n",
      " [0.00994269 0.03745465 0.32647723 0.45521103]]\n",
      "x vektörü: \n",
      " [[6]\n",
      " [3]\n",
      " [5]\n",
      " [8]]\n",
      "B vektörü: \n",
      " [[12.90946703]\n",
      " [13.13140002]\n",
      " [10.60437253]\n",
      " [ 5.44609449]]\n",
      "---------------------------------------\n",
      "A matrisi: \n",
      " [[0.40605974 0.85376256 0.03760028 0.96547744]\n",
      " [0.36896957 0.12494536 0.91525466 0.74580915]\n",
      " [0.14942158 0.66766039 0.66756211 0.54588141]\n",
      " [0.00994269 0.03745465 0.32647723 0.45521103]]\n",
      "Cramer kuralı ile çözüm: \n",
      " 1.9996232564922938\n"
     ]
    }
   ],
   "source": [
    "def solve_with_cramers_rule(a, b):\n",
    "    n = a.shape[0]\n",
    "    xx = np.zeros(n)\n",
    "    detA = det_gauss_elimination(a.copy())\n",
    "    for j in range(n):\n",
    "        aa = a.copy()\n",
    "        for i in range(n):\n",
    "            aa[i, j] = b[i]\n",
    "        xx[j] = det_gauss_elimination(aa.copy()) / detA\n",
    "    return xx\n",
    "\n",
    "\n",
    "n = 4\n",
    "a = np.random.uniform(0, 1, size=(4, 4))\n",
    "x = np.random.randint(1, 9, size=(n, 1))\n",
    "b = np.dot(a, x)\n",
    "print(\"A matrisi: \\n\", a)\n",
    "print(\"x vektörü: \\n\", x)\n",
    "print(\"B vektörü: \\n\", b)\n",
    "print(\"---------------------------------------\")\n",
    "print(\"A matrisi: \\n\", a)\n",
    "print(\"Cramer kuralı ile çözüm: \\n\", xx)"
   ]
  },
  {
   "cell_type": "markdown",
   "metadata": {},
   "source": [
    "<div id=\"6.1\">\n",
    "<h2>6. Hafta 1. Ders</h2>\n",
    "</div>"
   ]
  },
  {
   "cell_type": "markdown",
   "metadata": {},
   "source": [
    "### Gauss Eleme Yöntemi ile Denklem Sistemi Çözüm"
   ]
  },
  {
   "cell_type": "code",
   "execution_count": 34,
   "metadata": {},
   "outputs": [
    {
     "name": "stdout",
     "output_type": "stream",
     "text": [
      "A matrisi: \n",
      " [[0.26198914 0.60246687 0.07346684 0.95663871]\n",
      " [0.03207871 0.18819615 0.58463899 0.00741401]\n",
      " [0.21214926 0.3270425  0.08032673 0.05178502]\n",
      " [0.15436635 0.63435306 0.43536447 0.9783483 ]]\n",
      "x vektörü: \n",
      " [[3]\n",
      " [7]\n",
      " [4]\n",
      " [1]]\n",
      "B vektörü: \n",
      " [[6.25374163]\n",
      " [3.75957912]\n",
      " [3.29883721]\n",
      " [7.62337664]]\n",
      "---------------------------------------\n",
      "A matrisi: \n",
      " [[ 0.26198914  0.60246687  0.07346684  0.95663871]\n",
      " [ 0.          0.11442836  0.5756435  -0.10971961]\n",
      " [ 0.          0.          0.82982315 -0.87706183]\n",
      " [ 0.          0.          0.         -0.38846281]]\n",
      "Gauss Eleme Yöntemi ile çözüm: \n",
      " [3. 7. 4. 1.]\n"
     ]
    }
   ],
   "source": [
    "def solve_with_gauss_elimination(a, b):\n",
    "    n = a.shape[0]\n",
    "    xx = np.zeros(n)\n",
    "    for i in range(n - 1):\n",
    "        for k in range(i + 1, n):\n",
    "            p = a[k, i] / a[i, i]\n",
    "            for j in range(n):\n",
    "                a[k, j] = a[k, j] - p * a[i, j]\n",
    "            b[k] = b[k] - p * b[i]\n",
    "\n",
    "    for i in range(n - 1, -1, -1):\n",
    "        xx[i] = b[i]\n",
    "        for j in range(i + 1, n):\n",
    "            xx[i] -= a[i, j] * xx[j]\n",
    "        xx[i] /= a[i, i]\n",
    "\n",
    "    return xx\n",
    "\n",
    "\n",
    "n = 4\n",
    "a = np.random.uniform(0, 1, size=(4, 4))\n",
    "x = np.random.randint(1, 9, size=(n, 1))\n",
    "b = np.dot(a, x)\n",
    "print(\"A matrisi: \\n\", a)\n",
    "print(\"x vektörü: \\n\", x)\n",
    "print(\"B vektörü: \\n\", b)\n",
    "print(\"---------------------------------------\")\n",
    "xx = solve_with_gauss_elimination(a, b)\n",
    "print(\"A matrisi: \\n\", a)\n",
    "print(\"Gauss Eleme Yöntemi ile çözüm: \\n\", xx)"
   ]
  },
  {
   "cell_type": "markdown",
   "metadata": {},
   "source": [
    "<div id=\"6.2\">\n",
    "<h2>6. Hafta 2. Ders</h2>\n",
    "</div>"
   ]
  },
  {
   "cell_type": "markdown",
   "metadata": {},
   "source": [
    "### Gauss Jordan Yöntemi ile Denklem Sistemi Çözüm"
   ]
  },
  {
   "cell_type": "code",
   "execution_count": 35,
   "metadata": {},
   "outputs": [
    {
     "name": "stdout",
     "output_type": "stream",
     "text": [
      "A matrisi: \n",
      " [[0.47394877 0.46474085 0.10061736 0.20120148]\n",
      " [0.24169672 0.27215914 0.39847288 0.58947945]\n",
      " [0.42885108 0.49506071 0.85509082 0.84814839]\n",
      " [0.82401853 0.47954432 0.10312054 0.94308045]]\n",
      "x vektörü: \n",
      " [[5]\n",
      " [5]\n",
      " [7]\n",
      " [5]]\n",
      "B vektörü: \n",
      " [[ 6.40377704]\n",
      " [ 8.30598669]\n",
      " [14.84593667]\n",
      " [11.95506026]]\n",
      "---------------------------------------\n",
      "A matrisi: \n",
      " [[1. 0. 0. 0.]\n",
      " [0. 1. 0. 0.]\n",
      " [0. 0. 1. 0.]\n",
      " [0. 0. 0. 1.]]\n",
      "Gauss Jordan Yöntemi ile çözüm: \n",
      " [5. 5. 7. 5.]\n"
     ]
    }
   ],
   "source": [
    "def solve_with_gauss_jordan(a, b):\n",
    "    n = a.shape[0]\n",
    "    xx = np.zeros(n)\n",
    "    for i in range(n - 1):\n",
    "        for k in range(i + 1, n):\n",
    "            p = a[k, i] / a[i, i]\n",
    "            for j in range(n):\n",
    "                a[k, j] = a[k, j] - p * a[i, j]\n",
    "            b[k] = b[k] - p * b[i]\n",
    "\n",
    "    for i in range(n - 1, 0, -1):\n",
    "        for k in range(i - 1, -1, -1):\n",
    "            p = a[k, i] / a[i, i]\n",
    "            for j in range(n):\n",
    "                a[k, j] = a[k, j] - p * a[i, j]\n",
    "            b[k] = b[k] - p * b[i]\n",
    "\n",
    "    for i in range(n):\n",
    "        b[i] /= a[i, i]\n",
    "        a[i, i] /= a[i, i]\n",
    "        xx[i] = b[i]\n",
    "\n",
    "    return xx\n",
    "\n",
    "\n",
    "n = 4\n",
    "a = np.random.uniform(0, 1, size=(4, 4))\n",
    "x = np.random.randint(1, 9, size=(n, 1))\n",
    "b = np.dot(a, x)\n",
    "print(\"A matrisi: \\n\", a)\n",
    "print(\"x vektörü: \\n\", x)\n",
    "print(\"B vektörü: \\n\", b)\n",
    "print(\"---------------------------------------\")\n",
    "xx = solve_with_gauss_jordan(a, b)\n",
    "print(\"A matrisi: \\n\", a)\n",
    "print(\"Gauss Jordan Yöntemi ile çözüm: \\n\", xx)"
   ]
  },
  {
   "cell_type": "markdown",
   "metadata": {},
   "source": [
    "### LU Ayrıştırma Yöntemi ile Denklem Sistemi Çözüm"
   ]
  },
  {
   "cell_type": "code",
   "execution_count": 36,
   "metadata": {},
   "outputs": [
    {
     "name": "stdout",
     "output_type": "stream",
     "text": [
      "A matrisi: \n",
      " [[0.80967412 0.33574978 0.49550106 0.79658571]\n",
      " [0.35685055 0.78577635 0.02659545 0.15446381]\n",
      " [0.6124739  0.70835527 0.14033461 0.82713366]\n",
      " [0.96702291 0.52276656 0.51161815 0.25056925]]\n",
      "x vektörü: \n",
      " [[2]\n",
      " [5]\n",
      " [3]\n",
      " [1]]\n",
      "B vektörü: \n",
      " [[5.581186  ]\n",
      " [4.87683302]\n",
      " [6.01486166]\n",
      " [6.33330229]]\n",
      "---------------------------------------\n",
      "LU Ayrıştırma Yöntemi ile çözüm: \n",
      " [2. 5. 3. 1.]\n"
     ]
    }
   ],
   "source": [
    "def solve_with_lu(a, b):\n",
    "    n = a.shape[0]\n",
    "    x = np.zeros(n)\n",
    "    y = np.zeros(n)\n",
    "    L = np.eye(n)\n",
    "    U = np.zeros((n, n))\n",
    "\n",
    "    for i in range(n):\n",
    "        for j in range(n):\n",
    "            if j >= i:\n",
    "                U[i, j] = a[i, j]\n",
    "                for k in range(i):\n",
    "                    U[i, j] -= L[i, k] * U[k, j]\n",
    "                U[i, j] /= L[i, i]\n",
    "            else:\n",
    "                L[i, j] = a[i, j]\n",
    "                for k in range(j):\n",
    "                    L[i, j] -= L[i, k] * U[k, j]\n",
    "                L[i, j] /= U[j, j]\n",
    "\n",
    "    for i in range(n):\n",
    "        y[i] = b[i]\n",
    "        for j in range(i):\n",
    "            y[i] -= L[i, j] * y[j]\n",
    "        y[i] /= L[i, i]\n",
    "\n",
    "    for i in range(n - 1, -1, -1):\n",
    "        x[i] = y[i]\n",
    "        for j in range(i + 1, n):\n",
    "            x[i] -= U[i, j] * x[j]\n",
    "        x[i] /= U[i, i]\n",
    "\n",
    "    return x\n",
    "\n",
    "\n",
    "n = 4\n",
    "a = np.random.uniform(0, 1, size=(4, 4))\n",
    "x = np.random.randint(1, 9, size=(n, 1))\n",
    "b = np.dot(a, x)\n",
    "print(\"A matrisi: \\n\", a)\n",
    "print(\"x vektörü: \\n\", x)\n",
    "print(\"B vektörü: \\n\", b)\n",
    "print(\"---------------------------------------\")\n",
    "xx = solve_with_lu(a, b)\n",
    "print(\"LU Ayrıştırma Yöntemi ile çözüm: \\n\", xx)"
   ]
  },
  {
   "cell_type": "markdown",
   "metadata": {},
   "source": [
    "<div id=\"7.1\">\n",
    "<h2>7. Hafta 1. Ders</h2>\n",
    "</div>"
   ]
  },
  {
   "cell_type": "markdown",
   "metadata": {},
   "source": [
    "### Gauss-Sidel Yöntemi ile Denklem Sistemi Çözüm"
   ]
  },
  {
   "cell_type": "code",
   "execution_count": 37,
   "metadata": {},
   "outputs": [
    {
     "name": "stdout",
     "output_type": "stream",
     "text": [
      "A matrisi: \n",
      " [[0.15478628 0.90030637 0.31882214 0.44899437]\n",
      " [0.59571888 0.38167079 0.44975512 0.13901363]\n",
      " [0.59167725 0.76482953 0.7921173  0.5837139 ]\n",
      " [0.33589455 0.06083338 0.19244533 0.81484873]]\n",
      "x vektörü: \n",
      " [[1]\n",
      " [5]\n",
      " [2]\n",
      " [3]]\n",
      "B vektörü: \n",
      " [[6.6409455 ]\n",
      " [3.82062398]\n",
      " [7.75120117]\n",
      " [3.4694983 ]]\n",
      "---------------------------------------\n",
      "Gauss-Sidel Yöntemi ile çözüm: \n",
      " [-1.77131543e+162 -1.73652284e+084  6.09897018e+022 -1.30075223e+019]\n"
     ]
    }
   ],
   "source": [
    "# sağlıklı bir yöntem değil\n",
    "def solve_with_gauss_sidel(a, b, tol=1e-4, nMax=200):\n",
    "    n = a.shape[0]\n",
    "    x = np.random.uniform(0, 10, size=n)\n",
    "    xx = np.zeros(n)\n",
    "\n",
    "    for t in range(nMax):\n",
    "        for i in range(n):\n",
    "            x[i] = b[i]\n",
    "            for j in range(n):\n",
    "                if i != j:\n",
    "                    xx[i] -= a[i, j] * x[j]\n",
    "            xx[i] /= a[i, i]\n",
    "        if np.sum(np.abs(xx - x)) < tol:\n",
    "            break\n",
    "        else:\n",
    "            x = xx.copy()\n",
    "\n",
    "    return x\n",
    "\n",
    "\n",
    "n = 4\n",
    "a = np.random.uniform(0, 1, size=(4, 4))\n",
    "x = np.random.randint(1, 9, size=(n, 1))\n",
    "b = np.dot(a, x)\n",
    "print(\"A matrisi: \\n\", a)\n",
    "print(\"x vektörü: \\n\", x)\n",
    "print(\"B vektörü: \\n\", b)\n",
    "print(\"---------------------------------------\")\n",
    "xx = solve_with_gauss_sidel(a, b)\n",
    "print(\"Gauss-Sidel Yöntemi ile çözüm: \\n\", xx)"
   ]
  },
  {
   "cell_type": "markdown",
   "metadata": {},
   "source": [
    "<div id=\"7.2\">\n",
    "<h2>7. Hafta 2. Ders</h2>\n",
    "</div>"
   ]
  },
  {
   "cell_type": "markdown",
   "metadata": {},
   "source": [
    "### Basit Doğrusal Regresyon"
   ]
  },
  {
   "cell_type": "markdown",
   "metadata": {},
   "source": [
    "<math xmlns=\"http://www.w3.org/1998/Math/MathML\">\n",
    "  <mrow>\n",
    "    <msup>\n",
    "      <mi>y</mi>\n",
    "    </msup>\n",
    "    <mo>=</mo>\n",
    "    <msub>\n",
    "      <mi>b</mi>\n",
    "      <mn>0</mn>\n",
    "    </msub>\n",
    "    <mo>+</mo>\n",
    "    <msub>\n",
    "      <mi>b</mi>\n",
    "      <mn>1</mn>\n",
    "    </msub>\n",
    "    <mi>x</mi>\n",
    "  </mrow>\n",
    "</math>\n"
   ]
  },
  {
   "cell_type": "code",
   "execution_count": 38,
   "metadata": {},
   "outputs": [
    {
     "name": "stdout",
     "output_type": "stream",
     "text": [
      "b0: -1.9999999999999905\n",
      "b1: 2.9999999999999987\n"
     ]
    },
    {
     "data": {
      "image/png": "[encoded data removed]",
      "text/plain": [
       "<Figure size 640x480 with 1 Axes>"
      ]
     },
     "metadata": {},
     "output_type": "display_data"
    }
   ],
   "source": [
    "def simple_linear_regression(x, y):\n",
    "    n = x.size\n",
    "    b = np.zeros(2)\n",
    "    X = np.zeros((2, 2))\n",
    "    yX = np.zeros(2)\n",
    "\n",
    "    for i in range(2):\n",
    "        for j in range(2):\n",
    "            for k in range(n):\n",
    "                X[i, j] += x[k] ** (i + j)\n",
    "        for k in range(n):\n",
    "            yX[i] += y[k] * x[k] ** i\n",
    "\n",
    "    b = solve_with_gauss_jordan(X, yX)\n",
    "    return b\n",
    "\n",
    "\n",
    "x = np.sort(np.random.uniform(0, 10, size=12))\n",
    "y = 3 * x - 2\n",
    "\n",
    "plt.figure()\n",
    "plt.plot(x, y, \"o\")\n",
    "\n",
    "b = simple_linear_regression(x, y)\n",
    "for i in range(b.size):\n",
    "    print(f\"b{i}:\", b[i])\n",
    "\n",
    "yy = b[0] + b[1] * x\n",
    "plt.plot(x, yy)\n",
    "plt.show()"
   ]
  },
  {
   "cell_type": "code",
   "execution_count": 39,
   "metadata": {},
   "outputs": [
    {
     "name": "stdout",
     "output_type": "stream",
     "text": [
      "b0: -1.8255086037813488\n",
      "b1: 2.9429300010599033\n"
     ]
    },
    {
     "data": {
      "image/png": "[encoded data removed]",
      "text/plain": [
       "<Figure size 640x480 with 1 Axes>"
      ]
     },
     "metadata": {},
     "output_type": "display_data"
    }
   ],
   "source": [
    "x = np.sort(np.random.uniform(0, 10, size=12))\n",
    "y = 3 * x - 2 + np.random.normal(0, 1, size=x.size)\n",
    "\n",
    "plt.figure()\n",
    "plt.plot(x, y, \"o\")\n",
    "\n",
    "b = simple_linear_regression(x, y)\n",
    "for i in range(b.size):\n",
    "    print(f\"b{i}:\", b[i])\n",
    "\n",
    "yy = b[0] + b[1] * x\n",
    "plt.plot(x, yy)\n",
    "plt.show()"
   ]
  },
  {
   "cell_type": "markdown",
   "metadata": {},
   "source": [
    "<div id=\"8.1\">\n",
    "<h2>8. Hafta 1. Ders</h2>\n",
    "</div>"
   ]
  },
  {
   "cell_type": "markdown",
   "metadata": {},
   "source": [
    "### Polinomsal Doğrusal Regresyon"
   ]
  },
  {
   "cell_type": "code",
   "execution_count": 40,
   "metadata": {},
   "outputs": [
    {
     "name": "stdout",
     "output_type": "stream",
     "text": [
      "b0: -2.3376177385674617\n",
      "b1: 2.7592609559301073\n",
      "b2: 2.0322909017324675\n"
     ]
    },
    {
     "data": {
      "image/png": "[encoded data removed]",
      "text/plain": [
       "<Figure size 640x480 with 1 Axes>"
      ]
     },
     "metadata": {},
     "output_type": "display_data"
    }
   ],
   "source": [
    "def polynomial_linear_regression(x, y, m=1):\n",
    "    n = x.size\n",
    "    b = np.zeros(m + 1)\n",
    "    X = np.zeros((m + 1, m + 1))\n",
    "    yX = np.zeros(m + 1)\n",
    "\n",
    "    for i in range(m + 1):\n",
    "        for j in range(m + 1):\n",
    "            for k in range(n):\n",
    "                X[i, j] += x[k] ** (i + j)\n",
    "        for k in range(n):\n",
    "            yX[i] += y[k] * x[k] ** i\n",
    "\n",
    "    b = solve_with_gauss_jordan(X, yX)\n",
    "    return b\n",
    "\n",
    "\n",
    "x = np.sort(np.random.uniform(0, 10, size=12))\n",
    "y = 2 * x**2 + 3 * x - 2 + np.random.normal(0, 1, size=x.size)\n",
    "\n",
    "plt.figure()\n",
    "plt.plot(x, y, \"o\")\n",
    "\n",
    "b = polynomial_linear_regression(x, y, 2)\n",
    "for i in range(b.size):\n",
    "    print(f\"b{i}:\", b[i])\n",
    "\n",
    "yy = b[0] + b[1] * x + b[2] * x**2\n",
    "plt.plot(x, yy)\n",
    "plt.show()"
   ]
  },
  {
   "cell_type": "markdown",
   "metadata": {},
   "source": [
    "<div id=\"8.2\">\n",
    "<h2>8. Hafta 2. Ders</h2>\n",
    "</div>"
   ]
  },
  {
   "cell_type": "markdown",
   "metadata": {},
   "source": [
    "### Genelleştirilmiş Doğrusal Regresyon"
   ]
  },
  {
   "cell_type": "code",
   "execution_count": 41,
   "metadata": {},
   "outputs": [
    {
     "name": "stdout",
     "output_type": "stream",
     "text": [
      "b0: -1.802696936339539\n",
      "b1: 3.038569046363412\n"
     ]
    },
    {
     "data": {
      "image/png": "[encoded data removed]",
      "text/plain": [
       "<Figure size 640x480 with 1 Axes>"
      ]
     },
     "metadata": {},
     "output_type": "display_data"
    }
   ],
   "source": [
    "def generalized_linear_regression(X, y):\n",
    "    # b = np.dot(np.linalg.inv(np.dot(X.T, X)), np.dot(X.T, y))\n",
    "    XTX = dot(transpose(X.copy()), X.copy())\n",
    "    XTy = dot(transpose(X.copy()), y)\n",
    "    b = solve_with_gauss_jordan(XTX, XTy)\n",
    "\n",
    "    return b\n",
    "\n",
    "\n",
    "n = 12\n",
    "x = np.sort(np.random.uniform(0, 10, size=n))\n",
    "y = 3 * x - 2 + np.random.normal(0, 1, size=x.size)\n",
    "\n",
    "plt.figure()\n",
    "plt.plot(x, y, \"o\")\n",
    "\n",
    "X = np.hstack((np.ones((n, 1)), x.reshape(n, 1)))\n",
    "\n",
    "b = generalized_linear_regression(X, y.reshape(n, 1))\n",
    "for i in range(b.size):\n",
    "    print(f\"b{i}:\", b[i])\n",
    "\n",
    "yy = b[0] + b[1] * x\n",
    "plt.plot(x, yy)\n",
    "plt.show()"
   ]
  },
  {
   "cell_type": "code",
   "execution_count": 42,
   "metadata": {},
   "outputs": [
    {
     "name": "stdout",
     "output_type": "stream",
     "text": [
      "b0: -1.3355580333196606\n",
      "b1: 3.016991864040592\n",
      "b2: 3.0182087884272817\n"
     ]
    },
    {
     "data": {
      "image/png": "[encoded data removed]",
      "text/plain": [
       "<Figure size 640x480 with 1 Axes>"
      ]
     },
     "metadata": {},
     "output_type": "display_data"
    }
   ],
   "source": [
    "n = 12\n",
    "x = np.sort(np.random.uniform(0, 10, size=n))\n",
    "y = 5 * np.exp(-x) + 3 * x - 2 + np.random.normal(0, 1, size=x.size)\n",
    "\n",
    "plt.figure()\n",
    "plt.plot(x, y, \"o\")\n",
    "\n",
    "X = np.hstack((np.ones((n, 1)), x.reshape(n, 1), np.exp(-x).reshape(n, 1)))\n",
    "\n",
    "b = generalized_linear_regression(X, y.reshape(n, 1))\n",
    "for i in range(b.size):\n",
    "    print(f\"b{i}:\", b[i])\n",
    "\n",
    "yy = b[0] + b[1] * x + b[2] * np.exp(-x)\n",
    "plt.plot(x, yy)\n",
    "plt.show()"
   ]
  },
  {
   "cell_type": "markdown",
   "metadata": {},
   "source": [
    "<div id=\"9.1\">\n",
    "<h2>9. Hafta 1. Ders</h2>\n",
    "</div>"
   ]
  },
  {
   "cell_type": "markdown",
   "metadata": {},
   "source": [
    "### Cramer Kuralı ile Matrisin Tersi"
   ]
  },
  {
   "cell_type": "code",
   "execution_count": 87,
   "metadata": {},
   "outputs": [
    {
     "name": "stdout",
     "output_type": "stream",
     "text": [
      "A Matrisi: \n",
      " [[0.73067701 0.25585735 0.33461105]\n",
      " [1.79371555 2.12736537 1.45126849]\n",
      " [1.1747452  1.09056089 0.22483814]]\n",
      "Cramer Kuralı ile Matrisin Tersi: \n",
      " [[ 1.68451474 -0.46885724  0.51939802]\n",
      " [-1.98529022  0.34898623  0.70195979]\n",
      " [ 0.82817024  0.75697592 -1.67093634]]\n",
      "np.linalg.inv() ile Matrsin Tersi: \n",
      " [[ 1.68451474 -0.46885724  0.51939802]\n",
      " [-1.98529022  0.34898623  0.70195979]\n",
      " [ 0.82817024  0.75697592 -1.67093634]]\n"
     ]
    }
   ],
   "source": [
    "def inverse_cramer(a):\n",
    "    n = a.shape[0]\n",
    "    t = np.zeros((n, n))\n",
    "    detA = det_gauss_elimination(a.copy())\n",
    "\n",
    "    for i in range(n):\n",
    "        for j in range(n):\n",
    "            M=sub_matrix(a, j, i)\n",
    "            t[i, j] = (-1)**(i+j) * det_gauss_elimination(M.copy()) / detA\n",
    "\n",
    "    return t\n",
    "\n",
    "\n",
    "n = 3\n",
    "a=np.random.uniform(0, 3, size=(n, n))\n",
    "t = inverse_cramer(a)\n",
    "print(\"A Matrisi: \\n\", a)\n",
    "print(\"Cramer Kuralı ile Matrisin Tersi: \\n\", t)\n",
    "print(\"np.linalg.inv() ile Matrsin Tersi: \\n\", np.linalg.inv(a))"
   ]
  },
  {
   "cell_type": "markdown",
   "metadata": {},
   "source": [
    "### Gauss-Jordan Kuralı ile Matrisin Tersi"
   ]
  },
  {
   "cell_type": "code",
   "execution_count": 88,
   "metadata": {},
   "outputs": [
    {
     "name": "stdout",
     "output_type": "stream",
     "text": [
      "A Matrisi: \n",
      " [[2.66467756 0.96790912 0.4556028 ]\n",
      " [1.35519193 0.30637646 1.2361835 ]\n",
      " [1.50767095 0.47497692 1.7732576 ]]\n",
      "Gauss Jordan Kuralı ile Matrisin Tersi: \n",
      " [[ 0.07889148  2.69710361 -1.90048991]\n",
      " [ 0.96981358 -7.2613069   4.81286983]\n",
      " [-0.32684561 -0.34816802  0.89062714]]\n",
      "np.linalg.inv() ile Matrsin Tersi: \n",
      " [[ 0.07889148  2.69710361 -1.90048991]\n",
      " [ 0.96981358 -7.2613069   4.81286983]\n",
      " [-0.32684561 -0.34816802  0.89062714]]\n"
     ]
    }
   ],
   "source": [
    "def inverse_gauss_jordan(a):\n",
    "    n = a.shape[0]\n",
    "    t = np.eye(n)\n",
    "\n",
    "    for i in range(n - 1):\n",
    "        for k in range(i + 1, n):\n",
    "            p = a[k, i] / a[i, i]\n",
    "            for j in range(n):\n",
    "                a[k, j] = a[k, j] - p * a[i, j]\n",
    "                t[k, j] = t[k, j] - p * t[i, j] \n",
    "\n",
    "    for i in range(n - 1, 0, -1):\n",
    "        for k in range(i - 1, -1, -1):\n",
    "            p = a[k, i] / a[i, i]\n",
    "            for j in range(n):\n",
    "                a[k, j] = a[k, j] - p * a[i, j]\n",
    "                t[k, j] = t[k, j] - p * t[i, j] \n",
    "            \n",
    "    for i in range(n):\n",
    "        for j in range(n):\n",
    "            t[i, j] /= a[i, i]\n",
    "\n",
    "        a[i, j] /= a[i, i]\n",
    "\n",
    "    return t\n",
    "\n",
    "\n",
    "n = 3\n",
    "a=np.random.uniform(0, 3, size=(n, n))\n",
    "t = inverse_gauss_jordan(a.copy())\n",
    "print(\"A Matrisi: \\n\", a)\n",
    "print(\"Gauss Jordan Kuralı ile Matrisin Tersi: \\n\", t)\n",
    "print(\"np.linalg.inv() ile Matrsin Tersi: \\n\", np.linalg.inv(a))"
   ]
  },
  {
   "cell_type": "code",
   "execution_count": null,
   "metadata": {},
   "outputs": [],
   "source": []
  }
 ],
 "metadata": {
  "kernelspec": {
   "display_name": "base",
   "language": "python",
   "name": "python3"
  },
  "language_info": {
   "codemirror_mode": {
    "name": "ipython",
    "version": 3
   },
   "file_extension": ".py",
   "mimetype": "text/x-python",
   "name": "python",
   "nbconvert_exporter": "python",
   "pygments_lexer": "ipython3",
   "version": "3.11.7"
  }
 },
 "nbformat": 4,
 "nbformat_minor": 2
}
