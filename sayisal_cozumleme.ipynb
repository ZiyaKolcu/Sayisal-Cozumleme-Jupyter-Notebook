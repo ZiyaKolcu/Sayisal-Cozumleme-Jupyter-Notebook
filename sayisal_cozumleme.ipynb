{
 "cells": [
  {
   "cell_type": "markdown",
   "metadata": {},
   "source": [
    "# Sayısal Çözümleme"
   ]
  },
  {
   "cell_type": "markdown",
   "metadata": {},
   "source": [
    "<h2 id=\"main\">Dersler</h2>\n",
    "<ul>\n",
    "<li>\n",
    "<a href=\"#1.2\">1. Hafta 2. Ders</a>\n",
    "</li>\n",
    "<li>\n",
    "<a href=\"#2.1\">2. Hafta 1. Ders</a>\n",
    "</li>\n",
    "<li>\n",
    "<a href=\"#2.2\">2. Hafta 2. Ders</a>\n",
    "</li>\n",
    "<li>\n",
    "<a href=\"#3.1\">3. Hafta 1. Ders</a>\n",
    "</li>\n",
    "<li>\n",
    "<a href=\"#3.2\">3. Hafta 2. Ders</a>\n",
    "</li>\n",
    "<li>\n",
    "<a href=\"#4.1\">4. Hafta 1. Ders</a>\n",
    "</li>\n",
    "<li>\n",
    "<a href=\"#4.2\">4. Hafta 2. Ders</a>\n",
    "</li>\n",
    "<li>\n",
    "<a href=\"#5.1\">5. Hafta 1. Ders</a>\n",
    "</li>\n",
    "<li>\n",
    "<a href=\"#5.2\">5. Hafta 2. Ders</a>\n",
    "</li>\n",
    "<li>\n",
    "<a href=\"#6.1\">6. Hafta 1. Ders</a>\n",
    "</li>\n",
    "<li>\n",
    "<a href=\"#6.2\">6. Hafta 2. Ders</a>\n",
    "</li>\n",
    "<li>\n",
    "<a href=\"#7.1\">7. Hafta 1. Ders</a>\n",
    "</li>\n",
    "<li>\n",
    "<a href=\"#7.2\">7. Hafta 2. Ders</a>\n",
    "</li>\n",
    "</ul>\n",
    "\n"
   ]
  },
  {
   "cell_type": "code",
   "execution_count": 1,
   "metadata": {},
   "outputs": [],
   "source": [
    "import numpy as np\n",
    "import warnings\n",
    "warnings.filterwarnings('ignore')"
   ]
  },
  {
   "cell_type": "markdown",
   "metadata": {},
   "source": [
    "<div id=\"1.2\">\n",
    "<h2>1. Hafta 2. Ders</h2>\n",
    "</div>"
   ]
  },
  {
   "cell_type": "markdown",
   "metadata": {},
   "source": [
    "### İkiye Bölme Yöntemi"
   ]
  },
  {
   "cell_type": "code",
   "execution_count": 16,
   "metadata": {},
   "outputs": [
    {
     "name": "stdout",
     "output_type": "stream",
     "text": [
      "fonksiyonun kökü: 2.05\n",
      "fonksiyonda değeri: -0.05\n"
     ]
    }
   ],
   "source": [
    "def f(x):\n",
    "    return x**2-5*x+6\n",
    "\n",
    "def ikiye_bolme(f, xa, xu, tol=1e-4, nMax=100):\n",
    "    i = 0\n",
    "    while i < nMax:\n",
    "        i += 1\n",
    "        xm = (xa + xu) / 2\n",
    "        if f(xm) * f(xa) < 0:\n",
    "            xu = xm\n",
    "        else:\n",
    "            xa = xm\n",
    "        if abs(xu - xa) < tol:\n",
    "            break\n",
    "        return (xa + xu) / 2\n",
    "    \n",
    "x = ikiye_bolme(f, xa=1, xu=2.4)\n",
    "print(f\"fonksiyonun kökü: {x:.2f}\")  \n",
    "print(f\"fonksiyonda değeri: {f(x):.2f}\")"
   ]
  },
  {
   "cell_type": "markdown",
   "metadata": {},
   "source": [
    "<div id=\"2.1\">\n",
    "<h2>2. Hafta 1. Ders</h2>\n",
    "</div>"
   ]
  },
  {
   "cell_type": "markdown",
   "metadata": {},
   "source": [
    "### Taylor Serisi"
   ]
  },
  {
   "cell_type": "markdown",
   "metadata": {},
   "source": [
    "#### Formül\n",
    "<math xmlns=\"http://www.w3.org/1998/Math/MathML\">\n",
    "  <mrow>\n",
    "    <mi>f</mi>\n",
    "    <mo>(</mo>\n",
    "    <mi>x</mi>\n",
    "    <mo>)</mo>\n",
    "    <mo>=</mo>\n",
    "    <mi>f</mi>\n",
    "    <mo>(</mo>\n",
    "    <mi>a</mi>\n",
    "    <mo>)</mo>\n",
    "    <mo>+</mo>\n",
    "    <mi>f'</mi>\n",
    "    <mo>(</mo>\n",
    "    <mi>a</mi>\n",
    "    <mo>)</mo>\n",
    "    <mo>(</mo>\n",
    "    <mi>x</mi>\n",
    "    <mo>-</mo>\n",
    "    <mi>a</mi>\n",
    "    <mo>)</mo>\n",
    "    <mo>+</mo>\n",
    "    <mfrac>\n",
    "      <mrow>\n",
    "        <mi>f''</mi>\n",
    "        <mo>(</mo>\n",
    "        <mi>a</mi>\n",
    "        <mo>)</mo>\n",
    "        <mo>(</mo>\n",
    "        <mi>x</mi>\n",
    "        <mo>-</mo>\n",
    "        <mi>a</mi>\n",
    "        <mo>)</mo>\n",
    "        <msup>\n",
    "          <mo>)</mo>\n",
    "          <mn>2</mn>\n",
    "        </msup>\n",
    "      </mrow>\n",
    "      <mrow>\n",
    "        <mn>2</mn>\n",
    "        <mo>!</mo>\n",
    "      </mrow>\n",
    "    </mfrac>\n",
    "    <mo>+</mo>\n",
    "    <mfrac>\n",
    "      <mrow>\n",
    "        <mi>f'''</mi>\n",
    "        <mo>(</mo>\n",
    "        <mi>a</mi>\n",
    "        <mo>)</mo>\n",
    "        <mo>(</mo>\n",
    "        <mi>x</mi>\n",
    "        <mo>-</mo>\n",
    "        <mi>a</mi>\n",
    "        <mo>)</mo>\n",
    "        <msup>\n",
    "          <mo>)</mo>\n",
    "          <mn>3</mn>\n",
    "        </msup>\n",
    "      </mrow>\n",
    "      <mrow>\n",
    "        <mn>3</mn>\n",
    "        <mo>!</mo>\n",
    "      </mrow>\n",
    "    </mfrac>\n",
    "    <mo>+</mo>\n",
    "    <mo>…</mo>\n",
    "  </mrow>\n",
    "</math>\n"
   ]
  },
  {
   "cell_type": "markdown",
   "metadata": {},
   "source": [
    "##### Sigma Gösterimi\n",
    "<math xmlns=\"http://www.w3.org/1998/Math/MathML\">\n",
    "  <mrow>\n",
    "    <mi>f</mi>\n",
    "    <mo>(</mo>\n",
    "    <mi>x</mi>\n",
    "    <mo>)</mo>\n",
    "    <mo>=</mo>\n",
    "    <munderover>\n",
    "      <mo>∑</mo>\n",
    "      <mrow>\n",
    "        <mi>n</mi>\n",
    "        <mo>=</mo>\n",
    "        <mn>0</mn>\n",
    "      </mrow>\n",
    "      <mo>∞</mo>\n",
    "    </munderover>\n",
    "    <mfrac>\n",
    "      <mrow>\n",
    "        <msup>\n",
    "          <mo>(</mo>\n",
    "          <mi>n</mi>\n",
    "        </msup>\n",
    "        <mi>f</mi>\n",
    "        <mo>(</mo>\n",
    "        <mi>a</mi>\n",
    "        <mo>)</mo>\n",
    "        <mo>(</mo>\n",
    "        <mi>x</mi>\n",
    "        <mo>-</mo>\n",
    "        <mi>a</mi>\n",
    "        <mo>)</mo>\n",
    "        <msup>\n",
    "          <mo>)</mo>\n",
    "          <mi>n</mi>\n",
    "        </msup>\n",
    "      </mrow>\n",
    "      <mrow>\n",
    "        <mi>n</mi>\n",
    "        <mo>!</mo>\n",
    "      </mrow>\n",
    "    </mfrac>\n",
    "  </mrow>\n",
    "</math>\n"
   ]
  },
  {
   "cell_type": "markdown",
   "metadata": {},
   "source": [
    "### Newton Raphson Yöntemi"
   ]
  },
  {
   "cell_type": "markdown",
   "metadata": {},
   "source": [
    "#### Formül\n",
    "<math xmlns=\"http://www.w3.org/1998/Math/MathML\">\n",
    "  <mrow>\n",
    "    <msub>\n",
    "      <mi>x</mi>\n",
    "      <mi>n+1</mi>\n",
    "    </msub>\n",
    "    <mo>=</mo>\n",
    "    <msub>\n",
    "      <mi>x</mi>\n",
    "      <mi>n</mi>\n",
    "    </msub>\n",
    "    <mo>-</mo>\n",
    "    <mfrac>\n",
    "      <mrow>\n",
    "        <mi>f</mi>\n",
    "        <mo>(</mo>\n",
    "        <msub>\n",
    "          <mi>x</mi>\n",
    "          <mi>n</mi>\n",
    "        </msub>\n",
    "        <mo>)</mo>\n",
    "      </mrow>\n",
    "      <mrow>\n",
    "        <mi>f'</mi>\n",
    "        <mo>(</mo>\n",
    "        <msub>\n",
    "          <mi>x</mi>\n",
    "          <mi>n</mi>\n",
    "        </msub>\n",
    "        <mo>)</mo>\n",
    "      </mrow>\n",
    "    </mfrac>\n",
    "  </mrow>\n",
    "</math>\n"
   ]
  },
  {
   "cell_type": "markdown",
   "metadata": {},
   "source": [
    "#### Python Kod Örneği"
   ]
  },
  {
   "cell_type": "code",
   "execution_count": 17,
   "metadata": {},
   "outputs": [
    {
     "name": "stdout",
     "output_type": "stream",
     "text": [
      "0, 1.00, 1.67, 2.00, 0.44, 0.67\n",
      "1, 1.67, 1.93, 0.44, 0.07, 0.27\n",
      "2, 1.93, 2.00, 0.07, 0.00, 0.06\n",
      "3, 2.00, 2.00, 0.00, 0.00, 0.00\n",
      "fonksiyonun kökü: 2.00\n",
      "fonksiyonda değeri: 0.00\n"
     ]
    }
   ],
   "source": [
    "import matplotlib.pyplot as plt\n",
    "\n",
    "def f(x):\n",
    "    return x**2-5*x+6\n",
    "def df(x):\n",
    "    return 2*x-5\n",
    "\n",
    "def newton(f, x0, tol=1e-4, nMax=100):\n",
    "    for i in range(nMax):\n",
    "        x1=x0-f(x0)/df(x0)\n",
    "        if abs(x1-x0) < tol:\n",
    "            break\n",
    "        print(f\"{i}, {x0:.2f}, {x1:.2f}, {f(x0):.2f}, {f(x1):.2f}, {abs(x1-x0):.2f}\")\n",
    "        x0 = x1\n",
    "    return x1\n",
    "\n",
    "x0 = 1\n",
    "xx = newton(f, x0)\n",
    "print(f\"fonksiyonun kökü: {xx:.2f}\")  \n",
    "print(f\"fonksiyonda değeri: {f(xx):.2f}\")"
   ]
  },
  {
   "cell_type": "code",
   "execution_count": 18,
   "metadata": {},
   "outputs": [
    {
     "name": "stdout",
     "output_type": "stream",
     "text": [
      "0, 1.00, 0.21, 2.37, 1.18, 0.79\n",
      "1, 0.21, -1.32, 1.18, -6.20, 1.53\n",
      "2, -1.32, -0.87, -6.20, -1.73, 0.45\n",
      "3, -0.87, -0.61, -1.73, -0.36, 0.26\n",
      "4, -0.61, -0.52, -0.36, -0.03, 0.09\n",
      "5, -0.52, -0.52, -0.03, -0.00, 0.01\n",
      "fonksiyonun kökü: -0.52\n",
      "fonksiyonda değeri: -0.00\n"
     ]
    }
   ],
   "source": [
    "import matplotlib.pyplot as plt\n",
    "\n",
    "def f(x):\n",
    "    return x*np.exp(-x)+x**3+1\n",
    "def df(x):\n",
    "    return np.exp(-x)-x*np.exp(-x)+3*x**2\n",
    "\n",
    "def newton(f, x0, tol=1e-4, nMax=100):\n",
    "    for i in range(nMax):\n",
    "        x1=x0-f(x0)/df(x0)\n",
    "        if abs(x1-x0) < tol:\n",
    "            break\n",
    "        print(f\"{i}, {x0:.2f}, {x1:.2f}, {f(x0):.2f}, {f(x1):.2f}, {abs(x1-x0):.2f}\")\n",
    "        x0 = x1\n",
    "    return x1\n",
    "\n",
    "x0 = 1\n",
    "xx = newton(f, x0)\n",
    "print(f\"fonksiyonun kökü: {xx:.2f}\")  \n",
    "print(f\"fonksiyonda değeri: {f(xx):.2f}\")"
   ]
  },
  {
   "cell_type": "markdown",
   "metadata": {},
   "source": [
    "#### Matplotlib ile Grafik Çizimi"
   ]
  },
  {
   "cell_type": "code",
   "execution_count": 19,
   "metadata": {},
   "outputs": [
    {
     "name": "stdout",
     "output_type": "stream",
     "text": [
      "fonksiyonun kökü: -0.52\n",
      "fonksiyonda değeri: -0.00\n"
     ]
    },
    {
     "data": {
      "image/png": "[encoded data removed]",
      "text/plain": [
       "<Figure size 640x480 with 1 Axes>"
      ]
     },
     "metadata": {},
     "output_type": "display_data"
    }
   ],
   "source": [
    "import matplotlib.pyplot as plt\n",
    "\n",
    "def f(x):\n",
    "    return x*np.exp(-x)+x**3+1\n",
    "def df(x):\n",
    "    return np.exp(-x)-x*np.exp(-x)+3*x**2\n",
    "\n",
    "def newton(f, x0, tol=1e-4, nMax=100):\n",
    "    xp=np.linspace(-2,2,100)\n",
    "    yp=f(xp)\n",
    "    for i in range(nMax):\n",
    "        x1=x0-f(x0)/df(x0)\n",
    "        if abs(x1-x0) < tol:\n",
    "            break\n",
    "        plt.clf()\n",
    "        plt.plot(xp, yp)\n",
    "        plt.plot(x0, f(x0), 'o', ms=15)\n",
    "        plt.plot(x1, f(x1), 'x', ms=15)\n",
    "        plt.grid()\n",
    "        x0 = x1\n",
    "    return x1\n",
    "\n",
    "x0 = 1\n",
    "xx = newton(f, x0)\n",
    "print(f\"fonksiyonun kökü: {xx:.2f}\")  \n",
    "print(f\"fonksiyonda değeri: {f(xx):.2f}\")"
   ]
  },
  {
   "cell_type": "markdown",
   "metadata": {},
   "source": [
    "#### Secant Yöntemi\n",
    "Türev kullanmadan Newton-Raphson yöntemini kullanmak için kullanılır."
   ]
  },
  {
   "cell_type": "markdown",
   "metadata": {},
   "source": [
    "##### Formül\n",
    "<math xmlns=\"http://www.w3.org/1998/Math/MathML\">\n",
    "  <mrow>\n",
    "    <msub>\n",
    "      <mi>x</mi>\n",
    "      <mrow>\n",
    "        <mi>n</mi>\n",
    "        <mo>+</mo>\n",
    "        <mn>1</mn>\n",
    "      </mrow>\n",
    "    </msub>\n",
    "    <mo>=</mo>\n",
    "    <msub>\n",
    "      <mi>x</mi>\n",
    "      <mi>n</mi>\n",
    "    </msub>\n",
    "    <mo>-</mo>\n",
    "    <mfrac>\n",
    "      <mrow>\n",
    "        <mi>f</mi>\n",
    "        <mo>(</mo>\n",
    "        <msub>\n",
    "          <mi>x</mi>\n",
    "          <mi>n</mi>\n",
    "        </msub>\n",
    "        <mo>)</mo>\n",
    "        <mo>(</mo>\n",
    "        <msub>\n",
    "          <mi>x</mi>\n",
    "          <mi>n</mi>\n",
    "        </msub>\n",
    "        <mo>-</mo>\n",
    "        <msub>\n",
    "          <mi>x</mi>\n",
    "          <mrow>\n",
    "            <mi>n</mi>\n",
    "            <mo>-</mo>\n",
    "            <mn>1</mn>\n",
    "          </mrow>\n",
    "        </msub>\n",
    "        <mo>)</mo>\n",
    "      </mrow>\n",
    "      <mrow>\n",
    "        <mi>f</mi>\n",
    "        <mo>(</mo>\n",
    "        <msub>\n",
    "          <mi>x</mi>\n",
    "          <mi>n</mi>\n",
    "        </msub>\n",
    "        <mo>)</mo>\n",
    "        <mo>-</mo>\n",
    "        <mi>f</mi>\n",
    "        <mo>(</mo>\n",
    "        <msub>\n",
    "          <mi>x</mi>\n",
    "          <mrow>\n",
    "            <mi>n</mi>\n",
    "            <mo>-</mo>\n",
    "            <mn>1</mn>\n",
    "          </mrow>\n",
    "        </msub>\n",
    "        <mo>)</mo>\n",
    "      </mrow>\n",
    "    </mfrac>\n",
    "  </mrow>\n",
    "</math>\n"
   ]
  },
  {
   "cell_type": "code",
   "execution_count": 20,
   "metadata": {},
   "outputs": [
    {
     "name": "stdout",
     "output_type": "stream",
     "text": [
      "0, -1.00, 1.00, 1.40, 12.00, 0.96, 2.00, 0.96, 2.00\n",
      "1, 1.00, 1.40, 1.77, 2.00, 0.28, 0.96, 0.28, 0.40\n",
      "2, 1.40, 1.77, 1.92, 0.96, 0.08, 0.28, 0.08, 0.37\n",
      "3, 1.77, 1.92, 1.99, 0.28, 0.01, 0.08, 0.01, 0.16\n",
      "4, 1.92, 1.99, 2.00, 0.08, 0.00, 0.01, 0.00, 0.06\n",
      "5, 1.99, 2.00, 2.00, 0.01, 0.00, 0.00, 0.00, 0.01\n",
      "fonksiyonun kökü: 2.00\n",
      "fonksiyonda değeri: 0.00\n"
     ]
    }
   ],
   "source": [
    "def f(x):\n",
    "    return x**2-5*x+6\n",
    "\n",
    "def secand(f, x0, x1, tol=1e-4, nMax=100):\n",
    "    xp=np.linspace(-2,2,100)\n",
    "    yp=f(xp)\n",
    "    for i in range(nMax):\n",
    "        x2 = (x0*f(x1) - x1*f(x0)) / (f(x1)-f(x0))\n",
    "        if abs(x2-x1) < tol:\n",
    "            break\n",
    "        print(f\"{i}, {x0:.2f}, {x1:.2f}, {x2:.2f}, {f(x0):.2f}, {f(x2):.2f}, {f(x1):.2f}, {f(x2):.2f}, {abs(x1-x0):.2f}\")\n",
    "        x0 = x1\n",
    "        x1 = x2\n",
    "    return x2\n",
    "\n",
    "x0 = -1\n",
    "b = 1\n",
    "xx = secand(f, x0, b)\n",
    "print(f\"fonksiyonun kökü: {xx:.2f}\")  \n",
    "print(f\"fonksiyonda değeri: {f(xx):.2f}\")"
   ]
  },
  {
   "cell_type": "markdown",
   "metadata": {},
   "source": [
    "<div id=\"2.2\">\n",
    "<h2>2. Hafta 2. Ders</h2>\n",
    "</div>"
   ]
  },
  {
   "cell_type": "markdown",
   "metadata": {},
   "source": [
    "### Regula Falsi Yöntemi"
   ]
  },
  {
   "cell_type": "code",
   "execution_count": 21,
   "metadata": {},
   "outputs": [
    {
     "name": "stdout",
     "output_type": "stream",
     "text": [
      "fonksiyonun kökü: 2.00\n",
      "fonksiyonda değeri: 0.00\n"
     ]
    }
   ],
   "source": [
    "def f(x):\n",
    "    return x**2-5*x+6\n",
    "\n",
    "def regular_false(f, a, b, tol=1e-4, nMax=100): \n",
    "    c0 = a\n",
    "    for i in range(nMax):\n",
    "        c = (a*f(b) - b*f(a)) / (f(b)-f(a))\n",
    "        if abs(c-c0) < tol:\n",
    "            break\n",
    "        # print(f\"{i}, {a:.2f}, {b:.2f}, {c:.2f}, {f(a):.2f}, {f(b):.2f}, {abs(c0-c):.2f}\")\n",
    "        if f(a)*f(c)<0:\n",
    "            b=c\n",
    "        else:\n",
    "            a=c\n",
    "    return c\n",
    "\n",
    "x0 = -1\n",
    "x1 = 1\n",
    "xx = regular_false(f, x0, x1)\n",
    "print(f\"fonksiyonun kökü: {xx:.2f}\")  \n",
    "print(f\"fonksiyonda değeri: {f(xx):.2f}\")"
   ]
  },
  {
   "cell_type": "markdown",
   "metadata": {},
   "source": [
    "### Fixed Point Iteration "
   ]
  },
  {
   "cell_type": "code",
   "execution_count": 22,
   "metadata": {},
   "outputs": [
    {
     "name": "stdout",
     "output_type": "stream",
     "text": [
      "fonksiyonun kökü: 2.00\n",
      "fonksiyonda değeri: 0.00\n"
     ]
    }
   ],
   "source": [
    "def f(x):\n",
    "    return x**2-5*x+6\n",
    "\n",
    "def g(x):\n",
    "    return (6+x**2) / 5\n",
    "\n",
    "def fixed_point(f, x0, tol=1e-4, nMax=100): \n",
    "    for i in range(nMax):\n",
    "        x1 = g(x0)\n",
    "        if abs(x1-x0) < tol:\n",
    "            break\n",
    "        # print(f\"{i}, {x0:.2f}, {x1:.2f}, {f(x0):.2f}, {f(x1):.2f}, {abs(x1-x0):.2f}\")\n",
    "        x0 = x1\n",
    "\n",
    "    return x1\n",
    "\n",
    "x0 = 0\n",
    "xx = fixed_point(f, x0)\n",
    "print(f\"fonksiyonun kökü: {xx:.2f}\")  \n",
    "print(f\"fonksiyonda değeri: {f(xx):.2f}\")"
   ]
  },
  {
   "cell_type": "markdown",
   "metadata": {},
   "source": [
    "<div id=\"3.1\">\n",
    "<h2>3. Hafta 1. Ders</h2>\n",
    "</div>"
   ]
  },
  {
   "cell_type": "markdown",
   "metadata": {},
   "source": [
    "### Polinom"
   ]
  },
  {
   "cell_type": "code",
   "execution_count": 23,
   "metadata": {},
   "outputs": [
    {
     "name": "stdout",
     "output_type": "stream",
     "text": [
      "P(1) = 12\n",
      "P(4) = 18\n"
     ]
    }
   ],
   "source": [
    "def polyval(p, x):\n",
    "    d = len(p)\n",
    "    t = 0\n",
    "    for i in range(d):\n",
    "       t += p[i] * x ** i\n",
    "    return t \n",
    "\n",
    "p = [30, -19, 0, 1]\n",
    "\n",
    "print(f\"P(1) = {polyval(p, 1)}\")\n",
    "print(f\"P(4) = {polyval(p, 4)}\")"
   ]
  },
  {
   "cell_type": "markdown",
   "metadata": {},
   "source": [
    "### Polinom Toplama"
   ]
  },
  {
   "cell_type": "code",
   "execution_count": 24,
   "metadata": {},
   "outputs": [
    {
     "name": "stdout",
     "output_type": "stream",
     "text": [
      "[2, 3, 1]\n"
     ]
    }
   ],
   "source": [
    "def polysum(p, q):\n",
    "    n=len(p)\n",
    "    m=len(q)\n",
    "    s=[]\n",
    "    for i in range(max(n,m)):\n",
    "        t=0\n",
    "        if i < n:\n",
    "            t+=p[i]\n",
    "        if i < m:\n",
    "            t+=q[i]\n",
    "        s.append(t)\n",
    "    return s\n",
    "\n",
    "\n",
    "p = [4, -3, 1]\n",
    "q = [-2, 6]\n",
    "y = polysum(p, q)\n",
    "print(y)"
   ]
  },
  {
   "cell_type": "markdown",
   "metadata": {},
   "source": [
    "### Polinom Çarpma"
   ]
  },
  {
   "cell_type": "code",
   "execution_count": 25,
   "metadata": {},
   "outputs": [
    {
     "name": "stdout",
     "output_type": "stream",
     "text": [
      "[-8, 30, -20, 6]\n"
     ]
    }
   ],
   "source": [
    "def polyprod(p ,q):\n",
    "    n=len(p)\n",
    "    m=len(q)\n",
    "    c=[0]*(m+n-1)\n",
    "    for i in range(n):\n",
    "        for j in range(m):\n",
    "            k=i+j\n",
    "            c[k]+=p[i]*q[j]\n",
    "    return c\n",
    "\n",
    "p = [4, -3, 1]\n",
    "q = [-2, 6]\n",
    "y = polyprod(p, q)\n",
    "print(y)"
   ]
  },
  {
   "cell_type": "markdown",
   "metadata": {},
   "source": [
    "### Polinom Katsayıları Bulma"
   ]
  },
  {
   "cell_type": "code",
   "execution_count": 26,
   "metadata": {},
   "outputs": [
    {
     "name": "stdout",
     "output_type": "stream",
     "text": [
      "Polinomun katsayıları: [6, -5, 1]\n"
     ]
    }
   ],
   "source": [
    "def poly(r):\n",
    "    p=[1]\n",
    "    n=len(r)\n",
    "    for i in range(n):\n",
    "        p = polyprod(p, [-r[i], 1])\n",
    "    return p\n",
    "\n",
    "r = [2, 3]\n",
    "y = poly(r)\n",
    "\n",
    "print(\"Polinomun katsayıları:\",y)"
   ]
  },
  {
   "cell_type": "markdown",
   "metadata": {},
   "source": [
    "<div id=\"3.2\">\n",
    "<h2>3. Hafta 2. Ders</h2>\n",
    "</div>"
   ]
  },
  {
   "cell_type": "markdown",
   "metadata": {},
   "source": [
    "### Polinom Bölme"
   ]
  },
  {
   "cell_type": "code",
   "execution_count": 27,
   "metadata": {},
   "outputs": [
    {
     "name": "stdout",
     "output_type": "stream",
     "text": [
      "Polinomun katsayıları: [6, -5, 1]\n",
      "Poilnomun x=2 köküne bölümü: [-3, 1]\n"
     ]
    }
   ],
   "source": [
    "def polydiv(p, r):\n",
    "    n=len(p)\n",
    "    q=[0]*n\n",
    "    for i in range(n-1, -1, -1):\n",
    "        q[i-1]=p[i]+r*q[i]\n",
    "    return q[:-1]\n",
    "\n",
    "r = [2, 3]\n",
    "p = poly(r)\n",
    "print(\"Polinomun katsayıları:\", p)\n",
    "q = polydiv(p, 2)\n",
    "print(\"Poilnomun x=2 köküne bölümü:\", q)"
   ]
  },
  {
   "cell_type": "code",
   "execution_count": 28,
   "metadata": {},
   "outputs": [
    {
     "name": "stdout",
     "output_type": "stream",
     "text": [
      "Polinomun katsayıları: [30, -19, 0, 1]\n",
      "Poilnomun x=-5 köküne bölümü: [6, -5, 1]\n"
     ]
    }
   ],
   "source": [
    "r = [2, 3, -5]\n",
    "p = poly(r)\n",
    "print(\"Polinomun katsayıları:\", p)\n",
    "q = polydiv(p, -5)\n",
    "print(\"Poilnomun x=-5 köküne bölümü:\",q)"
   ]
  },
  {
   "cell_type": "markdown",
   "metadata": {},
   "source": [
    "### Polinom Türev"
   ]
  },
  {
   "cell_type": "code",
   "execution_count": 29,
   "metadata": {},
   "outputs": [
    {
     "name": "stdout",
     "output_type": "stream",
     "text": [
      "Polinomun katsayıları: [30, -19, 0, 1]\n",
      "Polinomun türevi: [0, -19, 0, 3]\n"
     ]
    }
   ],
   "source": [
    "def polyder(p):\n",
    "    n=len(p)\n",
    "    q=[0]*n\n",
    "    for i in range(n):\n",
    "        q[i]=i*p[i]\n",
    "    return q\n",
    "\n",
    "r = [2, 3, -5]\n",
    "p = poly(r)\n",
    "print(\"Polinomun katsayıları:\", p)\n",
    "t = polyder(p)\n",
    "print(\"Polinomun türevi:\", t)"
   ]
  },
  {
   "cell_type": "markdown",
   "metadata": {},
   "source": [
    "### Polinomun Newton-Raphson ile köklerini Bulma"
   ]
  },
  {
   "cell_type": "code",
   "execution_count": 30,
   "metadata": {},
   "outputs": [
    {
     "name": "stdout",
     "output_type": "stream",
     "text": [
      "Polinomun 1. kökü: 2.00\n",
      "Polinomun 2. kökü: 3.00\n",
      "Polinomun 3. kökü: -5.00\n"
     ]
    }
   ],
   "source": [
    "def newton(f, x0, tol=1e-4, nMax=100):\n",
    "    for i in range(nMax):\n",
    "        q=polyder(p)\n",
    "        x1=x0-polyval(p,x0)/polyval(q,x0)\n",
    "        if abs(x1-x0) < tol:\n",
    "            break\n",
    "        x0 = x1\n",
    "    return x1\n",
    "\n",
    "\n",
    "r = [2, 3, -5]\n",
    "p = poly(r)\n",
    "n=len(p)\n",
    "for i in range(n-1):\n",
    "    r0 = newton(p, 1)\n",
    "    print(f\"Polinomun {i+1}. kökü: {r0:.2f}\")\n",
    "    p = polydiv(p ,r0)"
   ]
  },
  {
   "cell_type": "markdown",
   "metadata": {},
   "source": [
    "### Polinom İntegral"
   ]
  },
  {
   "cell_type": "code",
   "execution_count": 31,
   "metadata": {},
   "outputs": [
    {
     "name": "stdout",
     "output_type": "stream",
     "text": [
      "Polinomun katsayıları: [30, -19, 0, 1]\n",
      "Polinomun integrali: [0, 30.0, -9.5, 0.0, 0.25]\n"
     ]
    }
   ],
   "source": [
    "def polyint(p):\n",
    "    n=len(p)\n",
    "    q=[0]*(n+1)\n",
    "    for i in range(n):\n",
    "        q[i+1]=p[i]/(i+1)\n",
    "    return q\n",
    "\n",
    "r = [2, 3, -5]\n",
    "p = poly(r)\n",
    "print(\"Polinomun katsayıları:\", p)\n",
    "t = polyint(p)\n",
    "print(\"Polinomun integrali:\", t)"
   ]
  },
  {
   "cell_type": "markdown",
   "metadata": {},
   "source": [
    "<div id=\"4.1\">\n",
    "<h2>4. Hafta 1. Ders</h2>\n",
    "</div>"
   ]
  },
  {
   "cell_type": "markdown",
   "metadata": {},
   "source": [
    "### Matrisler"
   ]
  },
  {
   "cell_type": "code",
   "execution_count": 32,
   "metadata": {},
   "outputs": [
    {
     "data": {
      "text/plain": [
       "(array([4, 8, 3, 6]),\n",
       " array([[4, 8, 3, 6]]),\n",
       " array([[4],\n",
       "        [8],\n",
       "        [3],\n",
       "        [6]]))"
      ]
     },
     "execution_count": 32,
     "metadata": {},
     "output_type": "execute_result"
    }
   ],
   "source": [
    "a = np.array([4, 8, 3, 6])\n",
    "b = a.reshape(1, -1)\n",
    "c = a.reshape(-1, 1)\n",
    "a, b, c"
   ]
  },
  {
   "cell_type": "code",
   "execution_count": 33,
   "metadata": {},
   "outputs": [
    {
     "data": {
      "text/plain": [
       "array([[ 3,  5,  8],\n",
       "       [ 7,  3,  9],\n",
       "       [91, 65,  3]])"
      ]
     },
     "execution_count": 33,
     "metadata": {},
     "output_type": "execute_result"
    }
   ],
   "source": [
    "d = np.array([[3, 5, 8],\n",
    "              [7, 3, 9],\n",
    "              [91, 65, 3]])\n",
    "d"
   ]
  },
  {
   "cell_type": "code",
   "execution_count": 34,
   "metadata": {},
   "outputs": [
    {
     "data": {
      "text/plain": [
       "array([[35, 41, 40, 57],\n",
       "       [37, 54,  8, 10],\n",
       "       [55, 20, 46,  6],\n",
       "       [61, 63, 54, 80]])"
      ]
     },
     "execution_count": 34,
     "metadata": {},
     "output_type": "execute_result"
    }
   ],
   "source": [
    "# rastgele değerlerle matris oluşturma\n",
    "e = np.random.randint(0, 100, size=(4, 4))\n",
    "e"
   ]
  },
  {
   "cell_type": "code",
   "execution_count": 35,
   "metadata": {},
   "outputs": [
    {
     "data": {
      "text/plain": [
       "array([[3.57572881, 2.55475848, 4.41907412],\n",
       "       [4.0235989 , 3.71809481, 3.9855287 ],\n",
       "       [2.9108745 , 2.49053912, 2.01439865],\n",
       "       [3.75268127, 3.57982439, 4.46256119],\n",
       "       [4.61597975, 3.89447015, 4.33324502]])"
      ]
     },
     "execution_count": 35,
     "metadata": {},
     "output_type": "execute_result"
    }
   ],
   "source": [
    "e2 = np.random.uniform(2, 5, size=(5, 3))\n",
    "e2"
   ]
  },
  {
   "cell_type": "markdown",
   "metadata": {},
   "source": [
    "### Matris Toplama"
   ]
  },
  {
   "cell_type": "code",
   "execution_count": 36,
   "metadata": {},
   "outputs": [
    {
     "data": {
      "text/plain": [
       "53.013217765504706"
      ]
     },
     "execution_count": 36,
     "metadata": {},
     "output_type": "execute_result"
    }
   ],
   "source": [
    "a = np.random.uniform(2, 5, size=(5, 3))\n",
    "c = np.sum(a)\n",
    "c"
   ]
  },
  {
   "cell_type": "code",
   "execution_count": 37,
   "metadata": {},
   "outputs": [
    {
     "data": {
      "text/plain": [
       "array([14.9901199 , 17.9417845 , 19.67775023])"
      ]
     },
     "execution_count": 37,
     "metadata": {},
     "output_type": "execute_result"
    }
   ],
   "source": [
    "a = np.random.uniform(2, 5, size=(5, 3))\n",
    "c = np.sum(a, axis=0) # satırları toplama\n",
    "c"
   ]
  },
  {
   "cell_type": "code",
   "execution_count": 38,
   "metadata": {},
   "outputs": [
    {
     "data": {
      "text/plain": [
       "array([ 9.72185591,  9.07280762, 11.15427489, 12.70621968,  9.61115362])"
      ]
     },
     "execution_count": 38,
     "metadata": {},
     "output_type": "execute_result"
    }
   ],
   "source": [
    "a = np.random.uniform(2, 5, size=(5, 3))\n",
    "c = np.sum(a, axis=1) # sütunları toplama\n",
    "c"
   ]
  },
  {
   "cell_type": "code",
   "execution_count": 39,
   "metadata": {},
   "outputs": [
    {
     "data": {
      "text/plain": [
       "array([[7.02778883, 7.37717551, 6.55847101],\n",
       "       [7.53774888, 6.34577789, 9.77447313],\n",
       "       [7.54730324, 5.07802812, 8.57765158],\n",
       "       [5.52659622, 7.6296288 , 6.91427913],\n",
       "       [8.2319776 , 7.98394374, 7.41328505]])"
      ]
     },
     "execution_count": 39,
     "metadata": {},
     "output_type": "execute_result"
    }
   ],
   "source": [
    "# iki matrisin toplamını bulan fonksiyon\n",
    "def add(a, b):\n",
    "    m, n = a.shape\n",
    "    c = np.zeros(a.shape)\n",
    "    for i in range(m):\n",
    "        for j in range(n):\n",
    "            c[i, j] = a[i, j] + b[i, j]\n",
    "    return c\n",
    "\n",
    "a = np.random.uniform(2, 5, size=(5, 3))\n",
    "b = np.random.uniform(2, 5, size=(5, 3))\n",
    "add(a, b)"
   ]
  },
  {
   "cell_type": "markdown",
   "metadata": {},
   "source": [
    "<div id=\"4.2\">\n",
    "<h2>4. Hafta 2. Ders</h2>\n",
    "</div>"
   ]
  },
  {
   "cell_type": "markdown",
   "metadata": {},
   "source": [
    "### Matris Çarpma"
   ]
  },
  {
   "cell_type": "code",
   "execution_count": 40,
   "metadata": {},
   "outputs": [
    {
     "name": "stdout",
     "output_type": "stream",
     "text": [
      "Numpy ile matris çarpımı: \n",
      " [[46.24413341 51.02221824 39.64971399 39.64742168]\n",
      " [26.62998861 30.98276252 22.08334907 23.01336488]\n",
      " [43.96962803 54.36454102 35.57858934 38.67553116]\n",
      " [50.48631817 60.76504817 41.73354536 44.27319934]\n",
      " [34.26346553 38.21171428 26.45742922 28.03964998]]\n",
      "Bizim fonksiyonumuz ile matris çarpımı: \n",
      " [[46.24413341 51.02221824 39.64971399 39.64742168]\n",
      " [26.62998861 30.98276252 22.08334907 23.01336488]\n",
      " [43.96962803 54.36454102 35.57858934 38.67553116]\n",
      " [50.48631817 60.76504817 41.73354536 44.27319934]\n",
      " [34.26346553 38.21171428 26.45742922 28.03964998]]\n"
     ]
    }
   ],
   "source": [
    "# iki matrisin çarpımını bulan fonksiyon\n",
    "def dot(a, b):\n",
    "    m, n = a.shape\n",
    "    p, q = b.shape\n",
    "    if n != p:\n",
    "        print(\"çarpım mümkün değil\")\n",
    "        return\n",
    "    c=np.zeros((m, q))\n",
    "    for i in range(m):\n",
    "        for j in range(q):\n",
    "            for k in range(n):\n",
    "                c[i,j] += a[i, k] * b[k, j]\n",
    "    return c \n",
    "\n",
    "a = np.random.uniform(2, 5, size=(5, 3))\n",
    "b = np.random.uniform(2, 5, size=(3, 4))\n",
    "\n",
    "print(\"Numpy ile matris çarpımı: \\n\", np.dot(a, b))\n",
    "print(\"Bizim fonksiyonumuz ile matris çarpımı: \\n\", dot(a, b))"
   ]
  },
  {
   "cell_type": "markdown",
   "metadata": {},
   "source": [
    "### Matrisin Transpozu"
   ]
  },
  {
   "cell_type": "code",
   "execution_count": 41,
   "metadata": {},
   "outputs": [
    {
     "name": "stdout",
     "output_type": "stream",
     "text": [
      "A matrisi: \n",
      " [[2.83355016 3.18601041 2.28792539]\n",
      " [2.79659098 2.35302327 3.93655905]\n",
      " [3.66400363 4.20118836 4.55034725]\n",
      " [2.4396529  2.34958832 2.12943061]\n",
      " [3.70953062 3.37014075 4.33753149]]\n",
      "Numpy ile matrisin transpozu: \n",
      " [[2.83355016 2.79659098 3.66400363 2.4396529  3.70953062]\n",
      " [3.18601041 2.35302327 4.20118836 2.34958832 3.37014075]\n",
      " [2.28792539 3.93655905 4.55034725 2.12943061 4.33753149]]\n",
      "Bizim fonksiyonumuz ile matrisin transpozu: \n",
      " [[2.83355016 2.79659098 3.66400363 2.4396529  3.70953062]\n",
      " [3.18601041 2.35302327 4.20118836 2.34958832 3.37014075]\n",
      " [2.28792539 3.93655905 4.55034725 2.12943061 4.33753149]]\n"
     ]
    }
   ],
   "source": [
    "# matrisin transpose bulan fonksiyon\n",
    "def transpose(a):\n",
    "    m,n = a.shape\n",
    "    c = np.zeros((a.shape[1], a.shape[0]))\n",
    "    for i in range(n):\n",
    "        for j in range(m):\n",
    "            c[i,j]=a[j,i]\n",
    "    return c\n",
    "\n",
    "a = np.random.uniform(2, 5, size=(5, 3))\n",
    "\n",
    "print(\"A matrisi: \\n\", a)\n",
    "print(\"Numpy ile matrisin transpozu: \\n\", np.transpose(a))\n",
    "print(\"Bizim fonksiyonumuz ile matrisin transpozu: \\n\", transpose(a))"
   ]
  },
  {
   "cell_type": "markdown",
   "metadata": {},
   "source": [
    "### Matrisin İzi"
   ]
  },
  {
   "cell_type": "code",
   "execution_count": 42,
   "metadata": {},
   "outputs": [
    {
     "name": "stdout",
     "output_type": "stream",
     "text": [
      "Numpy ile matrisin izi: \n",
      " 6.921873124183589\n",
      "Bizim fonksiyonumuz ile matrisin izi: \n",
      " 6.921873124183589\n"
     ]
    }
   ],
   "source": [
    "# matrisin izini bulan fonksiyon\n",
    "def trace(a):\n",
    "    m, n = a.shape\n",
    "    c = 0\n",
    "    for i in range(m):\n",
    "        if i < m and i < n:\n",
    "            c+=a[i, i]\n",
    "    return c\n",
    "\n",
    "a = np.random.uniform(2, 5, size=(3, 2))\n",
    "\n",
    "print(\"Numpy ile matrisin izi: \\n\",np.trace(a))\n",
    "print(\"Bizim fonksiyonumuz ile matrisin izi: \\n\",trace(a))"
   ]
  },
  {
   "cell_type": "markdown",
   "metadata": {},
   "source": [
    "### Matrisin Determinantı"
   ]
  },
  {
   "cell_type": "code",
   "execution_count": 43,
   "metadata": {},
   "outputs": [
    {
     "name": "stdout",
     "output_type": "stream",
     "text": [
      "A matrisi: \n",
      " [[2.31275091 2.46462963 3.74857633 3.82099627]\n",
      " [3.6781179  2.5151383  4.55139133 4.62967341]\n",
      " [2.89112645 3.60340175 4.33722242 2.20886885]\n",
      " [3.45492051 4.09126404 3.55124227 3.45531439]]\n",
      "A matrisinin seçili alt matrisi: \n",
      " [[2.31275091 2.46462963 3.82099627]\n",
      " [2.89112645 3.60340175 2.20886885]\n",
      " [3.45492051 4.09126404 3.45531439]]\n"
     ]
    }
   ],
   "source": [
    "# alt matrisi bulan fonksiyon\n",
    "def sub_matrix(a, I, J):\n",
    "    n, _ = a.shape\n",
    "    c = np.zeros((n-1, n-1))\n",
    "    ii = 0\n",
    "    for i in range(n):\n",
    "        jj = 0\n",
    "        for j in range(n):\n",
    "            if i != I and j != J:\n",
    "                c[ii, jj] = a[i, j]\n",
    "                jj += 1\n",
    "                if jj == n-1:\n",
    "                    ii += 1\n",
    "    return c\n",
    "\n",
    "a = np.random.uniform(2, 5, size=(4, 4))\n",
    "\n",
    "print(\"A matrisi: \\n\", a)\n",
    "print(\"A matrisinin seçili alt matrisi: \\n\", sub_matrix(a, 1, 2))"
   ]
  },
  {
   "cell_type": "markdown",
   "metadata": {},
   "source": [
    "#### Laplace Yöntemi ile Determinant Hesaplama"
   ]
  },
  {
   "cell_type": "code",
   "execution_count": 44,
   "metadata": {},
   "outputs": [
    {
     "name": "stdout",
     "output_type": "stream",
     "text": [
      "A matrisi: \n",
      " [[3.92551562 2.26345259 2.26248574 3.88315042]\n",
      " [3.58647958 4.20878548 4.98995269 2.82616884]\n",
      " [2.72515356 3.26486774 4.37788791 2.3770496 ]\n",
      " [4.39870968 2.4651763  4.88862066 2.88727383]]\n",
      "A matrisinin laplace yöntemi ile determinantı: \n",
      " -11.38271272687672\n",
      "A matrisinin np.linalg.det() ile determinantı: \n",
      " -11.382712726876719\n"
     ]
    }
   ],
   "source": [
    "# laplace determinant yöntemi ile determinant bulan fonksiyon\n",
    "def det_laplace(a):\n",
    "    n, _ = a.shape\n",
    "    if n == 1:\n",
    "        return a[0, 0]\n",
    "    d = 0 \n",
    "    for j in range(n):\n",
    "        c = sub_matrix(a, 0, j)\n",
    "        d += (-1)**j * a[0, j] * det_laplace(c)\n",
    "    return d \n",
    "\n",
    "a = np.random.uniform(2, 5, size=(4, 4))\n",
    "print(\"A matrisi: \\n\", a)\n",
    "print(\"A matrisinin laplace yöntemi ile determinantı: \\n\", det_laplace(a))\n",
    "print(\"A matrisinin np.linalg.det() ile determinantı: \\n\", np.linalg.det(a))\n"
   ]
  },
  {
   "cell_type": "markdown",
   "metadata": {},
   "source": [
    "<div id=\"5.1\">\n",
    "<h2>5. Hafta 1. Ders</h2>\n",
    "</div>"
   ]
  },
  {
   "cell_type": "markdown",
   "metadata": {},
   "source": [
    "#### Gauss Eleme Yöntemi ile Determinant Hesaplama"
   ]
  },
  {
   "cell_type": "code",
   "execution_count": 45,
   "metadata": {},
   "outputs": [
    {
     "name": "stdout",
     "output_type": "stream",
     "text": [
      "A matrisi: \n",
      " [[3.73293108 4.26109169 2.73305744]\n",
      " [2.87556567 2.9977071  4.11505035]\n",
      " [2.43866869 3.74688495 2.62100392]]\n",
      "A matrisinin gauss eleme yöntemi ile determinantı: \n",
      " -8.113883162804061\n",
      "A matrisinin np.linalg.det() ile determinantı: \n",
      " -8.113883162804063\n"
     ]
    }
   ],
   "source": [
    "def det_gauss_elimination(a):\n",
    "    n = a.shape[0]\n",
    "    for i in range(n-1):\n",
    "        for k in range(i+1, n):\n",
    "            p = a[k, i] / a[i, i]\n",
    "            for j in range(n):\n",
    "                a[k, j] = a[k, j] - p * a[i, j]\n",
    "    d = 1\n",
    "    for i in range(n):\n",
    "        d *= a[i, i]\n",
    "    return d \n",
    "    \n",
    "a = np.random.uniform(2, 5, size=(3, 3))\n",
    "print(\"A matrisi: \\n\", a)\n",
    "print(\"A matrisinin gauss eleme yöntemi ile determinantı: \\n\", det_gauss_elimination(a))\n",
    "print(\"A matrisinin np.linalg.det() ile determinantı: \\n\", np.linalg.det(a))"
   ]
  },
  {
   "cell_type": "markdown",
   "metadata": {},
   "source": [
    "<div id=\"5.2\">\n",
    "<h2>5. Hafta 2. Ders</h2>\n",
    "</div>"
   ]
  },
  {
   "cell_type": "markdown",
   "metadata": {},
   "source": [
    "### LU Ayrışım Yöntemi ile Determinant Hesaplama"
   ]
  },
  {
   "cell_type": "code",
   "execution_count": 46,
   "metadata": {},
   "outputs": [
    {
     "name": "stdout",
     "output_type": "stream",
     "text": [
      "A matrisi: \n",
      " [[3.88190165 2.16938266 4.57369236 2.18211782]\n",
      " [2.8095331  2.73181668 3.8692408  3.23065476]\n",
      " [4.18706611 3.96909841 3.41060176 2.05151184]\n",
      " [4.9952157  3.41161426 3.20429663 4.33943374]]\n",
      "A matrisinin LU ayrıştırma yöntemi ile determinantı: \n",
      " -41.938743079253705\n",
      "A matrisinin np.linalg.det() ile determinantı: \n",
      " -41.93874307925371\n"
     ]
    }
   ],
   "source": [
    "def det_lu(a):\n",
    "    n = a.shape[0]\n",
    "    L = np.eye(n)\n",
    "    U = np.zeros((n, n))\n",
    "\n",
    "    for i in range(n):\n",
    "        for j in range(n):\n",
    "            if j >= i:\n",
    "                U[i, j] = a[i, j]\n",
    "                for k in range(i):\n",
    "                    U[i, j] -= L[i, k] * U[k, j]\n",
    "                U[i, j] /= L[i, i]\n",
    "            else:\n",
    "                L[i, j] = a[i, j]\n",
    "                for k in range(j):\n",
    "                    L[i, j] -= L[i, k] * U[k, j]\n",
    "                L[i, j] /= U[j, j]\n",
    "    d = 1\n",
    "    for i in range(n):\n",
    "        d *= U[i, i]\n",
    "    return d\n",
    "\n",
    "\n",
    "a = np.random.uniform(2, 5, size=(4, 4))\n",
    "print(\"A matrisi: \\n\", a)\n",
    "print(\"A matrisinin LU ayrıştırma yöntemi ile determinantı: \\n\", det_lu(a))\n",
    "print(\"A matrisinin np.linalg.det() ile determinantı: \\n\", np.linalg.det(a))"
   ]
  },
  {
   "cell_type": "markdown",
   "metadata": {},
   "source": [
    "### Lineer Denklem Sistemleri"
   ]
  },
  {
   "cell_type": "markdown",
   "metadata": {},
   "source": [
    "#### Cramer Kuralı ile Denklem Sistemi Çözüm"
   ]
  },
  {
   "cell_type": "code",
   "execution_count": 52,
   "metadata": {},
   "outputs": [
    {
     "name": "stdout",
     "output_type": "stream",
     "text": [
      "A matrisi: \n",
      " [[0.89026377 0.27314368 0.10507771 0.92652667]\n",
      " [0.05985101 0.39604372 0.01519515 0.81610939]\n",
      " [0.30558047 0.65595807 0.45418384 0.5061637 ]\n",
      " [0.03306305 0.26427728 0.06199246 0.34693036]]\n",
      "x vektörü: \n",
      " [[6]\n",
      " [5]\n",
      " [4]\n",
      " [8]]\n",
      "B vektörü: \n",
      " [[14.53982526]\n",
      " [ 8.92898041]\n",
      " [10.9793181 ]\n",
      " [ 4.54317743]]\n",
      "---------------------------------------\n",
      "A matrisi: \n",
      " [[0.89026377 0.27314368 0.10507771 0.92652667]\n",
      " [0.05985101 0.39604372 0.01519515 0.81610939]\n",
      " [0.30558047 0.65595807 0.45418384 0.5061637 ]\n",
      " [0.03306305 0.26427728 0.06199246 0.34693036]]\n",
      "Cramer kuralı ile çözüm: \n",
      " [4. 8. 5. 2.]\n"
     ]
    }
   ],
   "source": [
    "def solve_with_cramers_rule(a, b):\n",
    "    n = a.shape[0]\n",
    "    xx = np.zeros(n)\n",
    "    detA = det_gauss_elimination(a.copy())\n",
    "    for j in range(n):\n",
    "        aa = a.copy()\n",
    "        for i in range(n):\n",
    "            aa[i, j] = b[i]\n",
    "        xx[j] = det_gauss_elimination(aa.copy()) / detA\n",
    "    return xx\n",
    "\n",
    "n = 4\n",
    "a = np.random.uniform(0, 1, size=(4, 4))\n",
    "x = np.random.randint(1, 9, size=(n, 1))\n",
    "b = np.dot(a, x)\n",
    "print(\"A matrisi: \\n\", a)\n",
    "print(\"x vektörü: \\n\", x)\n",
    "print(\"B vektörü: \\n\", b)\n",
    "print(\"---------------------------------------\")\n",
    "print(\"A matrisi: \\n\", a)\n",
    "print(\"Cramer kuralı ile çözüm: \\n\", xx)"
   ]
  },
  {
   "cell_type": "markdown",
   "metadata": {},
   "source": [
    "<div id=\"6.1\">\n",
    "<h2>6. Hafta 1. Ders</h2>\n",
    "</div>"
   ]
  },
  {
   "cell_type": "markdown",
   "metadata": {},
   "source": [
    "#### Gauss Eleme Yöntemi ile Denklem Sistemi Çözüm"
   ]
  },
  {
   "cell_type": "code",
   "execution_count": 50,
   "metadata": {},
   "outputs": [
    {
     "name": "stdout",
     "output_type": "stream",
     "text": [
      "A matrisi: \n",
      " [[0.98093364 0.1919437  0.25519322 0.98506677]\n",
      " [0.30893503 0.72823948 0.26969523 0.40442232]\n",
      " [0.88062443 0.56406713 0.41090943 0.51222592]\n",
      " [0.64374699 0.49564466 0.45375919 0.91764307]]\n",
      "x vektörü: \n",
      " [[1]\n",
      " [7]\n",
      " [3]\n",
      " [6]]\n",
      "B vektörü: \n",
      " [[ 9.00051977]\n",
      " [ 8.64223099]\n",
      " [ 9.13517812]\n",
      " [10.9803956 ]]\n",
      "---------------------------------------\n",
      "A matrisi: \n",
      " [[ 0.98093364  0.1919437   0.25519322  0.98506677]\n",
      " [ 0.          0.66778877  0.18932474  0.0941856 ]\n",
      " [ 0.          0.          0.07074659 -0.427362  ]\n",
      " [ 0.          0.          0.          1.31530764]]\n",
      "Gauss Eleme Yöntemi ile çözüm: \n",
      " [1. 7. 3. 6.]\n"
     ]
    }
   ],
   "source": [
    "def solve_with_gauss_elimination(a, b):\n",
    "    n = a.shape[0]\n",
    "    xx = np.zeros(n)\n",
    "    for i in range(n - 1):\n",
    "        for k in range(i + 1, n):\n",
    "            p = a[k, i] / a[i, i]\n",
    "            for j in range(n):\n",
    "                a[k, j] = a[k, j] - p * a[i, j]\n",
    "            b[k] = b[k] - p * b[i]\n",
    "\n",
    "    for i in range(n - 1, -1, -1):\n",
    "        xx[i] = b[i]\n",
    "        for j in range(i + 1, n):\n",
    "            xx[i] -= a[i, j] * xx[j]\n",
    "        xx[i] /= a[i, i]\n",
    "\n",
    "    return xx\n",
    "\n",
    "\n",
    "n = 4\n",
    "a = np.random.uniform(0, 1, size=(4, 4))\n",
    "x = np.random.randint(1, 9, size=(n, 1))\n",
    "b = np.dot(a, x)\n",
    "print(\"A matrisi: \\n\", a)\n",
    "print(\"x vektörü: \\n\", x)\n",
    "print(\"B vektörü: \\n\", b)\n",
    "print(\"---------------------------------------\")\n",
    "xx = solve_with_gauss_elimination(a, b)\n",
    "print(\"A matrisi: \\n\", a)\n",
    "print(\"Gauss Eleme Yöntemi ile çözüm: \\n\", xx)"
   ]
  },
  {
   "cell_type": "markdown",
   "metadata": {},
   "source": [
    "<div id=\"6.2\">\n",
    "<h2>6. Hafta 2. Ders</h2>\n",
    "</div>"
   ]
  },
  {
   "cell_type": "markdown",
   "metadata": {},
   "source": [
    "#### Gauss Jordan Yöntemi ile Denklem Sistemi Çözüm"
   ]
  },
  {
   "cell_type": "code",
   "execution_count": 2,
   "metadata": {},
   "outputs": [
    {
     "name": "stdout",
     "output_type": "stream",
     "text": [
      "A matrisi: \n",
      " [[0.42999665 0.94880064 0.22232843 0.92980159]\n",
      " [0.25021091 0.63739106 0.26017809 0.12705753]\n",
      " [0.07274582 0.06297536 0.03186841 0.72061176]\n",
      " [0.15740402 0.08585953 0.16048552 0.1530454 ]]\n",
      "x vektörü: \n",
      " [[8]\n",
      " [4]\n",
      " [5]\n",
      " [5]]\n",
      "B vektörü: \n",
      " [[12.99582586]\n",
      " [ 6.48742962]\n",
      " [ 4.59626883]\n",
      " [ 3.1703249 ]]\n",
      "---------------------------------------\n",
      "A matrisi: \n",
      " [[1. 0. 0. 0.]\n",
      " [0. 1. 0. 0.]\n",
      " [0. 0. 1. 0.]\n",
      " [0. 0. 0. 1.]]\n",
      "Gauss Jordan Yöntemi ile çözüm: \n",
      " [8. 4. 5. 5.]\n"
     ]
    }
   ],
   "source": [
    "def solve_with_gauss_jordan(a, b):\n",
    "    n = a.shape[0]\n",
    "    xx = np.zeros(n)\n",
    "    for i in range(n - 1):\n",
    "        for k in range(i + 1, n):\n",
    "            p = a[k, i] / a[i, i]\n",
    "            for j in range(n):\n",
    "                a[k, j] = a[k, j] - p * a[i, j]\n",
    "            b[k] = b[k] - p * b[i]\n",
    "\n",
    "    for i in range(n - 1, 0, -1):\n",
    "        for k in range(i - 1, -1, -1):\n",
    "            p = a[k, i] / a[i, i]\n",
    "            for j in range(n):\n",
    "                a[k, j] = a[k, j] - p * a[i, j]\n",
    "            b[k] = b[k] - p * b[i]\n",
    "\n",
    "    for i in range(n):\n",
    "        b[i] /= a[i, i]\n",
    "        a[i, i] /= a[i, i]\n",
    "        xx[i] = b[i]\n",
    "\n",
    "    return xx\n",
    "\n",
    "\n",
    "n = 4\n",
    "a = np.random.uniform(0, 1, size=(4, 4))\n",
    "x = np.random.randint(1, 9, size=(n, 1))\n",
    "b = np.dot(a, x)\n",
    "print(\"A matrisi: \\n\", a)\n",
    "print(\"x vektörü: \\n\", x)\n",
    "print(\"B vektörü: \\n\", b)\n",
    "print(\"---------------------------------------\")\n",
    "xx = solve_with_gauss_jordan(a, b)\n",
    "print(\"A matrisi: \\n\", a)\n",
    "print(\"Gauss Jordan Yöntemi ile çözüm: \\n\", xx)"
   ]
  },
  {
   "cell_type": "markdown",
   "metadata": {},
   "source": [
    "#### LU Ayrıştırma Yöntemi ile Denklem Sistemi Çözüm"
   ]
  },
  {
   "cell_type": "code",
   "execution_count": 57,
   "metadata": {},
   "outputs": [
    {
     "name": "stdout",
     "output_type": "stream",
     "text": [
      "A matrisi: \n",
      " [[0.60601357 0.81750659 0.28508626 0.31524217]\n",
      " [0.16313615 0.5111805  0.14234379 0.11728138]\n",
      " [0.79082621 0.80261373 0.37128445 0.26991106]\n",
      " [0.53045681 0.35728662 0.25797125 0.19246468]]\n",
      "x vektörü: \n",
      " [[1]\n",
      " [4]\n",
      " [6]\n",
      " [5]]\n",
      "B vektörü: \n",
      " [[7.16276832]\n",
      " [3.64832781]\n",
      " [7.57854314]\n",
      " [4.46975418]]\n",
      "---------------------------------------\n",
      "LU Ayrıştırma Yöntemi ile çözüm: \n",
      " [1. 4. 6. 5.]\n"
     ]
    }
   ],
   "source": [
    "def solve_with_lu(a, b):\n",
    "    n = a.shape[0]\n",
    "    x = np.zeros(n)\n",
    "    y = np.zeros(n)\n",
    "    L = np.eye(n)\n",
    "    U = np.zeros((n, n))\n",
    "\n",
    "    for i in range(n):\n",
    "        for j in range(n):\n",
    "            if j >= i:\n",
    "                U[i, j] = a[i, j]\n",
    "                for k in range(i):\n",
    "                    U[i, j] -= L[i, k] * U[k, j]\n",
    "                U[i, j] /= L[i, i]\n",
    "            else:\n",
    "                L[i, j] = a[i, j]\n",
    "                for k in range(j):\n",
    "                    L[i, j] -= L[i, k] * U[k, j]\n",
    "                L[i, j] /= U[j, j]\n",
    "\n",
    "    for i in range(n):\n",
    "        y[i] = b[i]\n",
    "        for j in range(i):\n",
    "            y[i] -= L[i, j] * y[j]\n",
    "        y[i] /= L[i, i]\n",
    "\n",
    "    for i in range(n - 1, -1, -1):\n",
    "        x[i] = y[i]\n",
    "        for j in range(i + 1, n):\n",
    "            x[i] -= U[i, j] * x[j]\n",
    "        x[i] /= U[i, i]\n",
    "\n",
    "    return x\n",
    "\n",
    "n = 4\n",
    "a = np.random.uniform(0, 1, size=(4, 4))\n",
    "x = np.random.randint(1, 9, size=(n, 1))\n",
    "b = np.dot(a, x)\n",
    "print(\"A matrisi: \\n\", a)\n",
    "print(\"x vektörü: \\n\", x)\n",
    "print(\"B vektörü: \\n\", b)\n",
    "print(\"---------------------------------------\")\n",
    "xx = solve_with_lu(a, b)\n",
    "print(\"LU Ayrıştırma Yöntemi ile çözüm: \\n\", xx)"
   ]
  },
  {
   "cell_type": "markdown",
   "metadata": {},
   "source": [
    "<div id=\"7.1\">\n",
    "<h2>7. Hafta 1. Ders</h2>\n",
    "</div>"
   ]
  },
  {
   "cell_type": "markdown",
   "metadata": {},
   "source": [
    "#### Gauss-Sidel Yöntemi ile Denklem Sistemi Çözüm"
   ]
  },
  {
   "cell_type": "code",
   "execution_count": 22,
   "metadata": {},
   "outputs": [
    {
     "name": "stdout",
     "output_type": "stream",
     "text": [
      "A matrisi: \n",
      " [[0.29538791 0.12484722 0.68604684 0.49435988]\n",
      " [0.00106526 0.46177422 0.97561852 0.60871948]\n",
      " [0.67154159 0.90634986 0.97788421 0.42861478]\n",
      " [0.35861959 0.41587116 0.89683206 0.92184384]]\n",
      "x vektörü: \n",
      " [[5]\n",
      " [2]\n",
      " [4]\n",
      " [7]]\n",
      "B vektörü: \n",
      " [[ 7.93134047]\n",
      " [ 9.09238515]\n",
      " [12.08224794]\n",
      " [12.66507532]]\n",
      "---------------------------------------\n",
      "Gauss-Sidel Yöntemi ile çözüm: \n",
      " [ 3.35102131e+106  3.18670088e+068  1.84439268e+010 -2.61603292e+009]\n"
     ]
    }
   ],
   "source": [
    "# sağlıklı bir yöntem değil\n",
    "def solve_with_gauss_sidel(a, b, tol=1e-4, nMax=200):\n",
    "    n = a.shape[0]\n",
    "    x = np.random.uniform(0, 10, size=n)\n",
    "    xx = np.zeros(n)\n",
    "\n",
    "    for t in range(nMax):\n",
    "        for i in range(n):\n",
    "            x[i] = b[i]\n",
    "            for j in range(n):\n",
    "                if i != j:\n",
    "                    xx[i] -= a[i, j] * x[j]\n",
    "            xx[i] /= a[i, i]\n",
    "        if np.sum(np.abs(xx - x)) < tol:\n",
    "            break\n",
    "        else:\n",
    "            x = xx.copy()\n",
    "\n",
    "    return x\n",
    "\n",
    "\n",
    "n = 4\n",
    "a = np.random.uniform(0, 1, size=(4, 4))\n",
    "x = np.random.randint(1, 9, size=(n, 1))\n",
    "b = np.dot(a, x)\n",
    "print(\"A matrisi: \\n\", a)\n",
    "print(\"x vektörü: \\n\", x)\n",
    "print(\"B vektörü: \\n\", b)\n",
    "print(\"---------------------------------------\")\n",
    "xx = solve_with_gauss_sidel(a, b)\n",
    "print(\"Gauss-Sidel Yöntemi ile çözüm: \\n\", xx)"
   ]
  },
  {
   "cell_type": "markdown",
   "metadata": {},
   "source": [
    "<div id=\"7.2\">\n",
    "<h2>7. Hafta 2. Ders</h2>\n",
    "</div>"
   ]
  },
  {
   "cell_type": "markdown",
   "metadata": {},
   "source": [
    "### Basit Doğrusal Regresyon"
   ]
  },
  {
   "cell_type": "markdown",
   "metadata": {},
   "source": [
    "<math xmlns=\"http://www.w3.org/1998/Math/MathML\">\n",
    "  <mrow>\n",
    "    <msup>\n",
    "      <mi>y</mi>\n",
    "    </msup>\n",
    "    <mo>=</mo>\n",
    "    <msub>\n",
    "      <mi>b</mi>\n",
    "      <mn>0</mn>\n",
    "    </msub>\n",
    "    <mo>+</mo>\n",
    "    <msub>\n",
    "      <mi>b</mi>\n",
    "      <mn>1</mn>\n",
    "    </msub>\n",
    "    <mi>x</mi>\n",
    "  </mrow>\n",
    "</math>\n"
   ]
  },
  {
   "cell_type": "code",
   "execution_count": 25,
   "metadata": {},
   "outputs": [
    {
     "name": "stdout",
     "output_type": "stream",
     "text": [
      "b0 ve b1: [-2.  3.]\n"
     ]
    },
    {
     "data": {
      "image/png": "[encoded data removed]",
      "text/plain": [
       "<Figure size 640x480 with 1 Axes>"
      ]
     },
     "metadata": {},
     "output_type": "display_data"
    }
   ],
   "source": [
    "import matplotlib.pyplot as plt\n",
    "\n",
    "def basit_doğrusal_regresyon(x, y):\n",
    "    n = x.size\n",
    "    b = np.zeros(2)\n",
    "    X = np.zeros((2, 2))\n",
    "    yX = np.zeros(2)\n",
    "\n",
    "    for i in range(2):\n",
    "        for j in range(2):\n",
    "            for k in range(n):\n",
    "                X[i, j] += x[k] ** (i + j)\n",
    "        for k in range(n):\n",
    "            yX[i] += y[k] * x[k] ** i\n",
    "\n",
    "    b = solve_with_gauss_jordan(X, yX)\n",
    "    return b\n",
    "\n",
    "\n",
    "x = np.sort(np.random.uniform(0, 10, size=12))\n",
    "y = 3 * x - 2 \n",
    "\n",
    "plt.figure()\n",
    "plt.plot(x , y, 'o')\n",
    "\n",
    "b = basit_doğrusal_regresyon(x, y)\n",
    "print(\"b0 ve b1:\", b)\n",
    "\n",
    "yy = b[0] + b[1] * x\n",
    "plt.plot(x , yy)\n",
    "plt.show()"
   ]
  },
  {
   "cell_type": "code",
   "execution_count": 26,
   "metadata": {},
   "outputs": [
    {
     "name": "stdout",
     "output_type": "stream",
     "text": [
      "b0 ve b1: [-2.02025045  3.01828403]\n"
     ]
    },
    {
     "data": {
      "image/png": "[encoded data removed]",
      "text/plain": [
       "<Figure size 640x480 with 1 Axes>"
      ]
     },
     "metadata": {},
     "output_type": "display_data"
    }
   ],
   "source": [
    "x = np.sort(np.random.uniform(0, 10, size=12))\n",
    "y = 3 * x - 2 + np.random.normal(0, 1, size=x.size) \n",
    "\n",
    "plt.figure()\n",
    "plt.plot(x , y, 'o')\n",
    "\n",
    "b = basit_doğrusal_regresyon(x, y)\n",
    "print(\"b0 ve b1:\", b)\n",
    "\n",
    "yy = b[0] + b[1] * x\n",
    "plt.plot(x , yy)\n",
    "plt.show()"
   ]
  },
  {
   "cell_type": "code",
   "execution_count": null,
   "metadata": {},
   "outputs": [],
   "source": []
  }
 ],
 "metadata": {
  "kernelspec": {
   "display_name": "base",
   "language": "python",
   "name": "python3"
  },
  "language_info": {
   "codemirror_mode": {
    "name": "ipython",
    "version": 3
   },
   "file_extension": ".py",
   "mimetype": "text/x-python",
   "name": "python",
   "nbconvert_exporter": "python",
   "pygments_lexer": "ipython3",
   "version": "3.11.5"
  }
 },
 "nbformat": 4,
 "nbformat_minor": 2
}
