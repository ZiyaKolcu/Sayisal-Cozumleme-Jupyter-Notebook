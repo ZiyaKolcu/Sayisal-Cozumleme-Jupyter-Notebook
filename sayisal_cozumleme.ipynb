{
 "cells": [
  {
   "cell_type": "markdown",
   "metadata": {},
   "source": [
    "# Sayısal Çözümleme"
   ]
  },
  {
   "cell_type": "markdown",
   "metadata": {},
   "source": [
    "<h2 id=\"main\">Dersler</h2>"
   ]
  },
  {
   "cell_type": "markdown",
   "metadata": {},
   "source": [
    "+ <a href=\"#1.2\">1. Hafta 2. Ders</a>\n",
    "    * İkiye Bölme Yöntemi"
   ]
  },
  {
   "cell_type": "markdown",
   "metadata": {},
   "source": [
    "+ <a href=\"#2.1\">2. Hafta 1. Ders</a>\n",
    "    * Taylor Serisi\n",
    "    * Newton-Raphson Yöntemi\n",
    "    * Secant Yöntemi"
   ]
  },
  {
   "cell_type": "markdown",
   "metadata": {},
   "source": [
    "+ <a href=\"#2.2\">2. Hafta 2. Ders</a>\n",
    "    * Regula Falsi Yöntemi\n",
    "    * Fixed Point Yöntemi"
   ]
  },
  {
   "cell_type": "markdown",
   "metadata": {},
   "source": [
    "+ <a href=\"#3.1\">3. Hafta 1. Ders</a>\n",
    "    * Polinomlar\n",
    "    * Polinom Toplama\n",
    "    * Polinom Çarpma\n",
    "    * Polinom Katsayıları Bulma"
   ]
  },
  {
   "cell_type": "markdown",
   "metadata": {},
   "source": [
    "+ <a href=\"#3.2\">3. Hafta 2. Ders</a>\n",
    "    * Polinom Bölme\n",
    "    * Polinom Türev\n",
    "    * Polinomun Newton-Raphson Yöntemi ile Kök Bulma\n",
    "    * Polinom İntegral"
   ]
  },
  {
   "cell_type": "markdown",
   "metadata": {},
   "source": [
    "+ <a href=\"#4.1\">4. Hafta 1. Ders</a>\n",
    "    * Matrisler\n",
    "    * Matris Toplama"
   ]
  },
  {
   "cell_type": "markdown",
   "metadata": {},
   "source": [
    "+ <a href=\"#4.2\">4. Hafta 2. Ders</a>\n",
    "    * Matris Çarpımı\n",
    "    * Matrisin Transpozu\n",
    "    * Matrisin İzi\n",
    "    * Matrisin Laplace Yöntemi ile Determinantı"
   ]
  },
  {
   "cell_type": "markdown",
   "metadata": {},
   "source": [
    "+ <a href=\"#5.1\">5. Hafta 1. Ders</a>\n",
    "    * Gauss Eleme Yöntemi ile Determinant Hesaplama"
   ]
  },
  {
   "cell_type": "markdown",
   "metadata": {},
   "source": [
    "+ <a href=\"#5.2\">5. Hafta 2. Ders</a>\n",
    "    * LU Ayrışım Yöntemi ile Determinant Hesaplama"
   ]
  },
  {
   "cell_type": "markdown",
   "metadata": {},
   "source": [
    "+ <a href=\"#6.1\">6. Hafta 1. Ders</a>\n",
    "    * Gauss Eleme Yöntemi ile Denklem Sistemi Çözüm"
   ]
  },
  {
   "cell_type": "markdown",
   "metadata": {},
   "source": [
    "+ <a href=\"#6.2\">6. Hafta 2. Ders</a>\n",
    "    * Gauss Jordan Yöntemi ile Denklem Sistemi Çözüm\n",
    "    * LU Ayrıştırma Yöntemi ile Denklem Sistemi Çözüm"
   ]
  },
  {
   "cell_type": "markdown",
   "metadata": {},
   "source": [
    "+ <a href=\"#7.1\">7. Hafta 1. Ders</a>\n",
    "    * Gauss-Sidel Yöntemi ile Denklem Sistemi Çözüm"
   ]
  },
  {
   "cell_type": "markdown",
   "metadata": {},
   "source": [
    "+ <a href=\"#7.2\">7. Hafta 2. Ders</a>\n",
    "    * Basit Doğrusal Regresyon"
   ]
  },
  {
   "cell_type": "code",
   "execution_count": 76,
   "metadata": {},
   "outputs": [],
   "source": [
    "import numpy as np\n",
    "import matplotlib.pyplot as plt\n",
    "import warnings\n",
    "warnings.filterwarnings(\"ignore\")"
   ]
  },
  {
   "cell_type": "markdown",
   "metadata": {},
   "source": [
    "<div id=\"1.2\">\n",
    "<h2>1. Hafta 2. Ders</h2>\n",
    "</div>"
   ]
  },
  {
   "cell_type": "markdown",
   "metadata": {},
   "source": [
    "### İkiye Bölme Yöntemi"
   ]
  },
  {
   "cell_type": "code",
   "execution_count": 77,
   "metadata": {},
   "outputs": [
    {
     "name": "stdout",
     "output_type": "stream",
     "text": [
      "fonksiyonun kökü: 2.05\n",
      "fonksiyonda değeri: -0.05\n"
     ]
    }
   ],
   "source": [
    "def f(x):\n",
    "    return x**2 - 5 * x + 6\n",
    "\n",
    "\n",
    "def bisection_method(f, xa, xu, tol=1e-4, nMax=100):\n",
    "    i = 0\n",
    "    while i < nMax:\n",
    "        i += 1\n",
    "        xm = (xa + xu) / 2\n",
    "        if f(xm) * f(xa) < 0:\n",
    "            xu = xm\n",
    "        else:\n",
    "            xa = xm\n",
    "        if abs(xu - xa) < tol:\n",
    "            break\n",
    "        return (xa + xu) / 2\n",
    "\n",
    "\n",
    "x = bisection_method(f, xa=1, xu=2.4)\n",
    "print(f\"fonksiyonun kökü: {x:.2f}\")\n",
    "print(f\"fonksiyonda değeri: {f(x):.2f}\")"
   ]
  },
  {
   "cell_type": "markdown",
   "metadata": {},
   "source": [
    "<div id=\"2.1\">\n",
    "<h2>2. Hafta 1. Ders</h2>\n",
    "</div>"
   ]
  },
  {
   "cell_type": "markdown",
   "metadata": {},
   "source": [
    "### Taylor Serisi"
   ]
  },
  {
   "cell_type": "markdown",
   "metadata": {},
   "source": [
    "<math xmlns=\"http://www.w3.org/1998/Math/MathML\">\n",
    "  <mtable columnalign=\"left\" columnspacing=\"1em\" rowspacing=\"4pt\">\n",
    "    <mtr>\n",
    "      <mtd>\n",
    "        <mi>f</mi>\n",
    "        <mo stretchy=\"false\">(</mo>\n",
    "        <mi>a</mi>\n",
    "        <mo stretchy=\"false\">)</mo>\n",
    "        <mo>+</mo>\n",
    "        <mfrac>\n",
    "          <mrow>\n",
    "            <msup>\n",
    "              <mi>f</mi>\n",
    "              <mrow data-mjx-texclass=\"ORD\">\n",
    "                <mi data-mjx-alternate=\"1\">&#x2032;</mi>\n",
    "              </mrow>\n",
    "            </msup>\n",
    "            <mo stretchy=\"false\">(</mo>\n",
    "            <mi>a</mi>\n",
    "            <mo stretchy=\"false\">)</mo>\n",
    "          </mrow>\n",
    "          <mrow>\n",
    "            <mn>1</mn>\n",
    "            <mo>!</mo>\n",
    "          </mrow>\n",
    "        </mfrac>\n",
    "        <mo stretchy=\"false\">(</mo>\n",
    "        <mi>x</mi>\n",
    "        <mo>&#x2212;</mo>\n",
    "        <mi>a</mi>\n",
    "        <mo stretchy=\"false\">)</mo>\n",
    "        <mo>+</mo>\n",
    "        <mfrac>\n",
    "          <mrow>\n",
    "            <msup>\n",
    "              <mi>f</mi>\n",
    "              <mrow data-mjx-texclass=\"ORD\">\n",
    "                <mi data-mjx-alternate=\"1\">&#x2032;</mi>\n",
    "                <mi data-mjx-alternate=\"1\">&#x2032;</mi>\n",
    "              </mrow>\n",
    "            </msup>\n",
    "            <mo stretchy=\"false\">(</mo>\n",
    "            <mi>a</mi>\n",
    "            <mo stretchy=\"false\">)</mo>\n",
    "          </mrow>\n",
    "          <mrow>\n",
    "            <mn>2</mn>\n",
    "            <mo>!</mo>\n",
    "          </mrow>\n",
    "        </mfrac>\n",
    "        <mo stretchy=\"false\">(</mo>\n",
    "        <mi>x</mi>\n",
    "        <mo>&#x2212;</mo>\n",
    "        <mi>a</mi>\n",
    "        <msup>\n",
    "          <mo stretchy=\"false\">)</mo>\n",
    "          <mrow data-mjx-texclass=\"ORD\">\n",
    "            <mn>2</mn>\n",
    "          </mrow>\n",
    "        </msup>\n",
    "        <mo>+</mo>\n",
    "        <mfrac>\n",
    "          <mrow>\n",
    "            <msup>\n",
    "              <mi>f</mi>\n",
    "              <mrow data-mjx-texclass=\"ORD\">\n",
    "                <mi data-mjx-alternate=\"1\">&#x2032;</mi>\n",
    "                <mi data-mjx-alternate=\"1\">&#x2032;</mi>\n",
    "                <mi data-mjx-alternate=\"1\">&#x2032;</mi>\n",
    "              </mrow>\n",
    "            </msup>\n",
    "            <mo stretchy=\"false\">(</mo>\n",
    "            <mi>a</mi>\n",
    "            <mo stretchy=\"false\">)</mo>\n",
    "          </mrow>\n",
    "          <mrow>\n",
    "            <mn>3</mn>\n",
    "            <mo>!</mo>\n",
    "          </mrow>\n",
    "        </mfrac>\n",
    "        <mo stretchy=\"false\">(</mo>\n",
    "        <mi>x</mi>\n",
    "        <mo>&#x2212;</mo>\n",
    "        <mi>a</mi>\n",
    "        <msup>\n",
    "          <mo stretchy=\"false\">)</mo>\n",
    "          <mrow data-mjx-texclass=\"ORD\">\n",
    "            <mn>3</mn>\n",
    "          </mrow>\n",
    "        </msup>\n",
    "        <mo>+</mo>\n",
    "        <mo>&#x22EF;</mo>\n",
    "      </mtd>\n",
    "    </mtr>\n",
    "  </mtable>\n",
    "</math>"
   ]
  },
  {
   "cell_type": "markdown",
   "metadata": {},
   "source": [
    "#### Sigma Gösterimi\n",
    "<math xmlns=\"http://www.w3.org/1998/Math/MathML\">\n",
    "  <mtable columnalign=\"left\" columnspacing=\"1em\" rowspacing=\"4pt\">\n",
    "    <mtr>\n",
    "      <mtd>\n",
    "        <munderover>\n",
    "          <mo data-mjx-texclass=\"OP\">&#x2211;</mo>\n",
    "          <mrow data-mjx-texclass=\"ORD\">\n",
    "            <mi>n</mi>\n",
    "            <mo>=</mo>\n",
    "            <mn>0</mn>\n",
    "          </mrow>\n",
    "          <mrow data-mjx-texclass=\"ORD\">\n",
    "            <mi mathvariant=\"normal\">&#x221E;</mi>\n",
    "          </mrow>\n",
    "        </munderover>\n",
    "        <mfrac>\n",
    "          <mrow>\n",
    "            <msup>\n",
    "              <mi>f</mi>\n",
    "              <mrow data-mjx-texclass=\"ORD\">\n",
    "                <mi>n</mi>\n",
    "              </mrow>\n",
    "            </msup>\n",
    "            <mo stretchy=\"false\">(</mo>\n",
    "            <mi>a</mi>\n",
    "            <mo stretchy=\"false\">)</mo>\n",
    "          </mrow>\n",
    "          <mrow>\n",
    "            <mi>n</mi>\n",
    "            <mo>!</mo>\n",
    "          </mrow>\n",
    "        </mfrac>\n",
    "        <mo stretchy=\"false\">(</mo>\n",
    "        <mi>x</mi>\n",
    "        <mo>&#x2212;</mo>\n",
    "        <mi>a</mi>\n",
    "        <msup>\n",
    "          <mo stretchy=\"false\">)</mo>\n",
    "          <mrow data-mjx-texclass=\"ORD\">\n",
    "            <mi>n</mi>\n",
    "          </mrow>\n",
    "        </msup>\n",
    "      </mtd>\n",
    "    </mtr>\n",
    "  </mtable>\n",
    "</math>"
   ]
  },
  {
   "cell_type": "markdown",
   "metadata": {},
   "source": [
    "### Newton Raphson Yöntemi"
   ]
  },
  {
   "cell_type": "markdown",
   "metadata": {},
   "source": [
    "<math xmlns=\"http://www.w3.org/1998/Math/MathML\">\n",
    "  <mtable columnalign=\"left\" columnspacing=\"1em\" rowspacing=\"4pt\">\n",
    "    <mtr>\n",
    "      <mtd>\n",
    "        <msub>\n",
    "          <mi>x</mi>\n",
    "          <mrow data-mjx-texclass=\"ORD\">\n",
    "            <mi>n</mi>\n",
    "            <mo>+</mo>\n",
    "            <mn>1</mn>\n",
    "          </mrow>\n",
    "        </msub>\n",
    "        <mo>=</mo>\n",
    "        <msub>\n",
    "          <mi>x</mi>\n",
    "          <mi>n</mi>\n",
    "        </msub>\n",
    "        <mo>&#x2212;</mo>\n",
    "        <mfrac>\n",
    "          <mrow>\n",
    "            <mi>f</mi>\n",
    "            <mo stretchy=\"false\">(</mo>\n",
    "            <msub>\n",
    "              <mi>x</mi>\n",
    "              <mi>n</mi>\n",
    "            </msub>\n",
    "            <mo stretchy=\"false\">)</mo>\n",
    "          </mrow>\n",
    "          <mrow>\n",
    "            <msup>\n",
    "              <mi>f</mi>\n",
    "              <mo data-mjx-alternate=\"1\">&#x2032;</mo>\n",
    "            </msup>\n",
    "            <mo stretchy=\"false\">(</mo>\n",
    "            <msub>\n",
    "              <mi>x</mi>\n",
    "              <mi>n</mi>\n",
    "            </msub>\n",
    "            <mo stretchy=\"false\">)</mo>\n",
    "          </mrow>\n",
    "        </mfrac>\n",
    "      </mtd>\n",
    "    </mtr>\n",
    "  </mtable>\n",
    "</math>"
   ]
  },
  {
   "cell_type": "code",
   "execution_count": 78,
   "metadata": {},
   "outputs": [
    {
     "name": "stdout",
     "output_type": "stream",
     "text": [
      "0, 1.00, 1.67, 2.00, 0.44, 0.67\n",
      "1, 1.67, 1.93, 0.44, 0.07, 0.27\n",
      "2, 1.93, 2.00, 0.07, 0.00, 0.06\n",
      "3, 2.00, 2.00, 0.00, 0.00, 0.00\n",
      "fonksiyonun kökü: 2.00\n",
      "fonksiyonda değeri: 0.00\n"
     ]
    }
   ],
   "source": [
    "def f(x):\n",
    "    return x**2 - 5 * x + 6\n",
    "\n",
    "def df(x):\n",
    "    return 2 * x - 5\n",
    "\n",
    "def newton_raphson_method(f, x0, tol=1e-4, nMax=100):\n",
    "    for i in range(nMax):\n",
    "        x1 = x0 - f(x0) / df(x0)\n",
    "        if abs(x1 - x0) < tol:\n",
    "            break\n",
    "        print(f\"{i}, {x0:.2f}, {x1:.2f}, {f(x0):.2f}, {f(x1):.2f}, {abs(x1-x0):.2f}\")\n",
    "        x0 = x1\n",
    "    return x1\n",
    "\n",
    "x0 = 1\n",
    "xx = newton_raphson_method(f, x0)\n",
    "print(f\"fonksiyonun kökü: {xx:.2f}\")\n",
    "print(f\"fonksiyonda değeri: {f(xx):.2f}\")"
   ]
  },
  {
   "cell_type": "code",
   "execution_count": 79,
   "metadata": {},
   "outputs": [
    {
     "name": "stdout",
     "output_type": "stream",
     "text": [
      "0, 1.00, 0.21, 2.37, 1.18, 0.79\n",
      "1, 0.21, -1.32, 1.18, -6.20, 1.53\n",
      "2, -1.32, -0.87, -6.20, -1.73, 0.45\n",
      "3, -0.87, -0.61, -1.73, -0.36, 0.26\n",
      "4, -0.61, -0.52, -0.36, -0.03, 0.09\n",
      "5, -0.52, -0.52, -0.03, -0.00, 0.01\n",
      "fonksiyonun kökü: -0.52\n",
      "fonksiyonda değeri: -0.00\n"
     ]
    }
   ],
   "source": [
    "def f(x):\n",
    "    return x * np.exp(-x) + x**3 + 1\n",
    "\n",
    "def df(x):\n",
    "    return np.exp(-x) - x * np.exp(-x) + 3 * x**2\n",
    "\n",
    "x0 = 1\n",
    "xx = newton_raphson_method(f, x0)\n",
    "print(f\"fonksiyonun kökü: {xx:.2f}\")\n",
    "print(f\"fonksiyonda değeri: {f(xx):.2f}\")"
   ]
  },
  {
   "cell_type": "markdown",
   "metadata": {},
   "source": [
    "#### Matplotlib ile Grafik Çizimi"
   ]
  },
  {
   "cell_type": "code",
   "execution_count": 80,
   "metadata": {},
   "outputs": [
    {
     "name": "stdout",
     "output_type": "stream",
     "text": [
      "fonksiyonun kökü: -0.52\n",
      "fonksiyonda değeri: -0.00\n"
     ]
    },
    {
     "data": {
      "image/png": "[encoded data removed]",
      "text/plain": [
       "<Figure size 640x480 with 1 Axes>"
      ]
     },
     "metadata": {},
     "output_type": "display_data"
    }
   ],
   "source": [
    "def f(x):\n",
    "    return x * np.exp(-x) + x**3 + 1\n",
    "\n",
    "def df(x):\n",
    "    return np.exp(-x) - x * np.exp(-x) + 3 * x**2\n",
    "\n",
    "def newton_raphson_method_with_graph(f, x0, tol=1e-4, nMax=100):\n",
    "    xp = np.linspace(-2, 2, 100)\n",
    "    yp = f(xp)\n",
    "    for i in range(nMax):\n",
    "        x1 = x0 - f(x0) / df(x0)\n",
    "        if abs(x1 - x0) < tol:\n",
    "            break\n",
    "        plt.clf()\n",
    "        plt.plot(xp, yp)\n",
    "        plt.plot(x0, f(x0), \"o\", ms=15)\n",
    "        plt.plot(x1, f(x1), \"x\", ms=15)\n",
    "        plt.grid()\n",
    "        x0 = x1\n",
    "    return x1\n",
    "\n",
    "\n",
    "x0 = 1\n",
    "xx = newton_raphson_method_with_graph(f, x0)\n",
    "print(f\"fonksiyonun kökü: {xx:.2f}\")\n",
    "print(f\"fonksiyonda değeri: {f(xx):.2f}\")"
   ]
  },
  {
   "cell_type": "markdown",
   "metadata": {},
   "source": [
    "#### Secant Yöntemi\n",
    "Türev kullanmadan Newton-Raphson yöntemini kullanmak için kullanılır."
   ]
  },
  {
   "cell_type": "markdown",
   "metadata": {},
   "source": [
    "<math xmlns=\"http://www.w3.org/1998/Math/MathML\">\n",
    "  <mtable columnalign=\"left\" columnspacing=\"1em\" rowspacing=\"4pt\">\n",
    "    <mtr>\n",
    "      <mtd>\n",
    "        <msub>\n",
    "          <mi>x</mi>\n",
    "          <mrow data-mjx-texclass=\"ORD\">\n",
    "            <mi>n</mi>\n",
    "            <mo>+</mo>\n",
    "            <mn>1</mn>\n",
    "          </mrow>\n",
    "        </msub>\n",
    "        <mo>=</mo>\n",
    "        <msub>\n",
    "          <mi>x</mi>\n",
    "          <mrow data-mjx-texclass=\"ORD\">\n",
    "            <mi>n</mi>\n",
    "          </mrow>\n",
    "        </msub>\n",
    "        <mo>&#x2212;</mo>\n",
    "        <mi>f</mi>\n",
    "        <mo stretchy=\"false\">(</mo>\n",
    "        <msub>\n",
    "          <mi>x</mi>\n",
    "          <mrow data-mjx-texclass=\"ORD\">\n",
    "            <mi>n</mi>\n",
    "          </mrow>\n",
    "        </msub>\n",
    "        <mo stretchy=\"false\">)</mo>\n",
    "        <mo>.</mo>\n",
    "        <mfrac>\n",
    "          <mrow>\n",
    "            <msub>\n",
    "              <mi>x</mi>\n",
    "              <mrow data-mjx-texclass=\"ORD\">\n",
    "                <mi>n</mi>\n",
    "              </mrow>\n",
    "            </msub>\n",
    "            <mo>&#x2212;</mo>\n",
    "            <msub>\n",
    "              <mi>x</mi>\n",
    "              <mrow data-mjx-texclass=\"ORD\">\n",
    "                <mi>n</mi>\n",
    "                <mo>&#x2212;</mo>\n",
    "                <mn>1</mn>\n",
    "              </mrow>\n",
    "            </msub>\n",
    "          </mrow>\n",
    "          <mrow>\n",
    "            <mi>f</mi>\n",
    "            <mo stretchy=\"false\">(</mo>\n",
    "            <msub>\n",
    "              <mi>x</mi>\n",
    "              <mrow data-mjx-texclass=\"ORD\">\n",
    "                <mi>n</mi>\n",
    "              </mrow>\n",
    "            </msub>\n",
    "            <mo stretchy=\"false\">)</mo>\n",
    "            <mo>&#x2212;</mo>\n",
    "            <mi>f</mi>\n",
    "            <mo stretchy=\"false\">(</mo>\n",
    "            <msub>\n",
    "              <mi>x</mi>\n",
    "              <mrow data-mjx-texclass=\"ORD\">\n",
    "                <mi>n</mi>\n",
    "                <mo>&#x2212;</mo>\n",
    "                <mn>1</mn>\n",
    "              </mrow>\n",
    "            </msub>\n",
    "            <mo stretchy=\"false\">)</mo>\n",
    "          </mrow>\n",
    "        </mfrac>\n",
    "      </mtd>\n",
    "    </mtr>\n",
    "  </mtable>\n",
    "</math>"
   ]
  },
  {
   "cell_type": "code",
   "execution_count": 81,
   "metadata": {},
   "outputs": [
    {
     "name": "stdout",
     "output_type": "stream",
     "text": [
      "0, -1.00, 1.00, 1.40, 12.00, 0.96, 2.00, 0.96, 2.00\n",
      "1, 1.00, 1.40, 1.77, 2.00, 0.28, 0.96, 0.28, 0.40\n",
      "2, 1.40, 1.77, 1.92, 0.96, 0.08, 0.28, 0.08, 0.37\n",
      "3, 1.77, 1.92, 1.99, 0.28, 0.01, 0.08, 0.01, 0.16\n",
      "4, 1.92, 1.99, 2.00, 0.08, 0.00, 0.01, 0.00, 0.06\n",
      "5, 1.99, 2.00, 2.00, 0.01, 0.00, 0.00, 0.00, 0.01\n",
      "fonksiyonun kökü: 2.00\n",
      "fonksiyonda değeri: 0.00\n"
     ]
    }
   ],
   "source": [
    "def f(x):\n",
    "    return x**2 - 5 * x + 6\n",
    "\n",
    "def secant_method(f, x0, x1, tol=1e-4, nMax=100):\n",
    "    xp = np.linspace(-2, 2, 100)\n",
    "    yp = f(xp)\n",
    "    for i in range(nMax):\n",
    "        x2 = (x0 * f(x1) - x1 * f(x0)) / (f(x1) - f(x0))\n",
    "        if abs(x2 - x1) < tol:\n",
    "            break\n",
    "        print(f\"{i}, {x0:.2f}, {x1:.2f}, {x2:.2f}, {f(x0):.2f}, {f(x2):.2f}, {f(x1):.2f}, {f(x2):.2f}, {abs(x1-x0):.2f}\")\n",
    "        x0 = x1\n",
    "        x1 = x2\n",
    "    return x2\n",
    "\n",
    "x0 = -1\n",
    "b = 1\n",
    "xx = secant_method(f, x0, b)\n",
    "print(f\"fonksiyonun kökü: {xx:.2f}\")\n",
    "print(f\"fonksiyonda değeri: {f(xx):.2f}\")"
   ]
  },
  {
   "cell_type": "markdown",
   "metadata": {},
   "source": [
    "<div id=\"2.2\">\n",
    "<h2>2. Hafta 2. Ders</h2>\n",
    "</div>"
   ]
  },
  {
   "cell_type": "markdown",
   "metadata": {},
   "source": [
    "### Regula Falsi Yöntemi"
   ]
  },
  {
   "cell_type": "markdown",
   "metadata": {},
   "source": [
    "<math xmlns=\"http://www.w3.org/1998/Math/MathML\">\n",
    "  <mtable columnalign=\"left\" columnspacing=\"1em\" rowspacing=\"4pt\">\n",
    "    <mtr>\n",
    "      <mtd>\n",
    "        <mi>y</mi>\n",
    "        <mo>&#x2212;</mo>\n",
    "        <mi>f</mi>\n",
    "        <mo stretchy=\"false\">(</mo>\n",
    "        <mi>a</mi>\n",
    "        <mo stretchy=\"false\">)</mo>\n",
    "        <mo>=</mo>\n",
    "        <mfrac>\n",
    "          <mrow>\n",
    "            <mi>f</mi>\n",
    "            <mo stretchy=\"false\">(</mo>\n",
    "            <mi>b</mi>\n",
    "            <mo stretchy=\"false\">)</mo>\n",
    "            <mo>&#x2212;</mo>\n",
    "            <mi>f</mi>\n",
    "            <mo stretchy=\"false\">(</mo>\n",
    "            <mi>a</mi>\n",
    "            <mo stretchy=\"false\">)</mo>\n",
    "          </mrow>\n",
    "          <mrow>\n",
    "            <mo stretchy=\"false\">(</mo>\n",
    "            <mi>b</mi>\n",
    "            <mo>&#x2212;</mo>\n",
    "            <mi>a</mi>\n",
    "            <mo stretchy=\"false\">)</mo>\n",
    "          </mrow>\n",
    "        </mfrac>\n",
    "        <mo>.</mo>\n",
    "        <mo stretchy=\"false\">(</mo>\n",
    "        <mi>x</mi>\n",
    "        <mo>&#x2212;</mo>\n",
    "        <mi>a</mi>\n",
    "        <mo stretchy=\"false\">)</mo>\n",
    "      </mtd>\n",
    "    </mtr>\n",
    "  </mtable>\n",
    "</math>"
   ]
  },
  {
   "cell_type": "code",
   "execution_count": 82,
   "metadata": {},
   "outputs": [
    {
     "name": "stdout",
     "output_type": "stream",
     "text": [
      "fonksiyonun kökü: 2.00\n",
      "fonksiyonda değeri: 0.00\n"
     ]
    }
   ],
   "source": [
    "def f(x):\n",
    "    return x**2 - 5 * x + 6\n",
    "\n",
    "def regula_falsi(f, a, b, tol=1e-4, nMax=100):\n",
    "    c0 = a\n",
    "    for i in range(nMax):\n",
    "        c = (a * f(b) - b * f(a)) / (f(b) - f(a))\n",
    "        if abs(c - c0) < tol:\n",
    "            break\n",
    "        # print(f\"{i}, {a:.2f}, {b:.2f}, {c:.2f}, {f(a):.2f}, {f(b):.2f}, {abs(c0-c):.2f}\")\n",
    "        if f(a) * f(c) < 0:\n",
    "            b = c\n",
    "        else:\n",
    "            a = c\n",
    "    return c\n",
    "\n",
    "x0 = -1\n",
    "x1 = 1\n",
    "xx = regula_falsi(f, x0, x1)\n",
    "print(f\"fonksiyonun kökü: {xx:.2f}\")\n",
    "print(f\"fonksiyonda değeri: {f(xx):.2f}\")"
   ]
  },
  {
   "cell_type": "markdown",
   "metadata": {},
   "source": [
    "### Fixed Point Iteration "
   ]
  },
  {
   "cell_type": "code",
   "execution_count": 83,
   "metadata": {},
   "outputs": [
    {
     "name": "stdout",
     "output_type": "stream",
     "text": [
      "fonksiyonun kökü: 2.00\n",
      "fonksiyonda değeri: 0.00\n"
     ]
    }
   ],
   "source": [
    "def f(x):\n",
    "    return x**2 - 5 * x + 6\n",
    "\n",
    "def g(x):\n",
    "    return (6 + x**2) / 5\n",
    "\n",
    "def fixed_point(f, x0, tol=1e-4, nMax=100):\n",
    "    for i in range(nMax):\n",
    "        x1 = g(x0)\n",
    "        if abs(x1 - x0) < tol:\n",
    "            break\n",
    "        # print(f\"{i}, {x0:.2f}, {x1:.2f}, {f(x0):.2f}, {f(x1):.2f}, {abs(x1-x0):.2f}\")\n",
    "        x0 = x1\n",
    "\n",
    "    return x1\n",
    "\n",
    "x0 = 0\n",
    "xx = fixed_point(f, x0)\n",
    "print(f\"fonksiyonun kökü: {xx:.2f}\")\n",
    "print(f\"fonksiyonda değeri: {f(xx):.2f}\")"
   ]
  },
  {
   "cell_type": "markdown",
   "metadata": {},
   "source": [
    "<div id=\"3.1\">\n",
    "<h2>3. Hafta 1. Ders</h2>\n",
    "</div>"
   ]
  },
  {
   "cell_type": "markdown",
   "metadata": {},
   "source": [
    "### Polinomlar"
   ]
  },
  {
   "cell_type": "code",
   "execution_count": 84,
   "metadata": {},
   "outputs": [
    {
     "name": "stdout",
     "output_type": "stream",
     "text": [
      "P(1) = 12\n",
      "P(4) = 18\n"
     ]
    }
   ],
   "source": [
    "def polyval(p, x):\n",
    "    d = len(p)\n",
    "    t = 0\n",
    "    for i in range(d):\n",
    "        t += p[i] * x**i\n",
    "    return t\n",
    "\n",
    "p = [30, -19, 0, 1]\n",
    "\n",
    "print(f\"P(1) = {polyval(p, 1)}\")\n",
    "print(f\"P(4) = {polyval(p, 4)}\")"
   ]
  },
  {
   "cell_type": "markdown",
   "metadata": {},
   "source": [
    "### Polinom Toplama"
   ]
  },
  {
   "cell_type": "code",
   "execution_count": 85,
   "metadata": {},
   "outputs": [
    {
     "name": "stdout",
     "output_type": "stream",
     "text": [
      "[2, 3, 1]\n"
     ]
    }
   ],
   "source": [
    "def polysum(p, q):\n",
    "    n = len(p)\n",
    "    m = len(q)\n",
    "    s = []\n",
    "    for i in range(max(n, m)):\n",
    "        t = 0\n",
    "        if i < n:\n",
    "            t += p[i]\n",
    "        if i < m:\n",
    "            t += q[i]\n",
    "        s.append(t)\n",
    "    return s\n",
    "\n",
    "\n",
    "p = [4, -3, 1]\n",
    "q = [-2, 6]\n",
    "y = polysum(p, q)\n",
    "print(y)"
   ]
  },
  {
   "cell_type": "markdown",
   "metadata": {},
   "source": [
    "### Polinom Çarpma"
   ]
  },
  {
   "cell_type": "code",
   "execution_count": 86,
   "metadata": {},
   "outputs": [
    {
     "name": "stdout",
     "output_type": "stream",
     "text": [
      "[-8, 30, -20, 6]\n"
     ]
    }
   ],
   "source": [
    "def polyprod(p, q):\n",
    "    n = len(p)\n",
    "    m = len(q)\n",
    "    c = [0] * (m + n - 1)\n",
    "    for i in range(n):\n",
    "        for j in range(m):\n",
    "            k = i + j\n",
    "            c[k] += p[i] * q[j]\n",
    "    return c\n",
    "\n",
    "\n",
    "p = [4, -3, 1]\n",
    "q = [-2, 6]\n",
    "y = polyprod(p, q)\n",
    "print(y)"
   ]
  },
  {
   "cell_type": "markdown",
   "metadata": {},
   "source": [
    "### Polinom Katsayıları Bulma"
   ]
  },
  {
   "cell_type": "code",
   "execution_count": 87,
   "metadata": {},
   "outputs": [
    {
     "name": "stdout",
     "output_type": "stream",
     "text": [
      "Polinomun katsayıları: [6, -5, 1]\n"
     ]
    }
   ],
   "source": [
    "def poly(r):\n",
    "    p = [1]\n",
    "    n = len(r)\n",
    "    for i in range(n):\n",
    "        p = polyprod(p, [-r[i], 1])\n",
    "    return p\n",
    "\n",
    "\n",
    "r = [2, 3]\n",
    "y = poly(r)\n",
    "\n",
    "print(\"Polinomun katsayıları:\", y)"
   ]
  },
  {
   "cell_type": "markdown",
   "metadata": {},
   "source": [
    "<div id=\"3.2\">\n",
    "<h2>3. Hafta 2. Ders</h2>\n",
    "</div>"
   ]
  },
  {
   "cell_type": "markdown",
   "metadata": {},
   "source": [
    "### Polinom Bölme"
   ]
  },
  {
   "cell_type": "code",
   "execution_count": 88,
   "metadata": {},
   "outputs": [
    {
     "name": "stdout",
     "output_type": "stream",
     "text": [
      "Polinomun katsayıları: [6, -5, 1]\n",
      "Polinomun x=2 köküne bölümü: [-3, 1]\n"
     ]
    }
   ],
   "source": [
    "def polydiv(p, r):\n",
    "    n = len(p)\n",
    "    q = [0] * n\n",
    "    for i in range(n - 1, -1, -1):\n",
    "        q[i - 1] = p[i] + r * q[i]\n",
    "    return q[:-1]\n",
    "\n",
    "\n",
    "r = [2, 3]\n",
    "p = poly(r)\n",
    "print(\"Polinomun katsayıları:\", p)\n",
    "q = polydiv(p, 2)\n",
    "print(\"Polinomun x=2 köküne bölümü:\", q)"
   ]
  },
  {
   "cell_type": "code",
   "execution_count": 89,
   "metadata": {},
   "outputs": [
    {
     "name": "stdout",
     "output_type": "stream",
     "text": [
      "Polinomun katsayıları: [30, -19, 0, 1]\n",
      "Poilnomun x=-5 köküne bölümü: [6, -5, 1]\n"
     ]
    }
   ],
   "source": [
    "r = [2, 3, -5]\n",
    "p = poly(r)\n",
    "print(\"Polinomun katsayıları:\", p)\n",
    "q = polydiv(p, -5)\n",
    "print(\"Poilnomun x=-5 köküne bölümü:\", q)"
   ]
  },
  {
   "cell_type": "markdown",
   "metadata": {},
   "source": [
    "### Polinom Türev"
   ]
  },
  {
   "cell_type": "code",
   "execution_count": 90,
   "metadata": {},
   "outputs": [
    {
     "name": "stdout",
     "output_type": "stream",
     "text": [
      "Polinomun katsayıları: [30, -19, 0, 1]\n",
      "Polinomun türevi: [0, -19, 0, 3]\n"
     ]
    }
   ],
   "source": [
    "def polyder(p):\n",
    "    n = len(p)\n",
    "    q = [0] * n\n",
    "    for i in range(n):\n",
    "        q[i] = i * p[i]\n",
    "    return q\n",
    "\n",
    "\n",
    "r = [2, 3, -5]\n",
    "p = poly(r)\n",
    "print(\"Polinomun katsayıları:\", p)\n",
    "t = polyder(p)\n",
    "print(\"Polinomun türevi:\", t)"
   ]
  },
  {
   "cell_type": "markdown",
   "metadata": {},
   "source": [
    "### Polinomun Newton-Raphson ile köklerini Bulma"
   ]
  },
  {
   "cell_type": "code",
   "execution_count": 91,
   "metadata": {},
   "outputs": [
    {
     "name": "stdout",
     "output_type": "stream",
     "text": [
      "Polinomun 1. kökü: 2.00\n",
      "Polinomun 2. kökü: 3.00\n",
      "Polinomun 3. kökü: -5.00\n"
     ]
    }
   ],
   "source": [
    "def newton_raphson_method(f, x0, tol=1e-4, nMax=100):\n",
    "    for i in range(nMax):\n",
    "        q = polyder(p)\n",
    "        x1 = x0 - polyval(p, x0) / polyval(q, x0)\n",
    "        if abs(x1 - x0) < tol:\n",
    "            break\n",
    "        x0 = x1\n",
    "    return x1\n",
    "\n",
    "\n",
    "r = [2, 3, -5]\n",
    "p = poly(r)\n",
    "n = len(p)\n",
    "for i in range(n - 1):\n",
    "    r0 = newton_raphson_method(p, 1)\n",
    "    print(f\"Polinomun {i+1}. kökü: {r0:.2f}\")\n",
    "    p = polydiv(p, r0)"
   ]
  },
  {
   "cell_type": "markdown",
   "metadata": {},
   "source": [
    "### Polinom İntegral"
   ]
  },
  {
   "cell_type": "code",
   "execution_count": 92,
   "metadata": {},
   "outputs": [
    {
     "name": "stdout",
     "output_type": "stream",
     "text": [
      "Polinomun katsayıları: [30, -19, 0, 1]\n",
      "Polinomun integrali: [0, 30.0, -9.5, 0.0, 0.25]\n"
     ]
    }
   ],
   "source": [
    "def polyint(p):\n",
    "    n = len(p)\n",
    "    q = [0] * (n + 1)\n",
    "    for i in range(n):\n",
    "        q[i + 1] = p[i] / (i + 1)\n",
    "    return q\n",
    "\n",
    "\n",
    "r = [2, 3, -5]\n",
    "p = poly(r)\n",
    "print(\"Polinomun katsayıları:\", p)\n",
    "t = polyint(p)\n",
    "print(\"Polinomun integrali:\", t)"
   ]
  },
  {
   "cell_type": "markdown",
   "metadata": {},
   "source": [
    "<div id=\"4.1\">\n",
    "<h2>4. Hafta 1. Ders</h2>\n",
    "</div>"
   ]
  },
  {
   "cell_type": "markdown",
   "metadata": {},
   "source": [
    "### Matrisler"
   ]
  },
  {
   "cell_type": "code",
   "execution_count": 93,
   "metadata": {},
   "outputs": [
    {
     "name": "stdout",
     "output_type": "stream",
     "text": [
      "A matrisi: \n",
      " [4 8 3 6]\n",
      "B matrisi: \n",
      " [[4 8 3 6]]\n",
      "C matrisi: \n",
      " [[4]\n",
      " [8]\n",
      " [3]\n",
      " [6]]\n"
     ]
    }
   ],
   "source": [
    "a = np.array([4, 8, 3, 6])\n",
    "b = a.reshape(1, -1)\n",
    "c = a.reshape(-1, 1)\n",
    "print(\"A matrisi: \\n\", a)\n",
    "print(\"B matrisi: \\n\", b)\n",
    "print(\"C matrisi: \\n\", c)"
   ]
  },
  {
   "cell_type": "code",
   "execution_count": 94,
   "metadata": {},
   "outputs": [
    {
     "name": "stdout",
     "output_type": "stream",
     "text": [
      "D matrisi: \n",
      " [[ 3  5  8]\n",
      " [ 7  3  9]\n",
      " [91 65  3]]\n"
     ]
    }
   ],
   "source": [
    "d = np.array([[3, 5, 8], \n",
    "              [7, 3, 9], \n",
    "              [91, 65, 3]])\n",
    "print(\"D matrisi: \\n\", d)"
   ]
  },
  {
   "cell_type": "code",
   "execution_count": 95,
   "metadata": {},
   "outputs": [
    {
     "name": "stdout",
     "output_type": "stream",
     "text": [
      "E matrisi: \n",
      " [[16 55  7 44]\n",
      " [37 83  5 13]\n",
      " [52 45 18 53]\n",
      " [82 77 56 11]]\n"
     ]
    }
   ],
   "source": [
    "# rastgele değerlerle matris oluşturma\n",
    "e = np.random.randint(0, 100, size=(4, 4))\n",
    "print(\"E matrisi: \\n\", e)"
   ]
  },
  {
   "cell_type": "code",
   "execution_count": 96,
   "metadata": {},
   "outputs": [
    {
     "name": "stdout",
     "output_type": "stream",
     "text": [
      "E2 matrisi: \n",
      " [[4.12190075 2.89971574 3.51519026]\n",
      " [3.79593145 4.70062517 3.53269574]\n",
      " [2.76800009 3.00204622 2.80929514]\n",
      " [3.20156264 4.93300079 3.70811121]\n",
      " [4.5077144  2.83153586 4.64785706]]\n"
     ]
    }
   ],
   "source": [
    "e2 = np.random.uniform(2, 5, size=(5, 3))\n",
    "print(\"E2 matrisi: \\n\", e2)"
   ]
  },
  {
   "cell_type": "markdown",
   "metadata": {},
   "source": [
    "### Matris Toplama"
   ]
  },
  {
   "cell_type": "code",
   "execution_count": 97,
   "metadata": {},
   "outputs": [
    {
     "name": "stdout",
     "output_type": "stream",
     "text": [
      "A matrisi: \n",
      " [[4.64963555 3.89117697 2.25993325]\n",
      " [4.44116651 3.21210255 2.674933  ]\n",
      " [4.85816713 4.32598448 3.45967297]\n",
      " [4.04464202 2.231125   3.59888591]\n",
      " [2.73064409 2.48508093 2.50133867]]\n",
      "A matrisi toplamı: 51.36448903691409\n"
     ]
    }
   ],
   "source": [
    "a = np.random.uniform(2, 5, size=(5, 3))\n",
    "c = np.sum(a)\n",
    "print(\"A matrisi: \\n\", a)\n",
    "print(\"A matrisi toplamı:\", c)"
   ]
  },
  {
   "cell_type": "code",
   "execution_count": 98,
   "metadata": {},
   "outputs": [
    {
     "name": "stdout",
     "output_type": "stream",
     "text": [
      "A matrisi: \n",
      " [[4.50514758 4.78585322 3.94643428]\n",
      " [3.61648356 4.77553327 3.28334114]\n",
      " [3.5003996  2.52495162 4.43869899]\n",
      " [3.42512013 3.16092512 2.09579142]\n",
      " [3.55023654 2.93063085 4.22768756]]\n",
      "A matrisi satırları toplamı: [18.59738742 18.17789408 17.99195339]\n"
     ]
    }
   ],
   "source": [
    "a = np.random.uniform(2, 5, size=(5, 3))\n",
    "c = np.sum(a, axis=0)  # satırları toplama\n",
    "print(\"A matrisi: \\n\", a)\n",
    "print(\"A matrisi satırları toplamı:\", c)"
   ]
  },
  {
   "cell_type": "code",
   "execution_count": 99,
   "metadata": {},
   "outputs": [
    {
     "name": "stdout",
     "output_type": "stream",
     "text": [
      "A matrisi: \n",
      " [[2.86024596 3.14121581 4.30934214]\n",
      " [2.93429322 3.29497894 4.0498404 ]\n",
      " [4.08432688 3.31455685 3.76772514]\n",
      " [2.67219857 4.59121724 4.00698811]\n",
      " [2.4260965  4.21074954 3.08242989]]\n",
      "A matrisi sütunları toplamı: [10.31080391 10.27911256 11.16660886 11.27040392  9.71927593]\n"
     ]
    }
   ],
   "source": [
    "a = np.random.uniform(2, 5, size=(5, 3))\n",
    "c = np.sum(a, axis=1)  # sütunları toplama\n",
    "print(\"A matrisi: \\n\", a)\n",
    "print(\"A matrisi sütunları toplamı:\", c)"
   ]
  },
  {
   "cell_type": "code",
   "execution_count": 100,
   "metadata": {},
   "outputs": [
    {
     "name": "stdout",
     "output_type": "stream",
     "text": [
      "A matrisi: \n",
      " [[4.28382194 2.05797404 2.162289  ]\n",
      " [4.70240412 3.17249102 3.30579905]\n",
      " [2.99529952 3.48177964 4.7276866 ]\n",
      " [4.99173235 3.1743056  4.25131614]\n",
      " [3.72914282 4.04035635 4.46694464]]\n",
      "B matrisi: \n",
      " [[2.37863762 4.32143711 3.71383106]\n",
      " [4.41734392 3.59412658 2.52617836]\n",
      " [4.21696522 2.93328538 3.45788225]\n",
      " [4.08408677 2.2956146  2.93448364]\n",
      " [2.11359152 3.26737537 3.88782871]]\n",
      "A + B toplamı: \n",
      " [[6.66245956 6.37941114 5.87612006]\n",
      " [9.11974804 6.7666176  5.83197741]\n",
      " [7.21226474 6.41506502 8.18556886]\n",
      " [9.07581912 5.4699202  7.18579978]\n",
      " [5.84273435 7.30773172 8.35477335]]\n"
     ]
    }
   ],
   "source": [
    "# iki matrisin toplamını bulan fonksiyon\n",
    "def add(a, b):\n",
    "    m, n = a.shape\n",
    "    c = np.zeros(a.shape)\n",
    "    for i in range(m):\n",
    "        for j in range(n):\n",
    "            c[i, j] = a[i, j] + b[i, j]\n",
    "    return c\n",
    "\n",
    "\n",
    "a = np.random.uniform(2, 5, size=(5, 3))\n",
    "b = np.random.uniform(2, 5, size=(5, 3))\n",
    "c = add(a, b)\n",
    "print(\"A matrisi: \\n\", a)\n",
    "print(\"B matrisi: \\n\", b)\n",
    "print(\"A + B toplamı: \\n\", c)"
   ]
  },
  {
   "cell_type": "markdown",
   "metadata": {},
   "source": [
    "<div id=\"4.2\">\n",
    "<h2>4. Hafta 2. Ders</h2>\n",
    "</div>"
   ]
  },
  {
   "cell_type": "markdown",
   "metadata": {},
   "source": [
    "### Matris Çarpma"
   ]
  },
  {
   "cell_type": "code",
   "execution_count": 101,
   "metadata": {},
   "outputs": [
    {
     "name": "stdout",
     "output_type": "stream",
     "text": [
      "A matrisi: \n",
      " [[3.18789334 4.10394621 4.1414292 ]\n",
      " [3.17964944 2.02239988 2.30887597]\n",
      " [4.50996553 3.24198086 3.15792531]\n",
      " [4.53435949 3.60977093 4.23727238]\n",
      " [2.82764194 3.74042724 2.52182753]]\n",
      "B matrisi: \n",
      " [[4.46796661 2.45573584 4.41311012 4.05709895]\n",
      " [2.79273014 2.40792431 2.79826008 4.48622018]\n",
      " [3.17189694 4.90105066 3.05416814 2.07235734]]\n",
      "Numpy ile matris çarpımı: \n",
      " [[38.84080184 38.00797011 38.2010543  39.92732623]\n",
      " [27.17810121 23.99408301 26.74303936 26.7578996 ]\n",
      " [39.22096663 34.35888044 38.61971497 39.38596604]\n",
      " [43.7806741  40.59433087 43.0530479  43.37171481]\n",
      " [31.07879069 28.31021186 30.64746879 33.47853113]]\n",
      "Bizim fonksiyonumuz ile matris çarpımı: \n",
      " [[38.84080184 38.00797011 38.2010543  39.92732623]\n",
      " [27.17810121 23.99408301 26.74303936 26.7578996 ]\n",
      " [39.22096663 34.35888044 38.61971497 39.38596604]\n",
      " [43.7806741  40.59433087 43.0530479  43.37171481]\n",
      " [31.07879069 28.31021186 30.64746879 33.47853113]]\n"
     ]
    }
   ],
   "source": [
    "# iki matrisin çarpımını bulan fonksiyon\n",
    "def dot(a, b):\n",
    "    m, n = a.shape\n",
    "    p, q = b.shape\n",
    "    if n != p:\n",
    "        print(\"çarpım mümkün değil\")\n",
    "        return\n",
    "    c = np.zeros((m, q))\n",
    "    for i in range(m):\n",
    "        for j in range(q):\n",
    "            for k in range(n):\n",
    "                c[i, j] += a[i, k] * b[k, j]\n",
    "    return c\n",
    "\n",
    "\n",
    "a = np.random.uniform(2, 5, size=(5, 3))\n",
    "b = np.random.uniform(2, 5, size=(3, 4))\n",
    "print(\"A matrisi: \\n\", a)\n",
    "print(\"B matrisi: \\n\", b)\n",
    "print(\"Numpy ile matris çarpımı: \\n\", np.dot(a, b))\n",
    "print(\"Bizim fonksiyonumuz ile matris çarpımı: \\n\", dot(a, b))"
   ]
  },
  {
   "cell_type": "markdown",
   "metadata": {},
   "source": [
    "### Matrisin Transpozu"
   ]
  },
  {
   "cell_type": "code",
   "execution_count": 102,
   "metadata": {},
   "outputs": [
    {
     "name": "stdout",
     "output_type": "stream",
     "text": [
      "A matrisi: \n",
      " [[3.06497165 4.7357735  2.76728764]\n",
      " [4.86199441 4.44709132 2.72187993]\n",
      " [3.74393581 2.87989185 4.14637976]\n",
      " [4.15912039 4.52140333 4.09074793]\n",
      " [3.29781251 4.92789694 4.79016134]]\n",
      "Numpy ile matrisin transpozu: \n",
      " [[3.06497165 4.86199441 3.74393581 4.15912039 3.29781251]\n",
      " [4.7357735  4.44709132 2.87989185 4.52140333 4.92789694]\n",
      " [2.76728764 2.72187993 4.14637976 4.09074793 4.79016134]]\n",
      "Bizim fonksiyonumuz ile matrisin transpozu: \n",
      " [[3.06497165 4.86199441 3.74393581 4.15912039 3.29781251]\n",
      " [4.7357735  4.44709132 2.87989185 4.52140333 4.92789694]\n",
      " [2.76728764 2.72187993 4.14637976 4.09074793 4.79016134]]\n"
     ]
    }
   ],
   "source": [
    "# matrisin transpose bulan fonksiyon\n",
    "def transpose(a):\n",
    "    m, n = a.shape\n",
    "    c = np.zeros((a.shape[1], a.shape[0]))\n",
    "    for i in range(n):\n",
    "        for j in range(m):\n",
    "            c[i, j] = a[j, i]\n",
    "    return c\n",
    "\n",
    "\n",
    "a = np.random.uniform(2, 5, size=(5, 3))\n",
    "\n",
    "print(\"A matrisi: \\n\", a)\n",
    "print(\"Numpy ile matrisin transpozu: \\n\", np.transpose(a))\n",
    "print(\"Bizim fonksiyonumuz ile matrisin transpozu: \\n\", transpose(a))"
   ]
  },
  {
   "cell_type": "markdown",
   "metadata": {},
   "source": [
    "### Matrisin İzi"
   ]
  },
  {
   "cell_type": "code",
   "execution_count": 103,
   "metadata": {},
   "outputs": [
    {
     "name": "stdout",
     "output_type": "stream",
     "text": [
      "A matrisi: \n",
      " [[2.48981432 2.92675898]\n",
      " [3.90466756 2.03486216]\n",
      " [3.514647   3.75754976]]\n",
      "Numpy ile matrisin izi: \n",
      " 4.524676485508652\n",
      "Bizim fonksiyonumuz ile matrisin izi: \n",
      " 4.524676485508652\n"
     ]
    }
   ],
   "source": [
    "# matrisin izini bulan fonksiyon\n",
    "def trace(a):\n",
    "    m, n = a.shape\n",
    "    c = 0\n",
    "    for i in range(m):\n",
    "        if i < m and i < n:\n",
    "            c += a[i, i]\n",
    "    return c\n",
    "\n",
    "\n",
    "a = np.random.uniform(2, 5, size=(3, 2))\n",
    "print(\"A matrisi: \\n\", a)\n",
    "print(\"Numpy ile matrisin izi: \\n\", np.trace(a))\n",
    "print(\"Bizim fonksiyonumuz ile matrisin izi: \\n\", trace(a))"
   ]
  },
  {
   "cell_type": "markdown",
   "metadata": {},
   "source": [
    "### Matrisin Determinantı"
   ]
  },
  {
   "cell_type": "code",
   "execution_count": 104,
   "metadata": {},
   "outputs": [
    {
     "name": "stdout",
     "output_type": "stream",
     "text": [
      "A matrisi: \n",
      " [[3.45749057 4.93006551 2.32865428 4.93372001]\n",
      " [3.14739408 4.08478417 2.59957597 2.43696296]\n",
      " [4.55032606 3.49258216 3.02167252 3.77016951]\n",
      " [2.64136735 4.55749456 2.95801049 2.25514727]]\n",
      "A matrisinin seçili alt matrisi: \n",
      " [[3.45749057 4.93006551 4.93372001]\n",
      " [4.55032606 3.49258216 3.77016951]\n",
      " [2.64136735 4.55749456 2.25514727]]\n"
     ]
    }
   ],
   "source": [
    "# alt matrisi bulan fonksiyon\n",
    "def sub_matrix(a, I, J):\n",
    "    n, _ = a.shape\n",
    "    c = np.zeros((n - 1, n - 1))\n",
    "    ii = 0\n",
    "    for i in range(n):\n",
    "        jj = 0\n",
    "        for j in range(n):\n",
    "            if i != I and j != J:\n",
    "                c[ii, jj] = a[i, j]\n",
    "                jj += 1\n",
    "                if jj == n - 1:\n",
    "                    ii += 1\n",
    "    return c\n",
    "\n",
    "\n",
    "a = np.random.uniform(2, 5, size=(4, 4))\n",
    "\n",
    "print(\"A matrisi: \\n\", a)\n",
    "print(\"A matrisinin seçili alt matrisi: \\n\", sub_matrix(a, 1, 2))"
   ]
  },
  {
   "cell_type": "markdown",
   "metadata": {},
   "source": [
    "#### Laplace Yöntemi ile Determinant Hesaplama"
   ]
  },
  {
   "cell_type": "code",
   "execution_count": 105,
   "metadata": {},
   "outputs": [
    {
     "name": "stdout",
     "output_type": "stream",
     "text": [
      "A matrisi: \n",
      " [[2.14031369 4.28493676 4.198884   3.30760307]\n",
      " [3.83182597 4.58095394 4.64042305 4.8637082 ]\n",
      " [2.24312408 3.70902731 4.41692644 4.41549993]\n",
      " [3.31394913 3.29378501 2.85849156 3.68322123]]\n",
      "A matrisinin laplace yöntemi ile determinantı: \n",
      " -2.839052072590837\n",
      "A matrisinin np.linalg.det() ile determinantı: \n",
      " -2.8390520725908335\n"
     ]
    }
   ],
   "source": [
    "# laplace determinant yöntemi ile determinant bulan fonksiyon\n",
    "def det_laplace(a):\n",
    "    n, _ = a.shape\n",
    "    if n == 1:\n",
    "        return a[0, 0]\n",
    "    d = 0\n",
    "    for j in range(n):\n",
    "        c = sub_matrix(a, 0, j)\n",
    "        d += (-1) ** j * a[0, j] * det_laplace(c)\n",
    "    return d\n",
    "\n",
    "\n",
    "a = np.random.uniform(2, 5, size=(4, 4))\n",
    "print(\"A matrisi: \\n\", a)\n",
    "print(\"A matrisinin laplace yöntemi ile determinantı: \\n\", det_laplace(a))\n",
    "print(\"A matrisinin np.linalg.det() ile determinantı: \\n\", np.linalg.det(a))"
   ]
  },
  {
   "cell_type": "markdown",
   "metadata": {},
   "source": [
    "<div id=\"5.1\">\n",
    "<h2>5. Hafta 1. Ders</h2>\n",
    "</div>"
   ]
  },
  {
   "cell_type": "markdown",
   "metadata": {},
   "source": [
    "#### Gauss Eleme Yöntemi ile Determinant Hesaplama"
   ]
  },
  {
   "cell_type": "code",
   "execution_count": 106,
   "metadata": {},
   "outputs": [
    {
     "name": "stdout",
     "output_type": "stream",
     "text": [
      "A matrisi: \n",
      " [[3.01437324 3.06662528 4.29428404]\n",
      " [4.67420951 4.41185702 4.56432816]\n",
      " [2.33558458 2.48327981 4.9982238 ]]\n",
      "A matrisinin gauss eleme yöntemi ile determinantı: \n",
      " -1.052637091315369\n",
      "A matrisinin np.linalg.det() ile determinantı: \n",
      " -1.052637091315369\n"
     ]
    }
   ],
   "source": [
    "def det_gauss_elimination(a):\n",
    "    n = a.shape[0]\n",
    "    for i in range(n - 1):\n",
    "        for k in range(i + 1, n):\n",
    "            p = a[k, i] / a[i, i]\n",
    "            for j in range(n):\n",
    "                a[k, j] = a[k, j] - p * a[i, j]\n",
    "    d = 1\n",
    "    for i in range(n):\n",
    "        d *= a[i, i]\n",
    "    return d\n",
    "\n",
    "\n",
    "a = np.random.uniform(2, 5, size=(3, 3))\n",
    "print(\"A matrisi: \\n\", a)\n",
    "print(\"A matrisinin gauss eleme yöntemi ile determinantı: \\n\", det_gauss_elimination(a))\n",
    "print(\"A matrisinin np.linalg.det() ile determinantı: \\n\", np.linalg.det(a))"
   ]
  },
  {
   "cell_type": "markdown",
   "metadata": {},
   "source": [
    "<div id=\"5.2\">\n",
    "<h2>5. Hafta 2. Ders</h2>\n",
    "</div>"
   ]
  },
  {
   "cell_type": "markdown",
   "metadata": {},
   "source": [
    "### LU Ayrışım Yöntemi ile Determinant Hesaplama"
   ]
  },
  {
   "cell_type": "code",
   "execution_count": 107,
   "metadata": {},
   "outputs": [
    {
     "name": "stdout",
     "output_type": "stream",
     "text": [
      "A matrisi: \n",
      " [[4.32135542 3.90804015 4.52500939 4.14742149]\n",
      " [4.53131325 4.54305568 4.94414311 3.41009411]\n",
      " [2.7367874  2.8179744  2.76554616 2.95887531]\n",
      " [2.36653835 4.53461002 2.24778464 3.37453541]]\n",
      "A matrisinin LU ayrıştırma yöntemi ile determinantı: \n",
      " -0.3594031050235011\n",
      "A matrisinin np.linalg.det() ile determinantı: \n",
      " -0.3594031050235041\n"
     ]
    }
   ],
   "source": [
    "def det_lu(a):\n",
    "    n = a.shape[0]\n",
    "    L = np.eye(n)\n",
    "    U = np.zeros((n, n))\n",
    "\n",
    "    for i in range(n):\n",
    "        for j in range(n):\n",
    "            if j >= i:\n",
    "                U[i, j] = a[i, j]\n",
    "                for k in range(i):\n",
    "                    U[i, j] -= L[i, k] * U[k, j]\n",
    "                U[i, j] /= L[i, i]\n",
    "            else:\n",
    "                L[i, j] = a[i, j]\n",
    "                for k in range(j):\n",
    "                    L[i, j] -= L[i, k] * U[k, j]\n",
    "                L[i, j] /= U[j, j]\n",
    "    d = 1\n",
    "    for i in range(n):\n",
    "        d *= U[i, i]\n",
    "    return d\n",
    "\n",
    "\n",
    "a = np.random.uniform(2, 5, size=(4, 4))\n",
    "print(\"A matrisi: \\n\", a)\n",
    "print(\"A matrisinin LU ayrıştırma yöntemi ile determinantı: \\n\", det_lu(a))\n",
    "print(\"A matrisinin np.linalg.det() ile determinantı: \\n\", np.linalg.det(a))"
   ]
  },
  {
   "cell_type": "markdown",
   "metadata": {},
   "source": [
    "### Cramer Kuralı ile Denklem Sistemi Çözüm"
   ]
  },
  {
   "cell_type": "code",
   "execution_count": 108,
   "metadata": {},
   "outputs": [
    {
     "name": "stdout",
     "output_type": "stream",
     "text": [
      "A matrisi: \n",
      " [[0.06629115 0.28687741 0.93973128 0.51404186]\n",
      " [0.44566591 0.87239607 0.53274854 0.80843955]\n",
      " [0.7352411  0.46098696 0.31461149 0.52125307]\n",
      " [0.33080276 0.88151103 0.95403177 0.88511822]]\n",
      "x vektörü: \n",
      " [[2]\n",
      " [8]\n",
      " [7]\n",
      " [2]]\n",
      "B vektörü: \n",
      " [[10.03380422]\n",
      " [13.21661928]\n",
      " [ 8.40316449]\n",
      " [16.16215257]]\n",
      "---------------------------------------\n",
      "A matrisi: \n",
      " [[0.06629115 0.28687741 0.93973128 0.51404186]\n",
      " [0.44566591 0.87239607 0.53274854 0.80843955]\n",
      " [0.7352411  0.46098696 0.31461149 0.52125307]\n",
      " [0.33080276 0.88151103 0.95403177 0.88511822]]\n",
      "Cramer kuralı ile çözüm: \n",
      " 1.9996232564922938\n"
     ]
    }
   ],
   "source": [
    "def solve_with_cramers_rule(a, b):\n",
    "    n = a.shape[0]\n",
    "    xx = np.zeros(n)\n",
    "    detA = det_gauss_elimination(a.copy())\n",
    "    for j in range(n):\n",
    "        aa = a.copy()\n",
    "        for i in range(n):\n",
    "            aa[i, j] = b[i]\n",
    "        xx[j] = det_gauss_elimination(aa.copy()) / detA\n",
    "    return xx\n",
    "\n",
    "\n",
    "n = 4\n",
    "a = np.random.uniform(0, 1, size=(4, 4))\n",
    "x = np.random.randint(1, 9, size=(n, 1))\n",
    "b = np.dot(a, x)\n",
    "print(\"A matrisi: \\n\", a)\n",
    "print(\"x vektörü: \\n\", x)\n",
    "print(\"B vektörü: \\n\", b)\n",
    "print(\"---------------------------------------\")\n",
    "print(\"A matrisi: \\n\", a)\n",
    "print(\"Cramer kuralı ile çözüm: \\n\", xx)"
   ]
  },
  {
   "cell_type": "markdown",
   "metadata": {},
   "source": [
    "<div id=\"6.1\">\n",
    "<h2>6. Hafta 1. Ders</h2>\n",
    "</div>"
   ]
  },
  {
   "cell_type": "markdown",
   "metadata": {},
   "source": [
    "### Gauss Eleme Yöntemi ile Denklem Sistemi Çözüm"
   ]
  },
  {
   "cell_type": "code",
   "execution_count": 109,
   "metadata": {},
   "outputs": [
    {
     "name": "stdout",
     "output_type": "stream",
     "text": [
      "A matrisi: \n",
      " [[0.5050956  0.46028352 0.21960516 0.44555533]\n",
      " [0.53047253 0.68009755 0.44599111 0.84470595]\n",
      " [0.3852413  0.12317507 0.5477342  0.01971372]\n",
      " [0.20972723 0.2150146  0.60200602 0.75693962]]\n",
      "x vektörü: \n",
      " [[3]\n",
      " [5]\n",
      " [8]\n",
      " [8]]\n",
      "B vektörü: \n",
      " [[ 9.13798834]\n",
      " [15.31748178]\n",
      " [ 6.31118255]\n",
      " [12.57581982]]\n",
      "---------------------------------------\n",
      "A matrisi: \n",
      " [[ 5.05095601e-01  4.60283521e-01  2.19605161e-01  4.45555331e-01]\n",
      " [ 0.00000000e+00  1.96688544e-01  2.15352587e-01  3.76765101e-01]\n",
      " [ 0.00000000e+00  2.77555756e-17  6.29751399e-01  1.16412583e-01]\n",
      " [ 0.00000000e+00 -2.13608022e-17  5.55111512e-17  4.36572624e-01]]\n",
      "Gauss Eleme Yöntemi ile çözüm: \n",
      " [3. 5. 8. 8.]\n"
     ]
    }
   ],
   "source": [
    "def solve_with_gauss_elimination(a, b):\n",
    "    n = a.shape[0]\n",
    "    xx = np.zeros(n)\n",
    "    for i in range(n - 1):\n",
    "        for k in range(i + 1, n):\n",
    "            p = a[k, i] / a[i, i]\n",
    "            for j in range(n):\n",
    "                a[k, j] = a[k, j] - p * a[i, j]\n",
    "            b[k] = b[k] - p * b[i]\n",
    "\n",
    "    for i in range(n - 1, -1, -1):\n",
    "        xx[i] = b[i]\n",
    "        for j in range(i + 1, n):\n",
    "            xx[i] -= a[i, j] * xx[j]\n",
    "        xx[i] /= a[i, i]\n",
    "\n",
    "    return xx\n",
    "\n",
    "\n",
    "n = 4\n",
    "a = np.random.uniform(0, 1, size=(4, 4))\n",
    "x = np.random.randint(1, 9, size=(n, 1))\n",
    "b = np.dot(a, x)\n",
    "print(\"A matrisi: \\n\", a)\n",
    "print(\"x vektörü: \\n\", x)\n",
    "print(\"B vektörü: \\n\", b)\n",
    "print(\"---------------------------------------\")\n",
    "xx = solve_with_gauss_elimination(a, b)\n",
    "print(\"A matrisi: \\n\", a)\n",
    "print(\"Gauss Eleme Yöntemi ile çözüm: \\n\", xx)"
   ]
  },
  {
   "cell_type": "markdown",
   "metadata": {},
   "source": [
    "<div id=\"6.2\">\n",
    "<h2>6. Hafta 2. Ders</h2>\n",
    "</div>"
   ]
  },
  {
   "cell_type": "markdown",
   "metadata": {},
   "source": [
    "### Gauss Jordan Yöntemi ile Denklem Sistemi Çözüm"
   ]
  },
  {
   "cell_type": "code",
   "execution_count": 110,
   "metadata": {},
   "outputs": [
    {
     "name": "stdout",
     "output_type": "stream",
     "text": [
      "A matrisi: \n",
      " [[0.49516565 0.14741934 0.93870801 0.7217721 ]\n",
      " [0.87610107 0.54802144 0.51023398 0.25018045]\n",
      " [0.32768073 0.4395482  0.48594834 0.74581199]\n",
      " [0.2574698  0.12650615 0.21549769 0.74291555]]\n",
      "x vektörü: \n",
      " [[2]\n",
      " [5]\n",
      " [7]\n",
      " [2]]\n",
      "B vektörü: \n",
      " [[9.74192829]\n",
      " [8.56430808]\n",
      " [7.7463648 ]\n",
      " [4.14178529]]\n",
      "---------------------------------------\n",
      "A matrisi: \n",
      " [[1.00000000e+00 0.00000000e+00 0.00000000e+00 1.11022302e-16]\n",
      " [0.00000000e+00 1.00000000e+00 0.00000000e+00 0.00000000e+00]\n",
      " [0.00000000e+00 0.00000000e+00 1.00000000e+00 0.00000000e+00]\n",
      " [0.00000000e+00 0.00000000e+00 0.00000000e+00 1.00000000e+00]]\n",
      "Gauss Jordan Yöntemi ile çözüm: \n",
      " [2. 5. 7. 2.]\n"
     ]
    }
   ],
   "source": [
    "def solve_with_gauss_jordan(a, b):\n",
    "    n = a.shape[0]\n",
    "    xx = np.zeros(n)\n",
    "    for i in range(n - 1):\n",
    "        for k in range(i + 1, n):\n",
    "            p = a[k, i] / a[i, i]\n",
    "            for j in range(n):\n",
    "                a[k, j] = a[k, j] - p * a[i, j]\n",
    "            b[k] = b[k] - p * b[i]\n",
    "\n",
    "    for i in range(n - 1, 0, -1):\n",
    "        for k in range(i - 1, -1, -1):\n",
    "            p = a[k, i] / a[i, i]\n",
    "            for j in range(n):\n",
    "                a[k, j] = a[k, j] - p * a[i, j]\n",
    "            b[k] = b[k] - p * b[i]\n",
    "\n",
    "    for i in range(n):\n",
    "        b[i] /= a[i, i]\n",
    "        a[i, i] /= a[i, i]\n",
    "        xx[i] = b[i]\n",
    "\n",
    "    return xx\n",
    "\n",
    "\n",
    "n = 4\n",
    "a = np.random.uniform(0, 1, size=(4, 4))\n",
    "x = np.random.randint(1, 9, size=(n, 1))\n",
    "b = np.dot(a, x)\n",
    "print(\"A matrisi: \\n\", a)\n",
    "print(\"x vektörü: \\n\", x)\n",
    "print(\"B vektörü: \\n\", b)\n",
    "print(\"---------------------------------------\")\n",
    "xx = solve_with_gauss_jordan(a, b)\n",
    "print(\"A matrisi: \\n\", a)\n",
    "print(\"Gauss Jordan Yöntemi ile çözüm: \\n\", xx)"
   ]
  },
  {
   "cell_type": "markdown",
   "metadata": {},
   "source": [
    "### LU Ayrıştırma Yöntemi ile Denklem Sistemi Çözüm"
   ]
  },
  {
   "cell_type": "code",
   "execution_count": 111,
   "metadata": {},
   "outputs": [
    {
     "name": "stdout",
     "output_type": "stream",
     "text": [
      "A matrisi: \n",
      " [[0.76725867 0.38210033 0.44889157 0.203825  ]\n",
      " [0.16340953 0.53053021 0.61081577 0.36726875]\n",
      " [0.15198359 0.44305194 0.4670168  0.36649117]\n",
      " [0.65607014 0.26494223 0.37639032 0.57130666]]\n",
      "x vektörü: \n",
      " [[1]\n",
      " [5]\n",
      " [1]\n",
      " [4]]\n",
      "B vektörü: \n",
      " [[3.94195189]\n",
      " [4.89595133]\n",
      " [4.30022476]\n",
      " [4.64239826]]\n",
      "---------------------------------------\n",
      "LU Ayrıştırma Yöntemi ile çözüm: \n",
      " [1. 5. 1. 4.]\n"
     ]
    }
   ],
   "source": [
    "def solve_with_lu(a, b):\n",
    "    n = a.shape[0]\n",
    "    x = np.zeros(n)\n",
    "    y = np.zeros(n)\n",
    "    L = np.eye(n)\n",
    "    U = np.zeros((n, n))\n",
    "\n",
    "    for i in range(n):\n",
    "        for j in range(n):\n",
    "            if j >= i:\n",
    "                U[i, j] = a[i, j]\n",
    "                for k in range(i):\n",
    "                    U[i, j] -= L[i, k] * U[k, j]\n",
    "                U[i, j] /= L[i, i]\n",
    "            else:\n",
    "                L[i, j] = a[i, j]\n",
    "                for k in range(j):\n",
    "                    L[i, j] -= L[i, k] * U[k, j]\n",
    "                L[i, j] /= U[j, j]\n",
    "\n",
    "    for i in range(n):\n",
    "        y[i] = b[i]\n",
    "        for j in range(i):\n",
    "            y[i] -= L[i, j] * y[j]\n",
    "        y[i] /= L[i, i]\n",
    "\n",
    "    for i in range(n - 1, -1, -1):\n",
    "        x[i] = y[i]\n",
    "        for j in range(i + 1, n):\n",
    "            x[i] -= U[i, j] * x[j]\n",
    "        x[i] /= U[i, i]\n",
    "\n",
    "    return x\n",
    "\n",
    "\n",
    "n = 4\n",
    "a = np.random.uniform(0, 1, size=(4, 4))\n",
    "x = np.random.randint(1, 9, size=(n, 1))\n",
    "b = np.dot(a, x)\n",
    "print(\"A matrisi: \\n\", a)\n",
    "print(\"x vektörü: \\n\", x)\n",
    "print(\"B vektörü: \\n\", b)\n",
    "print(\"---------------------------------------\")\n",
    "xx = solve_with_lu(a, b)\n",
    "print(\"LU Ayrıştırma Yöntemi ile çözüm: \\n\", xx)"
   ]
  },
  {
   "cell_type": "markdown",
   "metadata": {},
   "source": [
    "<div id=\"7.1\">\n",
    "<h2>7. Hafta 1. Ders</h2>\n",
    "</div>"
   ]
  },
  {
   "cell_type": "markdown",
   "metadata": {},
   "source": [
    "### Gauss-Sidel Yöntemi ile Denklem Sistemi Çözüm"
   ]
  },
  {
   "cell_type": "code",
   "execution_count": 112,
   "metadata": {},
   "outputs": [
    {
     "name": "stdout",
     "output_type": "stream",
     "text": [
      "A matrisi: \n",
      " [[0.90198279 0.78266334 0.30020775 0.66681551]\n",
      " [0.9936926  0.00710437 0.31877551 0.98826172]\n",
      " [0.88735826 0.93764102 0.08129265 0.49658288]\n",
      " [0.45973764 0.93811008 0.70210738 0.93318904]]\n",
      "x vektörü: \n",
      " [[2]\n",
      " [1]\n",
      " [6]\n",
      " [2]]\n",
      "B vektörü: \n",
      " [[5.72150644]\n",
      " [5.88366604]\n",
      " [4.19327919]\n",
      " [7.9366077 ]]\n",
      "---------------------------------------\n",
      "Gauss-Sidel Yöntemi ile çözüm: \n",
      " [             inf             -inf -1.32983050e+219 -1.68389945e+008]\n"
     ]
    }
   ],
   "source": [
    "# sağlıklı bir yöntem değil\n",
    "def solve_with_gauss_sidel(a, b, tol=1e-4, nMax=200):\n",
    "    n = a.shape[0]\n",
    "    x = np.random.uniform(0, 10, size=n)\n",
    "    xx = np.zeros(n)\n",
    "\n",
    "    for t in range(nMax):\n",
    "        for i in range(n):\n",
    "            x[i] = b[i]\n",
    "            for j in range(n):\n",
    "                if i != j:\n",
    "                    xx[i] -= a[i, j] * x[j]\n",
    "            xx[i] /= a[i, i]\n",
    "        if np.sum(np.abs(xx - x)) < tol:\n",
    "            break\n",
    "        else:\n",
    "            x = xx.copy()\n",
    "\n",
    "    return x\n",
    "\n",
    "\n",
    "n = 4\n",
    "a = np.random.uniform(0, 1, size=(4, 4))\n",
    "x = np.random.randint(1, 9, size=(n, 1))\n",
    "b = np.dot(a, x)\n",
    "print(\"A matrisi: \\n\", a)\n",
    "print(\"x vektörü: \\n\", x)\n",
    "print(\"B vektörü: \\n\", b)\n",
    "print(\"---------------------------------------\")\n",
    "xx = solve_with_gauss_sidel(a, b)\n",
    "print(\"Gauss-Sidel Yöntemi ile çözüm: \\n\", xx)"
   ]
  },
  {
   "cell_type": "markdown",
   "metadata": {},
   "source": [
    "<div id=\"7.2\">\n",
    "<h2>7. Hafta 2. Ders</h2>\n",
    "</div>"
   ]
  },
  {
   "cell_type": "markdown",
   "metadata": {},
   "source": [
    "### Basit Doğrusal Regresyon"
   ]
  },
  {
   "cell_type": "markdown",
   "metadata": {},
   "source": [
    "<math xmlns=\"http://www.w3.org/1998/Math/MathML\">\n",
    "  <mrow>\n",
    "    <msup>\n",
    "      <mi>y</mi>\n",
    "    </msup>\n",
    "    <mo>=</mo>\n",
    "    <msub>\n",
    "      <mi>b</mi>\n",
    "      <mn>0</mn>\n",
    "    </msub>\n",
    "    <mo>+</mo>\n",
    "    <msub>\n",
    "      <mi>b</mi>\n",
    "      <mn>1</mn>\n",
    "    </msub>\n",
    "    <mi>x</mi>\n",
    "  </mrow>\n",
    "</math>\n"
   ]
  },
  {
   "cell_type": "code",
   "execution_count": 113,
   "metadata": {},
   "outputs": [
    {
     "name": "stdout",
     "output_type": "stream",
     "text": [
      "b0 ve b1: [-2.  3.]\n"
     ]
    },
    {
     "data": {
      "image/png": "[encoded data removed]",
      "text/plain": [
       "<Figure size 640x480 with 1 Axes>"
      ]
     },
     "metadata": {},
     "output_type": "display_data"
    }
   ],
   "source": [
    "import matplotlib.pyplot as plt\n",
    "\n",
    "\n",
    "def simple_linear_regression(x, y):\n",
    "    n = x.size\n",
    "    b = np.zeros(2)\n",
    "    X = np.zeros((2, 2))\n",
    "    yX = np.zeros(2)\n",
    "\n",
    "    for i in range(2):\n",
    "        for j in range(2):\n",
    "            for k in range(n):\n",
    "                X[i, j] += x[k] ** (i + j)\n",
    "        for k in range(n):\n",
    "            yX[i] += y[k] * x[k] ** i\n",
    "\n",
    "    b = solve_with_gauss_jordan(X, yX)\n",
    "    return b\n",
    "\n",
    "\n",
    "x = np.sort(np.random.uniform(0, 10, size=12))\n",
    "y = 3 * x - 2\n",
    "\n",
    "plt.figure()\n",
    "plt.plot(x, y, \"o\")\n",
    "\n",
    "b = simple_linear_regression(x, y)\n",
    "print(\"b0 ve b1:\", b)\n",
    "\n",
    "yy = b[0] + b[1] * x\n",
    "plt.plot(x, yy)\n",
    "plt.show()"
   ]
  },
  {
   "cell_type": "code",
   "execution_count": 114,
   "metadata": {},
   "outputs": [
    {
     "name": "stdout",
     "output_type": "stream",
     "text": [
      "b0 ve b1: [-3.07182529  3.25130674]\n"
     ]
    },
    {
     "data": {
      "image/png": "[encoded data removed]",
      "text/plain": [
       "<Figure size 640x480 with 1 Axes>"
      ]
     },
     "metadata": {},
     "output_type": "display_data"
    }
   ],
   "source": [
    "x = np.sort(np.random.uniform(0, 10, size=12))\n",
    "y = 3 * x - 2 + np.random.normal(0, 1, size=x.size)\n",
    "\n",
    "plt.figure()\n",
    "plt.plot(x, y, \"o\")\n",
    "\n",
    "b = simple_linear_regression(x, y)\n",
    "print(\"b0 ve b1:\", b)\n",
    "\n",
    "yy = b[0] + b[1] * x\n",
    "plt.plot(x, yy)\n",
    "plt.show()"
   ]
  },
  {
   "cell_type": "code",
   "execution_count": null,
   "metadata": {},
   "outputs": [],
   "source": []
  }
 ],
 "metadata": {
  "kernelspec": {
   "display_name": "base",
   "language": "python",
   "name": "python3"
  },
  "language_info": {
   "codemirror_mode": {
    "name": "ipython",
    "version": 3
   },
   "file_extension": ".py",
   "mimetype": "text/x-python",
   "name": "python",
   "nbconvert_exporter": "python",
   "pygments_lexer": "ipython3",
   "version": "3.11.7"
  }
 },
 "nbformat": 4,
 "nbformat_minor": 2
}
